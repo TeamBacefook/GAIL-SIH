{
  "nbformat": 4,
  "nbformat_minor": 0,
  "metadata": {
    "colab": {
      "name": "SIH (1).ipynb",
      "provenance": [],
      "collapsed_sections": [
        "LUGV0TUcNUn5"
      ],
      "toc_visible": true
    },
    "kernelspec": {
      "name": "python3",
      "display_name": "Python 3"
    },
    "language_info": {
      "name": "python"
    }
  },
  "cells": [
    {
      "cell_type": "markdown",
      "source": [
        "# Convert pivot data to format"
      ],
      "metadata": {
        "id": "UdmSFahwEOHm"
      }
    },
    {
      "cell_type": "code",
      "source": [
        "# from google.colab import drive\n",
        "# drive.mount('/content/drive', force_remount=True)\n",
        "# import pandas as pd\n",
        "# df = pd.read_csv(\"/content/drive/MyDrive/RESEARCH/RawPvotData.csv\")\n",
        "# list1 = [\"Exports\", \"Imports\", \"Losses\", \"Transformation\", \"Total energy supply\", \"Final consumption\" , \"Primary production\"] # add new row names here from pivot table\n",
        "# commoditieslist = [\"Biofuels and waste\", \"Oil\", \"Electricity and heat\", \"Nuclear\", \"Natural Gas\", \"Coal\"] # add new column names here from pivot table\n",
        "# df = df[df.rowName.isin(list1) == True]\n",
        "# df = df[df.colName_Dashboard.isin(commoditieslist) == True]\n",
        "# df_ = df.groupby([\"Region Name\", \"Sub-region Name\", \"Year\"], as_index=False)\n",
        "# data = []\n",
        "# for eachgroup in df_.__iter__():\n",
        "#   tempdf = pd.DataFrame(eachgroup[1])\n",
        "#   tempobj = {}\n",
        "#   for item in tempdf.iterrows():\n",
        "#     tempobj[\"Region\"]= item[1][\"Region Name\"]\n",
        "#     tempobj[\"Sub-region\"]= item[1][\"Sub-region Name\"]\n",
        "#     tempobj[\"Year\"]= item[1][\"Year\"]\n",
        "#     tempobj[item[1][\"colName_Dashboard\"] + \" \" + item[1]['rowName']] = item[1][\"Terajoules\"] # format = column name + rowname\n",
        "#   data.append(tempobj)\n",
        "# output  = pd.DataFrame(data)\n",
        "# output = output.fillna(0)\n",
        "# output.to_csv(\"/content/drive/MyDrive/RESEARCH/AutomatedEnergyoutput.csv\")"
      ],
      "metadata": {
        "id": "ybopFoZzEOFF"
      },
      "execution_count": null,
      "outputs": []
    },
    {
      "cell_type": "markdown",
      "source": [
        "#1. Import"
      ],
      "metadata": {
        "id": "1tVqv6xQCRBe"
      }
    },
    {
      "cell_type": "code",
      "execution_count": null,
      "metadata": {
        "colab": {
          "base_uri": "https://localhost:8080/",
          "height": 1000
        },
        "id": "108bTPBmBrL1",
        "outputId": "b36a18f6-959b-4c27-a2d8-1015ecad7093"
      },
      "outputs": [
        {
          "output_type": "stream",
          "name": "stdout",
          "text": [
            "Looking in indexes: https://pypi.org/simple, https://us-python.pkg.dev/colab-wheels/public/simple/\n",
            "Collecting yahoo_fin\n",
            "  Downloading yahoo_fin-0.8.9.1-py3-none-any.whl (10 kB)\n",
            "Requirement already satisfied: requests in /usr/local/lib/python3.7/dist-packages (from yahoo_fin) (2.23.0)\n",
            "Collecting feedparser\n",
            "  Downloading feedparser-6.0.10-py3-none-any.whl (81 kB)\n",
            "\u001b[K     |████████████████████████████████| 81 kB 3.8 MB/s \n",
            "\u001b[?25hRequirement already satisfied: pandas in /usr/local/lib/python3.7/dist-packages (from yahoo_fin) (1.3.5)\n",
            "Collecting requests-html\n",
            "  Downloading requests_html-0.10.0-py3-none-any.whl (13 kB)\n",
            "Collecting sgmllib3k\n",
            "  Downloading sgmllib3k-1.0.0.tar.gz (5.8 kB)\n",
            "Requirement already satisfied: pytz>=2017.3 in /usr/local/lib/python3.7/dist-packages (from pandas->yahoo_fin) (2022.1)\n",
            "Requirement already satisfied: python-dateutil>=2.7.3 in /usr/local/lib/python3.7/dist-packages (from pandas->yahoo_fin) (2.8.2)\n",
            "Requirement already satisfied: numpy>=1.17.3 in /usr/local/lib/python3.7/dist-packages (from pandas->yahoo_fin) (1.21.6)\n",
            "Requirement already satisfied: six>=1.5 in /usr/local/lib/python3.7/dist-packages (from python-dateutil>=2.7.3->pandas->yahoo_fin) (1.15.0)\n",
            "Requirement already satisfied: chardet<4,>=3.0.2 in /usr/local/lib/python3.7/dist-packages (from requests->yahoo_fin) (3.0.4)\n",
            "Requirement already satisfied: certifi>=2017.4.17 in /usr/local/lib/python3.7/dist-packages (from requests->yahoo_fin) (2022.6.15)\n",
            "Requirement already satisfied: idna<3,>=2.5 in /usr/local/lib/python3.7/dist-packages (from requests->yahoo_fin) (2.10)\n",
            "Requirement already satisfied: urllib3!=1.25.0,!=1.25.1,<1.26,>=1.21.1 in /usr/local/lib/python3.7/dist-packages (from requests->yahoo_fin) (1.24.3)\n",
            "Collecting parse\n",
            "  Downloading parse-1.19.0.tar.gz (30 kB)\n",
            "Requirement already satisfied: bs4 in /usr/local/lib/python3.7/dist-packages (from requests-html->yahoo_fin) (0.0.1)\n",
            "Collecting pyquery\n",
            "  Downloading pyquery-1.4.3-py3-none-any.whl (22 kB)\n",
            "Collecting pyppeteer>=0.0.14\n",
            "  Downloading pyppeteer-1.0.2-py3-none-any.whl (83 kB)\n",
            "\u001b[K     |████████████████████████████████| 83 kB 1.6 MB/s \n",
            "\u001b[?25hCollecting w3lib\n",
            "  Downloading w3lib-1.22.0-py2.py3-none-any.whl (20 kB)\n",
            "Collecting fake-useragent\n",
            "  Downloading fake-useragent-0.1.11.tar.gz (13 kB)\n",
            "Collecting urllib3!=1.25.0,!=1.25.1,<1.26,>=1.21.1\n",
            "  Downloading urllib3-1.25.11-py2.py3-none-any.whl (127 kB)\n",
            "\u001b[K     |████████████████████████████████| 127 kB 61.8 MB/s \n",
            "\u001b[?25hRequirement already satisfied: importlib-metadata>=1.4 in /usr/local/lib/python3.7/dist-packages (from pyppeteer>=0.0.14->requests-html->yahoo_fin) (4.12.0)\n",
            "Collecting websockets<11.0,>=10.0\n",
            "  Downloading websockets-10.3-cp37-cp37m-manylinux_2_5_x86_64.manylinux1_x86_64.manylinux_2_12_x86_64.manylinux2010_x86_64.whl (112 kB)\n",
            "\u001b[K     |████████████████████████████████| 112 kB 65.3 MB/s \n",
            "\u001b[?25hRequirement already satisfied: tqdm<5.0.0,>=4.42.1 in /usr/local/lib/python3.7/dist-packages (from pyppeteer>=0.0.14->requests-html->yahoo_fin) (4.64.0)\n",
            "Collecting pyee<9.0.0,>=8.1.0\n",
            "  Downloading pyee-8.2.2-py2.py3-none-any.whl (12 kB)\n",
            "Requirement already satisfied: appdirs<2.0.0,>=1.4.3 in /usr/local/lib/python3.7/dist-packages (from pyppeteer>=0.0.14->requests-html->yahoo_fin) (1.4.4)\n",
            "Requirement already satisfied: zipp>=0.5 in /usr/local/lib/python3.7/dist-packages (from importlib-metadata>=1.4->pyppeteer>=0.0.14->requests-html->yahoo_fin) (3.8.1)\n",
            "Requirement already satisfied: typing-extensions>=3.6.4 in /usr/local/lib/python3.7/dist-packages (from importlib-metadata>=1.4->pyppeteer>=0.0.14->requests-html->yahoo_fin) (4.1.1)\n",
            "Requirement already satisfied: beautifulsoup4 in /usr/local/lib/python3.7/dist-packages (from bs4->requests-html->yahoo_fin) (4.6.3)\n",
            "Requirement already satisfied: lxml>=2.1 in /usr/local/lib/python3.7/dist-packages (from pyquery->requests-html->yahoo_fin) (4.9.1)\n",
            "Collecting cssselect>0.7.9\n",
            "  Downloading cssselect-1.1.0-py2.py3-none-any.whl (16 kB)\n",
            "Building wheels for collected packages: fake-useragent, parse, sgmllib3k\n",
            "  Building wheel for fake-useragent (setup.py) ... \u001b[?25l\u001b[?25hdone\n",
            "  Created wheel for fake-useragent: filename=fake_useragent-0.1.11-py3-none-any.whl size=13502 sha256=23cf15dd8c7c5708c801424aab2faf62b7523166fbfb9cfa00d5c4feb74e7493\n",
            "  Stored in directory: /root/.cache/pip/wheels/ed/f7/62/50ab6c9a0b5567267ab76a9daa9d06315704209b2c5d032031\n",
            "  Building wheel for parse (setup.py) ... \u001b[?25l\u001b[?25hdone\n",
            "  Created wheel for parse: filename=parse-1.19.0-py3-none-any.whl size=24591 sha256=5d8151f75145ceb1bcb96821797516883eb2cf5d30767c8cb04dc699d90e6594\n",
            "  Stored in directory: /root/.cache/pip/wheels/9c/aa/cc/f2228050ccb40f22144b073f15a2c84f11204f29fc0dce028e\n",
            "  Building wheel for sgmllib3k (setup.py) ... \u001b[?25l\u001b[?25hdone\n",
            "  Created wheel for sgmllib3k: filename=sgmllib3k-1.0.0-py3-none-any.whl size=6066 sha256=88d5bf0a6b32a36500919f48eb20833b80d6d2044be118b75b24ccdb5df17295\n",
            "  Stored in directory: /root/.cache/pip/wheels/73/ad/a4/0dff4a6ef231fc0dfa12ffbac2a36cebfdddfe059f50e019aa\n",
            "Successfully built fake-useragent parse sgmllib3k\n",
            "Installing collected packages: websockets, urllib3, pyee, cssselect, w3lib, sgmllib3k, pyquery, pyppeteer, parse, fake-useragent, requests-html, feedparser, yahoo-fin\n",
            "  Attempting uninstall: urllib3\n",
            "    Found existing installation: urllib3 1.24.3\n",
            "    Uninstalling urllib3-1.24.3:\n",
            "      Successfully uninstalled urllib3-1.24.3\n",
            "Successfully installed cssselect-1.1.0 fake-useragent-0.1.11 feedparser-6.0.10 parse-1.19.0 pyee-8.2.2 pyppeteer-1.0.2 pyquery-1.4.3 requests-html-0.10.0 sgmllib3k-1.0.0 urllib3-1.25.11 w3lib-1.22.0 websockets-10.3 yahoo-fin-0.8.9.1\n"
          ]
        },
        {
          "output_type": "display_data",
          "data": {
            "application/vnd.colab-display-data+json": {
              "pip_warning": {
                "packages": [
                  "urllib3"
                ]
              }
            }
          },
          "metadata": {}
        },
        {
          "output_type": "stream",
          "name": "stdout",
          "text": [
            "Looking in indexes: https://pypi.org/simple, https://us-python.pkg.dev/colab-wheels/public/simple/\n",
            "Requirement already satisfied: matplotlib in /usr/local/lib/python3.7/dist-packages (3.2.2)\n",
            "Requirement already satisfied: python-dateutil>=2.1 in /usr/local/lib/python3.7/dist-packages (from matplotlib) (2.8.2)\n",
            "Requirement already satisfied: numpy>=1.11 in /usr/local/lib/python3.7/dist-packages (from matplotlib) (1.21.6)\n",
            "Requirement already satisfied: cycler>=0.10 in /usr/local/lib/python3.7/dist-packages (from matplotlib) (0.11.0)\n",
            "Requirement already satisfied: pyparsing!=2.0.4,!=2.1.2,!=2.1.6,>=2.0.1 in /usr/local/lib/python3.7/dist-packages (from matplotlib) (3.0.9)\n",
            "Requirement already satisfied: kiwisolver>=1.0.1 in /usr/local/lib/python3.7/dist-packages (from matplotlib) (1.4.4)\n",
            "Requirement already satisfied: typing-extensions in /usr/local/lib/python3.7/dist-packages (from kiwisolver>=1.0.1->matplotlib) (4.1.1)\n",
            "Requirement already satisfied: six>=1.5 in /usr/local/lib/python3.7/dist-packages (from python-dateutil>=2.1->matplotlib) (1.15.0)\n"
          ]
        },
        {
          "output_type": "stream",
          "name": "stderr",
          "text": [
            "/usr/local/lib/python3.7/dist-packages/statsmodels/tools/_testing.py:19: FutureWarning: pandas.util.testing is deprecated. Use the functions in the public API at pandas.testing instead.\n",
            "  import pandas.util.testing as tm\n"
          ]
        }
      ],
      "source": [
        "import tensorflow as tf\n",
        "import pandas as pd\n",
        "!pip install yahoo_fin\n",
        "from yahoo_fin import stock_info as si\n",
        "!pip install matplotlib\n",
        "import matplotlib.pyplot as plt\n",
        "import numpy as np\n",
        "from statsmodels.graphics.tsaplots import plot_acf\n",
        "import matplotlib as mpl\n",
        "import math\n",
        "from statsmodels.tsa.seasonal import seasonal_decompose\n"
      ]
    },
    {
      "cell_type": "markdown",
      "source": [
        "#2. Collect"
      ],
      "metadata": {
        "id": "eWbWy13GCVAJ"
      }
    },
    {
      "cell_type": "code",
      "source": [
        "df = {}\n",
        "df = si.get_data('NG=F')\n",
        "df = pd.DataFrame(df)\n",
        "df = df [['open', 'close', 'high', 'low']].round(3)\n",
        "resampled_df = df.resample('1D').mean()\n",
        "resampled_df.interpolate(method='linear', axis = 0, inplace= True, limit_direction='forward')\n",
        "# plt.plot(resampled_df['volume'])\n",
        "plt.show()"
      ],
      "metadata": {
        "id": "lfy2O8-eCYRG"
      },
      "execution_count": null,
      "outputs": []
    },
    {
      "cell_type": "markdown",
      "source": [
        "#3. Preliminary Analysis"
      ],
      "metadata": {
        "id": "pPH79Y7sDGxk"
      }
    },
    {
      "cell_type": "code",
      "source": [
        "resampled_df.corr()"
      ],
      "metadata": {
        "colab": {
          "base_uri": "https://localhost:8080/",
          "height": 175
        },
        "id": "wK1Cy8WvDLNp",
        "outputId": "6ae30868-f2d9-4ccd-b938-9a8345b47eeb"
      },
      "execution_count": null,
      "outputs": [
        {
          "output_type": "execute_result",
          "data": {
            "text/plain": [
              "           open     close      high       low\n",
              "open   1.000000  0.997653  0.998693  0.998890\n",
              "close  0.997653  1.000000  0.998850  0.998906\n",
              "high   0.998693  0.998850  1.000000  0.998248\n",
              "low    0.998890  0.998906  0.998248  1.000000"
            ],
            "text/html": [
              "\n",
              "  <div id=\"df-cc390d66-6adf-4810-9c3c-ff2870d657ce\">\n",
              "    <div class=\"colab-df-container\">\n",
              "      <div>\n",
              "<style scoped>\n",
              "    .dataframe tbody tr th:only-of-type {\n",
              "        vertical-align: middle;\n",
              "    }\n",
              "\n",
              "    .dataframe tbody tr th {\n",
              "        vertical-align: top;\n",
              "    }\n",
              "\n",
              "    .dataframe thead th {\n",
              "        text-align: right;\n",
              "    }\n",
              "</style>\n",
              "<table border=\"1\" class=\"dataframe\">\n",
              "  <thead>\n",
              "    <tr style=\"text-align: right;\">\n",
              "      <th></th>\n",
              "      <th>open</th>\n",
              "      <th>close</th>\n",
              "      <th>high</th>\n",
              "      <th>low</th>\n",
              "    </tr>\n",
              "  </thead>\n",
              "  <tbody>\n",
              "    <tr>\n",
              "      <th>open</th>\n",
              "      <td>1.000000</td>\n",
              "      <td>0.997653</td>\n",
              "      <td>0.998693</td>\n",
              "      <td>0.998890</td>\n",
              "    </tr>\n",
              "    <tr>\n",
              "      <th>close</th>\n",
              "      <td>0.997653</td>\n",
              "      <td>1.000000</td>\n",
              "      <td>0.998850</td>\n",
              "      <td>0.998906</td>\n",
              "    </tr>\n",
              "    <tr>\n",
              "      <th>high</th>\n",
              "      <td>0.998693</td>\n",
              "      <td>0.998850</td>\n",
              "      <td>1.000000</td>\n",
              "      <td>0.998248</td>\n",
              "    </tr>\n",
              "    <tr>\n",
              "      <th>low</th>\n",
              "      <td>0.998890</td>\n",
              "      <td>0.998906</td>\n",
              "      <td>0.998248</td>\n",
              "      <td>1.000000</td>\n",
              "    </tr>\n",
              "  </tbody>\n",
              "</table>\n",
              "</div>\n",
              "      <button class=\"colab-df-convert\" onclick=\"convertToInteractive('df-cc390d66-6adf-4810-9c3c-ff2870d657ce')\"\n",
              "              title=\"Convert this dataframe to an interactive table.\"\n",
              "              style=\"display:none;\">\n",
              "        \n",
              "  <svg xmlns=\"http://www.w3.org/2000/svg\" height=\"24px\"viewBox=\"0 0 24 24\"\n",
              "       width=\"24px\">\n",
              "    <path d=\"M0 0h24v24H0V0z\" fill=\"none\"/>\n",
              "    <path d=\"M18.56 5.44l.94 2.06.94-2.06 2.06-.94-2.06-.94-.94-2.06-.94 2.06-2.06.94zm-11 1L8.5 8.5l.94-2.06 2.06-.94-2.06-.94L8.5 2.5l-.94 2.06-2.06.94zm10 10l.94 2.06.94-2.06 2.06-.94-2.06-.94-.94-2.06-.94 2.06-2.06.94z\"/><path d=\"M17.41 7.96l-1.37-1.37c-.4-.4-.92-.59-1.43-.59-.52 0-1.04.2-1.43.59L10.3 9.45l-7.72 7.72c-.78.78-.78 2.05 0 2.83L4 21.41c.39.39.9.59 1.41.59.51 0 1.02-.2 1.41-.59l7.78-7.78 2.81-2.81c.8-.78.8-2.07 0-2.86zM5.41 20L4 18.59l7.72-7.72 1.47 1.35L5.41 20z\"/>\n",
              "  </svg>\n",
              "      </button>\n",
              "      \n",
              "  <style>\n",
              "    .colab-df-container {\n",
              "      display:flex;\n",
              "      flex-wrap:wrap;\n",
              "      gap: 12px;\n",
              "    }\n",
              "\n",
              "    .colab-df-convert {\n",
              "      background-color: #E8F0FE;\n",
              "      border: none;\n",
              "      border-radius: 50%;\n",
              "      cursor: pointer;\n",
              "      display: none;\n",
              "      fill: #1967D2;\n",
              "      height: 32px;\n",
              "      padding: 0 0 0 0;\n",
              "      width: 32px;\n",
              "    }\n",
              "\n",
              "    .colab-df-convert:hover {\n",
              "      background-color: #E2EBFA;\n",
              "      box-shadow: 0px 1px 2px rgba(60, 64, 67, 0.3), 0px 1px 3px 1px rgba(60, 64, 67, 0.15);\n",
              "      fill: #174EA6;\n",
              "    }\n",
              "\n",
              "    [theme=dark] .colab-df-convert {\n",
              "      background-color: #3B4455;\n",
              "      fill: #D2E3FC;\n",
              "    }\n",
              "\n",
              "    [theme=dark] .colab-df-convert:hover {\n",
              "      background-color: #434B5C;\n",
              "      box-shadow: 0px 1px 3px 1px rgba(0, 0, 0, 0.15);\n",
              "      filter: drop-shadow(0px 1px 2px rgba(0, 0, 0, 0.3));\n",
              "      fill: #FFFFFF;\n",
              "    }\n",
              "  </style>\n",
              "\n",
              "      <script>\n",
              "        const buttonEl =\n",
              "          document.querySelector('#df-cc390d66-6adf-4810-9c3c-ff2870d657ce button.colab-df-convert');\n",
              "        buttonEl.style.display =\n",
              "          google.colab.kernel.accessAllowed ? 'block' : 'none';\n",
              "\n",
              "        async function convertToInteractive(key) {\n",
              "          const element = document.querySelector('#df-cc390d66-6adf-4810-9c3c-ff2870d657ce');\n",
              "          const dataTable =\n",
              "            await google.colab.kernel.invokeFunction('convertToInteractive',\n",
              "                                                     [key], {});\n",
              "          if (!dataTable) return;\n",
              "\n",
              "          const docLinkHtml = 'Like what you see? Visit the ' +\n",
              "            '<a target=\"_blank\" href=https://colab.research.google.com/notebooks/data_table.ipynb>data table notebook</a>'\n",
              "            + ' to learn more about interactive tables.';\n",
              "          element.innerHTML = '';\n",
              "          dataTable['output_type'] = 'display_data';\n",
              "          await google.colab.output.renderOutput(dataTable, element);\n",
              "          const docLink = document.createElement('div');\n",
              "          docLink.innerHTML = docLinkHtml;\n",
              "          element.appendChild(docLink);\n",
              "        }\n",
              "      </script>\n",
              "    </div>\n",
              "  </div>\n",
              "  "
            ]
          },
          "metadata": {},
          "execution_count": 4
        }
      ]
    },
    {
      "cell_type": "code",
      "source": [
        "stripped_resampled_df = resampled_df['close']\n",
        "plot_acf(stripped_resampled_df)\n",
        "plt.show()"
      ],
      "metadata": {
        "colab": {
          "base_uri": "https://localhost:8080/",
          "height": 281
        },
        "id": "vbe2cbF7DQ0B",
        "outputId": "9f3d6c32-e7db-4502-ece4-e0a81b6c78bf"
      },
      "execution_count": null,
      "outputs": [
        {
          "output_type": "display_data",
          "data": {
            "text/plain": [
              "<Figure size 432x288 with 1 Axes>"
            ],
            "image/png": "[encoded data removed]"
          },
          "metadata": {
            "needs_background": "light"
          }
        }
      ]
    },
    {
      "cell_type": "code",
      "source": [
        "ma_resampled_df = pd.DataFrame(resampled_df['close'])\n",
        "ma_resampled_df['ma180'] = resampled_df['close'].rolling(180).mean()\n",
        "ma_resampled_df['ma60'] = resampled_df['close'].rolling(60).mean()\n",
        "ma_resampled_df['ma30'] = resampled_df['close'].rolling(30).mean()\n",
        "# ma_resampled_df['volume'] = resampled_df['volume']\n",
        "ma_resampled_df = ma_resampled_df[199:]\n",
        "ma_resampled_df"
      ],
      "metadata": {
        "colab": {
          "base_uri": "https://localhost:8080/",
          "height": 424
        },
        "id": "qNDphlInG9v3",
        "outputId": "0d5193dc-6d30-43b3-f932-d0a9424124ff"
      },
      "execution_count": null,
      "outputs": [
        {
          "output_type": "execute_result",
          "data": {
            "text/plain": [
              "               close     ma180      ma60      ma30\n",
              "2001-03-17  5.041667  6.428162  5.859711  5.204456\n",
              "2001-03-18  5.053333  6.426403  5.828783  5.187300\n",
              "2001-03-19  5.065000  6.424986  5.794267  5.173017\n",
              "2001-03-20  5.280000  6.424947  5.757600  5.168383\n",
              "2001-03-21  5.050000  6.424497  5.717228  5.158567\n",
              "...              ...       ...       ...       ...\n",
              "2022-07-31  8.265000  6.534317  7.338808  7.179383\n",
              "2022-08-01  8.283000  6.549772  7.335442  7.266208\n",
              "2022-08-02  7.706000  6.565428  7.321825  7.335525\n",
              "2022-08-03  8.266000  6.585950  7.313103  7.425233\n",
              "2022-08-04  8.329000  6.607452  7.300992  7.518767\n",
              "\n",
              "[7811 rows x 4 columns]"
            ],
            "text/html": [
              "\n",
              "  <div id=\"df-17f30fd7-b431-44d2-9ea4-d5f27215f224\">\n",
              "    <div class=\"colab-df-container\">\n",
              "      <div>\n",
              "<style scoped>\n",
              "    .dataframe tbody tr th:only-of-type {\n",
              "        vertical-align: middle;\n",
              "    }\n",
              "\n",
              "    .dataframe tbody tr th {\n",
              "        vertical-align: top;\n",
              "    }\n",
              "\n",
              "    .dataframe thead th {\n",
              "        text-align: right;\n",
              "    }\n",
              "</style>\n",
              "<table border=\"1\" class=\"dataframe\">\n",
              "  <thead>\n",
              "    <tr style=\"text-align: right;\">\n",
              "      <th></th>\n",
              "      <th>close</th>\n",
              "      <th>ma180</th>\n",
              "      <th>ma60</th>\n",
              "      <th>ma30</th>\n",
              "    </tr>\n",
              "  </thead>\n",
              "  <tbody>\n",
              "    <tr>\n",
              "      <th>2001-03-17</th>\n",
              "      <td>5.041667</td>\n",
              "      <td>6.428162</td>\n",
              "      <td>5.859711</td>\n",
              "      <td>5.204456</td>\n",
              "    </tr>\n",
              "    <tr>\n",
              "      <th>2001-03-18</th>\n",
              "      <td>5.053333</td>\n",
              "      <td>6.426403</td>\n",
              "      <td>5.828783</td>\n",
              "      <td>5.187300</td>\n",
              "    </tr>\n",
              "    <tr>\n",
              "      <th>2001-03-19</th>\n",
              "      <td>5.065000</td>\n",
              "      <td>6.424986</td>\n",
              "      <td>5.794267</td>\n",
              "      <td>5.173017</td>\n",
              "    </tr>\n",
              "    <tr>\n",
              "      <th>2001-03-20</th>\n",
              "      <td>5.280000</td>\n",
              "      <td>6.424947</td>\n",
              "      <td>5.757600</td>\n",
              "      <td>5.168383</td>\n",
              "    </tr>\n",
              "    <tr>\n",
              "      <th>2001-03-21</th>\n",
              "      <td>5.050000</td>\n",
              "      <td>6.424497</td>\n",
              "      <td>5.717228</td>\n",
              "      <td>5.158567</td>\n",
              "    </tr>\n",
              "    <tr>\n",
              "      <th>...</th>\n",
              "      <td>...</td>\n",
              "      <td>...</td>\n",
              "      <td>...</td>\n",
              "      <td>...</td>\n",
              "    </tr>\n",
              "    <tr>\n",
              "      <th>2022-07-31</th>\n",
              "      <td>8.265000</td>\n",
              "      <td>6.534317</td>\n",
              "      <td>7.338808</td>\n",
              "      <td>7.179383</td>\n",
              "    </tr>\n",
              "    <tr>\n",
              "      <th>2022-08-01</th>\n",
              "      <td>8.283000</td>\n",
              "      <td>6.549772</td>\n",
              "      <td>7.335442</td>\n",
              "      <td>7.266208</td>\n",
              "    </tr>\n",
              "    <tr>\n",
              "      <th>2022-08-02</th>\n",
              "      <td>7.706000</td>\n",
              "      <td>6.565428</td>\n",
              "      <td>7.321825</td>\n",
              "      <td>7.335525</td>\n",
              "    </tr>\n",
              "    <tr>\n",
              "      <th>2022-08-03</th>\n",
              "      <td>8.266000</td>\n",
              "      <td>6.585950</td>\n",
              "      <td>7.313103</td>\n",
              "      <td>7.425233</td>\n",
              "    </tr>\n",
              "    <tr>\n",
              "      <th>2022-08-04</th>\n",
              "      <td>8.329000</td>\n",
              "      <td>6.607452</td>\n",
              "      <td>7.300992</td>\n",
              "      <td>7.518767</td>\n",
              "    </tr>\n",
              "  </tbody>\n",
              "</table>\n",
              "<p>7811 rows × 4 columns</p>\n",
              "</div>\n",
              "      <button class=\"colab-df-convert\" onclick=\"convertToInteractive('df-17f30fd7-b431-44d2-9ea4-d5f27215f224')\"\n",
              "              title=\"Convert this dataframe to an interactive table.\"\n",
              "              style=\"display:none;\">\n",
              "        \n",
              "  <svg xmlns=\"http://www.w3.org/2000/svg\" height=\"24px\"viewBox=\"0 0 24 24\"\n",
              "       width=\"24px\">\n",
              "    <path d=\"M0 0h24v24H0V0z\" fill=\"none\"/>\n",
              "    <path d=\"M18.56 5.44l.94 2.06.94-2.06 2.06-.94-2.06-.94-.94-2.06-.94 2.06-2.06.94zm-11 1L8.5 8.5l.94-2.06 2.06-.94-2.06-.94L8.5 2.5l-.94 2.06-2.06.94zm10 10l.94 2.06.94-2.06 2.06-.94-2.06-.94-.94-2.06-.94 2.06-2.06.94z\"/><path d=\"M17.41 7.96l-1.37-1.37c-.4-.4-.92-.59-1.43-.59-.52 0-1.04.2-1.43.59L10.3 9.45l-7.72 7.72c-.78.78-.78 2.05 0 2.83L4 21.41c.39.39.9.59 1.41.59.51 0 1.02-.2 1.41-.59l7.78-7.78 2.81-2.81c.8-.78.8-2.07 0-2.86zM5.41 20L4 18.59l7.72-7.72 1.47 1.35L5.41 20z\"/>\n",
              "  </svg>\n",
              "      </button>\n",
              "      \n",
              "  <style>\n",
              "    .colab-df-container {\n",
              "      display:flex;\n",
              "      flex-wrap:wrap;\n",
              "      gap: 12px;\n",
              "    }\n",
              "\n",
              "    .colab-df-convert {\n",
              "      background-color: #E8F0FE;\n",
              "      border: none;\n",
              "      border-radius: 50%;\n",
              "      cursor: pointer;\n",
              "      display: none;\n",
              "      fill: #1967D2;\n",
              "      height: 32px;\n",
              "      padding: 0 0 0 0;\n",
              "      width: 32px;\n",
              "    }\n",
              "\n",
              "    .colab-df-convert:hover {\n",
              "      background-color: #E2EBFA;\n",
              "      box-shadow: 0px 1px 2px rgba(60, 64, 67, 0.3), 0px 1px 3px 1px rgba(60, 64, 67, 0.15);\n",
              "      fill: #174EA6;\n",
              "    }\n",
              "\n",
              "    [theme=dark] .colab-df-convert {\n",
              "      background-color: #3B4455;\n",
              "      fill: #D2E3FC;\n",
              "    }\n",
              "\n",
              "    [theme=dark] .colab-df-convert:hover {\n",
              "      background-color: #434B5C;\n",
              "      box-shadow: 0px 1px 3px 1px rgba(0, 0, 0, 0.15);\n",
              "      filter: drop-shadow(0px 1px 2px rgba(0, 0, 0, 0.3));\n",
              "      fill: #FFFFFF;\n",
              "    }\n",
              "  </style>\n",
              "\n",
              "      <script>\n",
              "        const buttonEl =\n",
              "          document.querySelector('#df-17f30fd7-b431-44d2-9ea4-d5f27215f224 button.colab-df-convert');\n",
              "        buttonEl.style.display =\n",
              "          google.colab.kernel.accessAllowed ? 'block' : 'none';\n",
              "\n",
              "        async function convertToInteractive(key) {\n",
              "          const element = document.querySelector('#df-17f30fd7-b431-44d2-9ea4-d5f27215f224');\n",
              "          const dataTable =\n",
              "            await google.colab.kernel.invokeFunction('convertToInteractive',\n",
              "                                                     [key], {});\n",
              "          if (!dataTable) return;\n",
              "\n",
              "          const docLinkHtml = 'Like what you see? Visit the ' +\n",
              "            '<a target=\"_blank\" href=https://colab.research.google.com/notebooks/data_table.ipynb>data table notebook</a>'\n",
              "            + ' to learn more about interactive tables.';\n",
              "          element.innerHTML = '';\n",
              "          dataTable['output_type'] = 'display_data';\n",
              "          await google.colab.output.renderOutput(dataTable, element);\n",
              "          const docLink = document.createElement('div');\n",
              "          docLink.innerHTML = docLinkHtml;\n",
              "          element.appendChild(docLink);\n",
              "        }\n",
              "      </script>\n",
              "    </div>\n",
              "  </div>\n",
              "  "
            ]
          },
          "metadata": {},
          "execution_count": 6
        }
      ]
    },
    {
      "cell_type": "markdown",
      "source": [
        "#4. Sentiment Analyser"
      ],
      "metadata": {
        "id": "A3OR1FFcEpvG"
      }
    },
    {
      "cell_type": "code",
      "source": [
        "!pip install textblob"
      ],
      "metadata": {
        "colab": {
          "base_uri": "https://localhost:8080/"
        },
        "id": "goWpZHYrFvtF",
        "outputId": "0066e636-eabf-4218-dfa8-23e7e15b7ab6"
      },
      "execution_count": null,
      "outputs": [
        {
          "output_type": "stream",
          "name": "stdout",
          "text": [
            "Looking in indexes: https://pypi.org/simple, https://us-python.pkg.dev/colab-wheels/public/simple/\n",
            "Requirement already satisfied: textblob in /usr/local/lib/python3.7/dist-packages (0.15.3)\n",
            "Requirement already satisfied: nltk>=3.1 in /usr/local/lib/python3.7/dist-packages (from textblob) (3.7)\n",
            "Requirement already satisfied: regex>=2021.8.3 in /usr/local/lib/python3.7/dist-packages (from nltk>=3.1->textblob) (2022.6.2)\n",
            "Requirement already satisfied: tqdm in /usr/local/lib/python3.7/dist-packages (from nltk>=3.1->textblob) (4.64.0)\n",
            "Requirement already satisfied: click in /usr/local/lib/python3.7/dist-packages (from nltk>=3.1->textblob) (7.1.2)\n",
            "Requirement already satisfied: joblib in /usr/local/lib/python3.7/dist-packages (from nltk>=3.1->textblob) (1.1.0)\n"
          ]
        }
      ]
    },
    {
      "cell_type": "code",
      "source": [
        "import pandas as pd\n",
        "import numpy as np\n",
        "import matplotlib.pyplot as plt\n",
        "from matplotlib.pyplot import figure\n",
        "from textblob import TextBlob\n",
        "plt.style.use('fivethirtyeight')"
      ],
      "metadata": {
        "id": "FHPhDu_dMANB"
      },
      "execution_count": null,
      "outputs": []
    },
    {
      "cell_type": "markdown",
      "source": [
        "## a. KEYWORD"
      ],
      "metadata": {
        "id": "LUGV0TUcNUn5"
      }
    },
    {
      "cell_type": "code",
      "source": [
        "keyword = {\"keyw\": \"Natural Gas\",\"asset\": 'commodity'}\n",
        "\n",
        "if keyword['asset'] == 'stocks':\n",
        "  keyword['scrape_search'] = keyword['keyw'] + ' shares'\n",
        "else:\n",
        "  keyword['scrape_search'] = keyword['keyw'] + ' prices'"
      ],
      "metadata": {
        "id": "Hc-pbL_nNWyd"
      },
      "execution_count": null,
      "outputs": []
    },
    {
      "cell_type": "markdown",
      "source": [
        "## b. Scrapper"
      ],
      "metadata": {
        "id": "_Pdx8YpaMCzG"
      }
    },
    {
      "cell_type": "code",
      "source": [
        "from bs4 import BeautifulSoup as soup\n",
        "from urllib.request import urlopen\n",
        "import datetime\n",
        "import pandas as pd\n",
        "\n",
        "def webCrawl (search):\n",
        "    news_df = pd.DataFrame(columns={\"Headline\", \"Date_time\", \"URL\"})\n",
        "    date = datetime.datetime.now()\n",
        "    date = date.date() - datetime.timedelta(days=1500)\n",
        "    date = str(date)\n",
        "    date = date.replace(\"-\", \"\")\n",
        "    date = int(date)\n",
        "    search = search.replace(\" \", \"%20\")\n",
        "    search = search.replace(\"Limited\", \"\")\n",
        "    search = search.replace(\"ltd\", \"\")\n",
        "    search = search.replace(\"INC\", \"\")\n",
        "    search = search.replace(\"inc\", \"\")\n",
        "    search = search.replace(\"LLC\", \"\")\n",
        "    newsUrl = \"https://news.google.com/rss/?q=\" + str(search)\n",
        "    website = urlopen(newsUrl)\n",
        "    xml_page = website.read()\n",
        "    website.close()\n",
        "    ret_n = pd.DataFrame(columns=[\"\"])\n",
        "    soup_page = soup(xml_page, \"xml\")\n",
        "    news_list = soup_page.findAll(\"item\")\n",
        "    # Print news title, url and publish date\n",
        "    for news in news_list:\n",
        "        day = (news.pubDate.text[5:7])\n",
        "        wkday = str(news.pubDate.text[0:4])\n",
        "        pub_time = str(news.pubDate.text[17:25])\n",
        "        d = {\"Jan\" : \"01\", \"Feb\" : \"02\", \"Mar\" : \"03\", \"Apr\" : \"04\", \"May\" : \"05\", \"Jun\" : \"06\", \"Jul\" : \"07\", \"Aug\" : \"08\", \"Sep\" : \"09\", \"Oct\" : \"10\", \"Nov\" : \"11\", \"Dec\" : \"12\"}\n",
        "        month = (d.get(news.pubDate.text[8:11]))\n",
        "        year = (news.pubDate.text[12:16])\n",
        "        date_t = str(year + \"-\" + month + \"-\" + day + \" \" +pub_time)\n",
        "        format = \"%Y-%m-%d %H:%M:%S\"\n",
        "        date_time = datetime.datetime.strptime(date_t, format) + datetime.timedelta(minutes = 330)\n",
        "        date_time = wkday + str(date_time)\n",
        "        date_a = int(str(year + month + day))\n",
        "\n",
        "        if (date_a >= date):\n",
        "            headl = news.title.text\n",
        "            newslink = news.link.text\n",
        "            news_df = news_df.append({\"Headline\": headl, \"Date_time\" : date_time, \"URL\": newslink}, ignore_index=True)\n",
        "    return news_df \n",
        "\n",
        "print(webCrawl ('Amazon'))\n"
      ],
      "metadata": {
        "colab": {
          "base_uri": "https://localhost:8080/"
        },
        "id": "ljDvyWYZMsQd",
        "outputId": "be80bf80-d5d3-4d5d-a4dd-d1b98d362800"
      },
      "execution_count": null,
      "outputs": [
        {
          "output_type": "stream",
          "name": "stdout",
          "text": [
            "                                             Headline  \\\n",
            "0   Amazon CSO Steve Schmidt preaches fungible res...   \n",
            "1   How Will Amazon Approach U.S. Primary Care? - ...   \n",
            "2   Amazon Introduces Layaway Plans on Select Item...   \n",
            "3   Amazon is bucking the online ad trend and just...   \n",
            "4   Amazon launches same-day delivery from some br...   \n",
            "..                                                ...   \n",
            "95  Leaked documents reveal Amazon managers’ proce...   \n",
            "96  Amazon bets on influencers to drive sales for ...   \n",
            "97  Amazon plans to start delivering packages by d...   \n",
            "98  Microsoft Asks Google, Oracle to Help Crimp Am...   \n",
            "99  Amazon Prime Day Shows Just How Hard Inflation...   \n",
            "\n",
            "                  Date_time                                                URL  \n",
            "0   Wed,2022-08-04 03:23:53  https://www.techtarget.com/searchsecurity/news...  \n",
            "1   Wed,2022-08-03 18:46:31  https://hbr.org/2022/08/how-will-amazon-approa...  \n",
            "2   Wed,2022-08-04 05:13:58  https://www.billboard.com/culture/product-reco...  \n",
            "3   Wed,2022-08-03 18:00:01  https://www.cnbc.com/2022/08/03/amazon-online-...  \n",
            "4   Mon,2022-08-01 20:47:22  https://www.cnbc.com/2022/08/01/amazon-launche...  \n",
            "..                      ...                                                ...  \n",
            "95  Fri,2022-07-22 12:30:00  https://fortune.com/2022/07/22/amazon-new-perf...  \n",
            "96  Thu,2022-07-07 12:30:00  https://techcrunch.com/2022/07/07/amazon-live-...  \n",
            "97  Fri,2022-07-15 12:30:00  https://www.cnbc.com/2022/07/15/amazon-to-star...  \n",
            "98  Wed,2022-07-27 18:30:00  https://www.wsj.com/articles/microsoft-asks-go...  \n",
            "99  Fri,2022-07-15 12:30:00  https://www.barrons.com/articles/amazon-prime-...  \n",
            "\n",
            "[100 rows x 3 columns]\n"
          ]
        }
      ]
    },
    {
      "cell_type": "markdown",
      "source": [
        "#5. Data Augment"
      ],
      "metadata": {
        "id": "jFINaQmLQ6mi"
      }
    },
    {
      "cell_type": "code",
      "source": [
        "from sklearn.preprocessing import StandardScaler\n",
        "scaler = StandardScaler()"
      ],
      "metadata": {
        "id": "yxiwUjn-fsez"
      },
      "execution_count": null,
      "outputs": []
    },
    {
      "cell_type": "code",
      "source": [
        "monthly_resampled_df = ma_resampled_df.resample('1M').mean()\n",
        "plt.plot(monthly_resampled_df['close'] ,label = 'close')\n",
        "# plt.plot(monthly_resampled_df['ma30'] ,label = 'ma30')\n",
        "# plt.plot(monthly_resampled_df['ma60'] ,label = 'ma60')\n",
        "# plt.plot(monthly_resampled_df['ma180'] ,label = 'ma180')\n",
        "# plt.plot(monthly_resampled_df['volume'] ,label = 'volume')\n",
        "plt.legend(loc=\"upper left\")\n",
        "plt.show()"
      ],
      "metadata": {
        "colab": {
          "base_uri": "https://localhost:8080/",
          "height": 282
        },
        "id": "1dyLIPPDm5nl",
        "outputId": "6aa3100f-e90f-465f-beec-04dff950786b"
      },
      "execution_count": null,
      "outputs": [
        {
          "output_type": "display_data",
          "data": {
            "text/plain": [
              "<Figure size 432x288 with 1 Axes>"
            ],
            "image/png": "[encoded data removed]"
          },
          "metadata": {}
        }
      ]
    },
    {
      "cell_type": "code",
      "source": [
        "def root(x):\n",
        "  return math.sqrt(x)"
      ],
      "metadata": {
        "id": "NuyLQNJMXHZl"
      },
      "execution_count": null,
      "outputs": []
    },
    {
      "cell_type": "code",
      "source": [
        "rows, attributes = monthly_resampled_df.shape\n",
        "\n",
        "months = 36  \n",
        "\n",
        "scaler_mod = scaler.fit(monthly_resampled_df)\n",
        "scaler_mean = list(map(np.float32, scaler.mean_))\n",
        "scaler_var = scaler.scale_\n",
        "print(list(map(np.float32, scaler_mean)))\n",
        "print(list(map(np.float32, scaler_var)))\n",
        "monthly_resampled_df_scaled = scaler.transform (monthly_resampled_df)\n",
        "\n",
        "train_monthly_resampled_df = monthly_resampled_df_scaled[0:(rows-months)+6]\n",
        "test_monthly_resampled_df = monthly_resampled_df_scaled[(rows-months):]\n",
        "\n",
        "print(train_monthly_resampled_df.shape, test_monthly_resampled_df.shape) \n"
      ],
      "metadata": {
        "colab": {
          "base_uri": "https://localhost:8080/"
        },
        "id": "NrC9qVKJseuw",
        "outputId": "e28d754d-2ae5-45ed-8d21-37a07ac2f914"
      },
      "execution_count": null,
      "outputs": [
        {
          "output_type": "stream",
          "name": "stdout",
          "text": [
            "[4.522887, 4.5137963, 4.5139875, 4.514954]\n",
            "[2.222597, 2.088305, 2.182039, 2.2027333]\n",
            "(228, 4) (36, 4)\n"
          ]
        }
      ]
    },
    {
      "cell_type": "code",
      "source": [
        "for rowIndex, row in enumerate(monthly_resampled_df):\n",
        "  print(row)\n",
        "  break"
      ],
      "metadata": {
        "colab": {
          "base_uri": "https://localhost:8080/"
        },
        "id": "crwwWot8-YVq",
        "outputId": "df8f51e3-df5c-4a8e-9a9f-61998f35bb24"
      },
      "execution_count": null,
      "outputs": [
        {
          "output_type": "stream",
          "name": "stdout",
          "text": [
            "close\n"
          ]
        }
      ]
    },
    {
      "cell_type": "code",
      "source": [
        "def batch_gen(df):\n",
        "  batch_size = 24\n",
        "  validation_size = 1\n",
        "  df = np.array(df)\n",
        "  shape = df.shape\n",
        "  test = []\n",
        "  train = []\n",
        "  for rowIndex in range(0, shape[0]):\n",
        "    if rowIndex + batch_size + validation_size == shape[0]:\n",
        "      train.append(df[rowIndex: rowIndex + batch_size])\n",
        "      test.append(df[rowIndex+batch_size][1])\n",
        "      break\n",
        "\n",
        "    else:\n",
        "      train.append(df[rowIndex: rowIndex + batch_size])\n",
        "      test.append(df[rowIndex+batch_size][1])\n",
        "   \n",
        "\n",
        "  test = np.array(test).reshape((len(test),1))\n",
        "  train = np.array(train)\n",
        "  return test , train\n",
        "\n",
        "batch_Y_monthly_df_train, batch_X_monthly_df_train = batch_gen(train_monthly_resampled_df)\n",
        "\n",
        "\n",
        "print(f'Shape of Training Data: {batch_X_monthly_df_train.shape}')\n",
        "print(f'Shape of Testing Data: {batch_Y_monthly_df_train.shape}')"
      ],
      "metadata": {
        "colab": {
          "base_uri": "https://localhost:8080/"
        },
        "id": "EBoIo9lm78ni",
        "outputId": "096f85b6-969d-42b1-f488-c3de543d17a4"
      },
      "execution_count": null,
      "outputs": [
        {
          "output_type": "stream",
          "name": "stdout",
          "text": [
            "Shape of Training Data: (204, 24, 4)\n",
            "Shape of Testing Data: (204, 1)\n"
          ]
        }
      ]
    },
    {
      "cell_type": "markdown",
      "source": [
        "#6. LSTM\n"
      ],
      "metadata": {
        "id": "FEhmivdv8izT"
      }
    },
    {
      "cell_type": "code",
      "source": [
        "import numpy as np\n",
        "from tensorflow.keras.models import Sequential\n",
        "from tensorflow.keras.layers import LSTM\n",
        "from tensorflow.keras.layers import Dense, Dropout\n",
        "from keras.layers import LeakyReLU\n",
        "from tensorflow import keras"
      ],
      "metadata": {
        "id": "IpCFgXpI84TZ"
      },
      "execution_count": null,
      "outputs": []
    },
    {
      "cell_type": "markdown",
      "source": [
        "## a. Model Compilation"
      ],
      "metadata": {
        "id": "12EJlB-Lg9OE"
      }
    },
    {
      "cell_type": "code",
      "source": [
        "model = Sequential()\n",
        "model.add(LSTM(120, activation='relu', input_shape=(batch_X_monthly_df_train.shape[1], batch_X_monthly_df_train.shape[2]), return_sequences=True))\n",
        "model.add(LSTM(50, activation=keras.layers.LeakyReLU(alpha=0.01), return_sequences=True))\n",
        "model.add(LSTM(50, activation=keras.layers.LeakyReLU(alpha=0.01), return_sequences=False))\n",
        "model.add(Dropout(0.25))\n",
        "model.add(Dense(batch_Y_monthly_df_train.shape[1]))\n",
        "model.compile(loss='mse', optimizer= keras.optimizers.Adam(lr=0.01))\n",
        "model.summary()"
      ],
      "metadata": {
        "colab": {
          "base_uri": "https://localhost:8080/"
        },
        "id": "W9vvYkEK8xVL",
        "outputId": "fdad6d3a-eb0a-465d-f271-0d662c0c52df"
      },
      "execution_count": null,
      "outputs": [
        {
          "output_type": "stream",
          "name": "stdout",
          "text": [
            "Model: \"sequential_5\"\n",
            "_________________________________________________________________\n",
            " Layer (type)                Output Shape              Param #   \n",
            "=================================================================\n",
            " lstm_15 (LSTM)              (None, 24, 120)           60000     \n",
            "                                                                 \n",
            " lstm_16 (LSTM)              (None, 24, 50)            34200     \n",
            "                                                                 \n",
            " lstm_17 (LSTM)              (None, 50)                20200     \n",
            "                                                                 \n",
            " dropout_5 (Dropout)         (None, 50)                0         \n",
            "                                                                 \n",
            " dense_5 (Dense)             (None, 1)                 51        \n",
            "                                                                 \n",
            "=================================================================\n",
            "Total params: 114,451\n",
            "Trainable params: 114,451\n",
            "Non-trainable params: 0\n",
            "_________________________________________________________________\n"
          ]
        },
        {
          "output_type": "stream",
          "name": "stderr",
          "text": [
            "/usr/local/lib/python3.7/dist-packages/keras/optimizer_v2/adam.py:105: UserWarning: The `lr` argument is deprecated, use `learning_rate` instead.\n",
            "  super(Adam, self).__init__(name, **kwargs)\n"
          ]
        }
      ]
    },
    {
      "cell_type": "markdown",
      "source": [
        "## b. Model Fitting"
      ],
      "metadata": {
        "id": "N8N9nc08aeBd"
      }
    },
    {
      "cell_type": "code",
      "source": [
        "history = model.fit(batch_X_monthly_df_train, batch_Y_monthly_df_train, epochs=20, batch_size = 12, validation_split=0.1 , verbose = 1)"
      ],
      "metadata": {
        "colab": {
          "base_uri": "https://localhost:8080/"
        },
        "id": "mwUqdcYbhC9h",
        "outputId": "9b432da0-363d-437c-812e-57f8886ed169"
      },
      "execution_count": null,
      "outputs": [
        {
          "output_type": "stream",
          "name": "stdout",
          "text": [
            "Epoch 1/20\n",
            "16/16 [==============================] - 5s 77ms/step - loss: 1.1503 - val_loss: 0.6147\n",
            "Epoch 2/20\n",
            "16/16 [==============================] - 1s 50ms/step - loss: 1.1501 - val_loss: 0.1202\n",
            "Epoch 3/20\n",
            "16/16 [==============================] - 1s 48ms/step - loss: 0.9755 - val_loss: 0.0102\n",
            "Epoch 4/20\n",
            "16/16 [==============================] - 1s 47ms/step - loss: 0.5109 - val_loss: 0.0047\n",
            "Epoch 5/20\n",
            "16/16 [==============================] - 1s 45ms/step - loss: 0.2545 - val_loss: 0.1615\n",
            "Epoch 6/20\n",
            "16/16 [==============================] - 1s 48ms/step - loss: 0.2088 - val_loss: 0.0980\n",
            "Epoch 7/20\n",
            "16/16 [==============================] - 1s 47ms/step - loss: 0.1313 - val_loss: 0.0027\n",
            "Epoch 8/20\n",
            "16/16 [==============================] - 1s 51ms/step - loss: 0.0733 - val_loss: 0.0112\n",
            "Epoch 9/20\n",
            "16/16 [==============================] - 1s 49ms/step - loss: 0.0836 - val_loss: 0.0165\n",
            "Epoch 10/20\n",
            "16/16 [==============================] - 1s 46ms/step - loss: 0.0550 - val_loss: 0.0062\n",
            "Epoch 11/20\n",
            "16/16 [==============================] - 1s 46ms/step - loss: 0.0532 - val_loss: 0.0294\n",
            "Epoch 12/20\n",
            "16/16 [==============================] - 1s 46ms/step - loss: 0.0642 - val_loss: 0.0511\n",
            "Epoch 13/20\n",
            "16/16 [==============================] - 1s 46ms/step - loss: 0.0763 - val_loss: 0.0487\n",
            "Epoch 14/20\n",
            "16/16 [==============================] - 1s 46ms/step - loss: 0.0944 - val_loss: 0.0287\n",
            "Epoch 15/20\n",
            "16/16 [==============================] - 1s 51ms/step - loss: 0.0510 - val_loss: 0.0227\n",
            "Epoch 16/20\n",
            "16/16 [==============================] - 1s 53ms/step - loss: 0.0607 - val_loss: 0.0014\n",
            "Epoch 17/20\n",
            "16/16 [==============================] - 1s 52ms/step - loss: 0.0630 - val_loss: 0.0012\n",
            "Epoch 18/20\n",
            "16/16 [==============================] - 1s 50ms/step - loss: 0.0827 - val_loss: 0.0140\n",
            "Epoch 19/20\n",
            "16/16 [==============================] - 1s 48ms/step - loss: 0.0548 - val_loss: 0.0194\n",
            "Epoch 20/20\n",
            "16/16 [==============================] - 1s 54ms/step - loss: 0.0419 - val_loss: 0.0030\n"
          ]
        }
      ]
    },
    {
      "cell_type": "code",
      "source": [
        "fig, (ax1, ax2) = plt.subplots(1,2, figsize=[15,5])\n",
        "ax1.plot(history.history['loss'][5:], label='Training loss', c='orange')\n",
        "ax2.plot(history.history['val_loss'][5:], label='Validation loss' , c = 'green')\n",
        "fig.legend()\n",
        "fig.show()"
      ],
      "metadata": {
        "colab": {
          "base_uri": "https://localhost:8080/",
          "height": 376
        },
        "id": "vcVr397ukTXY",
        "outputId": "2eed91c9-9ee1-417d-87f5-d88db66a84c5"
      },
      "execution_count": null,
      "outputs": [
        {
          "output_type": "display_data",
          "data": {
            "text/plain": [
              "<Figure size 1080x360 with 2 Axes>"
            ],
            "image/png": "[encoded data removed]"
          },
          "metadata": {}
        }
      ]
    },
    {
      "cell_type": "code",
      "source": [
        "batch_Y_monthly_df_test , batch_X_monthly_df_test = batch_gen(test_monthly_resampled_df)\n",
        "print(f'Shape of Testing Data: {batch_X_monthly_df_test.shape}')\n",
        "print(f'Shape of Validating Data: {batch_Y_monthly_df_test.shape}')\n",
        "\n"
      ],
      "metadata": {
        "colab": {
          "base_uri": "https://localhost:8080/"
        },
        "id": "cjkxQZo8p3fC",
        "outputId": "c0646124-7df3-4324-a563-2193ecd50b4d"
      },
      "execution_count": null,
      "outputs": [
        {
          "output_type": "stream",
          "name": "stdout",
          "text": [
            "Shape of Testing Data: (12, 24, 4)\n",
            "Shape of Validating Data: (12, 1)\n"
          ]
        }
      ]
    },
    {
      "cell_type": "code",
      "source": [
        "pred_data = batch_X_monthly_df_test[0]\n",
        "\n",
        "result = []\n",
        "\n",
        "for i in range(0, 36):\n",
        "  res = model.predict(np.array([pred_data]))[0,0]\n",
        "  res = (res * scaler_var[0]) + scaler_mean[0]\n",
        "  result.append(res)\n",
        "  pred_data = scaler.inverse_transform(pred_data)\n",
        "  res_30 = res\n",
        "  res_60 = sum([*pred_data[-2:,2] , res])/4\n",
        "  res_180 = sum([*pred_data[-5:,2] , res])/8\n",
        "  pred_data = list(pred_data)\n",
        "  pred_data.append(np.array([res, res_30, res_60, res_180]))\n",
        "  pred_data.pop(0)\n",
        "  pred_data = np.array(pred_data)\n",
        "  pred_data = scaler.transform(pred_data)\n",
        "\n",
        "print(result)"
      ],
      "metadata": {
        "id": "7Wzq1_BKrWMX",
        "colab": {
          "base_uri": "https://localhost:8080/"
        },
        "outputId": "a9e5bc4b-b601-48d5-f608-344b01f20ad9"
      },
      "execution_count": null,
      "outputs": [
        {
          "output_type": "stream",
          "name": "stderr",
          "text": [
            "/usr/local/lib/python3.7/dist-packages/sklearn/base.py:451: UserWarning: X does not have valid feature names, but StandardScaler was fitted with feature names\n",
            "  \"X does not have valid feature names, but\"\n",
            "/usr/local/lib/python3.7/dist-packages/sklearn/base.py:451: UserWarning: X does not have valid feature names, but StandardScaler was fitted with feature names\n",
            "  \"X does not have valid feature names, but\"\n",
            "/usr/local/lib/python3.7/dist-packages/sklearn/base.py:451: UserWarning: X does not have valid feature names, but StandardScaler was fitted with feature names\n",
            "  \"X does not have valid feature names, but\"\n",
            "/usr/local/lib/python3.7/dist-packages/sklearn/base.py:451: UserWarning: X does not have valid feature names, but StandardScaler was fitted with feature names\n",
            "  \"X does not have valid feature names, but\"\n",
            "/usr/local/lib/python3.7/dist-packages/sklearn/base.py:451: UserWarning: X does not have valid feature names, but StandardScaler was fitted with feature names\n",
            "  \"X does not have valid feature names, but\"\n",
            "/usr/local/lib/python3.7/dist-packages/sklearn/base.py:451: UserWarning: X does not have valid feature names, but StandardScaler was fitted with feature names\n",
            "  \"X does not have valid feature names, but\"\n",
            "/usr/local/lib/python3.7/dist-packages/sklearn/base.py:451: UserWarning: X does not have valid feature names, but StandardScaler was fitted with feature names\n",
            "  \"X does not have valid feature names, but\"\n",
            "/usr/local/lib/python3.7/dist-packages/sklearn/base.py:451: UserWarning: X does not have valid feature names, but StandardScaler was fitted with feature names\n",
            "  \"X does not have valid feature names, but\"\n",
            "/usr/local/lib/python3.7/dist-packages/sklearn/base.py:451: UserWarning: X does not have valid feature names, but StandardScaler was fitted with feature names\n",
            "  \"X does not have valid feature names, but\"\n",
            "/usr/local/lib/python3.7/dist-packages/sklearn/base.py:451: UserWarning: X does not have valid feature names, but StandardScaler was fitted with feature names\n",
            "  \"X does not have valid feature names, but\"\n",
            "/usr/local/lib/python3.7/dist-packages/sklearn/base.py:451: UserWarning: X does not have valid feature names, but StandardScaler was fitted with feature names\n",
            "  \"X does not have valid feature names, but\"\n",
            "/usr/local/lib/python3.7/dist-packages/sklearn/base.py:451: UserWarning: X does not have valid feature names, but StandardScaler was fitted with feature names\n",
            "  \"X does not have valid feature names, but\"\n",
            "/usr/local/lib/python3.7/dist-packages/sklearn/base.py:451: UserWarning: X does not have valid feature names, but StandardScaler was fitted with feature names\n",
            "  \"X does not have valid feature names, but\"\n",
            "/usr/local/lib/python3.7/dist-packages/sklearn/base.py:451: UserWarning: X does not have valid feature names, but StandardScaler was fitted with feature names\n",
            "  \"X does not have valid feature names, but\"\n",
            "/usr/local/lib/python3.7/dist-packages/sklearn/base.py:451: UserWarning: X does not have valid feature names, but StandardScaler was fitted with feature names\n",
            "  \"X does not have valid feature names, but\"\n",
            "/usr/local/lib/python3.7/dist-packages/sklearn/base.py:451: UserWarning: X does not have valid feature names, but StandardScaler was fitted with feature names\n",
            "  \"X does not have valid feature names, but\"\n",
            "/usr/local/lib/python3.7/dist-packages/sklearn/base.py:451: UserWarning: X does not have valid feature names, but StandardScaler was fitted with feature names\n",
            "  \"X does not have valid feature names, but\"\n",
            "/usr/local/lib/python3.7/dist-packages/sklearn/base.py:451: UserWarning: X does not have valid feature names, but StandardScaler was fitted with feature names\n",
            "  \"X does not have valid feature names, but\"\n",
            "/usr/local/lib/python3.7/dist-packages/sklearn/base.py:451: UserWarning: X does not have valid feature names, but StandardScaler was fitted with feature names\n",
            "  \"X does not have valid feature names, but\"\n",
            "/usr/local/lib/python3.7/dist-packages/sklearn/base.py:451: UserWarning: X does not have valid feature names, but StandardScaler was fitted with feature names\n",
            "  \"X does not have valid feature names, but\"\n",
            "/usr/local/lib/python3.7/dist-packages/sklearn/base.py:451: UserWarning: X does not have valid feature names, but StandardScaler was fitted with feature names\n",
            "  \"X does not have valid feature names, but\"\n",
            "/usr/local/lib/python3.7/dist-packages/sklearn/base.py:451: UserWarning: X does not have valid feature names, but StandardScaler was fitted with feature names\n",
            "  \"X does not have valid feature names, but\"\n",
            "/usr/local/lib/python3.7/dist-packages/sklearn/base.py:451: UserWarning: X does not have valid feature names, but StandardScaler was fitted with feature names\n",
            "  \"X does not have valid feature names, but\"\n",
            "/usr/local/lib/python3.7/dist-packages/sklearn/base.py:451: UserWarning: X does not have valid feature names, but StandardScaler was fitted with feature names\n",
            "  \"X does not have valid feature names, but\"\n",
            "/usr/local/lib/python3.7/dist-packages/sklearn/base.py:451: UserWarning: X does not have valid feature names, but StandardScaler was fitted with feature names\n",
            "  \"X does not have valid feature names, but\"\n",
            "/usr/local/lib/python3.7/dist-packages/sklearn/base.py:451: UserWarning: X does not have valid feature names, but StandardScaler was fitted with feature names\n",
            "  \"X does not have valid feature names, but\"\n",
            "/usr/local/lib/python3.7/dist-packages/sklearn/base.py:451: UserWarning: X does not have valid feature names, but StandardScaler was fitted with feature names\n",
            "  \"X does not have valid feature names, but\"\n",
            "/usr/local/lib/python3.7/dist-packages/sklearn/base.py:451: UserWarning: X does not have valid feature names, but StandardScaler was fitted with feature names\n",
            "  \"X does not have valid feature names, but\"\n",
            "/usr/local/lib/python3.7/dist-packages/sklearn/base.py:451: UserWarning: X does not have valid feature names, but StandardScaler was fitted with feature names\n",
            "  \"X does not have valid feature names, but\"\n",
            "/usr/local/lib/python3.7/dist-packages/sklearn/base.py:451: UserWarning: X does not have valid feature names, but StandardScaler was fitted with feature names\n",
            "  \"X does not have valid feature names, but\"\n",
            "/usr/local/lib/python3.7/dist-packages/sklearn/base.py:451: UserWarning: X does not have valid feature names, but StandardScaler was fitted with feature names\n",
            "  \"X does not have valid feature names, but\"\n",
            "/usr/local/lib/python3.7/dist-packages/sklearn/base.py:451: UserWarning: X does not have valid feature names, but StandardScaler was fitted with feature names\n",
            "  \"X does not have valid feature names, but\"\n"
          ]
        },
        {
          "output_type": "stream",
          "name": "stdout",
          "text": [
            "[3.476127597528933, 3.4302820435296724, 3.224992951149196, 2.965142040429325, 2.711149796834792, 2.4665941617938087, 2.2089108413304674, 1.9415063515098234, 1.669056338983507, 1.4034283670298757, 1.1541724445972719, 0.9292038132605125, 0.7335001674517496, 0.5698048428898588, 0.43855395417724097, 0.3384860543989294, 0.26703691687081577, 0.2206879499040202, 0.19497944451456473, 0.1849625862773827, 0.18620575135300133, 0.19481305328108434, 0.2075138974978108, 0.221775851822283, 0.23592281602680298, 0.24925372131552948, 0.2610002005274854, 0.27089200038536365, 0.2788756001420891, 0.285100963871149, 0.2898282765904998, 0.2933065952419769, 0.2958024637441783, 0.2974753845215572, 0.29852672276112546, 0.29913982676474493]\n"
          ]
        },
        {
          "output_type": "stream",
          "name": "stderr",
          "text": [
            "/usr/local/lib/python3.7/dist-packages/sklearn/base.py:451: UserWarning: X does not have valid feature names, but StandardScaler was fitted with feature names\n",
            "  \"X does not have valid feature names, but\"\n",
            "/usr/local/lib/python3.7/dist-packages/sklearn/base.py:451: UserWarning: X does not have valid feature names, but StandardScaler was fitted with feature names\n",
            "  \"X does not have valid feature names, but\"\n",
            "/usr/local/lib/python3.7/dist-packages/sklearn/base.py:451: UserWarning: X does not have valid feature names, but StandardScaler was fitted with feature names\n",
            "  \"X does not have valid feature names, but\"\n",
            "/usr/local/lib/python3.7/dist-packages/sklearn/base.py:451: UserWarning: X does not have valid feature names, but StandardScaler was fitted with feature names\n",
            "  \"X does not have valid feature names, but\"\n"
          ]
        }
      ]
    },
    {
      "cell_type": "code",
      "source": [
        "test_monthly_resampled_df_unscaled = scaler.inverse_transform(test_monthly_resampled_df)\n",
        "\n",
        "plt.plot(result[:], label='Predictions', c='orange')\n",
        "plt.plot(test_monthly_resampled_df_unscaled[12:, 0], label='Observed' , c = 'green')\n",
        "plt.legend()\n",
        "plt.show()"
      ],
      "metadata": {
        "id": "ecHWr-bLTiWb",
        "colab": {
          "base_uri": "https://localhost:8080/",
          "height": 282
        },
        "outputId": "3af7c6e7-4e9c-4d4b-e503-2b5e2f863f08"
      },
      "execution_count": null,
      "outputs": [
        {
          "output_type": "display_data",
          "data": {
            "text/plain": [
              "<Figure size 432x288 with 1 Axes>"
            ],
            "image/png": "[encoded data removed]"
          },
          "metadata": {}
        }
      ]
    },
    {
      "cell_type": "code",
      "source": [
        "model.save('/content/model.h5')"
      ],
      "metadata": {
        "id": "7bhKzhxePoYR"
      },
      "execution_count": null,
      "outputs": []
    },
    {
      "cell_type": "markdown",
      "source": [
        "#7. Research"
      ],
      "metadata": {
        "id": "1GDFGkwEnBIK"
      }
    },
    {
      "cell_type": "code",
      "source": [
        "from google.colab import drive\n",
        "drive.mount('/content/drive')"
      ],
      "metadata": {
        "colab": {
          "base_uri": "https://localhost:8080/",
          "height": 328
        },
        "id": "HVKL9mvInGwl",
        "outputId": "72c6a77e-5b0c-41ca-cad3-70bb2f388db6"
      },
      "execution_count": null,
      "outputs": [
        {
          "output_type": "error",
          "ename": "MessageError",
          "evalue": "ignored",
          "traceback": [
            "\u001b[0;31m---------------------------------------------------------------------------\u001b[0m",
            "\u001b[0;31mMessageError\u001b[0m                              Traceback (most recent call last)",
            "\u001b[0;32m<ipython-input-25-d5df0069828e>\u001b[0m in \u001b[0;36m<module>\u001b[0;34m()\u001b[0m\n\u001b[1;32m      1\u001b[0m \u001b[0;32mfrom\u001b[0m \u001b[0mgoogle\u001b[0m\u001b[0;34m.\u001b[0m\u001b[0mcolab\u001b[0m \u001b[0;32mimport\u001b[0m \u001b[0mdrive\u001b[0m\u001b[0;34m\u001b[0m\u001b[0;34m\u001b[0m\u001b[0m\n\u001b[0;32m----> 2\u001b[0;31m \u001b[0mdrive\u001b[0m\u001b[0;34m.\u001b[0m\u001b[0mmount\u001b[0m\u001b[0;34m(\u001b[0m\u001b[0;34m'/content/drive'\u001b[0m\u001b[0;34m)\u001b[0m\u001b[0;34m\u001b[0m\u001b[0;34m\u001b[0m\u001b[0m\n\u001b[0m",
            "\u001b[0;32m/usr/local/lib/python3.7/dist-packages/google/colab/drive.py\u001b[0m in \u001b[0;36mmount\u001b[0;34m(mountpoint, force_remount, timeout_ms)\u001b[0m\n\u001b[1;32m    103\u001b[0m       \u001b[0mforce_remount\u001b[0m\u001b[0;34m=\u001b[0m\u001b[0mforce_remount\u001b[0m\u001b[0;34m,\u001b[0m\u001b[0;34m\u001b[0m\u001b[0;34m\u001b[0m\u001b[0m\n\u001b[1;32m    104\u001b[0m       \u001b[0mtimeout_ms\u001b[0m\u001b[0;34m=\u001b[0m\u001b[0mtimeout_ms\u001b[0m\u001b[0;34m,\u001b[0m\u001b[0;34m\u001b[0m\u001b[0;34m\u001b[0m\u001b[0m\n\u001b[0;32m--> 105\u001b[0;31m       ephemeral=True)\n\u001b[0m\u001b[1;32m    106\u001b[0m \u001b[0;34m\u001b[0m\u001b[0m\n\u001b[1;32m    107\u001b[0m \u001b[0;34m\u001b[0m\u001b[0m\n",
            "\u001b[0;32m/usr/local/lib/python3.7/dist-packages/google/colab/drive.py\u001b[0m in \u001b[0;36m_mount\u001b[0;34m(mountpoint, force_remount, timeout_ms, ephemeral)\u001b[0m\n\u001b[1;32m    118\u001b[0m   \u001b[0;32mif\u001b[0m \u001b[0mephemeral\u001b[0m\u001b[0;34m:\u001b[0m\u001b[0;34m\u001b[0m\u001b[0;34m\u001b[0m\u001b[0m\n\u001b[1;32m    119\u001b[0m     _message.blocking_request(\n\u001b[0;32m--> 120\u001b[0;31m         'request_auth', request={'authType': 'dfs_ephemeral'}, timeout_sec=None)\n\u001b[0m\u001b[1;32m    121\u001b[0m \u001b[0;34m\u001b[0m\u001b[0m\n\u001b[1;32m    122\u001b[0m   \u001b[0mmountpoint\u001b[0m \u001b[0;34m=\u001b[0m \u001b[0m_os\u001b[0m\u001b[0;34m.\u001b[0m\u001b[0mpath\u001b[0m\u001b[0;34m.\u001b[0m\u001b[0mexpanduser\u001b[0m\u001b[0;34m(\u001b[0m\u001b[0mmountpoint\u001b[0m\u001b[0;34m)\u001b[0m\u001b[0;34m\u001b[0m\u001b[0;34m\u001b[0m\u001b[0m\n",
            "\u001b[0;32m/usr/local/lib/python3.7/dist-packages/google/colab/_message.py\u001b[0m in \u001b[0;36mblocking_request\u001b[0;34m(request_type, request, timeout_sec, parent)\u001b[0m\n\u001b[1;32m    169\u001b[0m   request_id = send_request(\n\u001b[1;32m    170\u001b[0m       request_type, request, parent=parent, expect_reply=True)\n\u001b[0;32m--> 171\u001b[0;31m   \u001b[0;32mreturn\u001b[0m \u001b[0mread_reply_from_input\u001b[0m\u001b[0;34m(\u001b[0m\u001b[0mrequest_id\u001b[0m\u001b[0;34m,\u001b[0m \u001b[0mtimeout_sec\u001b[0m\u001b[0;34m)\u001b[0m\u001b[0;34m\u001b[0m\u001b[0;34m\u001b[0m\u001b[0m\n\u001b[0m",
            "\u001b[0;32m/usr/local/lib/python3.7/dist-packages/google/colab/_message.py\u001b[0m in \u001b[0;36mread_reply_from_input\u001b[0;34m(message_id, timeout_sec)\u001b[0m\n\u001b[1;32m    100\u001b[0m         reply.get('colab_msg_id') == message_id):\n\u001b[1;32m    101\u001b[0m       \u001b[0;32mif\u001b[0m \u001b[0;34m'error'\u001b[0m \u001b[0;32min\u001b[0m \u001b[0mreply\u001b[0m\u001b[0;34m:\u001b[0m\u001b[0;34m\u001b[0m\u001b[0;34m\u001b[0m\u001b[0m\n\u001b[0;32m--> 102\u001b[0;31m         \u001b[0;32mraise\u001b[0m \u001b[0mMessageError\u001b[0m\u001b[0;34m(\u001b[0m\u001b[0mreply\u001b[0m\u001b[0;34m[\u001b[0m\u001b[0;34m'error'\u001b[0m\u001b[0;34m]\u001b[0m\u001b[0;34m)\u001b[0m\u001b[0;34m\u001b[0m\u001b[0;34m\u001b[0m\u001b[0m\n\u001b[0m\u001b[1;32m    103\u001b[0m       \u001b[0;32mreturn\u001b[0m \u001b[0mreply\u001b[0m\u001b[0;34m.\u001b[0m\u001b[0mget\u001b[0m\u001b[0;34m(\u001b[0m\u001b[0;34m'data'\u001b[0m\u001b[0;34m,\u001b[0m \u001b[0;32mNone\u001b[0m\u001b[0;34m)\u001b[0m\u001b[0;34m\u001b[0m\u001b[0;34m\u001b[0m\u001b[0m\n\u001b[1;32m    104\u001b[0m \u001b[0;34m\u001b[0m\u001b[0m\n",
            "\u001b[0;31mMessageError\u001b[0m: Error: credential propagation was unsuccessful"
          ]
        }
      ]
    },
    {
      "cell_type": "code",
      "source": [
        "import pandas as pd\n",
        "supp_df = pd.DataFrame(pd.read_excel('/content/drive/MyDrive/RESEARCH/2019_Energy_Reports_Ungrouped_Collated.xlsx'))"
      ],
      "metadata": {
        "id": "B_xyeOmeoCQp"
      },
      "execution_count": null,
      "outputs": []
    },
    {
      "cell_type": "code",
      "source": [
        "supply = ['Coal Supply', 'Oil Supply','Natural Gas Supply', 'Bio Supply ', 'Nuke Supply','Electric & Thermal Supply']\n",
        "transformation = ['Coal Transformation', 'Oil Transformation','Natural Gas Transformation', 'Bio Transformation ', 'Nuke Transformation','Electric & Thermal Transformation']\n",
        "consumption = ['Coal Consumption', 'Oil Consumption','Natural Gas Consumption', 'Bio Consumption ', 'Nuke Consumption','Electric & Thermal Consumption']\n",
        "imports = ['Coal Import', 'Oil Import','Natural Gas Import', 'Bio Import ', 'Nuke Import','Electric & Thermal Import']\n",
        "exports = ['Coal Export', 'Oil Export','Natural Gas Export', 'Bio Export ', 'Nuke Export','Electric & Thermal Export']\n",
        "indice = ['Year', 'Continent', 'Region']"
      ],
      "metadata": {
        "id": "xW7IyvVnosLJ"
      },
      "execution_count": null,
      "outputs": []
    },
    {
      "cell_type": "code",
      "source": [
        "import matplotlib.pyplot as plt\n",
        "\n"
      ],
      "metadata": {
        "id": "ayTBpB9GqEan"
      },
      "execution_count": null,
      "outputs": []
    }
  ]
}