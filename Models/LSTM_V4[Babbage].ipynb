{
  "cells": [
    {
      "cell_type": "markdown",
      "metadata": {
        "id": "1tVqv6xQCRBe"
      },
      "source": [
        "#1. Import"
      ]
    },
    {
      "cell_type": "code",
      "source": [
        "!pip install yahoo_fin\n",
        "!pip install matplotlib"
      ],
      "metadata": {
        "colab": {
          "base_uri": "https://localhost:8080/"
        },
        "id": "fE0Xygi_vA0z",
        "outputId": "c8fdf99d-9b9a-434b-d2d7-01f8dc5d5221"
      },
      "execution_count": null,
      "outputs": [
        {
          "output_type": "stream",
          "name": "stdout",
          "text": [
            "Looking in indexes: https://pypi.org/simple, https://us-python.pkg.dev/colab-wheels/public/simple/\n",
            "Collecting yahoo_fin\n",
            "  Downloading yahoo_fin-0.8.9.1-py3-none-any.whl (10 kB)\n",
            "Requirement already satisfied: pandas in /usr/local/lib/python3.7/dist-packages (from yahoo_fin) (1.3.5)\n",
            "Requirement already satisfied: requests in /usr/local/lib/python3.7/dist-packages (from yahoo_fin) (2.23.0)\n",
            "Collecting feedparser\n",
            "  Downloading feedparser-6.0.10-py3-none-any.whl (81 kB)\n",
            "\u001b[K     |████████████████████████████████| 81 kB 3.9 MB/s \n",
            "\u001b[?25hCollecting requests-html\n",
            "  Downloading requests_html-0.10.0-py3-none-any.whl (13 kB)\n",
            "Collecting sgmllib3k\n",
            "  Downloading sgmllib3k-1.0.0.tar.gz (5.8 kB)\n",
            "Requirement already satisfied: python-dateutil>=2.7.3 in /usr/local/lib/python3.7/dist-packages (from pandas->yahoo_fin) (2.8.2)\n",
            "Requirement already satisfied: pytz>=2017.3 in /usr/local/lib/python3.7/dist-packages (from pandas->yahoo_fin) (2022.1)\n",
            "Requirement already satisfied: numpy>=1.17.3 in /usr/local/lib/python3.7/dist-packages (from pandas->yahoo_fin) (1.21.6)\n",
            "Requirement already satisfied: six>=1.5 in /usr/local/lib/python3.7/dist-packages (from python-dateutil>=2.7.3->pandas->yahoo_fin) (1.15.0)\n",
            "Requirement already satisfied: idna<3,>=2.5 in /usr/local/lib/python3.7/dist-packages (from requests->yahoo_fin) (2.10)\n",
            "Requirement already satisfied: certifi>=2017.4.17 in /usr/local/lib/python3.7/dist-packages (from requests->yahoo_fin) (2022.6.15)\n",
            "Requirement already satisfied: urllib3!=1.25.0,!=1.25.1,<1.26,>=1.21.1 in /usr/local/lib/python3.7/dist-packages (from requests->yahoo_fin) (1.24.3)\n",
            "Requirement already satisfied: chardet<4,>=3.0.2 in /usr/local/lib/python3.7/dist-packages (from requests->yahoo_fin) (3.0.4)\n",
            "Requirement already satisfied: bs4 in /usr/local/lib/python3.7/dist-packages (from requests-html->yahoo_fin) (0.0.1)\n",
            "Collecting pyppeteer>=0.0.14\n",
            "  Downloading pyppeteer-1.0.2-py3-none-any.whl (83 kB)\n",
            "\u001b[K     |████████████████████████████████| 83 kB 1.7 MB/s \n",
            "\u001b[?25hCollecting parse\n",
            "  Downloading parse-1.19.0.tar.gz (30 kB)\n",
            "Collecting w3lib\n",
            "  Downloading w3lib-2.0.1-py3-none-any.whl (20 kB)\n",
            "Collecting fake-useragent\n",
            "  Downloading fake-useragent-0.1.11.tar.gz (13 kB)\n",
            "Collecting pyquery\n",
            "  Downloading pyquery-1.4.3-py3-none-any.whl (22 kB)\n",
            "Requirement already satisfied: appdirs<2.0.0,>=1.4.3 in /usr/local/lib/python3.7/dist-packages (from pyppeteer>=0.0.14->requests-html->yahoo_fin) (1.4.4)\n",
            "Collecting urllib3!=1.25.0,!=1.25.1,<1.26,>=1.21.1\n",
            "  Downloading urllib3-1.25.11-py2.py3-none-any.whl (127 kB)\n",
            "\u001b[K     |████████████████████████████████| 127 kB 34.9 MB/s \n",
            "\u001b[?25hRequirement already satisfied: tqdm<5.0.0,>=4.42.1 in /usr/local/lib/python3.7/dist-packages (from pyppeteer>=0.0.14->requests-html->yahoo_fin) (4.64.0)\n",
            "Requirement already satisfied: importlib-metadata>=1.4 in /usr/local/lib/python3.7/dist-packages (from pyppeteer>=0.0.14->requests-html->yahoo_fin) (4.12.0)\n",
            "Collecting websockets<11.0,>=10.0\n",
            "  Downloading websockets-10.3-cp37-cp37m-manylinux_2_5_x86_64.manylinux1_x86_64.manylinux_2_12_x86_64.manylinux2010_x86_64.whl (112 kB)\n",
            "\u001b[K     |████████████████████████████████| 112 kB 54.5 MB/s \n",
            "\u001b[?25hCollecting pyee<9.0.0,>=8.1.0\n",
            "  Downloading pyee-8.2.2-py2.py3-none-any.whl (12 kB)\n",
            "Requirement already satisfied: zipp>=0.5 in /usr/local/lib/python3.7/dist-packages (from importlib-metadata>=1.4->pyppeteer>=0.0.14->requests-html->yahoo_fin) (3.8.1)\n",
            "Requirement already satisfied: typing-extensions>=3.6.4 in /usr/local/lib/python3.7/dist-packages (from importlib-metadata>=1.4->pyppeteer>=0.0.14->requests-html->yahoo_fin) (4.1.1)\n",
            "Requirement already satisfied: beautifulsoup4 in /usr/local/lib/python3.7/dist-packages (from bs4->requests-html->yahoo_fin) (4.6.3)\n",
            "Collecting cssselect>0.7.9\n",
            "  Downloading cssselect-1.1.0-py2.py3-none-any.whl (16 kB)\n",
            "Requirement already satisfied: lxml>=2.1 in /usr/local/lib/python3.7/dist-packages (from pyquery->requests-html->yahoo_fin) (4.9.1)\n",
            "Building wheels for collected packages: fake-useragent, parse, sgmllib3k\n",
            "  Building wheel for fake-useragent (setup.py) ... \u001b[?25l\u001b[?25hdone\n",
            "  Created wheel for fake-useragent: filename=fake_useragent-0.1.11-py3-none-any.whl size=13502 sha256=9c0d949c30b2c1fc9cb44ab48b04f286de8ca18ced86f1286dfe48a0355a3b9c\n",
            "  Stored in directory: /root/.cache/pip/wheels/ed/f7/62/50ab6c9a0b5567267ab76a9daa9d06315704209b2c5d032031\n",
            "  Building wheel for parse (setup.py) ... \u001b[?25l\u001b[?25hdone\n",
            "  Created wheel for parse: filename=parse-1.19.0-py3-none-any.whl size=24591 sha256=ecd9edc8bbf9e5989ee608a1a1febf2f467c4d2c8c01261cdaea12b82c5908cb\n",
            "  Stored in directory: /root/.cache/pip/wheels/9c/aa/cc/f2228050ccb40f22144b073f15a2c84f11204f29fc0dce028e\n",
            "  Building wheel for sgmllib3k (setup.py) ... \u001b[?25l\u001b[?25hdone\n",
            "  Created wheel for sgmllib3k: filename=sgmllib3k-1.0.0-py3-none-any.whl size=6066 sha256=17b128162cff5ef909fae47127711caec57db3899e854f08e25b0a6f26a9f0c8\n",
            "  Stored in directory: /root/.cache/pip/wheels/73/ad/a4/0dff4a6ef231fc0dfa12ffbac2a36cebfdddfe059f50e019aa\n",
            "Successfully built fake-useragent parse sgmllib3k\n",
            "Installing collected packages: websockets, urllib3, pyee, cssselect, w3lib, sgmllib3k, pyquery, pyppeteer, parse, fake-useragent, requests-html, feedparser, yahoo-fin\n",
            "  Attempting uninstall: urllib3\n",
            "    Found existing installation: urllib3 1.24.3\n",
            "    Uninstalling urllib3-1.24.3:\n",
            "      Successfully uninstalled urllib3-1.24.3\n",
            "Successfully installed cssselect-1.1.0 fake-useragent-0.1.11 feedparser-6.0.10 parse-1.19.0 pyee-8.2.2 pyppeteer-1.0.2 pyquery-1.4.3 requests-html-0.10.0 sgmllib3k-1.0.0 urllib3-1.25.11 w3lib-2.0.1 websockets-10.3 yahoo-fin-0.8.9.1\n",
            "Looking in indexes: https://pypi.org/simple, https://us-python.pkg.dev/colab-wheels/public/simple/\n",
            "Requirement already satisfied: matplotlib in /usr/local/lib/python3.7/dist-packages (3.2.2)\n",
            "Requirement already satisfied: pyparsing!=2.0.4,!=2.1.2,!=2.1.6,>=2.0.1 in /usr/local/lib/python3.7/dist-packages (from matplotlib) (3.0.9)\n",
            "Requirement already satisfied: numpy>=1.11 in /usr/local/lib/python3.7/dist-packages (from matplotlib) (1.21.6)\n",
            "Requirement already satisfied: cycler>=0.10 in /usr/local/lib/python3.7/dist-packages (from matplotlib) (0.11.0)\n",
            "Requirement already satisfied: python-dateutil>=2.1 in /usr/local/lib/python3.7/dist-packages (from matplotlib) (2.8.2)\n",
            "Requirement already satisfied: kiwisolver>=1.0.1 in /usr/local/lib/python3.7/dist-packages (from matplotlib) (1.4.4)\n",
            "Requirement already satisfied: typing-extensions in /usr/local/lib/python3.7/dist-packages (from kiwisolver>=1.0.1->matplotlib) (4.1.1)\n",
            "Requirement already satisfied: six>=1.5 in /usr/local/lib/python3.7/dist-packages (from python-dateutil>=2.1->matplotlib) (1.15.0)\n"
          ]
        }
      ]
    },
    {
      "cell_type": "code",
      "execution_count": null,
      "metadata": {
        "id": "108bTPBmBrL1"
      },
      "outputs": [],
      "source": [
        "import tensorflow as tf\n",
        "import pandas as pd\n",
        "from yahoo_fin import stock_info as si\n",
        "import matplotlib.pyplot as plt\n",
        "import numpy as np\n",
        "from statsmodels.graphics.tsaplots import plot_acf\n",
        "import math\n",
        "from statsmodels.tsa.seasonal import seasonal_decompose\n",
        "import jinja2"
      ]
    },
    {
      "cell_type": "code",
      "source": [
        "from google.colab import drive\n",
        "drive.mount('/content/drive')"
      ],
      "metadata": {
        "colab": {
          "base_uri": "https://localhost:8080/"
        },
        "id": "Vs_EraomH0OO",
        "outputId": "e42f6b7d-89d9-4868-9fcd-2c367f977e3d"
      },
      "execution_count": null,
      "outputs": [
        {
          "output_type": "stream",
          "name": "stdout",
          "text": [
            "Drive already mounted at /content/drive; to attempt to forcibly remount, call drive.mount(\"/content/drive\", force_remount=True).\n"
          ]
        }
      ]
    },
    {
      "cell_type": "markdown",
      "metadata": {
        "id": "eWbWy13GCVAJ"
      },
      "source": [
        "#2. Collect"
      ]
    },
    {
      "cell_type": "code",
      "execution_count": null,
      "metadata": {
        "id": "lfy2O8-eCYRG"
      },
      "outputs": [],
      "source": [
        "df = {}\n",
        "df = si.get_data('NG=F')\n",
        "df = pd.DataFrame(df)\n",
        "df = df [['open', 'close', 'high', 'low']].round(3)\n",
        "resampled_df = df.resample('1D').mean()\n",
        "resampled_df.interpolate(method='linear', axis = 0, inplace= True, limit_direction='forward')\n",
        "plt.show()"
      ]
    },
    {
      "cell_type": "markdown",
      "metadata": {
        "id": "pPH79Y7sDGxk"
      },
      "source": [
        "#3. Preliminary Analysis"
      ]
    },
    {
      "cell_type": "code",
      "execution_count": null,
      "metadata": {
        "colab": {
          "base_uri": "https://localhost:8080/",
          "height": 175
        },
        "id": "wK1Cy8WvDLNp",
        "outputId": "42453e54-289d-4c4b-9630-a92048578b19"
      },
      "outputs": [
        {
          "output_type": "execute_result",
          "data": {
            "text/plain": [
              "           open     close      high       low\n",
              "open   1.000000  0.997650  0.998691  0.998891\n",
              "close  0.997650  1.000000  0.998852  0.998904\n",
              "high   0.998691  0.998852  1.000000  0.998250\n",
              "low    0.998891  0.998904  0.998250  1.000000"
            ],
            "text/html": [
              "\n",
              "  <div id=\"df-19a348f7-43f4-4dcc-ad5d-728e758dc1a6\">\n",
              "    <div class=\"colab-df-container\">\n",
              "      <div>\n",
              "<style scoped>\n",
              "    .dataframe tbody tr th:only-of-type {\n",
              "        vertical-align: middle;\n",
              "    }\n",
              "\n",
              "    .dataframe tbody tr th {\n",
              "        vertical-align: top;\n",
              "    }\n",
              "\n",
              "    .dataframe thead th {\n",
              "        text-align: right;\n",
              "    }\n",
              "</style>\n",
              "<table border=\"1\" class=\"dataframe\">\n",
              "  <thead>\n",
              "    <tr style=\"text-align: right;\">\n",
              "      <th></th>\n",
              "      <th>open</th>\n",
              "      <th>close</th>\n",
              "      <th>high</th>\n",
              "      <th>low</th>\n",
              "    </tr>\n",
              "  </thead>\n",
              "  <tbody>\n",
              "    <tr>\n",
              "      <th>open</th>\n",
              "      <td>1.000000</td>\n",
              "      <td>0.997650</td>\n",
              "      <td>0.998691</td>\n",
              "      <td>0.998891</td>\n",
              "    </tr>\n",
              "    <tr>\n",
              "      <th>close</th>\n",
              "      <td>0.997650</td>\n",
              "      <td>1.000000</td>\n",
              "      <td>0.998852</td>\n",
              "      <td>0.998904</td>\n",
              "    </tr>\n",
              "    <tr>\n",
              "      <th>high</th>\n",
              "      <td>0.998691</td>\n",
              "      <td>0.998852</td>\n",
              "      <td>1.000000</td>\n",
              "      <td>0.998250</td>\n",
              "    </tr>\n",
              "    <tr>\n",
              "      <th>low</th>\n",
              "      <td>0.998891</td>\n",
              "      <td>0.998904</td>\n",
              "      <td>0.998250</td>\n",
              "      <td>1.000000</td>\n",
              "    </tr>\n",
              "  </tbody>\n",
              "</table>\n",
              "</div>\n",
              "      <button class=\"colab-df-convert\" onclick=\"convertToInteractive('df-19a348f7-43f4-4dcc-ad5d-728e758dc1a6')\"\n",
              "              title=\"Convert this dataframe to an interactive table.\"\n",
              "              style=\"display:none;\">\n",
              "        \n",
              "  <svg xmlns=\"http://www.w3.org/2000/svg\" height=\"24px\"viewBox=\"0 0 24 24\"\n",
              "       width=\"24px\">\n",
              "    <path d=\"M0 0h24v24H0V0z\" fill=\"none\"/>\n",
              "    <path d=\"M18.56 5.44l.94 2.06.94-2.06 2.06-.94-2.06-.94-.94-2.06-.94 2.06-2.06.94zm-11 1L8.5 8.5l.94-2.06 2.06-.94-2.06-.94L8.5 2.5l-.94 2.06-2.06.94zm10 10l.94 2.06.94-2.06 2.06-.94-2.06-.94-.94-2.06-.94 2.06-2.06.94z\"/><path d=\"M17.41 7.96l-1.37-1.37c-.4-.4-.92-.59-1.43-.59-.52 0-1.04.2-1.43.59L10.3 9.45l-7.72 7.72c-.78.78-.78 2.05 0 2.83L4 21.41c.39.39.9.59 1.41.59.51 0 1.02-.2 1.41-.59l7.78-7.78 2.81-2.81c.8-.78.8-2.07 0-2.86zM5.41 20L4 18.59l7.72-7.72 1.47 1.35L5.41 20z\"/>\n",
              "  </svg>\n",
              "      </button>\n",
              "      \n",
              "  <style>\n",
              "    .colab-df-container {\n",
              "      display:flex;\n",
              "      flex-wrap:wrap;\n",
              "      gap: 12px;\n",
              "    }\n",
              "\n",
              "    .colab-df-convert {\n",
              "      background-color: #E8F0FE;\n",
              "      border: none;\n",
              "      border-radius: 50%;\n",
              "      cursor: pointer;\n",
              "      display: none;\n",
              "      fill: #1967D2;\n",
              "      height: 32px;\n",
              "      padding: 0 0 0 0;\n",
              "      width: 32px;\n",
              "    }\n",
              "\n",
              "    .colab-df-convert:hover {\n",
              "      background-color: #E2EBFA;\n",
              "      box-shadow: 0px 1px 2px rgba(60, 64, 67, 0.3), 0px 1px 3px 1px rgba(60, 64, 67, 0.15);\n",
              "      fill: #174EA6;\n",
              "    }\n",
              "\n",
              "    [theme=dark] .colab-df-convert {\n",
              "      background-color: #3B4455;\n",
              "      fill: #D2E3FC;\n",
              "    }\n",
              "\n",
              "    [theme=dark] .colab-df-convert:hover {\n",
              "      background-color: #434B5C;\n",
              "      box-shadow: 0px 1px 3px 1px rgba(0, 0, 0, 0.15);\n",
              "      filter: drop-shadow(0px 1px 2px rgba(0, 0, 0, 0.3));\n",
              "      fill: #FFFFFF;\n",
              "    }\n",
              "  </style>\n",
              "\n",
              "      <script>\n",
              "        const buttonEl =\n",
              "          document.querySelector('#df-19a348f7-43f4-4dcc-ad5d-728e758dc1a6 button.colab-df-convert');\n",
              "        buttonEl.style.display =\n",
              "          google.colab.kernel.accessAllowed ? 'block' : 'none';\n",
              "\n",
              "        async function convertToInteractive(key) {\n",
              "          const element = document.querySelector('#df-19a348f7-43f4-4dcc-ad5d-728e758dc1a6');\n",
              "          const dataTable =\n",
              "            await google.colab.kernel.invokeFunction('convertToInteractive',\n",
              "                                                     [key], {});\n",
              "          if (!dataTable) return;\n",
              "\n",
              "          const docLinkHtml = 'Like what you see? Visit the ' +\n",
              "            '<a target=\"_blank\" href=https://colab.research.google.com/notebooks/data_table.ipynb>data table notebook</a>'\n",
              "            + ' to learn more about interactive tables.';\n",
              "          element.innerHTML = '';\n",
              "          dataTable['output_type'] = 'display_data';\n",
              "          await google.colab.output.renderOutput(dataTable, element);\n",
              "          const docLink = document.createElement('div');\n",
              "          docLink.innerHTML = docLinkHtml;\n",
              "          element.appendChild(docLink);\n",
              "        }\n",
              "      </script>\n",
              "    </div>\n",
              "  </div>\n",
              "  "
            ]
          },
          "metadata": {},
          "execution_count": 79
        }
      ],
      "source": [
        "resampled_df.corr()"
      ]
    },
    {
      "cell_type": "code",
      "execution_count": null,
      "metadata": {
        "colab": {
          "base_uri": "https://localhost:8080/",
          "height": 281
        },
        "id": "vbe2cbF7DQ0B",
        "outputId": "48cd47eb-79bb-4614-82b6-3864fc4afdec"
      },
      "outputs": [
        {
          "output_type": "display_data",
          "data": {
            "text/plain": [
              "<Figure size 432x288 with 1 Axes>"
            ],
            "image/png": "[encoded data removed]"
          },
          "metadata": {
            "needs_background": "light"
          }
        }
      ],
      "source": [
        "stripped_resampled_df = resampled_df['close']\n",
        "plot_acf(stripped_resampled_df)\n",
        "plt.show()"
      ]
    },
    {
      "cell_type": "code",
      "execution_count": null,
      "metadata": {
        "colab": {
          "base_uri": "https://localhost:8080/",
          "height": 423
        },
        "id": "qNDphlInG9v3",
        "outputId": "67e21e0e-799a-40c9-9927-0f81c9df8f6a"
      },
      "outputs": [
        {
          "output_type": "execute_result",
          "data": {
            "text/plain": [
              "            close     ma180      ma60      ma30   std_min    std_max  gradient\n",
              "2001-08-24  2.706  4.160425  3.130125  3.106800  0.837314   4.574686 -0.079500\n",
              "2001-08-25  2.652  4.147047  3.117708  3.090933  0.777572   4.526428 -0.054000\n",
              "2001-08-26  2.598  4.132092  3.107508  3.071967  0.717634   4.478366 -0.054000\n",
              "2001-08-27  2.544  4.117086  3.095325  3.049133  0.657446   4.430554 -0.089000\n",
              "2001-08-28  2.420  4.101725  3.084058  3.020100  0.526455   4.313545 -0.102000\n",
              "...           ...       ...       ...       ...       ...        ...       ...\n",
              "2022-08-08  7.589  6.686700  7.214692  7.755211  5.973409   9.204591  0.042833\n",
              "2022-08-09  7.833  6.708222  7.197742  7.806467  6.213394   9.452606  0.306500\n",
              "2022-08-10  8.202  6.731894  7.188281  7.865667  6.576738   9.827262  0.520500\n",
              "2022-08-11  8.874  6.758830  7.191358  7.956033  7.239651  10.508349  0.283000\n",
              "2022-08-12  8.768  6.784706  7.194008  8.025333  7.125485  10.410515 -0.106000\n",
              "\n",
              "[7659 rows x 7 columns]"
            ],
            "text/html": [
              "\n",
              "  <div id=\"df-678d4541-7b6d-4269-93e5-a2c1f02985af\">\n",
              "    <div class=\"colab-df-container\">\n",
              "      <div>\n",
              "<style scoped>\n",
              "    .dataframe tbody tr th:only-of-type {\n",
              "        vertical-align: middle;\n",
              "    }\n",
              "\n",
              "    .dataframe tbody tr th {\n",
              "        vertical-align: top;\n",
              "    }\n",
              "\n",
              "    .dataframe thead th {\n",
              "        text-align: right;\n",
              "    }\n",
              "</style>\n",
              "<table border=\"1\" class=\"dataframe\">\n",
              "  <thead>\n",
              "    <tr style=\"text-align: right;\">\n",
              "      <th></th>\n",
              "      <th>close</th>\n",
              "      <th>ma180</th>\n",
              "      <th>ma60</th>\n",
              "      <th>ma30</th>\n",
              "      <th>std_min</th>\n",
              "      <th>std_max</th>\n",
              "      <th>gradient</th>\n",
              "    </tr>\n",
              "  </thead>\n",
              "  <tbody>\n",
              "    <tr>\n",
              "      <th>2001-08-24</th>\n",
              "      <td>2.706</td>\n",
              "      <td>4.160425</td>\n",
              "      <td>3.130125</td>\n",
              "      <td>3.106800</td>\n",
              "      <td>0.837314</td>\n",
              "      <td>4.574686</td>\n",
              "      <td>-0.079500</td>\n",
              "    </tr>\n",
              "    <tr>\n",
              "      <th>2001-08-25</th>\n",
              "      <td>2.652</td>\n",
              "      <td>4.147047</td>\n",
              "      <td>3.117708</td>\n",
              "      <td>3.090933</td>\n",
              "      <td>0.777572</td>\n",
              "      <td>4.526428</td>\n",
              "      <td>-0.054000</td>\n",
              "    </tr>\n",
              "    <tr>\n",
              "      <th>2001-08-26</th>\n",
              "      <td>2.598</td>\n",
              "      <td>4.132092</td>\n",
              "      <td>3.107508</td>\n",
              "      <td>3.071967</td>\n",
              "      <td>0.717634</td>\n",
              "      <td>4.478366</td>\n",
              "      <td>-0.054000</td>\n",
              "    </tr>\n",
              "    <tr>\n",
              "      <th>2001-08-27</th>\n",
              "      <td>2.544</td>\n",
              "      <td>4.117086</td>\n",
              "      <td>3.095325</td>\n",
              "      <td>3.049133</td>\n",
              "      <td>0.657446</td>\n",
              "      <td>4.430554</td>\n",
              "      <td>-0.089000</td>\n",
              "    </tr>\n",
              "    <tr>\n",
              "      <th>2001-08-28</th>\n",
              "      <td>2.420</td>\n",
              "      <td>4.101725</td>\n",
              "      <td>3.084058</td>\n",
              "      <td>3.020100</td>\n",
              "      <td>0.526455</td>\n",
              "      <td>4.313545</td>\n",
              "      <td>-0.102000</td>\n",
              "    </tr>\n",
              "    <tr>\n",
              "      <th>...</th>\n",
              "      <td>...</td>\n",
              "      <td>...</td>\n",
              "      <td>...</td>\n",
              "      <td>...</td>\n",
              "      <td>...</td>\n",
              "      <td>...</td>\n",
              "      <td>...</td>\n",
              "    </tr>\n",
              "    <tr>\n",
              "      <th>2022-08-08</th>\n",
              "      <td>7.589</td>\n",
              "      <td>6.686700</td>\n",
              "      <td>7.214692</td>\n",
              "      <td>7.755211</td>\n",
              "      <td>5.973409</td>\n",
              "      <td>9.204591</td>\n",
              "      <td>0.042833</td>\n",
              "    </tr>\n",
              "    <tr>\n",
              "      <th>2022-08-09</th>\n",
              "      <td>7.833</td>\n",
              "      <td>6.708222</td>\n",
              "      <td>7.197742</td>\n",
              "      <td>7.806467</td>\n",
              "      <td>6.213394</td>\n",
              "      <td>9.452606</td>\n",
              "      <td>0.306500</td>\n",
              "    </tr>\n",
              "    <tr>\n",
              "      <th>2022-08-10</th>\n",
              "      <td>8.202</td>\n",
              "      <td>6.731894</td>\n",
              "      <td>7.188281</td>\n",
              "      <td>7.865667</td>\n",
              "      <td>6.576738</td>\n",
              "      <td>9.827262</td>\n",
              "      <td>0.520500</td>\n",
              "    </tr>\n",
              "    <tr>\n",
              "      <th>2022-08-11</th>\n",
              "      <td>8.874</td>\n",
              "      <td>6.758830</td>\n",
              "      <td>7.191358</td>\n",
              "      <td>7.956033</td>\n",
              "      <td>7.239651</td>\n",
              "      <td>10.508349</td>\n",
              "      <td>0.283000</td>\n",
              "    </tr>\n",
              "    <tr>\n",
              "      <th>2022-08-12</th>\n",
              "      <td>8.768</td>\n",
              "      <td>6.784706</td>\n",
              "      <td>7.194008</td>\n",
              "      <td>8.025333</td>\n",
              "      <td>7.125485</td>\n",
              "      <td>10.410515</td>\n",
              "      <td>-0.106000</td>\n",
              "    </tr>\n",
              "  </tbody>\n",
              "</table>\n",
              "<p>7659 rows × 7 columns</p>\n",
              "</div>\n",
              "      <button class=\"colab-df-convert\" onclick=\"convertToInteractive('df-678d4541-7b6d-4269-93e5-a2c1f02985af')\"\n",
              "              title=\"Convert this dataframe to an interactive table.\"\n",
              "              style=\"display:none;\">\n",
              "        \n",
              "  <svg xmlns=\"http://www.w3.org/2000/svg\" height=\"24px\"viewBox=\"0 0 24 24\"\n",
              "       width=\"24px\">\n",
              "    <path d=\"M0 0h24v24H0V0z\" fill=\"none\"/>\n",
              "    <path d=\"M18.56 5.44l.94 2.06.94-2.06 2.06-.94-2.06-.94-.94-2.06-.94 2.06-2.06.94zm-11 1L8.5 8.5l.94-2.06 2.06-.94-2.06-.94L8.5 2.5l-.94 2.06-2.06.94zm10 10l.94 2.06.94-2.06 2.06-.94-2.06-.94-.94-2.06-.94 2.06-2.06.94z\"/><path d=\"M17.41 7.96l-1.37-1.37c-.4-.4-.92-.59-1.43-.59-.52 0-1.04.2-1.43.59L10.3 9.45l-7.72 7.72c-.78.78-.78 2.05 0 2.83L4 21.41c.39.39.9.59 1.41.59.51 0 1.02-.2 1.41-.59l7.78-7.78 2.81-2.81c.8-.78.8-2.07 0-2.86zM5.41 20L4 18.59l7.72-7.72 1.47 1.35L5.41 20z\"/>\n",
              "  </svg>\n",
              "      </button>\n",
              "      \n",
              "  <style>\n",
              "    .colab-df-container {\n",
              "      display:flex;\n",
              "      flex-wrap:wrap;\n",
              "      gap: 12px;\n",
              "    }\n",
              "\n",
              "    .colab-df-convert {\n",
              "      background-color: #E8F0FE;\n",
              "      border: none;\n",
              "      border-radius: 50%;\n",
              "      cursor: pointer;\n",
              "      display: none;\n",
              "      fill: #1967D2;\n",
              "      height: 32px;\n",
              "      padding: 0 0 0 0;\n",
              "      width: 32px;\n",
              "    }\n",
              "\n",
              "    .colab-df-convert:hover {\n",
              "      background-color: #E2EBFA;\n",
              "      box-shadow: 0px 1px 2px rgba(60, 64, 67, 0.3), 0px 1px 3px 1px rgba(60, 64, 67, 0.15);\n",
              "      fill: #174EA6;\n",
              "    }\n",
              "\n",
              "    [theme=dark] .colab-df-convert {\n",
              "      background-color: #3B4455;\n",
              "      fill: #D2E3FC;\n",
              "    }\n",
              "\n",
              "    [theme=dark] .colab-df-convert:hover {\n",
              "      background-color: #434B5C;\n",
              "      box-shadow: 0px 1px 3px 1px rgba(0, 0, 0, 0.15);\n",
              "      filter: drop-shadow(0px 1px 2px rgba(0, 0, 0, 0.3));\n",
              "      fill: #FFFFFF;\n",
              "    }\n",
              "  </style>\n",
              "\n",
              "      <script>\n",
              "        const buttonEl =\n",
              "          document.querySelector('#df-678d4541-7b6d-4269-93e5-a2c1f02985af button.colab-df-convert');\n",
              "        buttonEl.style.display =\n",
              "          google.colab.kernel.accessAllowed ? 'block' : 'none';\n",
              "\n",
              "        async function convertToInteractive(key) {\n",
              "          const element = document.querySelector('#df-678d4541-7b6d-4269-93e5-a2c1f02985af');\n",
              "          const dataTable =\n",
              "            await google.colab.kernel.invokeFunction('convertToInteractive',\n",
              "                                                     [key], {});\n",
              "          if (!dataTable) return;\n",
              "\n",
              "          const docLinkHtml = 'Like what you see? Visit the ' +\n",
              "            '<a target=\"_blank\" href=https://colab.research.google.com/notebooks/data_table.ipynb>data table notebook</a>'\n",
              "            + ' to learn more about interactive tables.';\n",
              "          element.innerHTML = '';\n",
              "          dataTable['output_type'] = 'display_data';\n",
              "          await google.colab.output.renderOutput(dataTable, element);\n",
              "          const docLink = document.createElement('div');\n",
              "          docLink.innerHTML = docLinkHtml;\n",
              "          element.appendChild(docLink);\n",
              "        }\n",
              "      </script>\n",
              "    </div>\n",
              "  </div>\n",
              "  "
            ]
          },
          "metadata": {},
          "execution_count": 81
        }
      ],
      "source": [
        "ma_resampled_df = pd.DataFrame(resampled_df['close'])\n",
        "ma_resampled_df['ma180'] = resampled_df['close'].rolling(180).mean()\n",
        "ma_resampled_df['ma60'] = resampled_df['close'].rolling(60).mean()\n",
        "ma_resampled_df['ma30'] = resampled_df['close'].rolling(30).mean()\n",
        "ma_resampled_df['std_min'] = resampled_df['close'] - resampled_df['close'].rolling(300).std()\n",
        "ma_resampled_df['std_max'] = resampled_df['close'] + resampled_df['close'].rolling(300).std()\n",
        "ma_resampled_df['gradient'] = np.gradient(resampled_df['close'])\n",
        "\n",
        "\n",
        "ma_resampled_df = ma_resampled_df[359:]\n",
        "ma_resampled_df"
      ]
    },
    {
      "cell_type": "code",
      "source": [
        "import seaborn as sns\n",
        "\n",
        "sns.heatmap(ma_resampled_df.corr(), cmap='jet')"
      ],
      "metadata": {
        "colab": {
          "base_uri": "https://localhost:8080/",
          "height": 320
        },
        "id": "F3kBe_tEzWyZ",
        "outputId": "0e3b4b5f-0a4d-4c45-cb9a-9c56c1ffef14"
      },
      "execution_count": null,
      "outputs": [
        {
          "output_type": "execute_result",
          "data": {
            "text/plain": [
              "<matplotlib.axes._subplots.AxesSubplot at 0x7f367b84bd10>"
            ]
          },
          "metadata": {},
          "execution_count": 82
        },
        {
          "output_type": "display_data",
          "data": {
            "text/plain": [
              "<Figure size 432x288 with 2 Axes>"
            ],
            "image/png": "[encoded data removed]"
          },
          "metadata": {
            "needs_background": "light"
          }
        }
      ]
    },
    {
      "cell_type": "code",
      "source": [
        "sns.heatmap(ma_resampled_df.cov(), cmap='jet')"
      ],
      "metadata": {
        "colab": {
          "base_uri": "https://localhost:8080/",
          "height": 316
        },
        "id": "KGwWByKgz20O",
        "outputId": "49c2327a-2e64-46b4-a518-ece3cbdc3bc4"
      },
      "execution_count": null,
      "outputs": [
        {
          "output_type": "execute_result",
          "data": {
            "text/plain": [
              "<matplotlib.axes._subplots.AxesSubplot at 0x7f367b92e2d0>"
            ]
          },
          "metadata": {},
          "execution_count": 83
        },
        {
          "output_type": "display_data",
          "data": {
            "text/plain": [
              "<Figure size 432x288 with 2 Axes>"
            ],
            "image/png": "[encoded data removed]"
          },
          "metadata": {
            "needs_background": "light"
          }
        }
      ]
    },
    {
      "cell_type": "code",
      "source": [
        "ma_monthly_resampled_df = ma_resampled_df.resample('1M').mean()"
      ],
      "metadata": {
        "id": "0t8RKjSZ072y"
      },
      "execution_count": null,
      "outputs": []
    },
    {
      "cell_type": "code",
      "source": [
        "ma_monthly_resampled_df['close']"
      ],
      "metadata": {
        "colab": {
          "base_uri": "https://localhost:8080/"
        },
        "id": "OJWTlKBSmUyR",
        "outputId": "a21720cd-8718-4916-a7c6-a4e84a2085de"
      },
      "execution_count": null,
      "outputs": [
        {
          "output_type": "execute_result",
          "data": {
            "text/plain": [
              "2001-08-31    2.504375\n",
              "2001-09-30    2.285450\n",
              "2001-10-31    2.621000\n",
              "2001-11-30    2.803333\n",
              "2001-12-31    2.715484\n",
              "                ...   \n",
              "2022-04-30    6.721633\n",
              "2022-05-31    8.117871\n",
              "2022-06-30    7.597100\n",
              "2022-07-31    7.132629\n",
              "2022-08-31    8.113333\n",
              "Freq: M, Name: close, Length: 253, dtype: float64"
            ]
          },
          "metadata": {},
          "execution_count": 85
        }
      ]
    },
    {
      "cell_type": "markdown",
      "metadata": {
        "id": "jFINaQmLQ6mi"
      },
      "source": [
        "#4. Data Augment"
      ]
    },
    {
      "cell_type": "code",
      "execution_count": null,
      "metadata": {
        "id": "yxiwUjn-fsez"
      },
      "outputs": [],
      "source": [
        "from sklearn.preprocessing import StandardScaler\n",
        "scaler = StandardScaler()"
      ]
    },
    {
      "cell_type": "code",
      "execution_count": null,
      "metadata": {
        "id": "1dyLIPPDm5nl"
      },
      "outputs": [],
      "source": [
        "monthly_resampled_df = ma_resampled_df.resample('1M').mean()"
      ]
    },
    {
      "cell_type": "markdown",
      "source": [
        ""
      ],
      "metadata": {
        "id": "EFYhJ--2NSpQ"
      }
    },
    {
      "cell_type": "code",
      "execution_count": null,
      "metadata": {
        "id": "NuyLQNJMXHZl"
      },
      "outputs": [],
      "source": [
        "def root(x):\n",
        "  return math.sqrt(x)"
      ]
    },
    {
      "cell_type": "code",
      "execution_count": null,
      "metadata": {
        "colab": {
          "base_uri": "https://localhost:8080/"
        },
        "id": "NrC9qVKJseuw",
        "outputId": "5c8b518a-a50b-4583-cff1-5fc4b6c2eede"
      },
      "outputs": [
        {
          "output_type": "stream",
          "name": "stdout",
          "text": [
            "[4.525096, 4.4848275, 4.507883, 4.5159945, 3.75576, 5.294432, 0.0007294261]\n",
            "[2.242612, 2.0974402, 2.201074, 2.2237859, 1.954213, 2.6469302, 0.02801084]\n",
            "(181, 7) (72, 7)\n"
          ]
        }
      ],
      "source": [
        "rows, attributes = monthly_resampled_df.shape\n",
        "\n",
        "months = 72\n",
        "\n",
        "scaler_mod = scaler.fit(monthly_resampled_df)\n",
        "scaler_mean = list(map(np.float32, scaler.mean_))\n",
        "scaler_var = list(map(np.float32,scaler.scale_))\n",
        "print(list(map(np.float32, scaler_mean)))\n",
        "print(list(map(np.float32, scaler_var)))\n",
        "monthly_resampled_df_scaled = scaler.transform (monthly_resampled_df)\n",
        "train_monthly_resampled_df = monthly_resampled_df_scaled[0:(rows-months)]\n",
        "test_monthly_resampled_df = monthly_resampled_df_scaled[(rows-months):]\n",
        "\n",
        "print(train_monthly_resampled_df.shape, test_monthly_resampled_df.shape) \n"
      ]
    },
    {
      "cell_type": "code",
      "execution_count": null,
      "metadata": {
        "id": "crwwWot8-YVq"
      },
      "outputs": [],
      "source": [
        "# for rowIndex, row in enumerate(monthly_resampled_df):\n",
        "#   print(row)\n",
        "#   break"
      ]
    },
    {
      "cell_type": "code",
      "execution_count": null,
      "metadata": {
        "colab": {
          "base_uri": "https://localhost:8080/"
        },
        "id": "EBoIo9lm78ni",
        "outputId": "e9d0938f-ea0b-4093-eeab-8528df9f9b9d"
      },
      "outputs": [
        {
          "output_type": "stream",
          "name": "stdout",
          "text": [
            "Shape of Training Data: (133, 24, 7)\n",
            "Shape of Testing Data: (133, 24)\n"
          ]
        }
      ],
      "source": [
        "def batch_gen(df, x_size=24, y_size=24):\n",
        "  X = []\n",
        "  Y = []\n",
        "  for i in range(x_size, df.shape[0]-y_size):\n",
        "    X.append(df[i-x_size:i])\n",
        "    Y.append([x[0] for x in df[i:i+y_size]])\n",
        "\n",
        "  Y = np.array(Y)\n",
        "  X = np.array(X)\n",
        "  return X ,Y\n",
        "\n",
        "\n",
        "batch_X_monthly_df_train, batch_Y_monthly_df_train = batch_gen(train_monthly_resampled_df)\n",
        "\n",
        "\n",
        "print(f'Shape of Training Data: {batch_X_monthly_df_train.shape}')\n",
        "print(f'Shape of Testing Data: {batch_Y_monthly_df_train.shape}')"
      ]
    },
    {
      "cell_type": "code",
      "source": [
        "batch_X_monthly_df_train[:45]"
      ],
      "metadata": {
        "colab": {
          "base_uri": "https://localhost:8080/"
        },
        "id": "ufMNzE04CouD",
        "outputId": "a0bc57a0-cb07-4ceb-a800-9e0e5c90bbbf"
      },
      "execution_count": null,
      "outputs": [
        {
          "output_type": "execute_result",
          "data": {
            "text/plain": [
              "array([[[-0.90105688, -0.17953568, -0.64459626, ..., -1.60800777,\n",
              "         -0.33965847, -1.72683333],\n",
              "        [-0.99867743, -0.32133879, -0.75893489, ..., -1.7798966 ,\n",
              "         -0.37817199, -0.22045963],\n",
              "        [-0.84905279, -0.55573814, -0.93335295, ..., -1.55773623,\n",
              "         -0.2886527 ,  1.2136866 ],\n",
              "        ...,\n",
              "        [ 0.62460325,  0.48306601,  0.44662155, ...,  0.49263041,\n",
              "          0.69468424,  1.1313452 ],\n",
              "        [ 0.62034986,  0.61166457,  0.61776918, ...,  0.53868183,\n",
              "          0.65347737, -1.17678585],\n",
              "        [ 0.23205264,  0.63370076,  0.56454598, ...,  0.16548505,\n",
              "          0.27103662, -0.68016551]],\n",
              "\n",
              "       [[-0.99867743, -0.32133879, -0.75893489, ..., -1.7798966 ,\n",
              "         -0.37817199, -0.22045963],\n",
              "        [-0.84905279, -0.55573814, -0.93335295, ..., -1.55773623,\n",
              "         -0.2886527 ,  1.2136866 ],\n",
              "        [-0.76774879, -0.69631726, -0.86864074, ..., -1.1690148 ,\n",
              "         -0.43787378, -0.7408435 ],\n",
              "        ...,\n",
              "        [ 0.62034986,  0.61166457,  0.61776918, ...,  0.53868183,\n",
              "          0.65347737, -1.17678585],\n",
              "        [ 0.23205264,  0.63370076,  0.56454598, ...,  0.16548505,\n",
              "          0.27103662, -0.68016551],\n",
              "        [ 0.19253219,  0.55807534,  0.29622743, ...,  0.17006727,\n",
              "          0.20068618, -0.16711527]],\n",
              "\n",
              "       [[-0.84905279, -0.55573814, -0.93335295, ..., -1.55773623,\n",
              "         -0.2886527 ,  1.2136866 ],\n",
              "        [-0.76774879, -0.69631726, -0.86864074, ..., -1.1690148 ,\n",
              "         -0.43787378, -0.7408435 ],\n",
              "        [-0.80692162, -0.79805248, -0.78676511, ..., -1.08189333,\n",
              "         -0.56857342, -0.1942745 ],\n",
              "        ...,\n",
              "        [ 0.23205264,  0.63370076,  0.56454598, ...,  0.16548505,\n",
              "          0.27103662, -0.68016551],\n",
              "        [ 0.19253219,  0.55807534,  0.29622743, ...,  0.17006727,\n",
              "          0.20068618, -0.16711527],\n",
              "        [ 0.06098723,  0.42068759,  0.16539259, ...,  0.06426541,\n",
              "          0.05589611,  0.06916039]],\n",
              "\n",
              "       ...,\n",
              "\n",
              "       [[ 0.74640026,  0.95998436,  0.80848606, ...,  0.82579908,\n",
              "          0.65509284,  0.46675307],\n",
              "        [ 1.11869157,  1.07899105,  0.864099  , ...,  1.25070728,\n",
              "          0.97223334,  1.12098055],\n",
              "        [ 1.1774879 ,  1.14755065,  1.10081953, ...,  1.29745018,\n",
              "          1.03735372, -1.28745729],\n",
              "        ...,\n",
              "        [ 1.52868057,  0.92619354,  0.94054394, ...,  1.68458185,\n",
              "          1.34663276,  1.17587481],\n",
              "        [ 1.15602563,  1.04211021,  1.40243924, ...,  1.29108137,\n",
              "          1.00568796, -2.7139404 ],\n",
              "        [ 0.99288781,  1.08224056,  1.20824482, ...,  1.10173028,\n",
              "          0.86904767,  1.47049962]],\n",
              "\n",
              "       [[ 1.11869157,  1.07899105,  0.864099  , ...,  1.25070728,\n",
              "          0.97223334,  1.12098055],\n",
              "        [ 1.1774879 ,  1.14755065,  1.10081953, ...,  1.29745018,\n",
              "          1.03735372, -1.28745729],\n",
              "        [ 0.87371034,  1.06972701,  1.13323094, ...,  0.94879033,\n",
              "          0.78001608, -0.09168364],\n",
              "        ...,\n",
              "        [ 1.15602563,  1.04211021,  1.40243924, ...,  1.29108137,\n",
              "          1.00568796, -2.7139404 ],\n",
              "        [ 0.99288781,  1.08224056,  1.20824482, ...,  1.10173028,\n",
              "          0.86904767,  1.47049962],\n",
              "        [ 1.35013664,  1.10851805,  1.10055614, ...,  1.50683316,\n",
              "          1.17532083, -0.41428341]],\n",
              "\n",
              "       [[ 1.1774879 ,  1.14755065,  1.10081953, ...,  1.29745018,\n",
              "          1.03735372, -1.28745729],\n",
              "        [ 0.87371034,  1.06972701,  1.13323094, ...,  0.94879033,\n",
              "          0.78001608, -0.09168364],\n",
              "        [ 1.20166606,  1.04061887,  1.02976553, ...,  1.34497423,\n",
              "          1.04323689,  0.55944678],\n",
              "        ...,\n",
              "        [ 0.99288781,  1.08224056,  1.20824482, ...,  1.10173028,\n",
              "          0.86904767,  1.47049962],\n",
              "        [ 1.35013664,  1.10851805,  1.10055614, ...,  1.50683316,\n",
              "          1.17532083, -0.41428341],\n",
              "        [ 1.19522723,  1.21236944,  1.2650076 , ...,  1.32565035,\n",
              "          1.046593  ,  0.44209589]]])"
            ]
          },
          "metadata": {},
          "execution_count": 92
        }
      ]
    },
    {
      "cell_type": "markdown",
      "metadata": {
        "id": "FEhmivdv8izT"
      },
      "source": [
        "#6. LSTM\n"
      ]
    },
    {
      "cell_type": "code",
      "execution_count": null,
      "metadata": {
        "id": "IpCFgXpI84TZ"
      },
      "outputs": [],
      "source": [
        "import numpy as np\n",
        "from tensorflow.keras.models import Sequential\n",
        "from tensorflow.keras.layers import LSTM\n",
        "from tensorflow.keras.layers import Dense, Dropout\n",
        "from keras.layers import LeakyReLU\n",
        "from keras import backend as K\n",
        "from tensorflow import keras\n",
        "import os"
      ]
    },
    {
      "cell_type": "code",
      "source": [
        "def rmse(y_true, y_pred):\n",
        "  return K.sqrt(K.mean(K.square(y_pred - y_true)))"
      ],
      "metadata": {
        "id": "Xg1huGurJdQ4"
      },
      "execution_count": null,
      "outputs": []
    },
    {
      "cell_type": "code",
      "source": [
        "models_folder = '/content/drive/MyDrive/Models'\n",
        "model_version = len(os.listdir(models_folder)) + 1\n",
        "model_version"
      ],
      "metadata": {
        "id": "yasQ7FaOYjga",
        "colab": {
          "base_uri": "https://localhost:8080/"
        },
        "outputId": "0ea8b2a2-8e65-45f6-8585-0a1195923ef5"
      },
      "execution_count": null,
      "outputs": [
        {
          "output_type": "execute_result",
          "data": {
            "text/plain": [
              "22"
            ]
          },
          "metadata": {},
          "execution_count": 95
        }
      ]
    },
    {
      "cell_type": "markdown",
      "metadata": {
        "id": "12EJlB-Lg9OE"
      },
      "source": [
        "## a. Model Compilation"
      ]
    },
    {
      "cell_type": "code",
      "execution_count": null,
      "metadata": {
        "id": "W9vvYkEK8xVL",
        "colab": {
          "base_uri": "https://localhost:8080/"
        },
        "outputId": "b8562c8d-98f0-4bbf-c5be-3acfc3f2ef1e"
      },
      "outputs": [
        {
          "output_type": "stream",
          "name": "stdout",
          "text": [
            "Model: \"sequential_2\"\n",
            "_________________________________________________________________\n",
            " Layer (type)                Output Shape              Param #   \n",
            "=================================================================\n",
            " lstm_6 (LSTM)               (None, 24, 70)            21840     \n",
            "                                                                 \n",
            " lstm_7 (LSTM)               (None, 24, 50)            24200     \n",
            "                                                                 \n",
            " lstm_8 (LSTM)               (None, 80)                41920     \n",
            "                                                                 \n",
            " dropout_2 (Dropout)         (None, 80)                0         \n",
            "                                                                 \n",
            " dense_2 (Dense)             (None, 24)                1944      \n",
            "                                                                 \n",
            "=================================================================\n",
            "Total params: 89,904\n",
            "Trainable params: 89,904\n",
            "Non-trainable params: 0\n",
            "_________________________________________________________________\n"
          ]
        }
      ],
      "source": [
        "model = Sequential()\n",
        "\n",
        "model.add(LSTM(70, activation=LeakyReLU(alpha=0.01), input_shape=(batch_X_monthly_df_train.shape[1], batch_X_monthly_df_train.shape[2]), return_sequences=True))\n",
        "\n",
        "model.add(LSTM(50, activation=LeakyReLU(alpha=0.01), return_sequences=True))\n",
        "\n",
        "model.add(LSTM(80, activation=LeakyReLU(alpha=0.01), return_sequences=False))\n",
        "model.add(Dropout(0.20))\n",
        "model.add(Dense(batch_Y_monthly_df_train.shape[1]))\n",
        "model.compile(loss=rmse, optimizer= keras.optimizers.Adam(learning_rate=0.003))\n",
        "early_stopping = tf.keras.callbacks.EarlyStopping(monitor='loss', patience=10)\n",
        "\n",
        "model.summary()"
      ]
    },
    {
      "cell_type": "markdown",
      "metadata": {
        "id": "N8N9nc08aeBd"
      },
      "source": [
        "## b. Model Fitting"
      ]
    },
    {
      "cell_type": "code",
      "execution_count": null,
      "metadata": {
        "id": "mwUqdcYbhC9h",
        "colab": {
          "base_uri": "https://localhost:8080/"
        },
        "outputId": "2a1f8a66-5d81-4874-e35e-e81b53ba9276"
      },
      "outputs": [
        {
          "output_type": "stream",
          "name": "stdout",
          "text": [
            "Epoch 1/50\n",
            "4/4 [==============================] - 5s 234ms/step - loss: 1.2778 - val_loss: 0.5618\n",
            "Epoch 2/50\n",
            "4/4 [==============================] - 0s 63ms/step - loss: 1.2046 - val_loss: 0.5818\n",
            "Epoch 3/50\n",
            "4/4 [==============================] - 0s 57ms/step - loss: 1.2086 - val_loss: 0.6370\n",
            "Epoch 4/50\n",
            "4/4 [==============================] - 0s 59ms/step - loss: 1.1646 - val_loss: 1.0418\n",
            "Epoch 5/50\n",
            "4/4 [==============================] - 0s 61ms/step - loss: 1.1485 - val_loss: 0.9220\n",
            "Epoch 6/50\n",
            "4/4 [==============================] - 0s 58ms/step - loss: 1.1575 - val_loss: 0.6508\n",
            "Epoch 7/50\n",
            "4/4 [==============================] - 0s 58ms/step - loss: 1.1625 - val_loss: 0.6403\n",
            "Epoch 8/50\n",
            "4/4 [==============================] - 0s 55ms/step - loss: 1.1446 - val_loss: 0.6596\n",
            "Epoch 9/50\n",
            "4/4 [==============================] - 0s 61ms/step - loss: 1.1149 - val_loss: 0.6832\n",
            "Epoch 10/50\n",
            "4/4 [==============================] - 0s 54ms/step - loss: 1.0816 - val_loss: 0.6771\n",
            "Epoch 11/50\n",
            "4/4 [==============================] - 0s 56ms/step - loss: 1.0624 - val_loss: 0.6156\n",
            "Epoch 12/50\n",
            "4/4 [==============================] - 0s 58ms/step - loss: 1.0299 - val_loss: 0.5880\n",
            "Epoch 13/50\n",
            "4/4 [==============================] - 0s 58ms/step - loss: 1.0162 - val_loss: 0.5722\n",
            "Epoch 14/50\n",
            "4/4 [==============================] - 0s 59ms/step - loss: 0.9834 - val_loss: 0.6339\n",
            "Epoch 15/50\n",
            "4/4 [==============================] - 0s 54ms/step - loss: 0.9633 - val_loss: 0.6084\n",
            "Epoch 16/50\n",
            "4/4 [==============================] - 0s 61ms/step - loss: 0.9345 - val_loss: 0.5618\n",
            "Epoch 17/50\n",
            "4/4 [==============================] - 0s 55ms/step - loss: 0.9204 - val_loss: 0.6946\n",
            "Epoch 18/50\n",
            "4/4 [==============================] - 0s 63ms/step - loss: 0.8884 - val_loss: 14.2692\n",
            "Epoch 19/50\n",
            "4/4 [==============================] - 0s 56ms/step - loss: 0.8812 - val_loss: 0.5569\n",
            "Epoch 20/50\n",
            "4/4 [==============================] - 0s 58ms/step - loss: 0.8499 - val_loss: 0.4506\n",
            "Epoch 21/50\n",
            "4/4 [==============================] - 0s 58ms/step - loss: 0.8377 - val_loss: 0.5001\n",
            "Epoch 22/50\n",
            "4/4 [==============================] - 0s 57ms/step - loss: 0.8054 - val_loss: 0.5362\n",
            "Epoch 23/50\n",
            "4/4 [==============================] - 0s 56ms/step - loss: 0.8000 - val_loss: 0.4341\n",
            "Epoch 24/50\n",
            "4/4 [==============================] - 0s 57ms/step - loss: 0.8173 - val_loss: 0.4278\n",
            "Epoch 25/50\n",
            "4/4 [==============================] - 0s 59ms/step - loss: 0.7711 - val_loss: 0.4411\n",
            "Epoch 26/50\n",
            "4/4 [==============================] - 0s 55ms/step - loss: 0.7548 - val_loss: 0.4210\n",
            "Epoch 27/50\n",
            "4/4 [==============================] - 0s 58ms/step - loss: 0.7246 - val_loss: 0.4081\n",
            "Epoch 28/50\n",
            "4/4 [==============================] - 0s 60ms/step - loss: 0.7117 - val_loss: 0.4045\n",
            "Epoch 29/50\n",
            "4/4 [==============================] - 0s 58ms/step - loss: 0.6939 - val_loss: 0.4016\n",
            "Epoch 30/50\n",
            "4/4 [==============================] - 0s 55ms/step - loss: 0.6773 - val_loss: 0.3750\n",
            "Epoch 31/50\n",
            "4/4 [==============================] - 0s 58ms/step - loss: 0.6715 - val_loss: 0.3714\n",
            "Epoch 32/50\n",
            "4/4 [==============================] - 0s 56ms/step - loss: 0.6702 - val_loss: 0.3916\n",
            "Epoch 33/50\n",
            "4/4 [==============================] - 0s 57ms/step - loss: 0.6993 - val_loss: 0.4247\n",
            "Epoch 34/50\n",
            "4/4 [==============================] - 0s 56ms/step - loss: 0.6618 - val_loss: 0.4526\n",
            "Epoch 35/50\n",
            "4/4 [==============================] - 0s 56ms/step - loss: 0.6576 - val_loss: 0.4250\n",
            "Epoch 36/50\n",
            "4/4 [==============================] - 0s 59ms/step - loss: 0.6211 - val_loss: 0.3871\n",
            "Epoch 37/50\n",
            "4/4 [==============================] - 0s 58ms/step - loss: 0.6757 - val_loss: 0.3700\n",
            "Epoch 38/50\n",
            "4/4 [==============================] - 0s 60ms/step - loss: 0.6563 - val_loss: 0.3631\n",
            "Epoch 39/50\n",
            "4/4 [==============================] - 0s 60ms/step - loss: 0.6275 - val_loss: 0.3609\n",
            "Epoch 40/50\n",
            "4/4 [==============================] - 0s 63ms/step - loss: 0.6263 - val_loss: 0.4282\n",
            "Epoch 41/50\n",
            "4/4 [==============================] - 0s 57ms/step - loss: 0.5875 - val_loss: 0.4451\n",
            "Epoch 42/50\n",
            "4/4 [==============================] - 0s 57ms/step - loss: 0.6008 - val_loss: 0.3783\n",
            "Epoch 43/50\n",
            "4/4 [==============================] - 0s 60ms/step - loss: 0.5977 - val_loss: 0.4564\n",
            "Epoch 44/50\n",
            "4/4 [==============================] - 0s 58ms/step - loss: 0.5729 - val_loss: 0.4965\n",
            "Epoch 45/50\n",
            "4/4 [==============================] - 0s 64ms/step - loss: 0.5673 - val_loss: 0.4457\n",
            "Epoch 46/50\n",
            "4/4 [==============================] - 0s 61ms/step - loss: 0.5333 - val_loss: 0.4448\n",
            "Epoch 47/50\n",
            "4/4 [==============================] - 0s 57ms/step - loss: 0.5405 - val_loss: 0.4572\n",
            "Epoch 48/50\n",
            "4/4 [==============================] - 0s 69ms/step - loss: 0.5663 - val_loss: 0.4557\n",
            "Epoch 49/50\n",
            "4/4 [==============================] - 0s 60ms/step - loss: 0.5838 - val_loss: 0.4587\n",
            "Epoch 50/50\n",
            "4/4 [==============================] - 0s 59ms/step - loss: 0.5435 - val_loss: 0.4391\n"
          ]
        }
      ],
      "source": [
        "history = model.fit(batch_X_monthly_df_train, batch_Y_monthly_df_train, epochs=50, batch_size = 32, validation_split=0.2 , verbose = 1, callbacks=[early_stopping])"
      ]
    },
    {
      "cell_type": "code",
      "execution_count": null,
      "metadata": {
        "id": "vcVr397ukTXY",
        "colab": {
          "base_uri": "https://localhost:8080/",
          "height": 358
        },
        "outputId": "023e2ba9-3483-42fa-ade1-e0848aa5748e"
      },
      "outputs": [
        {
          "output_type": "display_data",
          "data": {
            "text/plain": [
              "<Figure size 1080x360 with 2 Axes>"
            ],
            "image/png": "[encoded data removed]"
          },
          "metadata": {
            "needs_background": "light"
          }
        }
      ],
      "source": [
        "fig, (ax1, ax2) = plt.subplots(1,2, figsize=[15,5])\n",
        "ax1.plot(history.history['loss'][20:], label='Training loss', c='orange')\n",
        "ax2.plot(history.history['val_loss'][20:], label='Validation loss' , c = 'green')\n",
        "fig.legend()\n",
        "fig.show()"
      ]
    },
    {
      "cell_type": "code",
      "execution_count": null,
      "metadata": {
        "id": "cjkxQZo8p3fC",
        "colab": {
          "base_uri": "https://localhost:8080/"
        },
        "outputId": "0dbc84d4-589f-452d-fb32-7a061fa28dfd"
      },
      "outputs": [
        {
          "output_type": "stream",
          "name": "stdout",
          "text": [
            "Shape of Testing Data: (24, 24, 7)\n",
            "Shape of Validating Data: (24, 24)\n"
          ]
        }
      ],
      "source": [
        "batch_X_monthly_df_test, batch_Y_monthly_df_test  = batch_gen(test_monthly_resampled_df)\n",
        "print(f'Shape of Testing Data: {batch_X_monthly_df_test.shape}')\n",
        "print(f'Shape of Validating Data: {batch_Y_monthly_df_test.shape}')\n",
        "\n"
      ]
    },
    {
      "cell_type": "code",
      "execution_count": null,
      "metadata": {
        "id": "7Wzq1_BKrWMX",
        "colab": {
          "base_uri": "https://localhost:8080/",
          "height": 357
        },
        "outputId": "f7862261-ea6d-43c5-bf7a-27f287fe2f0d"
      },
      "outputs": [
        {
          "output_type": "stream",
          "name": "stdout",
          "text": [
            "[[-0.41870195 -0.51059514 -0.59047174 -0.6260617  -0.46421927 -0.4481815\n",
            "  -0.53088605 -0.32845262 -0.2981218  -0.3177957  -0.18252687 -0.26128083\n",
            "  -0.05381021 -0.0884739  -0.1250124  -0.11696873 -0.14850503 -0.15964183\n",
            "  -0.18048213 -0.14990515 -0.02088731  0.15517963  0.12518284  0.16789247]]\n"
          ]
        },
        {
          "output_type": "execute_result",
          "data": {
            "text/plain": [
              "[<matplotlib.lines.Line2D at 0x7f36789b2850>]"
            ]
          },
          "metadata": {},
          "execution_count": 104
        },
        {
          "output_type": "display_data",
          "data": {
            "text/plain": [
              "<Figure size 432x288 with 1 Axes>"
            ],
            "image/png": "[encoded data removed]"
          },
          "metadata": {
            "needs_background": "light"
          }
        }
      ],
      "source": [
        "index = 20\n",
        "pred_data = batch_X_monthly_df_test[index]\n",
        "\n",
        "result = []\n",
        "\n",
        "res = model.predict(np.array([pred_data]))\n",
        "\n",
        "print(res)\n",
        "plt.plot(res[0])\n",
        "plt.plot(batch_Y_monthly_df_test[index])\n",
        "# for i in range(0, 36):\n",
        "#   res = model.predict(np.array([pred_data]))[0,0]\n",
        "#   res = (res * scaler_var[0]) + scaler_mean[0]\n",
        "#   result.append(res)\n",
        "#   pred_data = scaler.inverse_transform(pred_data)\n",
        "#   res_30 = res\n",
        "#   res_60 = sum([*pred_data[-2:,2] , res])/4\n",
        "#   res_180 = sum([*pred_data[-5:,2] , res])/8\n",
        "#   pred_data = list(pred_data)\n",
        "#   pred_data.append(np.array([res, res_30, res_60, res_180]))\n",
        "#   pred_data.pop(0)\n",
        "#   pred_data = np.array(pred_data)\n",
        "#   pred_data = scaler.transform(pred_data)\n",
        "\n",
        "# print(result)"
      ]
    },
    {
      "cell_type": "code",
      "execution_count": null,
      "metadata": {
        "id": "ecHWr-bLTiWb",
        "colab": {
          "base_uri": "https://localhost:8080/",
          "height": 283
        },
        "outputId": "6c07415f-fca4-4ff5-a238-9d569c4a8092"
      },
      "outputs": [
        {
          "output_type": "stream",
          "name": "stdout",
          "text": [
            "[]\n"
          ]
        },
        {
          "output_type": "display_data",
          "data": {
            "text/plain": [
              "<Figure size 432x288 with 1 Axes>"
            ],
            "image/png": "[encoded data removed]"
          },
          "metadata": {
            "needs_background": "light"
          }
        }
      ],
      "source": [
        "test_monthly_resampled_df_unscaled = scaler.inverse_transform(test_monthly_resampled_df)\n",
        "print(result[:])\n",
        "plt.plot(result[:], label='Predictions', c='green')\n",
        "plt.plot(test_monthly_resampled_df_unscaled[12:, 0], label='Observed' , c = 'orange')\n",
        "plt.legend()\n",
        "plt.show()"
      ]
    },
    {
      "cell_type": "markdown",
      "source": [
        "## c. Model Save"
      ],
      "metadata": {
        "id": "-Iy43Q3FXZpG"
      }
    },
    {
      "cell_type": "code",
      "source": [
        "save_model = str(input('Do you want to save model[y/n]: '))\n",
        "if save_model.lower() != 'n':\n",
        "  model.save(f'/content/drive/MyDrive/Models/Model_V{model_version}')\n",
        "\n"
      ],
      "metadata": {
        "id": "XJl0WiD4Xo_a",
        "colab": {
          "base_uri": "https://localhost:8080/"
        },
        "outputId": "957ea1a4-b06f-486c-bbae-e6768184df18"
      },
      "execution_count": null,
      "outputs": [
        {
          "name": "stdout",
          "output_type": "stream",
          "text": [
            "Do you want to save model[y/n]: n\n"
          ]
        }
      ]
    },
    {
      "cell_type": "markdown",
      "source": [
        ""
      ],
      "metadata": {
        "id": "Q71fWqmqj2Jq"
      }
    }
  ],
  "metadata": {
    "colab": {
      "collapsed_sections": [
        "pPH79Y7sDGxk"
      ],
      "name": "LSTM_V4[Babbage].ipynb",
      "provenance": [],
      "toc_visible": true
    },
    "kernelspec": {
      "display_name": "Python 3",
      "name": "python3"
    },
    "language_info": {
      "name": "python"
    }
  },
  "nbformat": 4,
  "nbformat_minor": 0
}