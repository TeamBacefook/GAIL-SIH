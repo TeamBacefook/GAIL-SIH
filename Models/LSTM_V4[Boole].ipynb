{
  "cells": [
    {
      "cell_type": "markdown",
      "metadata": {
        "id": "1tVqv6xQCRBe"
      },
      "source": [
        "#1. Import"
      ]
    },
    {
      "cell_type": "code",
      "source": [
        "!pip install yahoo_fin\n",
        "!pip install matplotlib"
      ],
      "metadata": {
        "colab": {
          "base_uri": "https://localhost:8080/"
        },
        "id": "fE0Xygi_vA0z",
        "outputId": "c8fdf99d-9b9a-434b-d2d7-01f8dc5d5221"
      },
      "execution_count": null,
      "outputs": [
        {
          "output_type": "stream",
          "name": "stdout",
          "text": [
            "Looking in indexes: https://pypi.org/simple, https://us-python.pkg.dev/colab-wheels/public/simple/\n",
            "Collecting yahoo_fin\n",
            "  Downloading yahoo_fin-0.8.9.1-py3-none-any.whl (10 kB)\n",
            "Requirement already satisfied: pandas in /usr/local/lib/python3.7/dist-packages (from yahoo_fin) (1.3.5)\n",
            "Requirement already satisfied: requests in /usr/local/lib/python3.7/dist-packages (from yahoo_fin) (2.23.0)\n",
            "Collecting feedparser\n",
            "  Downloading feedparser-6.0.10-py3-none-any.whl (81 kB)\n",
            "\u001b[K     |████████████████████████████████| 81 kB 3.9 MB/s \n",
            "\u001b[?25hCollecting requests-html\n",
            "  Downloading requests_html-0.10.0-py3-none-any.whl (13 kB)\n",
            "Collecting sgmllib3k\n",
            "  Downloading sgmllib3k-1.0.0.tar.gz (5.8 kB)\n",
            "Requirement already satisfied: python-dateutil>=2.7.3 in /usr/local/lib/python3.7/dist-packages (from pandas->yahoo_fin) (2.8.2)\n",
            "Requirement already satisfied: pytz>=2017.3 in /usr/local/lib/python3.7/dist-packages (from pandas->yahoo_fin) (2022.1)\n",
            "Requirement already satisfied: numpy>=1.17.3 in /usr/local/lib/python3.7/dist-packages (from pandas->yahoo_fin) (1.21.6)\n",
            "Requirement already satisfied: six>=1.5 in /usr/local/lib/python3.7/dist-packages (from python-dateutil>=2.7.3->pandas->yahoo_fin) (1.15.0)\n",
            "Requirement already satisfied: idna<3,>=2.5 in /usr/local/lib/python3.7/dist-packages (from requests->yahoo_fin) (2.10)\n",
            "Requirement already satisfied: certifi>=2017.4.17 in /usr/local/lib/python3.7/dist-packages (from requests->yahoo_fin) (2022.6.15)\n",
            "Requirement already satisfied: urllib3!=1.25.0,!=1.25.1,<1.26,>=1.21.1 in /usr/local/lib/python3.7/dist-packages (from requests->yahoo_fin) (1.24.3)\n",
            "Requirement already satisfied: chardet<4,>=3.0.2 in /usr/local/lib/python3.7/dist-packages (from requests->yahoo_fin) (3.0.4)\n",
            "Requirement already satisfied: bs4 in /usr/local/lib/python3.7/dist-packages (from requests-html->yahoo_fin) (0.0.1)\n",
            "Collecting pyppeteer>=0.0.14\n",
            "  Downloading pyppeteer-1.0.2-py3-none-any.whl (83 kB)\n",
            "\u001b[K     |████████████████████████████████| 83 kB 1.7 MB/s \n",
            "\u001b[?25hCollecting parse\n",
            "  Downloading parse-1.19.0.tar.gz (30 kB)\n",
            "Collecting w3lib\n",
            "  Downloading w3lib-2.0.1-py3-none-any.whl (20 kB)\n",
            "Collecting fake-useragent\n",
            "  Downloading fake-useragent-0.1.11.tar.gz (13 kB)\n",
            "Collecting pyquery\n",
            "  Downloading pyquery-1.4.3-py3-none-any.whl (22 kB)\n",
            "Requirement already satisfied: appdirs<2.0.0,>=1.4.3 in /usr/local/lib/python3.7/dist-packages (from pyppeteer>=0.0.14->requests-html->yahoo_fin) (1.4.4)\n",
            "Collecting urllib3!=1.25.0,!=1.25.1,<1.26,>=1.21.1\n",
            "  Downloading urllib3-1.25.11-py2.py3-none-any.whl (127 kB)\n",
            "\u001b[K     |████████████████████████████████| 127 kB 34.9 MB/s \n",
            "\u001b[?25hRequirement already satisfied: tqdm<5.0.0,>=4.42.1 in /usr/local/lib/python3.7/dist-packages (from pyppeteer>=0.0.14->requests-html->yahoo_fin) (4.64.0)\n",
            "Requirement already satisfied: importlib-metadata>=1.4 in /usr/local/lib/python3.7/dist-packages (from pyppeteer>=0.0.14->requests-html->yahoo_fin) (4.12.0)\n",
            "Collecting websockets<11.0,>=10.0\n",
            "  Downloading websockets-10.3-cp37-cp37m-manylinux_2_5_x86_64.manylinux1_x86_64.manylinux_2_12_x86_64.manylinux2010_x86_64.whl (112 kB)\n",
            "\u001b[K     |████████████████████████████████| 112 kB 54.5 MB/s \n",
            "\u001b[?25hCollecting pyee<9.0.0,>=8.1.0\n",
            "  Downloading pyee-8.2.2-py2.py3-none-any.whl (12 kB)\n",
            "Requirement already satisfied: zipp>=0.5 in /usr/local/lib/python3.7/dist-packages (from importlib-metadata>=1.4->pyppeteer>=0.0.14->requests-html->yahoo_fin) (3.8.1)\n",
            "Requirement already satisfied: typing-extensions>=3.6.4 in /usr/local/lib/python3.7/dist-packages (from importlib-metadata>=1.4->pyppeteer>=0.0.14->requests-html->yahoo_fin) (4.1.1)\n",
            "Requirement already satisfied: beautifulsoup4 in /usr/local/lib/python3.7/dist-packages (from bs4->requests-html->yahoo_fin) (4.6.3)\n",
            "Collecting cssselect>0.7.9\n",
            "  Downloading cssselect-1.1.0-py2.py3-none-any.whl (16 kB)\n",
            "Requirement already satisfied: lxml>=2.1 in /usr/local/lib/python3.7/dist-packages (from pyquery->requests-html->yahoo_fin) (4.9.1)\n",
            "Building wheels for collected packages: fake-useragent, parse, sgmllib3k\n",
            "  Building wheel for fake-useragent (setup.py) ... \u001b[?25l\u001b[?25hdone\n",
            "  Created wheel for fake-useragent: filename=fake_useragent-0.1.11-py3-none-any.whl size=13502 sha256=9c0d949c30b2c1fc9cb44ab48b04f286de8ca18ced86f1286dfe48a0355a3b9c\n",
            "  Stored in directory: /root/.cache/pip/wheels/ed/f7/62/50ab6c9a0b5567267ab76a9daa9d06315704209b2c5d032031\n",
            "  Building wheel for parse (setup.py) ... \u001b[?25l\u001b[?25hdone\n",
            "  Created wheel for parse: filename=parse-1.19.0-py3-none-any.whl size=24591 sha256=ecd9edc8bbf9e5989ee608a1a1febf2f467c4d2c8c01261cdaea12b82c5908cb\n",
            "  Stored in directory: /root/.cache/pip/wheels/9c/aa/cc/f2228050ccb40f22144b073f15a2c84f11204f29fc0dce028e\n",
            "  Building wheel for sgmllib3k (setup.py) ... \u001b[?25l\u001b[?25hdone\n",
            "  Created wheel for sgmllib3k: filename=sgmllib3k-1.0.0-py3-none-any.whl size=6066 sha256=17b128162cff5ef909fae47127711caec57db3899e854f08e25b0a6f26a9f0c8\n",
            "  Stored in directory: /root/.cache/pip/wheels/73/ad/a4/0dff4a6ef231fc0dfa12ffbac2a36cebfdddfe059f50e019aa\n",
            "Successfully built fake-useragent parse sgmllib3k\n",
            "Installing collected packages: websockets, urllib3, pyee, cssselect, w3lib, sgmllib3k, pyquery, pyppeteer, parse, fake-useragent, requests-html, feedparser, yahoo-fin\n",
            "  Attempting uninstall: urllib3\n",
            "    Found existing installation: urllib3 1.24.3\n",
            "    Uninstalling urllib3-1.24.3:\n",
            "      Successfully uninstalled urllib3-1.24.3\n",
            "Successfully installed cssselect-1.1.0 fake-useragent-0.1.11 feedparser-6.0.10 parse-1.19.0 pyee-8.2.2 pyppeteer-1.0.2 pyquery-1.4.3 requests-html-0.10.0 sgmllib3k-1.0.0 urllib3-1.25.11 w3lib-2.0.1 websockets-10.3 yahoo-fin-0.8.9.1\n",
            "Looking in indexes: https://pypi.org/simple, https://us-python.pkg.dev/colab-wheels/public/simple/\n",
            "Requirement already satisfied: matplotlib in /usr/local/lib/python3.7/dist-packages (3.2.2)\n",
            "Requirement already satisfied: pyparsing!=2.0.4,!=2.1.2,!=2.1.6,>=2.0.1 in /usr/local/lib/python3.7/dist-packages (from matplotlib) (3.0.9)\n",
            "Requirement already satisfied: numpy>=1.11 in /usr/local/lib/python3.7/dist-packages (from matplotlib) (1.21.6)\n",
            "Requirement already satisfied: cycler>=0.10 in /usr/local/lib/python3.7/dist-packages (from matplotlib) (0.11.0)\n",
            "Requirement already satisfied: python-dateutil>=2.1 in /usr/local/lib/python3.7/dist-packages (from matplotlib) (2.8.2)\n",
            "Requirement already satisfied: kiwisolver>=1.0.1 in /usr/local/lib/python3.7/dist-packages (from matplotlib) (1.4.4)\n",
            "Requirement already satisfied: typing-extensions in /usr/local/lib/python3.7/dist-packages (from kiwisolver>=1.0.1->matplotlib) (4.1.1)\n",
            "Requirement already satisfied: six>=1.5 in /usr/local/lib/python3.7/dist-packages (from python-dateutil>=2.1->matplotlib) (1.15.0)\n"
          ]
        }
      ]
    },
    {
      "cell_type": "code",
      "execution_count": null,
      "metadata": {
        "id": "108bTPBmBrL1"
      },
      "outputs": [],
      "source": [
        "import tensorflow as tf\n",
        "import pandas as pd\n",
        "from yahoo_fin import stock_info as si\n",
        "import matplotlib.pyplot as plt\n",
        "import numpy as np\n",
        "from statsmodels.graphics.tsaplots import plot_acf\n",
        "import math\n",
        "from statsmodels.tsa.seasonal import seasonal_decompose\n",
        "import jinja2"
      ]
    },
    {
      "cell_type": "code",
      "source": [
        "from google.colab import drive\n",
        "drive.mount('/content/drive')"
      ],
      "metadata": {
        "colab": {
          "base_uri": "https://localhost:8080/"
        },
        "id": "Vs_EraomH0OO",
        "outputId": "a44ce40e-5057-42b8-8e6a-05aa9d8c9d89"
      },
      "execution_count": null,
      "outputs": [
        {
          "output_type": "stream",
          "name": "stdout",
          "text": [
            "Drive already mounted at /content/drive; to attempt to forcibly remount, call drive.mount(\"/content/drive\", force_remount=True).\n"
          ]
        }
      ]
    },
    {
      "cell_type": "markdown",
      "metadata": {
        "id": "eWbWy13GCVAJ"
      },
      "source": [
        "#2. Collect"
      ]
    },
    {
      "cell_type": "code",
      "execution_count": null,
      "metadata": {
        "id": "lfy2O8-eCYRG"
      },
      "outputs": [],
      "source": [
        "df = {}\n",
        "df = si.get_data('NG=F')\n",
        "df = pd.DataFrame(df)\n",
        "df = df [['open', 'close', 'high', 'low']].round(3)\n",
        "resampled_df = df.resample('1D').mean()\n",
        "resampled_df.interpolate(method='linear', axis = 0, inplace= True, limit_direction='forward')\n",
        "plt.show()"
      ]
    },
    {
      "cell_type": "markdown",
      "metadata": {
        "id": "pPH79Y7sDGxk"
      },
      "source": [
        "#3. Preliminary Analysis"
      ]
    },
    {
      "cell_type": "code",
      "execution_count": null,
      "metadata": {
        "colab": {
          "base_uri": "https://localhost:8080/"
        },
        "id": "wK1Cy8WvDLNp",
        "outputId": "a2902422-4143-4b23-e057-e8dbedd7d3ef"
      },
      "outputs": [
        {
          "output_type": "execute_result",
          "data": {
            "text/plain": [
              "           open     close      high       low\n",
              "open   1.000000  0.997650  0.998691  0.998891\n",
              "close  0.997650  1.000000  0.998852  0.998904\n",
              "high   0.998691  0.998852  1.000000  0.998250\n",
              "low    0.998891  0.998904  0.998250  1.000000"
            ],
            "text/html": [
              "\n",
              "  <div id=\"df-bbe16547-c244-4af6-92ac-e0e94fba53da\">\n",
              "    <div class=\"colab-df-container\">\n",
              "      <div>\n",
              "<style scoped>\n",
              "    .dataframe tbody tr th:only-of-type {\n",
              "        vertical-align: middle;\n",
              "    }\n",
              "\n",
              "    .dataframe tbody tr th {\n",
              "        vertical-align: top;\n",
              "    }\n",
              "\n",
              "    .dataframe thead th {\n",
              "        text-align: right;\n",
              "    }\n",
              "</style>\n",
              "<table border=\"1\" class=\"dataframe\">\n",
              "  <thead>\n",
              "    <tr style=\"text-align: right;\">\n",
              "      <th></th>\n",
              "      <th>open</th>\n",
              "      <th>close</th>\n",
              "      <th>high</th>\n",
              "      <th>low</th>\n",
              "    </tr>\n",
              "  </thead>\n",
              "  <tbody>\n",
              "    <tr>\n",
              "      <th>open</th>\n",
              "      <td>1.000000</td>\n",
              "      <td>0.997650</td>\n",
              "      <td>0.998691</td>\n",
              "      <td>0.998891</td>\n",
              "    </tr>\n",
              "    <tr>\n",
              "      <th>close</th>\n",
              "      <td>0.997650</td>\n",
              "      <td>1.000000</td>\n",
              "      <td>0.998852</td>\n",
              "      <td>0.998904</td>\n",
              "    </tr>\n",
              "    <tr>\n",
              "      <th>high</th>\n",
              "      <td>0.998691</td>\n",
              "      <td>0.998852</td>\n",
              "      <td>1.000000</td>\n",
              "      <td>0.998250</td>\n",
              "    </tr>\n",
              "    <tr>\n",
              "      <th>low</th>\n",
              "      <td>0.998891</td>\n",
              "      <td>0.998904</td>\n",
              "      <td>0.998250</td>\n",
              "      <td>1.000000</td>\n",
              "    </tr>\n",
              "  </tbody>\n",
              "</table>\n",
              "</div>\n",
              "      <button class=\"colab-df-convert\" onclick=\"convertToInteractive('df-bbe16547-c244-4af6-92ac-e0e94fba53da')\"\n",
              "              title=\"Convert this dataframe to an interactive table.\"\n",
              "              style=\"display:none;\">\n",
              "        \n",
              "  <svg xmlns=\"http://www.w3.org/2000/svg\" height=\"24px\"viewBox=\"0 0 24 24\"\n",
              "       width=\"24px\">\n",
              "    <path d=\"M0 0h24v24H0V0z\" fill=\"none\"/>\n",
              "    <path d=\"M18.56 5.44l.94 2.06.94-2.06 2.06-.94-2.06-.94-.94-2.06-.94 2.06-2.06.94zm-11 1L8.5 8.5l.94-2.06 2.06-.94-2.06-.94L8.5 2.5l-.94 2.06-2.06.94zm10 10l.94 2.06.94-2.06 2.06-.94-2.06-.94-.94-2.06-.94 2.06-2.06.94z\"/><path d=\"M17.41 7.96l-1.37-1.37c-.4-.4-.92-.59-1.43-.59-.52 0-1.04.2-1.43.59L10.3 9.45l-7.72 7.72c-.78.78-.78 2.05 0 2.83L4 21.41c.39.39.9.59 1.41.59.51 0 1.02-.2 1.41-.59l7.78-7.78 2.81-2.81c.8-.78.8-2.07 0-2.86zM5.41 20L4 18.59l7.72-7.72 1.47 1.35L5.41 20z\"/>\n",
              "  </svg>\n",
              "      </button>\n",
              "      \n",
              "  <style>\n",
              "    .colab-df-container {\n",
              "      display:flex;\n",
              "      flex-wrap:wrap;\n",
              "      gap: 12px;\n",
              "    }\n",
              "\n",
              "    .colab-df-convert {\n",
              "      background-color: #E8F0FE;\n",
              "      border: none;\n",
              "      border-radius: 50%;\n",
              "      cursor: pointer;\n",
              "      display: none;\n",
              "      fill: #1967D2;\n",
              "      height: 32px;\n",
              "      padding: 0 0 0 0;\n",
              "      width: 32px;\n",
              "    }\n",
              "\n",
              "    .colab-df-convert:hover {\n",
              "      background-color: #E2EBFA;\n",
              "      box-shadow: 0px 1px 2px rgba(60, 64, 67, 0.3), 0px 1px 3px 1px rgba(60, 64, 67, 0.15);\n",
              "      fill: #174EA6;\n",
              "    }\n",
              "\n",
              "    [theme=dark] .colab-df-convert {\n",
              "      background-color: #3B4455;\n",
              "      fill: #D2E3FC;\n",
              "    }\n",
              "\n",
              "    [theme=dark] .colab-df-convert:hover {\n",
              "      background-color: #434B5C;\n",
              "      box-shadow: 0px 1px 3px 1px rgba(0, 0, 0, 0.15);\n",
              "      filter: drop-shadow(0px 1px 2px rgba(0, 0, 0, 0.3));\n",
              "      fill: #FFFFFF;\n",
              "    }\n",
              "  </style>\n",
              "\n",
              "      <script>\n",
              "        const buttonEl =\n",
              "          document.querySelector('#df-bbe16547-c244-4af6-92ac-e0e94fba53da button.colab-df-convert');\n",
              "        buttonEl.style.display =\n",
              "          google.colab.kernel.accessAllowed ? 'block' : 'none';\n",
              "\n",
              "        async function convertToInteractive(key) {\n",
              "          const element = document.querySelector('#df-bbe16547-c244-4af6-92ac-e0e94fba53da');\n",
              "          const dataTable =\n",
              "            await google.colab.kernel.invokeFunction('convertToInteractive',\n",
              "                                                     [key], {});\n",
              "          if (!dataTable) return;\n",
              "\n",
              "          const docLinkHtml = 'Like what you see? Visit the ' +\n",
              "            '<a target=\"_blank\" href=https://colab.research.google.com/notebooks/data_table.ipynb>data table notebook</a>'\n",
              "            + ' to learn more about interactive tables.';\n",
              "          element.innerHTML = '';\n",
              "          dataTable['output_type'] = 'display_data';\n",
              "          await google.colab.output.renderOutput(dataTable, element);\n",
              "          const docLink = document.createElement('div');\n",
              "          docLink.innerHTML = docLinkHtml;\n",
              "          element.appendChild(docLink);\n",
              "        }\n",
              "      </script>\n",
              "    </div>\n",
              "  </div>\n",
              "  "
            ]
          },
          "metadata": {},
          "execution_count": 47
        }
      ],
      "source": [
        "resampled_df.corr()"
      ]
    },
    {
      "cell_type": "code",
      "execution_count": null,
      "metadata": {
        "colab": {
          "base_uri": "https://localhost:8080/"
        },
        "id": "vbe2cbF7DQ0B",
        "outputId": "0149dc51-9d7e-44fb-960c-e3c792629a3b"
      },
      "outputs": [
        {
          "output_type": "display_data",
          "data": {
            "text/plain": [
              "<Figure size 432x288 with 1 Axes>"
            ],
            "image/png": "[encoded data removed]"
          },
          "metadata": {
            "needs_background": "light"
          }
        }
      ],
      "source": [
        "stripped_resampled_df = resampled_df['close']\n",
        "plot_acf(stripped_resampled_df)\n",
        "plt.show()"
      ]
    },
    {
      "cell_type": "code",
      "execution_count": null,
      "metadata": {
        "colab": {
          "base_uri": "https://localhost:8080/"
        },
        "id": "qNDphlInG9v3",
        "outputId": "2d00ceb6-0362-410c-a3b9-86f8553ccbd2"
      },
      "outputs": [
        {
          "output_type": "execute_result",
          "data": {
            "text/plain": [
              "            close     ma180      ma60      ma30   std_min    std_max\n",
              "2001-08-24  2.706  4.160425  3.130125  3.106800  0.996005   4.415995\n",
              "2001-08-25  2.652  4.147047  3.117708  3.090933  0.936564   4.367436\n",
              "2001-08-26  2.598  4.132092  3.107508  3.071967  0.876949   4.319051\n",
              "2001-08-27  2.544  4.117086  3.095325  3.049133  0.817098   4.270902\n",
              "2001-08-28  2.420  4.101725  3.084058  3.020100  0.686716   4.153284\n",
              "...           ...       ...       ...       ...       ...        ...\n",
              "2022-08-08  7.589  6.686700  7.214692  7.755211  6.047273   9.130727\n",
              "2022-08-09  7.833  6.708222  7.197742  7.806467  6.290033   9.375967\n",
              "2022-08-10  8.202  6.731894  7.188281  7.865667  6.656241   9.747759\n",
              "2022-08-11  8.874  6.758830  7.191358  7.956033  7.322048  10.425952\n",
              "2022-08-12  8.780  6.784772  7.194208  8.025733  7.222880  10.337120\n",
              "\n",
              "[7659 rows x 6 columns]"
            ],
            "text/html": [
              "\n",
              "  <div id=\"df-b68ace60-8f1d-4317-8771-fc4776228adc\">\n",
              "    <div class=\"colab-df-container\">\n",
              "      <div>\n",
              "<style scoped>\n",
              "    .dataframe tbody tr th:only-of-type {\n",
              "        vertical-align: middle;\n",
              "    }\n",
              "\n",
              "    .dataframe tbody tr th {\n",
              "        vertical-align: top;\n",
              "    }\n",
              "\n",
              "    .dataframe thead th {\n",
              "        text-align: right;\n",
              "    }\n",
              "</style>\n",
              "<table border=\"1\" class=\"dataframe\">\n",
              "  <thead>\n",
              "    <tr style=\"text-align: right;\">\n",
              "      <th></th>\n",
              "      <th>close</th>\n",
              "      <th>ma180</th>\n",
              "      <th>ma60</th>\n",
              "      <th>ma30</th>\n",
              "      <th>std_min</th>\n",
              "      <th>std_max</th>\n",
              "    </tr>\n",
              "  </thead>\n",
              "  <tbody>\n",
              "    <tr>\n",
              "      <th>2001-08-24</th>\n",
              "      <td>2.706</td>\n",
              "      <td>4.160425</td>\n",
              "      <td>3.130125</td>\n",
              "      <td>3.106800</td>\n",
              "      <td>0.996005</td>\n",
              "      <td>4.415995</td>\n",
              "    </tr>\n",
              "    <tr>\n",
              "      <th>2001-08-25</th>\n",
              "      <td>2.652</td>\n",
              "      <td>4.147047</td>\n",
              "      <td>3.117708</td>\n",
              "      <td>3.090933</td>\n",
              "      <td>0.936564</td>\n",
              "      <td>4.367436</td>\n",
              "    </tr>\n",
              "    <tr>\n",
              "      <th>2001-08-26</th>\n",
              "      <td>2.598</td>\n",
              "      <td>4.132092</td>\n",
              "      <td>3.107508</td>\n",
              "      <td>3.071967</td>\n",
              "      <td>0.876949</td>\n",
              "      <td>4.319051</td>\n",
              "    </tr>\n",
              "    <tr>\n",
              "      <th>2001-08-27</th>\n",
              "      <td>2.544</td>\n",
              "      <td>4.117086</td>\n",
              "      <td>3.095325</td>\n",
              "      <td>3.049133</td>\n",
              "      <td>0.817098</td>\n",
              "      <td>4.270902</td>\n",
              "    </tr>\n",
              "    <tr>\n",
              "      <th>2001-08-28</th>\n",
              "      <td>2.420</td>\n",
              "      <td>4.101725</td>\n",
              "      <td>3.084058</td>\n",
              "      <td>3.020100</td>\n",
              "      <td>0.686716</td>\n",
              "      <td>4.153284</td>\n",
              "    </tr>\n",
              "    <tr>\n",
              "      <th>...</th>\n",
              "      <td>...</td>\n",
              "      <td>...</td>\n",
              "      <td>...</td>\n",
              "      <td>...</td>\n",
              "      <td>...</td>\n",
              "      <td>...</td>\n",
              "    </tr>\n",
              "    <tr>\n",
              "      <th>2022-08-08</th>\n",
              "      <td>7.589</td>\n",
              "      <td>6.686700</td>\n",
              "      <td>7.214692</td>\n",
              "      <td>7.755211</td>\n",
              "      <td>6.047273</td>\n",
              "      <td>9.130727</td>\n",
              "    </tr>\n",
              "    <tr>\n",
              "      <th>2022-08-09</th>\n",
              "      <td>7.833</td>\n",
              "      <td>6.708222</td>\n",
              "      <td>7.197742</td>\n",
              "      <td>7.806467</td>\n",
              "      <td>6.290033</td>\n",
              "      <td>9.375967</td>\n",
              "    </tr>\n",
              "    <tr>\n",
              "      <th>2022-08-10</th>\n",
              "      <td>8.202</td>\n",
              "      <td>6.731894</td>\n",
              "      <td>7.188281</td>\n",
              "      <td>7.865667</td>\n",
              "      <td>6.656241</td>\n",
              "      <td>9.747759</td>\n",
              "    </tr>\n",
              "    <tr>\n",
              "      <th>2022-08-11</th>\n",
              "      <td>8.874</td>\n",
              "      <td>6.758830</td>\n",
              "      <td>7.191358</td>\n",
              "      <td>7.956033</td>\n",
              "      <td>7.322048</td>\n",
              "      <td>10.425952</td>\n",
              "    </tr>\n",
              "    <tr>\n",
              "      <th>2022-08-12</th>\n",
              "      <td>8.780</td>\n",
              "      <td>6.784772</td>\n",
              "      <td>7.194208</td>\n",
              "      <td>8.025733</td>\n",
              "      <td>7.222880</td>\n",
              "      <td>10.337120</td>\n",
              "    </tr>\n",
              "  </tbody>\n",
              "</table>\n",
              "<p>7659 rows × 6 columns</p>\n",
              "</div>\n",
              "      <button class=\"colab-df-convert\" onclick=\"convertToInteractive('df-b68ace60-8f1d-4317-8771-fc4776228adc')\"\n",
              "              title=\"Convert this dataframe to an interactive table.\"\n",
              "              style=\"display:none;\">\n",
              "        \n",
              "  <svg xmlns=\"http://www.w3.org/2000/svg\" height=\"24px\"viewBox=\"0 0 24 24\"\n",
              "       width=\"24px\">\n",
              "    <path d=\"M0 0h24v24H0V0z\" fill=\"none\"/>\n",
              "    <path d=\"M18.56 5.44l.94 2.06.94-2.06 2.06-.94-2.06-.94-.94-2.06-.94 2.06-2.06.94zm-11 1L8.5 8.5l.94-2.06 2.06-.94-2.06-.94L8.5 2.5l-.94 2.06-2.06.94zm10 10l.94 2.06.94-2.06 2.06-.94-2.06-.94-.94-2.06-.94 2.06-2.06.94z\"/><path d=\"M17.41 7.96l-1.37-1.37c-.4-.4-.92-.59-1.43-.59-.52 0-1.04.2-1.43.59L10.3 9.45l-7.72 7.72c-.78.78-.78 2.05 0 2.83L4 21.41c.39.39.9.59 1.41.59.51 0 1.02-.2 1.41-.59l7.78-7.78 2.81-2.81c.8-.78.8-2.07 0-2.86zM5.41 20L4 18.59l7.72-7.72 1.47 1.35L5.41 20z\"/>\n",
              "  </svg>\n",
              "      </button>\n",
              "      \n",
              "  <style>\n",
              "    .colab-df-container {\n",
              "      display:flex;\n",
              "      flex-wrap:wrap;\n",
              "      gap: 12px;\n",
              "    }\n",
              "\n",
              "    .colab-df-convert {\n",
              "      background-color: #E8F0FE;\n",
              "      border: none;\n",
              "      border-radius: 50%;\n",
              "      cursor: pointer;\n",
              "      display: none;\n",
              "      fill: #1967D2;\n",
              "      height: 32px;\n",
              "      padding: 0 0 0 0;\n",
              "      width: 32px;\n",
              "    }\n",
              "\n",
              "    .colab-df-convert:hover {\n",
              "      background-color: #E2EBFA;\n",
              "      box-shadow: 0px 1px 2px rgba(60, 64, 67, 0.3), 0px 1px 3px 1px rgba(60, 64, 67, 0.15);\n",
              "      fill: #174EA6;\n",
              "    }\n",
              "\n",
              "    [theme=dark] .colab-df-convert {\n",
              "      background-color: #3B4455;\n",
              "      fill: #D2E3FC;\n",
              "    }\n",
              "\n",
              "    [theme=dark] .colab-df-convert:hover {\n",
              "      background-color: #434B5C;\n",
              "      box-shadow: 0px 1px 3px 1px rgba(0, 0, 0, 0.15);\n",
              "      filter: drop-shadow(0px 1px 2px rgba(0, 0, 0, 0.3));\n",
              "      fill: #FFFFFF;\n",
              "    }\n",
              "  </style>\n",
              "\n",
              "      <script>\n",
              "        const buttonEl =\n",
              "          document.querySelector('#df-b68ace60-8f1d-4317-8771-fc4776228adc button.colab-df-convert');\n",
              "        buttonEl.style.display =\n",
              "          google.colab.kernel.accessAllowed ? 'block' : 'none';\n",
              "\n",
              "        async function convertToInteractive(key) {\n",
              "          const element = document.querySelector('#df-b68ace60-8f1d-4317-8771-fc4776228adc');\n",
              "          const dataTable =\n",
              "            await google.colab.kernel.invokeFunction('convertToInteractive',\n",
              "                                                     [key], {});\n",
              "          if (!dataTable) return;\n",
              "\n",
              "          const docLinkHtml = 'Like what you see? Visit the ' +\n",
              "            '<a target=\"_blank\" href=https://colab.research.google.com/notebooks/data_table.ipynb>data table notebook</a>'\n",
              "            + ' to learn more about interactive tables.';\n",
              "          element.innerHTML = '';\n",
              "          dataTable['output_type'] = 'display_data';\n",
              "          await google.colab.output.renderOutput(dataTable, element);\n",
              "          const docLink = document.createElement('div');\n",
              "          docLink.innerHTML = docLinkHtml;\n",
              "          element.appendChild(docLink);\n",
              "        }\n",
              "      </script>\n",
              "    </div>\n",
              "  </div>\n",
              "  "
            ]
          },
          "metadata": {},
          "execution_count": 49
        }
      ],
      "source": [
        "ma_resampled_df = pd.DataFrame(resampled_df['close'])\n",
        "ma_resampled_df['ma180'] = resampled_df['close'].rolling(180).mean()\n",
        "ma_resampled_df['ma60'] = resampled_df['close'].rolling(60).mean()\n",
        "ma_resampled_df['ma30'] = resampled_df['close'].rolling(30).mean()\n",
        "ma_resampled_df['std_min'] = resampled_df['close'] - resampled_df['close'].rolling(360).std()\n",
        "ma_resampled_df['std_max'] = resampled_df['close'] + resampled_df['close'].rolling(360).std()\n",
        "\n",
        "\n",
        "\n",
        "ma_resampled_df = ma_resampled_df[359:]\n",
        "ma_resampled_df"
      ]
    },
    {
      "cell_type": "code",
      "source": [
        "import seaborn as sns\n",
        "\n",
        "sns.heatmap(ma_resampled_df.corr(), cmap='jet')"
      ],
      "metadata": {
        "colab": {
          "base_uri": "https://localhost:8080/"
        },
        "id": "F3kBe_tEzWyZ",
        "outputId": "320bc135-a3d8-407b-aa4f-ebaa86e38e6c"
      },
      "execution_count": null,
      "outputs": [
        {
          "output_type": "execute_result",
          "data": {
            "text/plain": [
              "<matplotlib.axes._subplots.AxesSubplot at 0x7f367d6b15d0>"
            ]
          },
          "metadata": {},
          "execution_count": 50
        },
        {
          "output_type": "display_data",
          "data": {
            "text/plain": [
              "<Figure size 432x288 with 2 Axes>"
            ],
            "image/png": "[encoded data removed]"
          },
          "metadata": {
            "needs_background": "light"
          }
        }
      ]
    },
    {
      "cell_type": "code",
      "source": [
        "sns.heatmap(ma_resampled_df.cov(), cmap='jet')"
      ],
      "metadata": {
        "colab": {
          "base_uri": "https://localhost:8080/"
        },
        "id": "KGwWByKgz20O",
        "outputId": "946e892e-db33-4966-fb60-c8ae15974ea7"
      },
      "execution_count": null,
      "outputs": [
        {
          "output_type": "execute_result",
          "data": {
            "text/plain": [
              "<matplotlib.axes._subplots.AxesSubplot at 0x7f367d6df410>"
            ]
          },
          "metadata": {},
          "execution_count": 51
        },
        {
          "output_type": "display_data",
          "data": {
            "text/plain": [
              "<Figure size 432x288 with 2 Axes>"
            ],
            "image/png": "[encoded data removed]"
          },
          "metadata": {
            "needs_background": "light"
          }
        }
      ]
    },
    {
      "cell_type": "code",
      "source": [
        "ma_monthly_resampled_df = ma_resampled_df.resample('1M').mean()"
      ],
      "metadata": {
        "id": "0t8RKjSZ072y"
      },
      "execution_count": null,
      "outputs": []
    },
    {
      "cell_type": "code",
      "source": [
        "ma_monthly_resampled_df['close']"
      ],
      "metadata": {
        "colab": {
          "base_uri": "https://localhost:8080/"
        },
        "id": "OJWTlKBSmUyR",
        "outputId": "2b0b68e1-f54e-452e-c82b-7a68e78a8e86"
      },
      "execution_count": null,
      "outputs": [
        {
          "output_type": "execute_result",
          "data": {
            "text/plain": [
              "2001-08-31    2.504375\n",
              "2001-09-30    2.285450\n",
              "2001-10-31    2.621000\n",
              "2001-11-30    2.803333\n",
              "2001-12-31    2.715484\n",
              "                ...   \n",
              "2022-04-30    6.721633\n",
              "2022-05-31    8.117871\n",
              "2022-06-30    7.597100\n",
              "2022-07-31    7.132629\n",
              "2022-08-31    8.114333\n",
              "Freq: M, Name: close, Length: 253, dtype: float64"
            ]
          },
          "metadata": {},
          "execution_count": 53
        }
      ]
    },
    {
      "cell_type": "markdown",
      "metadata": {
        "id": "jFINaQmLQ6mi"
      },
      "source": [
        "#4. Data Augment"
      ]
    },
    {
      "cell_type": "code",
      "execution_count": null,
      "metadata": {
        "id": "yxiwUjn-fsez"
      },
      "outputs": [],
      "source": [
        "from sklearn.preprocessing import StandardScaler\n",
        "scaler = StandardScaler()"
      ]
    },
    {
      "cell_type": "code",
      "execution_count": null,
      "metadata": {
        "id": "1dyLIPPDm5nl"
      },
      "outputs": [],
      "source": [
        "monthly_resampled_df = ma_resampled_df.resample('1M').mean()"
      ]
    },
    {
      "cell_type": "markdown",
      "source": [
        ""
      ],
      "metadata": {
        "id": "EFYhJ--2NSpQ"
      }
    },
    {
      "cell_type": "code",
      "execution_count": null,
      "metadata": {
        "id": "NuyLQNJMXHZl"
      },
      "outputs": [],
      "source": [
        "def root(x):\n",
        "  return math.sqrt(x)"
      ]
    },
    {
      "cell_type": "code",
      "execution_count": null,
      "metadata": {
        "colab": {
          "base_uri": "https://localhost:8080/"
        },
        "id": "NrC9qVKJseuw",
        "outputId": "a8fa4d6b-752a-412d-f7dd-462e0a3f402a"
      },
      "outputs": [
        {
          "output_type": "stream",
          "name": "stdout",
          "text": [
            "[4.5250998, 4.4848275, 4.507883, 4.5159945, 3.6896706, 5.3605294]\n",
            "[2.2426183, 2.0974402, 2.2010741, 2.223786, 1.9783738, 2.647665]\n",
            "(181, 6) (72, 6)\n"
          ]
        }
      ],
      "source": [
        "rows, attributes = monthly_resampled_df.shape\n",
        "\n",
        "months = 72\n",
        "\n",
        "scaler_mod = scaler.fit(monthly_resampled_df)\n",
        "scaler_mean = list(map(np.float32, scaler.mean_))\n",
        "scaler_var = list(map(np.float32,scaler.scale_))\n",
        "print(list(map(np.float32, scaler_mean)))\n",
        "print(list(map(np.float32, scaler_var)))\n",
        "monthly_resampled_df_scaled = scaler.transform (monthly_resampled_df)\n",
        "train_monthly_resampled_df = monthly_resampled_df_scaled[0:(rows-months)]\n",
        "test_monthly_resampled_df = monthly_resampled_df_scaled[(rows-months):]\n",
        "\n",
        "print(train_monthly_resampled_df.shape, test_monthly_resampled_df.shape) \n"
      ]
    },
    {
      "cell_type": "code",
      "execution_count": null,
      "metadata": {
        "id": "crwwWot8-YVq"
      },
      "outputs": [],
      "source": [
        "# for rowIndex, row in enumerate(monthly_resampled_df):\n",
        "#   print(row)\n",
        "#   break"
      ]
    },
    {
      "cell_type": "code",
      "execution_count": null,
      "metadata": {
        "colab": {
          "base_uri": "https://localhost:8080/"
        },
        "id": "EBoIo9lm78ni",
        "outputId": "440dcdd3-acf3-4028-8b01-715d340ca27c"
      },
      "outputs": [
        {
          "output_type": "stream",
          "name": "stdout",
          "text": [
            "Shape of Training Data: (133, 24, 6)\n",
            "Shape of Testing Data: (133, 24)\n"
          ]
        }
      ],
      "source": [
        "def batch_gen(df, x_size=24, y_size=24):\n",
        "  X = []\n",
        "  Y = []\n",
        "  for i in range(x_size, df.shape[0]-y_size):\n",
        "    X.append(df[i-x_size:i])\n",
        "    Y.append([x[0] for x in df[i:i+y_size]])\n",
        "\n",
        "  Y = np.array(Y)\n",
        "  X = np.array(X)\n",
        "  return X ,Y\n",
        "\n",
        "\n",
        "batch_X_monthly_df_train, batch_Y_monthly_df_train = batch_gen(train_monthly_resampled_df)\n",
        "\n",
        "\n",
        "print(f'Shape of Training Data: {batch_X_monthly_df_train.shape}')\n",
        "print(f'Shape of Testing Data: {batch_Y_monthly_df_train.shape}')"
      ]
    },
    {
      "cell_type": "code",
      "source": [
        "batch_X_monthly_df_train[:45]"
      ],
      "metadata": {
        "colab": {
          "base_uri": "https://localhost:8080/"
        },
        "id": "ufMNzE04CouD",
        "outputId": "eb35a17a-79d5-4055-c7c2-a7ca177ef65e"
      },
      "execution_count": null,
      "outputs": [
        {
          "output_type": "execute_result",
          "data": {
            "text/plain": [
              "array([[[-0.9010561 , -0.17953569, -0.64459627, -0.66966072,\n",
              "         -1.47396045, -0.42505574],\n",
              "        [-0.99867637, -0.3213388 , -0.75893489, -0.86979084,\n",
              "         -1.64294526, -0.46415997],\n",
              "        [-0.84905216, -0.55573814, -0.93335294, -0.98076612,\n",
              "         -1.55266358, -0.27815112],\n",
              "        ...,\n",
              "        [ 0.62459973,  0.483066  ,  0.4466215 ,  0.5073136 ,\n",
              "          0.49979499,  0.68463961],\n",
              "        [ 0.62034635,  0.61166456,  0.61776913,  0.70437469,\n",
              "          0.48442631,  0.68891795],\n",
              "        [ 0.23205022,  0.63370074,  0.56454593,  0.40880276,\n",
              "          0.08946633,  0.32625062]],\n",
              "\n",
              "       [[-0.99867637, -0.3213388 , -0.75893489, -0.86979084,\n",
              "         -1.64294526, -0.46415997],\n",
              "        [-0.84905216, -0.55573814, -0.93335294, -0.98076612,\n",
              "         -1.55266358, -0.27815112],\n",
              "        [-0.76774838, -0.69631726, -0.86864074, -0.74689299,\n",
              "         -1.49148845, -0.18613065],\n",
              "        ...,\n",
              "        [ 0.62034635,  0.61166456,  0.61776913,  0.70437469,\n",
              "          0.48442631,  0.68891795],\n",
              "        [ 0.23205022,  0.63370074,  0.56454593,  0.40880276,\n",
              "          0.08946633,  0.32625062],\n",
              "        [ 0.19252989,  0.55807533,  0.29622739,  0.18272283,\n",
              "          0.12543888,  0.23242258]],\n",
              "\n",
              "       [[-0.84905216, -0.55573814, -0.93335294, -0.98076612,\n",
              "         -1.55266358, -0.27815112],\n",
              "        [-0.76774838, -0.69631726, -0.86864074, -0.74689299,\n",
              "         -1.49148845, -0.18613065],\n",
              "        [-0.8069211 , -0.79805248, -0.78676511, -0.81681553,\n",
              "         -1.42821075, -0.29977261],\n",
              "        ...,\n",
              "        [ 0.23205022,  0.63370074,  0.56454593,  0.40880276,\n",
              "          0.08946633,  0.32625062],\n",
              "        [ 0.19252989,  0.55807533,  0.29622739,  0.18272283,\n",
              "          0.12543888,  0.23242258],\n",
              "        [ 0.0609853 ,  0.42068757,  0.16539255,  0.13893695,\n",
              "          0.04012761,  0.07332728]],\n",
              "\n",
              "       ...,\n",
              "\n",
              "       [[ 0.7463964 ,  0.95998434,  0.808486  ,  0.76255682,\n",
              "          0.85778586,  0.62347143],\n",
              "        [ 1.11868666,  1.07899102,  0.86409894,  0.94123686,\n",
              "          1.28964534,  0.93145241],\n",
              "        [ 1.17748282,  1.14755063,  1.10081946,  1.22477488,\n",
              "          1.34742844,  0.98787879],\n",
              "        ...,\n",
              "        [ 1.52867449,  0.92619352,  0.94054387,  1.30582326,\n",
              "          1.04526037,  1.8085941 ],\n",
              "        [ 1.15602061,  1.04211019,  1.40243916,  1.45503133,\n",
              "          1.02734374,  1.190693  ],\n",
              "        [ 0.99288324,  1.08224053,  1.20824475,  0.94350704,\n",
              "          1.09899225,  0.86079581]],\n",
              "\n",
              "       [[ 1.11868666,  1.07899102,  0.86409894,  0.94123686,\n",
              "          1.28964534,  0.93145241],\n",
              "        [ 1.17748282,  1.14755063,  1.10081946,  1.22477488,\n",
              "          1.34742844,  0.98787879],\n",
              "        [ 0.87370611,  1.06972699,  1.13323086,  1.01284235,\n",
              "          1.00348879,  0.73026718],\n",
              "        ...,\n",
              "        [ 1.15602061,  1.04211019,  1.40243916,  1.45503133,\n",
              "          1.02734374,  1.190693  ],\n",
              "        [ 0.99288324,  1.08224053,  1.20824475,  0.94350704,\n",
              "          1.09899225,  0.86079581],\n",
              "        [ 1.35013107,  1.10851803,  1.10055607,  1.2383626 ,\n",
              "          1.54686704,  1.13132751]],\n",
              "\n",
              "       [[ 1.17748282,  1.14755063,  1.10081946,  1.22477488,\n",
              "          1.34742844,  0.98787879],\n",
              "        [ 0.87370611,  1.06972699,  1.13323086,  1.01284235,\n",
              "          1.00348879,  0.73026718],\n",
              "        [ 1.2016609 ,  1.04061885,  1.02976547,  1.02377159,\n",
              "          1.36986956,  1.01206898],\n",
              "        ...,\n",
              "        [ 0.99288324,  1.08224053,  1.20824475,  0.94350704,\n",
              "          1.09899225,  0.86079581],\n",
              "        [ 1.35013107,  1.10851803,  1.10055607,  1.2383626 ,\n",
              "          1.54686704,  1.13132751],\n",
              "        [ 1.1952221 ,  1.21236942,  1.26500752,  1.26973866,\n",
              "          1.36456112,  1.00512795]]])"
            ]
          },
          "metadata": {},
          "execution_count": 60
        }
      ]
    },
    {
      "cell_type": "markdown",
      "metadata": {
        "id": "FEhmivdv8izT"
      },
      "source": [
        "#6. LSTM\n"
      ]
    },
    {
      "cell_type": "code",
      "execution_count": null,
      "metadata": {
        "id": "IpCFgXpI84TZ"
      },
      "outputs": [],
      "source": [
        "import numpy as np\n",
        "from tensorflow.keras.models import Sequential\n",
        "from tensorflow.keras.layers import LSTM\n",
        "from tensorflow.keras.layers import Dense, Dropout\n",
        "from keras.layers import LeakyReLU\n",
        "from keras import backend as K\n",
        "from tensorflow import keras\n",
        "import os"
      ]
    },
    {
      "cell_type": "code",
      "source": [
        "def rmse(y_true, y_pred):\n",
        "  return K.sqrt(K.mean(K.square(y_pred - y_true)))"
      ],
      "metadata": {
        "id": "Xg1huGurJdQ4"
      },
      "execution_count": null,
      "outputs": []
    },
    {
      "cell_type": "code",
      "source": [
        "models_folder = '/content/drive/MyDrive/Models'\n",
        "model_version = len(os.listdir(models_folder)) + 1\n",
        "model_version"
      ],
      "metadata": {
        "id": "yasQ7FaOYjga",
        "colab": {
          "base_uri": "https://localhost:8080/"
        },
        "outputId": "5797925e-6f5f-412d-e955-112f24c9c768"
      },
      "execution_count": null,
      "outputs": [
        {
          "output_type": "execute_result",
          "data": {
            "text/plain": [
              "21"
            ]
          },
          "metadata": {},
          "execution_count": 63
        }
      ]
    },
    {
      "cell_type": "markdown",
      "metadata": {
        "id": "12EJlB-Lg9OE"
      },
      "source": [
        "## a. Model Compilation"
      ]
    },
    {
      "cell_type": "code",
      "execution_count": null,
      "metadata": {
        "id": "W9vvYkEK8xVL",
        "colab": {
          "base_uri": "https://localhost:8080/"
        },
        "outputId": "17744896-bf67-44fe-9c29-95e397221936"
      },
      "outputs": [
        {
          "output_type": "stream",
          "name": "stdout",
          "text": [
            "Model: \"sequential_1\"\n",
            "_________________________________________________________________\n",
            " Layer (type)                Output Shape              Param #   \n",
            "=================================================================\n",
            " lstm_3 (LSTM)               (None, 24, 70)            21560     \n",
            "                                                                 \n",
            " lstm_4 (LSTM)               (None, 24, 50)            24200     \n",
            "                                                                 \n",
            " lstm_5 (LSTM)               (None, 80)                41920     \n",
            "                                                                 \n",
            " dropout_1 (Dropout)         (None, 80)                0         \n",
            "                                                                 \n",
            " dense_1 (Dense)             (None, 24)                1944      \n",
            "                                                                 \n",
            "=================================================================\n",
            "Total params: 89,624\n",
            "Trainable params: 89,624\n",
            "Non-trainable params: 0\n",
            "_________________________________________________________________\n"
          ]
        }
      ],
      "source": [
        "model = Sequential()\n",
        "\n",
        "model.add(LSTM(70, activation=LeakyReLU(alpha=0.01), input_shape=(batch_X_monthly_df_train.shape[1], batch_X_monthly_df_train.shape[2]), return_sequences=True))\n",
        "\n",
        "model.add(LSTM(50, activation=LeakyReLU(alpha=0.01), return_sequences=True))\n",
        "\n",
        "model.add(LSTM(80, activation=LeakyReLU(alpha=0.01), return_sequences=False))\n",
        "model.add(Dropout(0.20))\n",
        "model.add(Dense(batch_Y_monthly_df_train.shape[1]))\n",
        "model.compile(loss=rmse, optimizer= keras.optimizers.Adam(learning_rate=0.003))\n",
        "early_stopping = tf.keras.callbacks.EarlyStopping(monitor='loss', patience=10)\n",
        "\n",
        "model.summary()"
      ]
    },
    {
      "cell_type": "markdown",
      "metadata": {
        "id": "N8N9nc08aeBd"
      },
      "source": [
        "## b. Model Fitting"
      ]
    },
    {
      "cell_type": "code",
      "execution_count": null,
      "metadata": {
        "id": "mwUqdcYbhC9h",
        "colab": {
          "base_uri": "https://localhost:8080/"
        },
        "outputId": "a33d6af7-3748-4a9f-c648-1eb2fab2243d"
      },
      "outputs": [
        {
          "output_type": "stream",
          "name": "stdout",
          "text": [
            "Epoch 1/100\n",
            "4/4 [==============================] - 5s 253ms/step - loss: 1.2467 - val_loss: 0.5608\n",
            "Epoch 2/100\n",
            "4/4 [==============================] - 0s 63ms/step - loss: 1.2103 - val_loss: 0.5864\n",
            "Epoch 3/100\n",
            "4/4 [==============================] - 0s 58ms/step - loss: 1.2009 - val_loss: 0.7388\n",
            "Epoch 4/100\n",
            "4/4 [==============================] - 0s 66ms/step - loss: 2.2321 - val_loss: 4.5497\n",
            "Epoch 5/100\n",
            "4/4 [==============================] - 0s 58ms/step - loss: 1.3093 - val_loss: 0.8385\n",
            "Epoch 6/100\n",
            "4/4 [==============================] - 0s 60ms/step - loss: 1.1459 - val_loss: 0.7659\n",
            "Epoch 7/100\n",
            "4/4 [==============================] - 0s 60ms/step - loss: 1.1071 - val_loss: 0.7996\n",
            "Epoch 8/100\n",
            "4/4 [==============================] - 0s 63ms/step - loss: 1.0811 - val_loss: 0.7949\n",
            "Epoch 9/100\n",
            "4/4 [==============================] - 0s 68ms/step - loss: 1.0707 - val_loss: 0.6989\n",
            "Epoch 10/100\n",
            "4/4 [==============================] - 0s 60ms/step - loss: 1.0505 - val_loss: 0.7142\n",
            "Epoch 11/100\n",
            "4/4 [==============================] - 0s 56ms/step - loss: 1.0383 - val_loss: 0.6902\n",
            "Epoch 12/100\n",
            "4/4 [==============================] - 0s 54ms/step - loss: 0.9946 - val_loss: 0.6251\n",
            "Epoch 13/100\n",
            "4/4 [==============================] - 0s 59ms/step - loss: 0.9582 - val_loss: 1.5012\n",
            "Epoch 14/100\n",
            "4/4 [==============================] - 0s 58ms/step - loss: 0.9402 - val_loss: 1.1977\n",
            "Epoch 15/100\n",
            "4/4 [==============================] - 0s 58ms/step - loss: 0.9131 - val_loss: 0.9525\n",
            "Epoch 16/100\n",
            "4/4 [==============================] - 0s 60ms/step - loss: 0.8955 - val_loss: 1.0383\n",
            "Epoch 17/100\n",
            "4/4 [==============================] - 0s 62ms/step - loss: 0.8755 - val_loss: 1.8575\n",
            "Epoch 18/100\n",
            "4/4 [==============================] - 0s 58ms/step - loss: 0.8850 - val_loss: 0.5733\n",
            "Epoch 19/100\n",
            "4/4 [==============================] - 0s 54ms/step - loss: 0.8525 - val_loss: 0.5803\n",
            "Epoch 20/100\n",
            "4/4 [==============================] - 0s 55ms/step - loss: 0.8535 - val_loss: 0.7349\n",
            "Epoch 21/100\n",
            "4/4 [==============================] - 0s 64ms/step - loss: 0.8299 - val_loss: 0.6052\n",
            "Epoch 22/100\n",
            "4/4 [==============================] - 0s 61ms/step - loss: 0.8360 - val_loss: 0.5826\n",
            "Epoch 23/100\n",
            "4/4 [==============================] - 0s 59ms/step - loss: 0.8164 - val_loss: 0.5733\n",
            "Epoch 24/100\n",
            "4/4 [==============================] - 0s 57ms/step - loss: 0.8161 - val_loss: 0.7293\n",
            "Epoch 25/100\n",
            "4/4 [==============================] - 0s 55ms/step - loss: 0.7772 - val_loss: 0.9752\n",
            "Epoch 26/100\n",
            "4/4 [==============================] - 0s 76ms/step - loss: 0.7843 - val_loss: 0.8220\n",
            "Epoch 27/100\n",
            "4/4 [==============================] - 0s 63ms/step - loss: 0.7872 - val_loss: 0.7862\n",
            "Epoch 28/100\n",
            "4/4 [==============================] - 0s 55ms/step - loss: 0.7859 - val_loss: 0.9363\n",
            "Epoch 29/100\n",
            "4/4 [==============================] - 0s 61ms/step - loss: 0.7602 - val_loss: 0.8440\n",
            "Epoch 30/100\n",
            "4/4 [==============================] - 0s 60ms/step - loss: 0.7469 - val_loss: 0.6783\n",
            "Epoch 31/100\n",
            "4/4 [==============================] - 0s 60ms/step - loss: 0.7079 - val_loss: 0.8137\n",
            "Epoch 32/100\n",
            "4/4 [==============================] - 0s 53ms/step - loss: 0.7174 - val_loss: 0.8934\n",
            "Epoch 33/100\n",
            "4/4 [==============================] - 0s 55ms/step - loss: 0.7175 - val_loss: 0.9979\n",
            "Epoch 34/100\n",
            "4/4 [==============================] - 0s 62ms/step - loss: 0.6837 - val_loss: 0.7292\n",
            "Epoch 35/100\n",
            "4/4 [==============================] - 0s 59ms/step - loss: 0.6704 - val_loss: 0.7498\n",
            "Epoch 36/100\n",
            "4/4 [==============================] - 0s 60ms/step - loss: 0.6680 - val_loss: 1.2443\n",
            "Epoch 37/100\n",
            "4/4 [==============================] - 0s 59ms/step - loss: 0.6277 - val_loss: 0.8776\n",
            "Epoch 38/100\n",
            "4/4 [==============================] - 0s 64ms/step - loss: 0.6212 - val_loss: 0.7737\n",
            "Epoch 39/100\n",
            "4/4 [==============================] - 0s 63ms/step - loss: 0.5985 - val_loss: 0.9028\n",
            "Epoch 40/100\n",
            "4/4 [==============================] - 0s 59ms/step - loss: 0.5810 - val_loss: 0.7287\n",
            "Epoch 41/100\n",
            "4/4 [==============================] - 0s 68ms/step - loss: 0.5923 - val_loss: 0.6895\n",
            "Epoch 42/100\n",
            "4/4 [==============================] - 0s 61ms/step - loss: 0.5829 - val_loss: 0.9026\n",
            "Epoch 43/100\n",
            "4/4 [==============================] - 0s 68ms/step - loss: 0.5919 - val_loss: 0.7104\n",
            "Epoch 44/100\n",
            "4/4 [==============================] - 0s 63ms/step - loss: 0.5874 - val_loss: 0.6894\n",
            "Epoch 45/100\n",
            "4/4 [==============================] - 0s 62ms/step - loss: 0.5360 - val_loss: 0.6821\n",
            "Epoch 46/100\n",
            "4/4 [==============================] - 0s 62ms/step - loss: 0.5402 - val_loss: 0.6551\n",
            "Epoch 47/100\n",
            "4/4 [==============================] - 0s 62ms/step - loss: 0.5269 - val_loss: 0.7570\n",
            "Epoch 48/100\n",
            "4/4 [==============================] - 0s 60ms/step - loss: 0.5210 - val_loss: 0.6197\n",
            "Epoch 49/100\n",
            "4/4 [==============================] - 0s 67ms/step - loss: 0.4890 - val_loss: 0.6930\n",
            "Epoch 50/100\n",
            "4/4 [==============================] - 0s 57ms/step - loss: 0.5270 - val_loss: 0.7237\n",
            "Epoch 51/100\n",
            "4/4 [==============================] - 0s 64ms/step - loss: 0.5042 - val_loss: 0.7198\n",
            "Epoch 52/100\n",
            "4/4 [==============================] - 0s 66ms/step - loss: 0.4983 - val_loss: 0.6920\n",
            "Epoch 53/100\n",
            "4/4 [==============================] - 0s 60ms/step - loss: 0.4844 - val_loss: 0.6787\n",
            "Epoch 54/100\n",
            "4/4 [==============================] - 0s 58ms/step - loss: 0.4854 - val_loss: 0.7625\n",
            "Epoch 55/100\n",
            "4/4 [==============================] - 0s 62ms/step - loss: 0.4790 - val_loss: 0.8344\n",
            "Epoch 56/100\n",
            "4/4 [==============================] - 0s 57ms/step - loss: 0.4891 - val_loss: 0.9223\n",
            "Epoch 57/100\n",
            "4/4 [==============================] - 0s 62ms/step - loss: 0.4852 - val_loss: 1.1217\n",
            "Epoch 58/100\n",
            "4/4 [==============================] - 0s 55ms/step - loss: 0.4568 - val_loss: 1.0657\n",
            "Epoch 59/100\n",
            "4/4 [==============================] - 0s 57ms/step - loss: 0.4466 - val_loss: 1.2173\n",
            "Epoch 60/100\n",
            "4/4 [==============================] - 0s 64ms/step - loss: 0.4518 - val_loss: 0.8806\n",
            "Epoch 61/100\n",
            "4/4 [==============================] - 0s 59ms/step - loss: 0.4585 - val_loss: 1.1421\n",
            "Epoch 62/100\n",
            "4/4 [==============================] - 0s 61ms/step - loss: 0.4628 - val_loss: 0.9627\n",
            "Epoch 63/100\n",
            "4/4 [==============================] - 0s 57ms/step - loss: 0.4465 - val_loss: 1.1719\n",
            "Epoch 64/100\n",
            "4/4 [==============================] - 0s 61ms/step - loss: 0.4748 - val_loss: 0.6209\n",
            "Epoch 65/100\n",
            "4/4 [==============================] - 0s 61ms/step - loss: 0.4938 - val_loss: 0.4788\n",
            "Epoch 66/100\n",
            "4/4 [==============================] - 0s 57ms/step - loss: 0.4592 - val_loss: 0.5539\n",
            "Epoch 67/100\n",
            "4/4 [==============================] - 0s 59ms/step - loss: 0.4576 - val_loss: 0.6393\n",
            "Epoch 68/100\n",
            "4/4 [==============================] - 0s 58ms/step - loss: 0.4439 - val_loss: 0.7199\n",
            "Epoch 69/100\n",
            "4/4 [==============================] - 0s 58ms/step - loss: 0.4580 - val_loss: 0.6092\n",
            "Epoch 70/100\n",
            "4/4 [==============================] - 0s 61ms/step - loss: 0.4292 - val_loss: 0.6076\n",
            "Epoch 71/100\n",
            "4/4 [==============================] - 0s 60ms/step - loss: 0.4125 - val_loss: 0.7366\n",
            "Epoch 72/100\n",
            "4/4 [==============================] - 0s 60ms/step - loss: 0.4279 - val_loss: 0.9133\n",
            "Epoch 73/100\n",
            "4/4 [==============================] - 0s 63ms/step - loss: 0.4047 - val_loss: 0.7187\n",
            "Epoch 74/100\n",
            "4/4 [==============================] - 0s 58ms/step - loss: 0.4245 - val_loss: 0.6538\n",
            "Epoch 75/100\n",
            "4/4 [==============================] - 0s 56ms/step - loss: 0.4141 - val_loss: 0.7058\n",
            "Epoch 76/100\n",
            "4/4 [==============================] - 0s 60ms/step - loss: 0.3862 - val_loss: 0.7445\n",
            "Epoch 77/100\n",
            "4/4 [==============================] - 0s 65ms/step - loss: 0.3999 - val_loss: 0.7999\n",
            "Epoch 78/100\n",
            "4/4 [==============================] - 0s 60ms/step - loss: 0.4376 - val_loss: 0.8281\n",
            "Epoch 79/100\n",
            "4/4 [==============================] - 0s 64ms/step - loss: 0.4207 - val_loss: 0.7569\n",
            "Epoch 80/100\n",
            "4/4 [==============================] - 0s 61ms/step - loss: 0.3934 - val_loss: 0.8926\n",
            "Epoch 81/100\n",
            "4/4 [==============================] - 0s 62ms/step - loss: 0.4154 - val_loss: 0.9065\n",
            "Epoch 82/100\n",
            "4/4 [==============================] - 0s 75ms/step - loss: 0.3993 - val_loss: 0.7172\n",
            "Epoch 83/100\n",
            "4/4 [==============================] - 0s 65ms/step - loss: 0.3864 - val_loss: 0.6286\n",
            "Epoch 84/100\n",
            "4/4 [==============================] - 0s 55ms/step - loss: 0.3795 - val_loss: 0.7497\n",
            "Epoch 85/100\n",
            "4/4 [==============================] - 0s 67ms/step - loss: 0.3725 - val_loss: 0.8899\n",
            "Epoch 86/100\n",
            "4/4 [==============================] - 0s 67ms/step - loss: 0.3799 - val_loss: 0.8094\n",
            "Epoch 87/100\n",
            "4/4 [==============================] - 0s 63ms/step - loss: 0.3805 - val_loss: 0.7146\n",
            "Epoch 88/100\n",
            "4/4 [==============================] - 0s 61ms/step - loss: 0.3845 - val_loss: 0.7025\n",
            "Epoch 89/100\n",
            "4/4 [==============================] - 0s 62ms/step - loss: 0.4029 - val_loss: 0.7168\n",
            "Epoch 90/100\n",
            "4/4 [==============================] - 0s 64ms/step - loss: 0.3794 - val_loss: 0.6348\n",
            "Epoch 91/100\n",
            "4/4 [==============================] - 0s 65ms/step - loss: 0.3728 - val_loss: 0.6869\n",
            "Epoch 92/100\n",
            "4/4 [==============================] - 0s 65ms/step - loss: 0.4000 - val_loss: 0.6863\n",
            "Epoch 93/100\n",
            "4/4 [==============================] - 0s 68ms/step - loss: 0.3729 - val_loss: 0.7342\n",
            "Epoch 94/100\n",
            "4/4 [==============================] - 0s 71ms/step - loss: 0.3890 - val_loss: 0.7544\n",
            "Epoch 95/100\n",
            "4/4 [==============================] - 0s 75ms/step - loss: 0.3750 - val_loss: 0.7815\n"
          ]
        }
      ],
      "source": [
        "history = model.fit(batch_X_monthly_df_train, batch_Y_monthly_df_train, epochs=100, batch_size = 32, validation_split=0.2 , verbose = 1, callbacks=[early_stopping])"
      ]
    },
    {
      "cell_type": "code",
      "execution_count": null,
      "metadata": {
        "id": "vcVr397ukTXY",
        "colab": {
          "base_uri": "https://localhost:8080/",
          "height": 358
        },
        "outputId": "4c3764e1-7424-4038-b8c1-0b2a9a13b7d0"
      },
      "outputs": [
        {
          "output_type": "display_data",
          "data": {
            "text/plain": [
              "<Figure size 1080x360 with 2 Axes>"
            ],
            "image/png": "[encoded data removed]"
          },
          "metadata": {
            "needs_background": "light"
          }
        }
      ],
      "source": [
        "fig, (ax1, ax2) = plt.subplots(1,2, figsize=[15,5])\n",
        "ax1.plot(history.history['loss'][20:], label='Training loss', c='orange')\n",
        "ax2.plot(history.history['val_loss'][20:], label='Validation loss' , c = 'green')\n",
        "fig.legend()\n",
        "fig.show()"
      ]
    },
    {
      "cell_type": "code",
      "execution_count": null,
      "metadata": {
        "id": "cjkxQZo8p3fC",
        "colab": {
          "base_uri": "https://localhost:8080/"
        },
        "outputId": "d9d53e2d-955e-4b63-dbb1-a32f032c2486"
      },
      "outputs": [
        {
          "output_type": "stream",
          "name": "stdout",
          "text": [
            "Shape of Testing Data: (24, 24, 6)\n",
            "Shape of Validating Data: (24, 24)\n"
          ]
        }
      ],
      "source": [
        "batch_X_monthly_df_test, batch_Y_monthly_df_test  = batch_gen(test_monthly_resampled_df)\n",
        "print(f'Shape of Testing Data: {batch_X_monthly_df_test.shape}')\n",
        "print(f'Shape of Validating Data: {batch_Y_monthly_df_test.shape}')\n",
        "\n"
      ]
    },
    {
      "cell_type": "code",
      "execution_count": null,
      "metadata": {
        "id": "7Wzq1_BKrWMX",
        "colab": {
          "base_uri": "https://localhost:8080/",
          "height": 360
        },
        "outputId": "e8fdc870-d760-45e2-80a5-596823749fdd"
      },
      "outputs": [
        {
          "output_type": "stream",
          "name": "stdout",
          "text": [
            "[[-2.1347291  -2.0260081  -1.638247   -1.3294218  -1.0005461  -0.39111853\n",
            "  -0.15299429 -0.25707805 -0.15421063 -0.33498502 -0.2061392  -0.04638811\n",
            "   0.24159873  0.11544144  0.07614243  0.07977444 -0.01663511 -0.07477854\n",
            "  -0.37687767 -0.20614937 -0.04944722  0.21371384  0.4913592   0.8761362 ]]\n"
          ]
        },
        {
          "output_type": "execute_result",
          "data": {
            "text/plain": [
              "[<matplotlib.lines.Line2D at 0x7f3678e3fb10>]"
            ]
          },
          "metadata": {},
          "execution_count": 74
        },
        {
          "output_type": "display_data",
          "data": {
            "text/plain": [
              "<Figure size 432x288 with 1 Axes>"
            ],
            "image/png": "[encoded data removed]"
          },
          "metadata": {
            "needs_background": "light"
          }
        }
      ],
      "source": [
        "index = 0\n",
        "pred_data = batch_X_monthly_df_test[index]\n",
        "\n",
        "result = []\n",
        "\n",
        "res = model.predict(np.array([pred_data]))\n",
        "\n",
        "print(res)\n",
        "plt.plot(res[0])\n",
        "plt.plot(batch_Y_monthly_df_test[index])\n",
        "# for i in range(0, 36):\n",
        "#   res = model.predict(np.array([pred_data]))[0,0]\n",
        "#   res = (res * scaler_var[0]) + scaler_mean[0]\n",
        "#   result.append(res)\n",
        "#   pred_data = scaler.inverse_transform(pred_data)\n",
        "#   res_30 = res\n",
        "#   res_60 = sum([*pred_data[-2:,2] , res])/4\n",
        "#   res_180 = sum([*pred_data[-5:,2] , res])/8\n",
        "#   pred_data = list(pred_data)\n",
        "#   pred_data.append(np.array([res, res_30, res_60, res_180]))\n",
        "#   pred_data.pop(0)\n",
        "#   pred_data = np.array(pred_data)\n",
        "#   pred_data = scaler.transform(pred_data)\n",
        "\n",
        "# print(result)"
      ]
    },
    {
      "cell_type": "code",
      "execution_count": null,
      "metadata": {
        "id": "ecHWr-bLTiWb",
        "colab": {
          "base_uri": "https://localhost:8080/",
          "height": 283
        },
        "outputId": "15267d42-ccb0-49af-b166-9bd970c0b80c"
      },
      "outputs": [
        {
          "output_type": "stream",
          "name": "stdout",
          "text": [
            "[]\n"
          ]
        },
        {
          "output_type": "display_data",
          "data": {
            "text/plain": [
              "<Figure size 432x288 with 1 Axes>"
            ],
            "image/png": "[encoded data removed]"
          },
          "metadata": {
            "needs_background": "light"
          }
        }
      ],
      "source": [
        "test_monthly_resampled_df_unscaled = scaler.inverse_transform(test_monthly_resampled_df)\n",
        "print(result[:])\n",
        "plt.plot(result[:], label='Predictions', c='green')\n",
        "plt.plot(test_monthly_resampled_df_unscaled[12:, 0], label='Observed' , c = 'orange')\n",
        "plt.legend()\n",
        "plt.show()"
      ]
    },
    {
      "cell_type": "markdown",
      "source": [
        "## c. Model Save"
      ],
      "metadata": {
        "id": "-Iy43Q3FXZpG"
      }
    },
    {
      "cell_type": "code",
      "source": [
        "save_model = str(input('Do you want to save model[y/n]: '))\n",
        "if save_model.lower() != 'n':\n",
        "  model.save(f'/content/drive/MyDrive/Models/Model_V{model_version}')\n",
        "\n"
      ],
      "metadata": {
        "id": "XJl0WiD4Xo_a",
        "colab": {
          "base_uri": "https://localhost:8080/"
        },
        "outputId": "e82e135b-1938-472a-a242-6ebd240afdbf"
      },
      "execution_count": null,
      "outputs": [
        {
          "name": "stdout",
          "output_type": "stream",
          "text": [
            "Do you want to save model[y/n]: n\n"
          ]
        }
      ]
    },
    {
      "cell_type": "markdown",
      "source": [
        ""
      ],
      "metadata": {
        "id": "Q71fWqmqj2Jq"
      }
    }
  ],
  "metadata": {
    "colab": {
      "collapsed_sections": [
        "pPH79Y7sDGxk"
      ],
      "name": "LSTM_V4[Boole].ipynb",
      "provenance": []
    },
    "kernelspec": {
      "display_name": "Python 3",
      "name": "python3"
    },
    "language_info": {
      "name": "python"
    }
  },
  "nbformat": 4,
  "nbformat_minor": 0
}