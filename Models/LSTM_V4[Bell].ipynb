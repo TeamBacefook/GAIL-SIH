{
  "cells": [
    {
      "cell_type": "markdown",
      "metadata": {
        "id": "1tVqv6xQCRBe"
      },
      "source": [
        "#1. Import"
      ]
    },
    {
      "cell_type": "code",
      "source": [
        "!pip install yahoo_fin\n",
        "!pip install matplotlib"
      ],
      "metadata": {
        "colab": {
          "base_uri": "https://localhost:8080/"
        },
        "id": "fE0Xygi_vA0z",
        "outputId": "29f819e8-d843-4a21-f0bb-7fe2f3bb897d"
      },
      "execution_count": null,
      "outputs": [
        {
          "output_type": "stream",
          "name": "stdout",
          "text": [
            "Looking in indexes: https://pypi.org/simple, https://us-python.pkg.dev/colab-wheels/public/simple/\n",
            "Collecting yahoo_fin\n",
            "  Downloading yahoo_fin-0.8.9.1-py3-none-any.whl (10 kB)\n",
            "Requirement already satisfied: pandas in /usr/local/lib/python3.7/dist-packages (from yahoo_fin) (1.3.5)\n",
            "Requirement already satisfied: requests in /usr/local/lib/python3.7/dist-packages (from yahoo_fin) (2.23.0)\n",
            "Collecting feedparser\n",
            "  Downloading feedparser-6.0.10-py3-none-any.whl (81 kB)\n",
            "\u001b[K     |████████████████████████████████| 81 kB 2.7 MB/s \n",
            "\u001b[?25hCollecting requests-html\n",
            "  Downloading requests_html-0.10.0-py3-none-any.whl (13 kB)\n",
            "Collecting sgmllib3k\n",
            "  Downloading sgmllib3k-1.0.0.tar.gz (5.8 kB)\n",
            "Requirement already satisfied: python-dateutil>=2.7.3 in /usr/local/lib/python3.7/dist-packages (from pandas->yahoo_fin) (2.8.2)\n",
            "Requirement already satisfied: numpy>=1.17.3 in /usr/local/lib/python3.7/dist-packages (from pandas->yahoo_fin) (1.21.6)\n",
            "Requirement already satisfied: pytz>=2017.3 in /usr/local/lib/python3.7/dist-packages (from pandas->yahoo_fin) (2022.1)\n",
            "Requirement already satisfied: six>=1.5 in /usr/local/lib/python3.7/dist-packages (from python-dateutil>=2.7.3->pandas->yahoo_fin) (1.15.0)\n",
            "Requirement already satisfied: idna<3,>=2.5 in /usr/local/lib/python3.7/dist-packages (from requests->yahoo_fin) (2.10)\n",
            "Requirement already satisfied: certifi>=2017.4.17 in /usr/local/lib/python3.7/dist-packages (from requests->yahoo_fin) (2022.6.15)\n",
            "Requirement already satisfied: chardet<4,>=3.0.2 in /usr/local/lib/python3.7/dist-packages (from requests->yahoo_fin) (3.0.4)\n",
            "Requirement already satisfied: urllib3!=1.25.0,!=1.25.1,<1.26,>=1.21.1 in /usr/local/lib/python3.7/dist-packages (from requests->yahoo_fin) (1.24.3)\n",
            "Collecting fake-useragent\n",
            "  Downloading fake-useragent-0.1.11.tar.gz (13 kB)\n",
            "Collecting w3lib\n",
            "  Downloading w3lib-2.0.1-py3-none-any.whl (20 kB)\n",
            "Collecting parse\n",
            "  Downloading parse-1.19.0.tar.gz (30 kB)\n",
            "Requirement already satisfied: bs4 in /usr/local/lib/python3.7/dist-packages (from requests-html->yahoo_fin) (0.0.1)\n",
            "Collecting pyquery\n",
            "  Downloading pyquery-1.4.3-py3-none-any.whl (22 kB)\n",
            "Collecting pyppeteer>=0.0.14\n",
            "  Downloading pyppeteer-1.0.2-py3-none-any.whl (83 kB)\n",
            "\u001b[K     |████████████████████████████████| 83 kB 2.1 MB/s \n",
            "\u001b[?25hCollecting urllib3!=1.25.0,!=1.25.1,<1.26,>=1.21.1\n",
            "  Downloading urllib3-1.25.11-py2.py3-none-any.whl (127 kB)\n",
            "\u001b[K     |████████████████████████████████| 127 kB 25.5 MB/s \n",
            "\u001b[?25hCollecting websockets<11.0,>=10.0\n",
            "  Downloading websockets-10.3-cp37-cp37m-manylinux_2_5_x86_64.manylinux1_x86_64.manylinux_2_12_x86_64.manylinux2010_x86_64.whl (112 kB)\n",
            "\u001b[K     |████████████████████████████████| 112 kB 51.5 MB/s \n",
            "\u001b[?25hRequirement already satisfied: tqdm<5.0.0,>=4.42.1 in /usr/local/lib/python3.7/dist-packages (from pyppeteer>=0.0.14->requests-html->yahoo_fin) (4.64.0)\n",
            "Collecting pyee<9.0.0,>=8.1.0\n",
            "  Downloading pyee-8.2.2-py2.py3-none-any.whl (12 kB)\n",
            "Requirement already satisfied: importlib-metadata>=1.4 in /usr/local/lib/python3.7/dist-packages (from pyppeteer>=0.0.14->requests-html->yahoo_fin) (4.12.0)\n",
            "Requirement already satisfied: appdirs<2.0.0,>=1.4.3 in /usr/local/lib/python3.7/dist-packages (from pyppeteer>=0.0.14->requests-html->yahoo_fin) (1.4.4)\n",
            "Requirement already satisfied: zipp>=0.5 in /usr/local/lib/python3.7/dist-packages (from importlib-metadata>=1.4->pyppeteer>=0.0.14->requests-html->yahoo_fin) (3.8.1)\n",
            "Requirement already satisfied: typing-extensions>=3.6.4 in /usr/local/lib/python3.7/dist-packages (from importlib-metadata>=1.4->pyppeteer>=0.0.14->requests-html->yahoo_fin) (4.1.1)\n",
            "Requirement already satisfied: beautifulsoup4 in /usr/local/lib/python3.7/dist-packages (from bs4->requests-html->yahoo_fin) (4.6.3)\n",
            "Collecting cssselect>0.7.9\n",
            "  Downloading cssselect-1.1.0-py2.py3-none-any.whl (16 kB)\n",
            "Requirement already satisfied: lxml>=2.1 in /usr/local/lib/python3.7/dist-packages (from pyquery->requests-html->yahoo_fin) (4.9.1)\n",
            "Building wheels for collected packages: fake-useragent, parse, sgmllib3k\n",
            "  Building wheel for fake-useragent (setup.py) ... \u001b[?25l\u001b[?25hdone\n",
            "  Created wheel for fake-useragent: filename=fake_useragent-0.1.11-py3-none-any.whl size=13502 sha256=e6459343bd58b5c4cf9ea0ec84bf8593ca91a999b8a2c25588a4b1b02d5fae9a\n",
            "  Stored in directory: /root/.cache/pip/wheels/ed/f7/62/50ab6c9a0b5567267ab76a9daa9d06315704209b2c5d032031\n",
            "  Building wheel for parse (setup.py) ... \u001b[?25l\u001b[?25hdone\n",
            "  Created wheel for parse: filename=parse-1.19.0-py3-none-any.whl size=24591 sha256=c6d7dc5e5d6ecc6ae4f3454ba9bcebe84e0dacf0e15e01dcc9e94d5ada7bd192\n",
            "  Stored in directory: /root/.cache/pip/wheels/9c/aa/cc/f2228050ccb40f22144b073f15a2c84f11204f29fc0dce028e\n",
            "  Building wheel for sgmllib3k (setup.py) ... \u001b[?25l\u001b[?25hdone\n",
            "  Created wheel for sgmllib3k: filename=sgmllib3k-1.0.0-py3-none-any.whl size=6066 sha256=9f2eacbc0031f6ccabdb65626796fc4d11b66ad7418017c4c9d9345f3d212540\n",
            "  Stored in directory: /root/.cache/pip/wheels/73/ad/a4/0dff4a6ef231fc0dfa12ffbac2a36cebfdddfe059f50e019aa\n",
            "Successfully built fake-useragent parse sgmllib3k\n",
            "Installing collected packages: websockets, urllib3, pyee, cssselect, w3lib, sgmllib3k, pyquery, pyppeteer, parse, fake-useragent, requests-html, feedparser, yahoo-fin\n",
            "  Attempting uninstall: urllib3\n",
            "    Found existing installation: urllib3 1.24.3\n",
            "    Uninstalling urllib3-1.24.3:\n",
            "      Successfully uninstalled urllib3-1.24.3\n",
            "Successfully installed cssselect-1.1.0 fake-useragent-0.1.11 feedparser-6.0.10 parse-1.19.0 pyee-8.2.2 pyppeteer-1.0.2 pyquery-1.4.3 requests-html-0.10.0 sgmllib3k-1.0.0 urllib3-1.25.11 w3lib-2.0.1 websockets-10.3 yahoo-fin-0.8.9.1\n",
            "Looking in indexes: https://pypi.org/simple, https://us-python.pkg.dev/colab-wheels/public/simple/\n",
            "Requirement already satisfied: matplotlib in /usr/local/lib/python3.7/dist-packages (3.2.2)\n",
            "Requirement already satisfied: cycler>=0.10 in /usr/local/lib/python3.7/dist-packages (from matplotlib) (0.11.0)\n",
            "Requirement already satisfied: numpy>=1.11 in /usr/local/lib/python3.7/dist-packages (from matplotlib) (1.21.6)\n",
            "Requirement already satisfied: python-dateutil>=2.1 in /usr/local/lib/python3.7/dist-packages (from matplotlib) (2.8.2)\n",
            "Requirement already satisfied: kiwisolver>=1.0.1 in /usr/local/lib/python3.7/dist-packages (from matplotlib) (1.4.4)\n",
            "Requirement already satisfied: pyparsing!=2.0.4,!=2.1.2,!=2.1.6,>=2.0.1 in /usr/local/lib/python3.7/dist-packages (from matplotlib) (3.0.9)\n",
            "Requirement already satisfied: typing-extensions in /usr/local/lib/python3.7/dist-packages (from kiwisolver>=1.0.1->matplotlib) (4.1.1)\n",
            "Requirement already satisfied: six>=1.5 in /usr/local/lib/python3.7/dist-packages (from python-dateutil>=2.1->matplotlib) (1.15.0)\n"
          ]
        }
      ]
    },
    {
      "cell_type": "code",
      "execution_count": null,
      "metadata": {
        "id": "108bTPBmBrL1"
      },
      "outputs": [],
      "source": [
        "import tensorflow as tf\n",
        "import pandas as pd\n",
        "from yahoo_fin import stock_info as si\n",
        "import matplotlib.pyplot as plt\n",
        "import numpy as np\n",
        "from statsmodels.graphics.tsaplots import plot_acf\n",
        "import math\n",
        "from statsmodels.tsa.seasonal import seasonal_decompose\n",
        "import jinja2"
      ]
    },
    {
      "cell_type": "code",
      "source": [
        "from google.colab import drive\n",
        "drive.mount('/content/drive')"
      ],
      "metadata": {
        "colab": {
          "base_uri": "https://localhost:8080/"
        },
        "id": "Vs_EraomH0OO",
        "outputId": "03746d96-47fc-45d6-87a1-8a3e03dc6969"
      },
      "execution_count": null,
      "outputs": [
        {
          "output_type": "stream",
          "name": "stdout",
          "text": [
            "Drive already mounted at /content/drive; to attempt to forcibly remount, call drive.mount(\"/content/drive\", force_remount=True).\n"
          ]
        }
      ]
    },
    {
      "cell_type": "markdown",
      "metadata": {
        "id": "eWbWy13GCVAJ"
      },
      "source": [
        "#2. Collect"
      ]
    },
    {
      "cell_type": "code",
      "execution_count": null,
      "metadata": {
        "id": "lfy2O8-eCYRG"
      },
      "outputs": [],
      "source": [
        "df = {}\n",
        "df = si.get_data('NG=F')\n",
        "df = pd.DataFrame(df)\n",
        "df = df [['open', 'close', 'high', 'low']].round(3)\n",
        "resampled_df = df.resample('1D').mean()\n",
        "resampled_df.interpolate(method='linear', axis = 0, inplace= True, limit_direction='forward')\n",
        "plt.show()"
      ]
    },
    {
      "cell_type": "markdown",
      "metadata": {
        "id": "pPH79Y7sDGxk"
      },
      "source": [
        "#3. Preliminary Analysis"
      ]
    },
    {
      "cell_type": "code",
      "execution_count": null,
      "metadata": {
        "colab": {
          "base_uri": "https://localhost:8080/",
          "height": 175
        },
        "id": "wK1Cy8WvDLNp",
        "outputId": "0b121446-d73e-412a-a529-ff3b14eb918d"
      },
      "outputs": [
        {
          "output_type": "execute_result",
          "data": {
            "text/plain": [
              "           open     close      high       low\n",
              "open   1.000000  0.997650  0.998691  0.998891\n",
              "close  0.997650  1.000000  0.998852  0.998904\n",
              "high   0.998691  0.998852  1.000000  0.998250\n",
              "low    0.998891  0.998904  0.998250  1.000000"
            ],
            "text/html": [
              "\n",
              "  <div id=\"df-376a8932-be23-4bd7-a759-f8e0572f3a3e\">\n",
              "    <div class=\"colab-df-container\">\n",
              "      <div>\n",
              "<style scoped>\n",
              "    .dataframe tbody tr th:only-of-type {\n",
              "        vertical-align: middle;\n",
              "    }\n",
              "\n",
              "    .dataframe tbody tr th {\n",
              "        vertical-align: top;\n",
              "    }\n",
              "\n",
              "    .dataframe thead th {\n",
              "        text-align: right;\n",
              "    }\n",
              "</style>\n",
              "<table border=\"1\" class=\"dataframe\">\n",
              "  <thead>\n",
              "    <tr style=\"text-align: right;\">\n",
              "      <th></th>\n",
              "      <th>open</th>\n",
              "      <th>close</th>\n",
              "      <th>high</th>\n",
              "      <th>low</th>\n",
              "    </tr>\n",
              "  </thead>\n",
              "  <tbody>\n",
              "    <tr>\n",
              "      <th>open</th>\n",
              "      <td>1.000000</td>\n",
              "      <td>0.997650</td>\n",
              "      <td>0.998691</td>\n",
              "      <td>0.998891</td>\n",
              "    </tr>\n",
              "    <tr>\n",
              "      <th>close</th>\n",
              "      <td>0.997650</td>\n",
              "      <td>1.000000</td>\n",
              "      <td>0.998852</td>\n",
              "      <td>0.998904</td>\n",
              "    </tr>\n",
              "    <tr>\n",
              "      <th>high</th>\n",
              "      <td>0.998691</td>\n",
              "      <td>0.998852</td>\n",
              "      <td>1.000000</td>\n",
              "      <td>0.998250</td>\n",
              "    </tr>\n",
              "    <tr>\n",
              "      <th>low</th>\n",
              "      <td>0.998891</td>\n",
              "      <td>0.998904</td>\n",
              "      <td>0.998250</td>\n",
              "      <td>1.000000</td>\n",
              "    </tr>\n",
              "  </tbody>\n",
              "</table>\n",
              "</div>\n",
              "      <button class=\"colab-df-convert\" onclick=\"convertToInteractive('df-376a8932-be23-4bd7-a759-f8e0572f3a3e')\"\n",
              "              title=\"Convert this dataframe to an interactive table.\"\n",
              "              style=\"display:none;\">\n",
              "        \n",
              "  <svg xmlns=\"http://www.w3.org/2000/svg\" height=\"24px\"viewBox=\"0 0 24 24\"\n",
              "       width=\"24px\">\n",
              "    <path d=\"M0 0h24v24H0V0z\" fill=\"none\"/>\n",
              "    <path d=\"M18.56 5.44l.94 2.06.94-2.06 2.06-.94-2.06-.94-.94-2.06-.94 2.06-2.06.94zm-11 1L8.5 8.5l.94-2.06 2.06-.94-2.06-.94L8.5 2.5l-.94 2.06-2.06.94zm10 10l.94 2.06.94-2.06 2.06-.94-2.06-.94-.94-2.06-.94 2.06-2.06.94z\"/><path d=\"M17.41 7.96l-1.37-1.37c-.4-.4-.92-.59-1.43-.59-.52 0-1.04.2-1.43.59L10.3 9.45l-7.72 7.72c-.78.78-.78 2.05 0 2.83L4 21.41c.39.39.9.59 1.41.59.51 0 1.02-.2 1.41-.59l7.78-7.78 2.81-2.81c.8-.78.8-2.07 0-2.86zM5.41 20L4 18.59l7.72-7.72 1.47 1.35L5.41 20z\"/>\n",
              "  </svg>\n",
              "      </button>\n",
              "      \n",
              "  <style>\n",
              "    .colab-df-container {\n",
              "      display:flex;\n",
              "      flex-wrap:wrap;\n",
              "      gap: 12px;\n",
              "    }\n",
              "\n",
              "    .colab-df-convert {\n",
              "      background-color: #E8F0FE;\n",
              "      border: none;\n",
              "      border-radius: 50%;\n",
              "      cursor: pointer;\n",
              "      display: none;\n",
              "      fill: #1967D2;\n",
              "      height: 32px;\n",
              "      padding: 0 0 0 0;\n",
              "      width: 32px;\n",
              "    }\n",
              "\n",
              "    .colab-df-convert:hover {\n",
              "      background-color: #E2EBFA;\n",
              "      box-shadow: 0px 1px 2px rgba(60, 64, 67, 0.3), 0px 1px 3px 1px rgba(60, 64, 67, 0.15);\n",
              "      fill: #174EA6;\n",
              "    }\n",
              "\n",
              "    [theme=dark] .colab-df-convert {\n",
              "      background-color: #3B4455;\n",
              "      fill: #D2E3FC;\n",
              "    }\n",
              "\n",
              "    [theme=dark] .colab-df-convert:hover {\n",
              "      background-color: #434B5C;\n",
              "      box-shadow: 0px 1px 3px 1px rgba(0, 0, 0, 0.15);\n",
              "      filter: drop-shadow(0px 1px 2px rgba(0, 0, 0, 0.3));\n",
              "      fill: #FFFFFF;\n",
              "    }\n",
              "  </style>\n",
              "\n",
              "      <script>\n",
              "        const buttonEl =\n",
              "          document.querySelector('#df-376a8932-be23-4bd7-a759-f8e0572f3a3e button.colab-df-convert');\n",
              "        buttonEl.style.display =\n",
              "          google.colab.kernel.accessAllowed ? 'block' : 'none';\n",
              "\n",
              "        async function convertToInteractive(key) {\n",
              "          const element = document.querySelector('#df-376a8932-be23-4bd7-a759-f8e0572f3a3e');\n",
              "          const dataTable =\n",
              "            await google.colab.kernel.invokeFunction('convertToInteractive',\n",
              "                                                     [key], {});\n",
              "          if (!dataTable) return;\n",
              "\n",
              "          const docLinkHtml = 'Like what you see? Visit the ' +\n",
              "            '<a target=\"_blank\" href=https://colab.research.google.com/notebooks/data_table.ipynb>data table notebook</a>'\n",
              "            + ' to learn more about interactive tables.';\n",
              "          element.innerHTML = '';\n",
              "          dataTable['output_type'] = 'display_data';\n",
              "          await google.colab.output.renderOutput(dataTable, element);\n",
              "          const docLink = document.createElement('div');\n",
              "          docLink.innerHTML = docLinkHtml;\n",
              "          element.appendChild(docLink);\n",
              "        }\n",
              "      </script>\n",
              "    </div>\n",
              "  </div>\n",
              "  "
            ]
          },
          "metadata": {},
          "execution_count": 13
        }
      ],
      "source": [
        "resampled_df.corr()"
      ]
    },
    {
      "cell_type": "code",
      "execution_count": null,
      "metadata": {
        "colab": {
          "base_uri": "https://localhost:8080/",
          "height": 281
        },
        "id": "vbe2cbF7DQ0B",
        "outputId": "ce25492e-d842-42de-9316-4c49d6b6240c"
      },
      "outputs": [
        {
          "output_type": "display_data",
          "data": {
            "text/plain": [
              "<Figure size 432x288 with 1 Axes>"
            ],
            "image/png": "[encoded data removed]"
          },
          "metadata": {
            "needs_background": "light"
          }
        }
      ],
      "source": [
        "stripped_resampled_df = resampled_df['close']\n",
        "plot_acf(stripped_resampled_df)\n",
        "plt.show()"
      ]
    },
    {
      "cell_type": "code",
      "execution_count": null,
      "metadata": {
        "colab": {
          "base_uri": "https://localhost:8080/",
          "height": 423
        },
        "id": "qNDphlInG9v3",
        "outputId": "6109cc29-ab06-4ec3-d65c-bf4fd5fac8ca"
      },
      "outputs": [
        {
          "output_type": "execute_result",
          "data": {
            "text/plain": [
              "            close     ma180      ma60      ma30   std_min    std_max  \\\n",
              "2001-08-24  2.706  4.160425  3.130125  3.106800  0.837314   4.574686   \n",
              "2001-08-25  2.652  4.147047  3.117708  3.090933  0.777572   4.526428   \n",
              "2001-08-26  2.598  4.132092  3.107508  3.071967  0.717634   4.478366   \n",
              "2001-08-27  2.544  4.117086  3.095325  3.049133  0.657446   4.430554   \n",
              "2001-08-28  2.420  4.101725  3.084058  3.020100  0.526455   4.313545   \n",
              "...           ...       ...       ...       ...       ...        ...   \n",
              "2022-08-08  7.589  6.686700  7.214692  7.755211  5.973409   9.204591   \n",
              "2022-08-09  7.833  6.708222  7.197742  7.806467  6.213394   9.452606   \n",
              "2022-08-10  8.202  6.731894  7.188281  7.865667  6.576738   9.827262   \n",
              "2022-08-11  8.874  6.758830  7.191358  7.956033  7.239651  10.508349   \n",
              "2022-08-12  8.768  6.784706  7.194008  8.025333  7.125485  10.410515   \n",
              "\n",
              "            gradient  d_gradient  \n",
              "2001-08-24 -0.079500    0.007750  \n",
              "2001-08-25 -0.054000    0.012750  \n",
              "2001-08-26 -0.054000   -0.017500  \n",
              "2001-08-27 -0.089000   -0.024000  \n",
              "2001-08-28 -0.102000    0.038250  \n",
              "...              ...         ...  \n",
              "2022-08-08  0.042833    0.232417  \n",
              "2022-08-09  0.306500    0.238833  \n",
              "2022-08-10  0.520500   -0.011750  \n",
              "2022-08-11  0.283000   -0.313250  \n",
              "2022-08-12 -0.106000   -0.389000  \n",
              "\n",
              "[7659 rows x 8 columns]"
            ],
            "text/html": [
              "\n",
              "  <div id=\"df-912c5c61-f825-497e-b95f-d00e31ac908a\">\n",
              "    <div class=\"colab-df-container\">\n",
              "      <div>\n",
              "<style scoped>\n",
              "    .dataframe tbody tr th:only-of-type {\n",
              "        vertical-align: middle;\n",
              "    }\n",
              "\n",
              "    .dataframe tbody tr th {\n",
              "        vertical-align: top;\n",
              "    }\n",
              "\n",
              "    .dataframe thead th {\n",
              "        text-align: right;\n",
              "    }\n",
              "</style>\n",
              "<table border=\"1\" class=\"dataframe\">\n",
              "  <thead>\n",
              "    <tr style=\"text-align: right;\">\n",
              "      <th></th>\n",
              "      <th>close</th>\n",
              "      <th>ma180</th>\n",
              "      <th>ma60</th>\n",
              "      <th>ma30</th>\n",
              "      <th>std_min</th>\n",
              "      <th>std_max</th>\n",
              "      <th>gradient</th>\n",
              "      <th>d_gradient</th>\n",
              "    </tr>\n",
              "  </thead>\n",
              "  <tbody>\n",
              "    <tr>\n",
              "      <th>2001-08-24</th>\n",
              "      <td>2.706</td>\n",
              "      <td>4.160425</td>\n",
              "      <td>3.130125</td>\n",
              "      <td>3.106800</td>\n",
              "      <td>0.837314</td>\n",
              "      <td>4.574686</td>\n",
              "      <td>-0.079500</td>\n",
              "      <td>0.007750</td>\n",
              "    </tr>\n",
              "    <tr>\n",
              "      <th>2001-08-25</th>\n",
              "      <td>2.652</td>\n",
              "      <td>4.147047</td>\n",
              "      <td>3.117708</td>\n",
              "      <td>3.090933</td>\n",
              "      <td>0.777572</td>\n",
              "      <td>4.526428</td>\n",
              "      <td>-0.054000</td>\n",
              "      <td>0.012750</td>\n",
              "    </tr>\n",
              "    <tr>\n",
              "      <th>2001-08-26</th>\n",
              "      <td>2.598</td>\n",
              "      <td>4.132092</td>\n",
              "      <td>3.107508</td>\n",
              "      <td>3.071967</td>\n",
              "      <td>0.717634</td>\n",
              "      <td>4.478366</td>\n",
              "      <td>-0.054000</td>\n",
              "      <td>-0.017500</td>\n",
              "    </tr>\n",
              "    <tr>\n",
              "      <th>2001-08-27</th>\n",
              "      <td>2.544</td>\n",
              "      <td>4.117086</td>\n",
              "      <td>3.095325</td>\n",
              "      <td>3.049133</td>\n",
              "      <td>0.657446</td>\n",
              "      <td>4.430554</td>\n",
              "      <td>-0.089000</td>\n",
              "      <td>-0.024000</td>\n",
              "    </tr>\n",
              "    <tr>\n",
              "      <th>2001-08-28</th>\n",
              "      <td>2.420</td>\n",
              "      <td>4.101725</td>\n",
              "      <td>3.084058</td>\n",
              "      <td>3.020100</td>\n",
              "      <td>0.526455</td>\n",
              "      <td>4.313545</td>\n",
              "      <td>-0.102000</td>\n",
              "      <td>0.038250</td>\n",
              "    </tr>\n",
              "    <tr>\n",
              "      <th>...</th>\n",
              "      <td>...</td>\n",
              "      <td>...</td>\n",
              "      <td>...</td>\n",
              "      <td>...</td>\n",
              "      <td>...</td>\n",
              "      <td>...</td>\n",
              "      <td>...</td>\n",
              "      <td>...</td>\n",
              "    </tr>\n",
              "    <tr>\n",
              "      <th>2022-08-08</th>\n",
              "      <td>7.589</td>\n",
              "      <td>6.686700</td>\n",
              "      <td>7.214692</td>\n",
              "      <td>7.755211</td>\n",
              "      <td>5.973409</td>\n",
              "      <td>9.204591</td>\n",
              "      <td>0.042833</td>\n",
              "      <td>0.232417</td>\n",
              "    </tr>\n",
              "    <tr>\n",
              "      <th>2022-08-09</th>\n",
              "      <td>7.833</td>\n",
              "      <td>6.708222</td>\n",
              "      <td>7.197742</td>\n",
              "      <td>7.806467</td>\n",
              "      <td>6.213394</td>\n",
              "      <td>9.452606</td>\n",
              "      <td>0.306500</td>\n",
              "      <td>0.238833</td>\n",
              "    </tr>\n",
              "    <tr>\n",
              "      <th>2022-08-10</th>\n",
              "      <td>8.202</td>\n",
              "      <td>6.731894</td>\n",
              "      <td>7.188281</td>\n",
              "      <td>7.865667</td>\n",
              "      <td>6.576738</td>\n",
              "      <td>9.827262</td>\n",
              "      <td>0.520500</td>\n",
              "      <td>-0.011750</td>\n",
              "    </tr>\n",
              "    <tr>\n",
              "      <th>2022-08-11</th>\n",
              "      <td>8.874</td>\n",
              "      <td>6.758830</td>\n",
              "      <td>7.191358</td>\n",
              "      <td>7.956033</td>\n",
              "      <td>7.239651</td>\n",
              "      <td>10.508349</td>\n",
              "      <td>0.283000</td>\n",
              "      <td>-0.313250</td>\n",
              "    </tr>\n",
              "    <tr>\n",
              "      <th>2022-08-12</th>\n",
              "      <td>8.768</td>\n",
              "      <td>6.784706</td>\n",
              "      <td>7.194008</td>\n",
              "      <td>8.025333</td>\n",
              "      <td>7.125485</td>\n",
              "      <td>10.410515</td>\n",
              "      <td>-0.106000</td>\n",
              "      <td>-0.389000</td>\n",
              "    </tr>\n",
              "  </tbody>\n",
              "</table>\n",
              "<p>7659 rows × 8 columns</p>\n",
              "</div>\n",
              "      <button class=\"colab-df-convert\" onclick=\"convertToInteractive('df-912c5c61-f825-497e-b95f-d00e31ac908a')\"\n",
              "              title=\"Convert this dataframe to an interactive table.\"\n",
              "              style=\"display:none;\">\n",
              "        \n",
              "  <svg xmlns=\"http://www.w3.org/2000/svg\" height=\"24px\"viewBox=\"0 0 24 24\"\n",
              "       width=\"24px\">\n",
              "    <path d=\"M0 0h24v24H0V0z\" fill=\"none\"/>\n",
              "    <path d=\"M18.56 5.44l.94 2.06.94-2.06 2.06-.94-2.06-.94-.94-2.06-.94 2.06-2.06.94zm-11 1L8.5 8.5l.94-2.06 2.06-.94-2.06-.94L8.5 2.5l-.94 2.06-2.06.94zm10 10l.94 2.06.94-2.06 2.06-.94-2.06-.94-.94-2.06-.94 2.06-2.06.94z\"/><path d=\"M17.41 7.96l-1.37-1.37c-.4-.4-.92-.59-1.43-.59-.52 0-1.04.2-1.43.59L10.3 9.45l-7.72 7.72c-.78.78-.78 2.05 0 2.83L4 21.41c.39.39.9.59 1.41.59.51 0 1.02-.2 1.41-.59l7.78-7.78 2.81-2.81c.8-.78.8-2.07 0-2.86zM5.41 20L4 18.59l7.72-7.72 1.47 1.35L5.41 20z\"/>\n",
              "  </svg>\n",
              "      </button>\n",
              "      \n",
              "  <style>\n",
              "    .colab-df-container {\n",
              "      display:flex;\n",
              "      flex-wrap:wrap;\n",
              "      gap: 12px;\n",
              "    }\n",
              "\n",
              "    .colab-df-convert {\n",
              "      background-color: #E8F0FE;\n",
              "      border: none;\n",
              "      border-radius: 50%;\n",
              "      cursor: pointer;\n",
              "      display: none;\n",
              "      fill: #1967D2;\n",
              "      height: 32px;\n",
              "      padding: 0 0 0 0;\n",
              "      width: 32px;\n",
              "    }\n",
              "\n",
              "    .colab-df-convert:hover {\n",
              "      background-color: #E2EBFA;\n",
              "      box-shadow: 0px 1px 2px rgba(60, 64, 67, 0.3), 0px 1px 3px 1px rgba(60, 64, 67, 0.15);\n",
              "      fill: #174EA6;\n",
              "    }\n",
              "\n",
              "    [theme=dark] .colab-df-convert {\n",
              "      background-color: #3B4455;\n",
              "      fill: #D2E3FC;\n",
              "    }\n",
              "\n",
              "    [theme=dark] .colab-df-convert:hover {\n",
              "      background-color: #434B5C;\n",
              "      box-shadow: 0px 1px 3px 1px rgba(0, 0, 0, 0.15);\n",
              "      filter: drop-shadow(0px 1px 2px rgba(0, 0, 0, 0.3));\n",
              "      fill: #FFFFFF;\n",
              "    }\n",
              "  </style>\n",
              "\n",
              "      <script>\n",
              "        const buttonEl =\n",
              "          document.querySelector('#df-912c5c61-f825-497e-b95f-d00e31ac908a button.colab-df-convert');\n",
              "        buttonEl.style.display =\n",
              "          google.colab.kernel.accessAllowed ? 'block' : 'none';\n",
              "\n",
              "        async function convertToInteractive(key) {\n",
              "          const element = document.querySelector('#df-912c5c61-f825-497e-b95f-d00e31ac908a');\n",
              "          const dataTable =\n",
              "            await google.colab.kernel.invokeFunction('convertToInteractive',\n",
              "                                                     [key], {});\n",
              "          if (!dataTable) return;\n",
              "\n",
              "          const docLinkHtml = 'Like what you see? Visit the ' +\n",
              "            '<a target=\"_blank\" href=https://colab.research.google.com/notebooks/data_table.ipynb>data table notebook</a>'\n",
              "            + ' to learn more about interactive tables.';\n",
              "          element.innerHTML = '';\n",
              "          dataTable['output_type'] = 'display_data';\n",
              "          await google.colab.output.renderOutput(dataTable, element);\n",
              "          const docLink = document.createElement('div');\n",
              "          docLink.innerHTML = docLinkHtml;\n",
              "          element.appendChild(docLink);\n",
              "        }\n",
              "      </script>\n",
              "    </div>\n",
              "  </div>\n",
              "  "
            ]
          },
          "metadata": {},
          "execution_count": 15
        }
      ],
      "source": [
        "ma_resampled_df = pd.DataFrame(resampled_df['close'])\n",
        "ma_resampled_df['ma180'] = resampled_df['close'].rolling(180).mean()\n",
        "ma_resampled_df['ma60'] = resampled_df['close'].rolling(60).mean()\n",
        "ma_resampled_df['ma30'] = resampled_df['close'].rolling(30).mean()\n",
        "ma_resampled_df['std_min'] = resampled_df['close'] - resampled_df['close'].rolling(300).std()\n",
        "ma_resampled_df['std_max'] = resampled_df['close'] + resampled_df['close'].rolling(300).std()\n",
        "ma_resampled_df['gradient'] = np.gradient(resampled_df['close'])\n",
        "ma_resampled_df['d_gradient'] = np.gradient(np.gradient(resampled_df['close']))\n",
        "\n",
        "\n",
        "ma_resampled_df = ma_resampled_df[359:]\n",
        "ma_resampled_df"
      ]
    },
    {
      "cell_type": "code",
      "source": [
        "import seaborn as sns\n",
        "\n",
        "sns.heatmap(ma_resampled_df.corr(), cmap='jet')"
      ],
      "metadata": {
        "colab": {
          "base_uri": "https://localhost:8080/",
          "height": 331
        },
        "id": "F3kBe_tEzWyZ",
        "outputId": "070802de-af21-4aff-da5c-e71a8b6ecb65"
      },
      "execution_count": null,
      "outputs": [
        {
          "output_type": "execute_result",
          "data": {
            "text/plain": [
              "<matplotlib.axes._subplots.AxesSubplot at 0x7fd5a3aefc10>"
            ]
          },
          "metadata": {},
          "execution_count": 16
        },
        {
          "output_type": "display_data",
          "data": {
            "text/plain": [
              "<Figure size 432x288 with 2 Axes>"
            ],
            "image/png": "[encoded data removed]"
          },
          "metadata": {
            "needs_background": "light"
          }
        }
      ]
    },
    {
      "cell_type": "code",
      "source": [
        "sns.heatmap(ma_resampled_df.cov(), cmap='jet')"
      ],
      "metadata": {
        "colab": {
          "base_uri": "https://localhost:8080/",
          "height": 328
        },
        "id": "KGwWByKgz20O",
        "outputId": "f4440f87-6e82-4340-adb3-7bdca7e69efa"
      },
      "execution_count": null,
      "outputs": [
        {
          "output_type": "execute_result",
          "data": {
            "text/plain": [
              "<matplotlib.axes._subplots.AxesSubplot at 0x7fd5a3a522d0>"
            ]
          },
          "metadata": {},
          "execution_count": 17
        },
        {
          "output_type": "display_data",
          "data": {
            "text/plain": [
              "<Figure size 432x288 with 2 Axes>"
            ],
            "image/png": "[encoded data removed]"
          },
          "metadata": {
            "needs_background": "light"
          }
        }
      ]
    },
    {
      "cell_type": "code",
      "source": [
        "ma_monthly_resampled_df = ma_resampled_df.resample('1M').mean()"
      ],
      "metadata": {
        "id": "0t8RKjSZ072y"
      },
      "execution_count": null,
      "outputs": []
    },
    {
      "cell_type": "code",
      "source": [
        "ma_monthly_resampled_df['close']"
      ],
      "metadata": {
        "colab": {
          "base_uri": "https://localhost:8080/"
        },
        "id": "OJWTlKBSmUyR",
        "outputId": "a71692bd-40fb-42c1-c616-8054d6aaac23"
      },
      "execution_count": null,
      "outputs": [
        {
          "output_type": "execute_result",
          "data": {
            "text/plain": [
              "2001-08-31    2.504375\n",
              "2001-09-30    2.285450\n",
              "2001-10-31    2.621000\n",
              "2001-11-30    2.803333\n",
              "2001-12-31    2.715484\n",
              "                ...   \n",
              "2022-04-30    6.721633\n",
              "2022-05-31    8.117871\n",
              "2022-06-30    7.597100\n",
              "2022-07-31    7.132629\n",
              "2022-08-31    8.113333\n",
              "Freq: M, Name: close, Length: 253, dtype: float64"
            ]
          },
          "metadata": {},
          "execution_count": 19
        }
      ]
    },
    {
      "cell_type": "markdown",
      "metadata": {
        "id": "jFINaQmLQ6mi"
      },
      "source": [
        "#4. Data Augment"
      ]
    },
    {
      "cell_type": "code",
      "execution_count": null,
      "metadata": {
        "id": "yxiwUjn-fsez"
      },
      "outputs": [],
      "source": [
        "from sklearn.preprocessing import StandardScaler\n",
        "scaler = StandardScaler()"
      ]
    },
    {
      "cell_type": "code",
      "execution_count": null,
      "metadata": {
        "id": "1dyLIPPDm5nl"
      },
      "outputs": [],
      "source": [
        "monthly_resampled_df = ma_resampled_df.resample('1M').mean()"
      ]
    },
    {
      "cell_type": "markdown",
      "source": [
        ""
      ],
      "metadata": {
        "id": "EFYhJ--2NSpQ"
      }
    },
    {
      "cell_type": "code",
      "execution_count": null,
      "metadata": {
        "id": "NuyLQNJMXHZl"
      },
      "outputs": [],
      "source": [
        "def root(x):\n",
        "  return math.sqrt(x)"
      ]
    },
    {
      "cell_type": "code",
      "execution_count": null,
      "metadata": {
        "colab": {
          "base_uri": "https://localhost:8080/"
        },
        "id": "NrC9qVKJseuw",
        "outputId": "26bcf394-e76a-4481-b4c0-624cdd51276e"
      },
      "outputs": [
        {
          "output_type": "stream",
          "name": "stdout",
          "text": [
            "[4.525096, 4.4848275, 4.507883, 4.5159945, 3.75576, 5.294432, 0.0007294261, -3.6100053e-05]\n",
            "[2.242612, 2.0974402, 2.201074, 2.2237859, 1.954213, 2.6469302, 0.02801084, 0.0043545803]\n",
            "(181, 8) (72, 8)\n"
          ]
        }
      ],
      "source": [
        "rows, attributes = monthly_resampled_df.shape\n",
        "\n",
        "months = 72\n",
        "\n",
        "scaler_mod = scaler.fit(monthly_resampled_df)\n",
        "scaler_mean = list(map(np.float32, scaler.mean_))\n",
        "scaler_var = list(map(np.float32,scaler.scale_))\n",
        "print(list(map(np.float32, scaler_mean)))\n",
        "print(list(map(np.float32, scaler_var)))\n",
        "monthly_resampled_df_scaled = scaler.transform (monthly_resampled_df)\n",
        "train_monthly_resampled_df = monthly_resampled_df_scaled[0:(rows-months)]\n",
        "test_monthly_resampled_df = monthly_resampled_df_scaled[(rows-months):]\n",
        "\n",
        "print(train_monthly_resampled_df.shape, test_monthly_resampled_df.shape) \n"
      ]
    },
    {
      "cell_type": "code",
      "execution_count": null,
      "metadata": {
        "id": "crwwWot8-YVq"
      },
      "outputs": [],
      "source": [
        "# for rowIndex, row in enumerate(monthly_resampled_df):\n",
        "#   print(row)\n",
        "#   break"
      ]
    },
    {
      "cell_type": "code",
      "execution_count": null,
      "metadata": {
        "colab": {
          "base_uri": "https://localhost:8080/"
        },
        "id": "EBoIo9lm78ni",
        "outputId": "1228253d-fb18-4c38-eba0-bdba485a7d90"
      },
      "outputs": [
        {
          "output_type": "stream",
          "name": "stdout",
          "text": [
            "Shape of Training Data: (133, 24, 8)\n",
            "Shape of Testing Data: (133, 24)\n"
          ]
        }
      ],
      "source": [
        "def batch_gen(df, x_size=24, y_size=24):\n",
        "  X = []\n",
        "  Y = []\n",
        "  for i in range(x_size, df.shape[0]-y_size):\n",
        "    X.append(df[i-x_size:i])\n",
        "    Y.append([x[0] for x in df[i:i+y_size]])\n",
        "\n",
        "  Y = np.array(Y)\n",
        "  X = np.array(X)\n",
        "  return X ,Y\n",
        "\n",
        "\n",
        "batch_X_monthly_df_train, batch_Y_monthly_df_train = batch_gen(train_monthly_resampled_df)\n",
        "\n",
        "\n",
        "print(f'Shape of Training Data: {batch_X_monthly_df_train.shape}')\n",
        "print(f'Shape of Testing Data: {batch_Y_monthly_df_train.shape}')"
      ]
    },
    {
      "cell_type": "code",
      "source": [
        "batch_X_monthly_df_train[:45]"
      ],
      "metadata": {
        "colab": {
          "base_uri": "https://localhost:8080/"
        },
        "id": "ufMNzE04CouD",
        "outputId": "669113ca-a99b-4309-a91c-d5897c15949a"
      },
      "execution_count": null,
      "outputs": [
        {
          "output_type": "execute_result",
          "data": {
            "text/plain": [
              "array([[[-0.90105688, -0.17953568, -0.64459626, ..., -0.33965847,\n",
              "         -1.72683333,  1.92617012],\n",
              "        [-0.99867743, -0.32133879, -0.75893489, ..., -0.37817199,\n",
              "         -0.22045963,  0.11306487],\n",
              "        [-0.84905279, -0.55573814, -0.93335295, ..., -0.2886527 ,\n",
              "          1.2136866 ,  0.0823686 ],\n",
              "        ...,\n",
              "        [ 0.62460325,  0.48306601,  0.44662155, ...,  0.69468424,\n",
              "          1.1313452 ,  0.59165808],\n",
              "        [ 0.62034986,  0.61166457,  0.61776918, ...,  0.65347737,\n",
              "         -1.17678585, -0.95940102],\n",
              "        [ 0.23205264,  0.63370076,  0.56454598, ...,  0.27103662,\n",
              "         -0.68016551,  1.06452564]],\n",
              "\n",
              "       [[-0.99867743, -0.32133879, -0.75893489, ..., -0.37817199,\n",
              "         -0.22045963,  0.11306487],\n",
              "        [-0.84905279, -0.55573814, -0.93335295, ..., -0.2886527 ,\n",
              "          1.2136866 ,  0.0823686 ],\n",
              "        [-0.76774879, -0.69631726, -0.86864074, ..., -0.43787378,\n",
              "         -0.7408435 ,  0.02551338],\n",
              "        ...,\n",
              "        [ 0.62034986,  0.61166457,  0.61776918, ...,  0.65347737,\n",
              "         -1.17678585, -0.95940102],\n",
              "        [ 0.23205264,  0.63370076,  0.56454598, ...,  0.27103662,\n",
              "         -0.68016551,  1.06452564],\n",
              "        [ 0.19253219,  0.55807534,  0.29622743, ...,  0.20068618,\n",
              "         -0.16711527, -0.68187427]],\n",
              "\n",
              "       [[-0.84905279, -0.55573814, -0.93335295, ..., -0.2886527 ,\n",
              "          1.2136866 ,  0.0823686 ],\n",
              "        [-0.76774879, -0.69631726, -0.86864074, ..., -0.43787378,\n",
              "         -0.7408435 ,  0.02551338],\n",
              "        [-0.80692162, -0.79805248, -0.78676511, ..., -0.56857342,\n",
              "         -0.1942745 , -0.54452044],\n",
              "        ...,\n",
              "        [ 0.23205264,  0.63370076,  0.56454598, ...,  0.27103662,\n",
              "         -0.68016551,  1.06452564],\n",
              "        [ 0.19253219,  0.55807534,  0.29622743, ...,  0.20068618,\n",
              "         -0.16711527, -0.68187427],\n",
              "        [ 0.06098723,  0.42068759,  0.16539259, ...,  0.05589611,\n",
              "          0.06916039, -0.50840719]],\n",
              "\n",
              "       ...,\n",
              "\n",
              "       [[ 0.74640026,  0.95998436,  0.80848606, ...,  0.65509284,\n",
              "          0.46675307, -0.25552622],\n",
              "        [ 1.11869157,  1.07899105,  0.864099  , ...,  0.97223334,\n",
              "          1.12098055,  0.73302449],\n",
              "        [ 1.1774879 ,  1.14755065,  1.10081953, ...,  1.03735372,\n",
              "         -1.28745729, -0.34382952],\n",
              "        ...,\n",
              "        [ 1.52868057,  0.92619354,  0.94054394, ...,  1.34663276,\n",
              "          1.17587481, -3.15376989],\n",
              "        [ 1.15602563,  1.04211021,  1.40243924, ...,  1.00568796,\n",
              "         -2.7139404 ,  2.00161827],\n",
              "        [ 0.99288781,  1.08224056,  1.20824482, ...,  0.86904767,\n",
              "          1.47049962, -0.73434652]],\n",
              "\n",
              "       [[ 1.11869157,  1.07899105,  0.864099  , ...,  0.97223334,\n",
              "          1.12098055,  0.73302449],\n",
              "        [ 1.1774879 ,  1.14755065,  1.10081953, ...,  1.03735372,\n",
              "         -1.28745729, -0.34382952],\n",
              "        [ 0.87371034,  1.06972701,  1.13323094, ...,  0.78001608,\n",
              "         -0.09168364,  1.3100649 ],\n",
              "        ...,\n",
              "        [ 1.15602563,  1.04211021,  1.40243924, ...,  1.00568796,\n",
              "         -2.7139404 ,  2.00161827],\n",
              "        [ 0.99288781,  1.08224056,  1.20824482, ...,  0.86904767,\n",
              "          1.47049962, -0.73434652],\n",
              "        [ 1.35013664,  1.10851805,  1.10055614, ...,  1.17532083,\n",
              "         -0.41428341,  0.21127837]],\n",
              "\n",
              "       [[ 1.1774879 ,  1.14755065,  1.10081953, ...,  1.03735372,\n",
              "         -1.28745729, -0.34382952],\n",
              "        [ 0.87371034,  1.06972701,  1.13323094, ...,  0.78001608,\n",
              "         -0.09168364,  1.3100649 ],\n",
              "        [ 1.20166606,  1.04061887,  1.02976553, ...,  1.04323689,\n",
              "          0.55944678, -0.95286257],\n",
              "        ...,\n",
              "        [ 0.99288781,  1.08224056,  1.20824482, ...,  0.86904767,\n",
              "          1.47049962, -0.73434652],\n",
              "        [ 1.35013664,  1.10851805,  1.10055614, ...,  1.17532083,\n",
              "         -0.41428341,  0.21127837],\n",
              "        [ 1.19522723,  1.21236944,  1.2650076 , ...,  1.046593  ,\n",
              "          0.44209589,  0.42189492]]])"
            ]
          },
          "metadata": {},
          "execution_count": 26
        }
      ]
    },
    {
      "cell_type": "markdown",
      "metadata": {
        "id": "FEhmivdv8izT"
      },
      "source": [
        "#6. LSTM\n"
      ]
    },
    {
      "cell_type": "code",
      "execution_count": null,
      "metadata": {
        "id": "IpCFgXpI84TZ"
      },
      "outputs": [],
      "source": [
        "import numpy as np\n",
        "from tensorflow.keras.models import Sequential\n",
        "from tensorflow.keras.layers import LSTM\n",
        "from tensorflow.keras.layers import Dense, Dropout\n",
        "from keras.layers import LeakyReLU\n",
        "from keras import backend as K\n",
        "from tensorflow import keras\n",
        "import os"
      ]
    },
    {
      "cell_type": "code",
      "source": [
        "def rmse(y_true, y_pred):\n",
        "  return K.sqrt(K.mean(K.square(y_pred - y_true)))"
      ],
      "metadata": {
        "id": "Xg1huGurJdQ4"
      },
      "execution_count": null,
      "outputs": []
    },
    {
      "cell_type": "code",
      "source": [
        "models_folder = '/content/drive/MyDrive/Models'\n",
        "model_version = len(os.listdir(models_folder)) + 1\n",
        "model_version"
      ],
      "metadata": {
        "id": "yasQ7FaOYjga",
        "colab": {
          "base_uri": "https://localhost:8080/"
        },
        "outputId": "fe9f2b26-4d5d-4e91-f8bb-43fe3b04e0f0"
      },
      "execution_count": null,
      "outputs": [
        {
          "output_type": "execute_result",
          "data": {
            "text/plain": [
              "24"
            ]
          },
          "metadata": {},
          "execution_count": 58
        }
      ]
    },
    {
      "cell_type": "markdown",
      "metadata": {
        "id": "12EJlB-Lg9OE"
      },
      "source": [
        "## a. Model Compilation"
      ]
    },
    {
      "cell_type": "code",
      "execution_count": null,
      "metadata": {
        "id": "W9vvYkEK8xVL",
        "colab": {
          "base_uri": "https://localhost:8080/"
        },
        "outputId": "c4241a3e-cf9d-4edf-cb31-a0f5b3254f0a"
      },
      "outputs": [
        {
          "output_type": "stream",
          "name": "stdout",
          "text": [
            "Model: \"sequential_4\"\n",
            "_________________________________________________________________\n",
            " Layer (type)                Output Shape              Param #   \n",
            "=================================================================\n",
            " lstm_12 (LSTM)              (None, 24, 70)            22120     \n",
            "                                                                 \n",
            " lstm_13 (LSTM)              (None, 24, 120)           91680     \n",
            "                                                                 \n",
            " lstm_14 (LSTM)              (None, 70)                53480     \n",
            "                                                                 \n",
            " dropout_4 (Dropout)         (None, 70)                0         \n",
            "                                                                 \n",
            " dense_4 (Dense)             (None, 24)                1704      \n",
            "                                                                 \n",
            "=================================================================\n",
            "Total params: 168,984\n",
            "Trainable params: 168,984\n",
            "Non-trainable params: 0\n",
            "_________________________________________________________________\n"
          ]
        }
      ],
      "source": [
        "model = Sequential()\n",
        "\n",
        "model.add(LSTM(70, activation=LeakyReLU(alpha=0.01), input_shape=(batch_X_monthly_df_train.shape[1], batch_X_monthly_df_train.shape[2]), return_sequences=True))\n",
        "\n",
        "model.add(LSTM(120, activation=LeakyReLU(alpha=0.01), return_sequences=True))\n",
        "\n",
        "model.add(LSTM(70, activation=LeakyReLU(alpha=0.01), return_sequences=False))\n",
        "model.add(Dropout(0.10))\n",
        "model.add(Dense(batch_Y_monthly_df_train.shape[1]))\n",
        "model.compile(loss=rmse, optimizer= keras.optimizers.Adam(learning_rate=0.021))\n",
        "early_stopping = tf.keras.callbacks.EarlyStopping(monitor='loss', patience=10)\n",
        "\n",
        "model.summary()"
      ]
    },
    {
      "cell_type": "markdown",
      "metadata": {
        "id": "N8N9nc08aeBd"
      },
      "source": [
        "## b. Model Fitting"
      ]
    },
    {
      "cell_type": "code",
      "execution_count": null,
      "metadata": {
        "id": "mwUqdcYbhC9h",
        "colab": {
          "base_uri": "https://localhost:8080/"
        },
        "outputId": "745b8170-ec89-4093-cd0e-85fcffb76d51"
      },
      "outputs": [
        {
          "output_type": "stream",
          "name": "stdout",
          "text": [
            "Epoch 1/100\n",
            "6/6 [==============================] - 4s 157ms/step - loss: 61158.0273 - val_loss: 8.7134\n",
            "Epoch 2/100\n",
            "6/6 [==============================] - 0s 59ms/step - loss: 1.6677 - val_loss: 0.7377\n",
            "Epoch 3/100\n",
            "6/6 [==============================] - 0s 59ms/step - loss: 1.1498 - val_loss: 0.7886\n",
            "Epoch 4/100\n",
            "6/6 [==============================] - 0s 60ms/step - loss: 1.0766 - val_loss: 0.8428\n",
            "Epoch 5/100\n",
            "6/6 [==============================] - 0s 61ms/step - loss: 1.0211 - val_loss: 2.1003\n",
            "Epoch 6/100\n",
            "6/6 [==============================] - 0s 59ms/step - loss: 0.9244 - val_loss: 0.7044\n",
            "Epoch 7/100\n",
            "6/6 [==============================] - 0s 60ms/step - loss: 0.9724 - val_loss: 0.4679\n",
            "Epoch 8/100\n",
            "6/6 [==============================] - 0s 65ms/step - loss: 0.9464 - val_loss: 0.4460\n",
            "Epoch 9/100\n",
            "6/6 [==============================] - 0s 62ms/step - loss: 0.8349 - val_loss: 0.4164\n",
            "Epoch 10/100\n",
            "6/6 [==============================] - 0s 59ms/step - loss: 0.8103 - val_loss: 0.3780\n",
            "Epoch 11/100\n",
            "6/6 [==============================] - 0s 59ms/step - loss: 0.8059 - val_loss: 0.5071\n",
            "Epoch 12/100\n",
            "6/6 [==============================] - 0s 61ms/step - loss: 0.7532 - val_loss: 0.4610\n",
            "Epoch 13/100\n",
            "6/6 [==============================] - 0s 68ms/step - loss: 1.3194 - val_loss: 0.3445\n",
            "Epoch 14/100\n",
            "6/6 [==============================] - 0s 63ms/step - loss: 0.9445 - val_loss: 0.3580\n",
            "Epoch 15/100\n",
            "6/6 [==============================] - 0s 61ms/step - loss: 0.9474 - val_loss: 0.3453\n",
            "Epoch 16/100\n",
            "6/6 [==============================] - 0s 62ms/step - loss: 0.8507 - val_loss: 0.3522\n",
            "Epoch 17/100\n",
            "6/6 [==============================] - 0s 60ms/step - loss: 0.8343 - val_loss: 0.4332\n",
            "Epoch 18/100\n",
            "6/6 [==============================] - 0s 58ms/step - loss: 0.8254 - val_loss: 0.4162\n",
            "Epoch 19/100\n",
            "6/6 [==============================] - 0s 58ms/step - loss: 0.8055 - val_loss: 0.4418\n",
            "Epoch 20/100\n",
            "6/6 [==============================] - 0s 62ms/step - loss: 0.7828 - val_loss: 0.5172\n",
            "Epoch 21/100\n",
            "6/6 [==============================] - 0s 58ms/step - loss: 0.7703 - val_loss: 0.4269\n",
            "Epoch 22/100\n",
            "6/6 [==============================] - 0s 59ms/step - loss: 0.7389 - val_loss: 0.3636\n",
            "Epoch 23/100\n",
            "6/6 [==============================] - 0s 65ms/step - loss: 0.7311 - val_loss: 0.3772\n",
            "Epoch 24/100\n",
            "6/6 [==============================] - 0s 60ms/step - loss: 0.6984 - val_loss: 0.3702\n",
            "Epoch 25/100\n",
            "6/6 [==============================] - 0s 59ms/step - loss: 0.7155 - val_loss: 0.3323\n",
            "Epoch 26/100\n",
            "6/6 [==============================] - 0s 61ms/step - loss: 0.7332 - val_loss: 0.3538\n",
            "Epoch 27/100\n",
            "6/6 [==============================] - 0s 59ms/step - loss: 0.6956 - val_loss: 0.3373\n",
            "Epoch 28/100\n",
            "6/6 [==============================] - 0s 60ms/step - loss: 0.6566 - val_loss: 0.3365\n",
            "Epoch 29/100\n",
            "6/6 [==============================] - 0s 63ms/step - loss: 0.6435 - val_loss: 0.3105\n",
            "Epoch 30/100\n",
            "6/6 [==============================] - 0s 58ms/step - loss: 0.6244 - val_loss: 0.3239\n",
            "Epoch 31/100\n",
            "6/6 [==============================] - 0s 58ms/step - loss: 0.6096 - val_loss: 0.3190\n",
            "Epoch 32/100\n",
            "6/6 [==============================] - 0s 62ms/step - loss: 0.5820 - val_loss: 0.3208\n",
            "Epoch 33/100\n",
            "6/6 [==============================] - 0s 60ms/step - loss: 0.5769 - val_loss: 0.3180\n",
            "Epoch 34/100\n",
            "6/6 [==============================] - 0s 61ms/step - loss: 0.5726 - val_loss: 0.3249\n",
            "Epoch 35/100\n",
            "6/6 [==============================] - 0s 60ms/step - loss: 0.5392 - val_loss: 0.3322\n",
            "Epoch 36/100\n",
            "6/6 [==============================] - 0s 59ms/step - loss: 0.5572 - val_loss: 0.3617\n",
            "Epoch 37/100\n",
            "6/6 [==============================] - 0s 64ms/step - loss: 0.5556 - val_loss: 0.3490\n",
            "Epoch 38/100\n",
            "6/6 [==============================] - 0s 62ms/step - loss: 0.5814 - val_loss: 0.3285\n",
            "Epoch 39/100\n",
            "6/6 [==============================] - 0s 63ms/step - loss: 0.5581 - val_loss: 0.3480\n",
            "Epoch 40/100\n",
            "6/6 [==============================] - 0s 66ms/step - loss: 0.5358 - val_loss: 0.3717\n",
            "Epoch 41/100\n",
            "6/6 [==============================] - 0s 72ms/step - loss: 0.4896 - val_loss: 0.3360\n",
            "Epoch 42/100\n",
            "6/6 [==============================] - 1s 103ms/step - loss: 0.5259 - val_loss: 0.3407\n",
            "Epoch 43/100\n",
            "6/6 [==============================] - 1s 105ms/step - loss: 0.5022 - val_loss: 0.3945\n",
            "Epoch 44/100\n",
            "6/6 [==============================] - 1s 103ms/step - loss: 0.4760 - val_loss: 0.3237\n",
            "Epoch 45/100\n",
            "6/6 [==============================] - 1s 103ms/step - loss: 0.4596 - val_loss: 0.3226\n",
            "Epoch 46/100\n",
            "6/6 [==============================] - 1s 100ms/step - loss: 0.4521 - val_loss: 0.3315\n",
            "Epoch 47/100\n",
            "6/6 [==============================] - 1s 104ms/step - loss: 0.4565 - val_loss: 0.3233\n",
            "Epoch 48/100\n",
            "6/6 [==============================] - 1s 84ms/step - loss: 0.4607 - val_loss: 0.3360\n",
            "Epoch 49/100\n",
            "6/6 [==============================] - 0s 63ms/step - loss: 0.4587 - val_loss: 0.3547\n",
            "Epoch 50/100\n",
            "6/6 [==============================] - 0s 59ms/step - loss: 0.4281 - val_loss: 0.3176\n",
            "Epoch 51/100\n",
            "6/6 [==============================] - 0s 61ms/step - loss: 0.4277 - val_loss: 0.3016\n",
            "Epoch 52/100\n",
            "6/6 [==============================] - 0s 63ms/step - loss: 0.4427 - val_loss: 0.3533\n",
            "Epoch 53/100\n",
            "6/6 [==============================] - 0s 60ms/step - loss: 0.4304 - val_loss: 0.3034\n",
            "Epoch 54/100\n",
            "6/6 [==============================] - 0s 62ms/step - loss: 0.4121 - val_loss: 0.3075\n",
            "Epoch 55/100\n",
            "6/6 [==============================] - 0s 63ms/step - loss: 0.4018 - val_loss: 0.2937\n",
            "Epoch 56/100\n",
            "6/6 [==============================] - 0s 59ms/step - loss: 0.3956 - val_loss: 0.2914\n",
            "Epoch 57/100\n",
            "6/6 [==============================] - 0s 59ms/step - loss: 0.4116 - val_loss: 0.3174\n",
            "Epoch 58/100\n",
            "6/6 [==============================] - 0s 63ms/step - loss: 0.4139 - val_loss: 0.2799\n",
            "Epoch 59/100\n",
            "6/6 [==============================] - 0s 59ms/step - loss: 0.4148 - val_loss: 0.3109\n",
            "Epoch 60/100\n",
            "6/6 [==============================] - 0s 59ms/step - loss: 0.4181 - val_loss: 0.3185\n",
            "Epoch 61/100\n",
            "6/6 [==============================] - 0s 66ms/step - loss: 0.4207 - val_loss: 0.3097\n",
            "Epoch 62/100\n",
            "6/6 [==============================] - 0s 59ms/step - loss: 0.4083 - val_loss: 0.3359\n",
            "Epoch 63/100\n",
            "6/6 [==============================] - 0s 60ms/step - loss: 0.4013 - val_loss: 0.3077\n",
            "Epoch 64/100\n",
            "6/6 [==============================] - 0s 59ms/step - loss: 0.3837 - val_loss: 0.3604\n",
            "Epoch 65/100\n",
            "6/6 [==============================] - 0s 62ms/step - loss: 0.4082 - val_loss: 0.2966\n",
            "Epoch 66/100\n",
            "6/6 [==============================] - 0s 62ms/step - loss: 0.3737 - val_loss: 0.3160\n",
            "Epoch 67/100\n",
            "6/6 [==============================] - 0s 59ms/step - loss: 0.4097 - val_loss: 0.3441\n",
            "Epoch 68/100\n",
            "6/6 [==============================] - 0s 59ms/step - loss: 0.3686 - val_loss: 0.2956\n",
            "Epoch 69/100\n",
            "6/6 [==============================] - 0s 62ms/step - loss: 0.3903 - val_loss: 0.3603\n",
            "Epoch 70/100\n",
            "6/6 [==============================] - 0s 63ms/step - loss: 0.3791 - val_loss: 0.3257\n",
            "Epoch 71/100\n",
            "6/6 [==============================] - 0s 60ms/step - loss: 0.3641 - val_loss: 0.3586\n",
            "Epoch 72/100\n",
            "6/6 [==============================] - 0s 61ms/step - loss: 0.3590 - val_loss: 0.3624\n",
            "Epoch 73/100\n",
            "6/6 [==============================] - 0s 61ms/step - loss: 0.3331 - val_loss: 0.3444\n",
            "Epoch 74/100\n",
            "6/6 [==============================] - 0s 60ms/step - loss: 0.3588 - val_loss: 0.3285\n",
            "Epoch 75/100\n",
            "6/6 [==============================] - 0s 63ms/step - loss: 0.3283 - val_loss: 0.3094\n",
            "Epoch 76/100\n",
            "6/6 [==============================] - 0s 60ms/step - loss: 0.3809 - val_loss: 0.3463\n",
            "Epoch 77/100\n",
            "6/6 [==============================] - 0s 65ms/step - loss: 0.3350 - val_loss: 0.3426\n",
            "Epoch 78/100\n",
            "6/6 [==============================] - 0s 59ms/step - loss: 0.3538 - val_loss: 0.3857\n",
            "Epoch 79/100\n",
            "6/6 [==============================] - 0s 59ms/step - loss: 0.3317 - val_loss: 0.3763\n",
            "Epoch 80/100\n",
            "6/6 [==============================] - 0s 62ms/step - loss: 0.3452 - val_loss: 0.4031\n",
            "Epoch 81/100\n",
            "6/6 [==============================] - 0s 60ms/step - loss: 0.3417 - val_loss: 0.3592\n",
            "Epoch 82/100\n",
            "6/6 [==============================] - 0s 60ms/step - loss: 0.3425 - val_loss: 0.3855\n",
            "Epoch 83/100\n",
            "6/6 [==============================] - 0s 62ms/step - loss: 0.3560 - val_loss: 0.3727\n",
            "Epoch 84/100\n",
            "6/6 [==============================] - 0s 67ms/step - loss: 0.3488 - val_loss: 0.3779\n",
            "Epoch 85/100\n",
            "6/6 [==============================] - 0s 61ms/step - loss: 0.3609 - val_loss: 0.3769\n"
          ]
        }
      ],
      "source": [
        "history = model.fit(batch_X_monthly_df_train, batch_Y_monthly_df_train, epochs=100, batch_size = 20, validation_split=0.2 , verbose = 1, callbacks=[early_stopping])"
      ]
    },
    {
      "cell_type": "code",
      "execution_count": null,
      "metadata": {
        "id": "vcVr397ukTXY",
        "colab": {
          "base_uri": "https://localhost:8080/",
          "height": 358
        },
        "outputId": "b3f75882-48ef-480d-c56c-4252e643381e"
      },
      "outputs": [
        {
          "output_type": "display_data",
          "data": {
            "text/plain": [
              "<Figure size 1080x360 with 2 Axes>"
            ],
            "image/png": "[encoded data removed]"
          },
          "metadata": {
            "needs_background": "light"
          }
        }
      ],
      "source": [
        "fig, (ax1, ax2) = plt.subplots(1,2, figsize=[15,5])\n",
        "ax1.plot(history.history['loss'][20:], label='Training loss', c='orange')\n",
        "ax2.plot(history.history['val_loss'][20:], label='Validation loss' , c = 'green')\n",
        "fig.legend()\n",
        "fig.show()"
      ]
    },
    {
      "cell_type": "code",
      "execution_count": null,
      "metadata": {
        "id": "cjkxQZo8p3fC",
        "colab": {
          "base_uri": "https://localhost:8080/"
        },
        "outputId": "4d9b6841-d7fd-46c5-e72b-5cc62677db63"
      },
      "outputs": [
        {
          "output_type": "stream",
          "name": "stdout",
          "text": [
            "Shape of Testing Data: (24, 24, 8)\n",
            "Shape of Validating Data: (24, 24)\n"
          ]
        }
      ],
      "source": [
        "batch_X_monthly_df_test, batch_Y_monthly_df_test  = batch_gen(test_monthly_resampled_df)\n",
        "print(f'Shape of Testing Data: {batch_X_monthly_df_test.shape}')\n",
        "print(f'Shape of Validating Data: {batch_Y_monthly_df_test.shape}')\n",
        "\n"
      ]
    },
    {
      "cell_type": "code",
      "execution_count": null,
      "metadata": {
        "id": "7Wzq1_BKrWMX",
        "colab": {
          "base_uri": "https://localhost:8080/",
          "height": 357
        },
        "outputId": "c6a281ce-ec31-4821-be8d-a4e199c17d6e"
      },
      "outputs": [
        {
          "output_type": "stream",
          "name": "stdout",
          "text": [
            "[[-0.5621848  -0.7924741  -0.32464987 -0.43183953 -0.5909717  -0.6089317\n",
            "  -0.3916755  -0.3317101  -0.16463038 -0.37704062 -0.12135655 -0.31771702\n",
            "  -0.26670724 -0.13383144 -0.3351512  -0.16853592 -0.16828415 -0.09669489\n",
            "  -0.36876658 -0.13832192 -0.10928561 -0.02439626  0.07356346 -0.12296513]]\n"
          ]
        },
        {
          "output_type": "execute_result",
          "data": {
            "text/plain": [
              "[<matplotlib.lines.Line2D at 0x7fd59eb559d0>]"
            ]
          },
          "metadata": {},
          "execution_count": 68
        },
        {
          "output_type": "display_data",
          "data": {
            "text/plain": [
              "<Figure size 432x288 with 1 Axes>"
            ],
            "image/png": "[encoded data removed]"
          },
          "metadata": {
            "needs_background": "light"
          }
        }
      ],
      "source": [
        "index = 23\n",
        "pred_data = batch_X_monthly_df_test[index]\n",
        "\n",
        "result = []\n",
        "\n",
        "res = model.predict(np.array([pred_data]))\n",
        "\n",
        "print(res)\n",
        "plt.plot(res[0])\n",
        "plt.plot(batch_Y_monthly_df_test[index])\n",
        "# for i in range(0, 36):\n",
        "#   res = model.predict(np.array([pred_data]))[0,0]\n",
        "#   res = (res * scaler_var[0]) + scaler_mean[0]\n",
        "#   result.append(res)\n",
        "#   pred_data = scaler.inverse_transform(pred_data)\n",
        "#   res_30 = res\n",
        "#   res_60 = sum([*pred_data[-2:,2] , res])/4\n",
        "#   res_180 = sum([*pred_data[-5:,2] , res])/8\n",
        "#   pred_data = list(pred_data)\n",
        "#   pred_data.append(np.array([res, res_30, res_60, res_180]))\n",
        "#   pred_data.pop(0)\n",
        "#   pred_data = np.array(pred_data)\n",
        "#   pred_data = scaler.transform(pred_data)\n",
        "\n",
        "# print(result)"
      ]
    },
    {
      "cell_type": "code",
      "execution_count": null,
      "metadata": {
        "id": "ecHWr-bLTiWb",
        "colab": {
          "base_uri": "https://localhost:8080/",
          "height": 283
        },
        "outputId": "39d7edc2-b869-4e6b-f87a-722b8a893119"
      },
      "outputs": [
        {
          "output_type": "stream",
          "name": "stdout",
          "text": [
            "[]\n"
          ]
        },
        {
          "output_type": "display_data",
          "data": {
            "text/plain": [
              "<Figure size 432x288 with 1 Axes>"
            ],
            "image/png": "[encoded data removed]"
          },
          "metadata": {
            "needs_background": "light"
          }
        }
      ],
      "source": [
        "test_monthly_resampled_df_unscaled = scaler.inverse_transform(test_monthly_resampled_df)\n",
        "print(result[:])\n",
        "plt.plot(result[:], label='Predictions', c='green')\n",
        "plt.plot(test_monthly_resampled_df_unscaled[12:, 0], label='Observed' , c = 'orange')\n",
        "plt.legend()\n",
        "plt.show()"
      ]
    },
    {
      "cell_type": "markdown",
      "source": [
        "## c. Model Save"
      ],
      "metadata": {
        "id": "-Iy43Q3FXZpG"
      }
    },
    {
      "cell_type": "code",
      "source": [
        "save_model = str(input('Do you want to save model[y/n]: '))\n",
        "if save_model.lower() != 'n':\n",
        "  model.save(f'/content/drive/MyDrive/Models/Model_V{model_version}.h5')\n",
        "\n"
      ],
      "metadata": {
        "id": "XJl0WiD4Xo_a",
        "colab": {
          "base_uri": "https://localhost:8080/"
        },
        "outputId": "cda32287-e37f-440d-e012-2bf76cfd054e"
      },
      "execution_count": null,
      "outputs": [
        {
          "name": "stdout",
          "output_type": "stream",
          "text": [
            "Do you want to save model[y/n]: n\n"
          ]
        }
      ]
    },
    {
      "cell_type": "markdown",
      "source": [
        ""
      ],
      "metadata": {
        "id": "Q71fWqmqj2Jq"
      }
    }
  ],
  "metadata": {
    "colab": {
      "collapsed_sections": [
        "pPH79Y7sDGxk"
      ],
      "name": "LSTM_V4[Bell].ipynb",
      "provenance": []
    },
    "kernelspec": {
      "display_name": "Python 3",
      "name": "python3"
    },
    "language_info": {
      "name": "python"
    }
  },
  "nbformat": 4,
  "nbformat_minor": 0
}