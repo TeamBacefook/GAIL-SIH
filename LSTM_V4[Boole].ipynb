{
  "cells": [
    {
      "cell_type": "markdown",
      "metadata": {
        "id": "1tVqv6xQCRBe"
      },
      "source": [
        "#1. Import"
      ]
    },
    {
      "cell_type": "code",
      "source": [
        "!pip install yahoo_fin\n",
        "!pip install matplotlib"
      ],
      "metadata": {
        "colab": {
          "base_uri": "https://localhost:8080/"
        },
        "id": "fE0Xygi_vA0z",
        "outputId": "58fefa50-ce50-47c8-e8bd-c14ca446082a"
      },
      "execution_count": null,
      "outputs": [
        {
          "output_type": "stream",
          "name": "stdout",
          "text": [
            "Looking in indexes: https://pypi.org/simple, https://us-python.pkg.dev/colab-wheels/public/simple/\n",
            "Requirement already satisfied: yahoo_fin in /usr/local/lib/python3.7/dist-packages (0.8.9.1)\n",
            "Requirement already satisfied: requests in /usr/local/lib/python3.7/dist-packages (from yahoo_fin) (2.23.0)\n",
            "Requirement already satisfied: feedparser in /usr/local/lib/python3.7/dist-packages (from yahoo_fin) (6.0.10)\n",
            "Requirement already satisfied: pandas in /usr/local/lib/python3.7/dist-packages (from yahoo_fin) (1.3.5)\n",
            "Requirement already satisfied: requests-html in /usr/local/lib/python3.7/dist-packages (from yahoo_fin) (0.10.0)\n",
            "Requirement already satisfied: sgmllib3k in /usr/local/lib/python3.7/dist-packages (from feedparser->yahoo_fin) (1.0.0)\n",
            "Requirement already satisfied: pytz>=2017.3 in /usr/local/lib/python3.7/dist-packages (from pandas->yahoo_fin) (2022.1)\n",
            "Requirement already satisfied: python-dateutil>=2.7.3 in /usr/local/lib/python3.7/dist-packages (from pandas->yahoo_fin) (2.8.2)\n",
            "Requirement already satisfied: numpy>=1.17.3 in /usr/local/lib/python3.7/dist-packages (from pandas->yahoo_fin) (1.21.6)\n",
            "Requirement already satisfied: six>=1.5 in /usr/local/lib/python3.7/dist-packages (from python-dateutil>=2.7.3->pandas->yahoo_fin) (1.15.0)\n",
            "Requirement already satisfied: idna<3,>=2.5 in /usr/local/lib/python3.7/dist-packages (from requests->yahoo_fin) (2.10)\n",
            "Requirement already satisfied: urllib3!=1.25.0,!=1.25.1,<1.26,>=1.21.1 in /usr/local/lib/python3.7/dist-packages (from requests->yahoo_fin) (1.25.11)\n",
            "Requirement already satisfied: chardet<4,>=3.0.2 in /usr/local/lib/python3.7/dist-packages (from requests->yahoo_fin) (3.0.4)\n",
            "Requirement already satisfied: certifi>=2017.4.17 in /usr/local/lib/python3.7/dist-packages (from requests->yahoo_fin) (2022.6.15)\n",
            "Requirement already satisfied: pyppeteer>=0.0.14 in /usr/local/lib/python3.7/dist-packages (from requests-html->yahoo_fin) (1.0.2)\n",
            "Requirement already satisfied: fake-useragent in /usr/local/lib/python3.7/dist-packages (from requests-html->yahoo_fin) (0.1.11)\n",
            "Requirement already satisfied: bs4 in /usr/local/lib/python3.7/dist-packages (from requests-html->yahoo_fin) (0.0.1)\n",
            "Requirement already satisfied: parse in /usr/local/lib/python3.7/dist-packages (from requests-html->yahoo_fin) (1.19.0)\n",
            "Requirement already satisfied: w3lib in /usr/local/lib/python3.7/dist-packages (from requests-html->yahoo_fin) (1.22.0)\n",
            "Requirement already satisfied: pyquery in /usr/local/lib/python3.7/dist-packages (from requests-html->yahoo_fin) (1.4.3)\n",
            "Requirement already satisfied: appdirs<2.0.0,>=1.4.3 in /usr/local/lib/python3.7/dist-packages (from pyppeteer>=0.0.14->requests-html->yahoo_fin) (1.4.4)\n",
            "Requirement already satisfied: websockets<11.0,>=10.0 in /usr/local/lib/python3.7/dist-packages (from pyppeteer>=0.0.14->requests-html->yahoo_fin) (10.3)\n",
            "Requirement already satisfied: pyee<9.0.0,>=8.1.0 in /usr/local/lib/python3.7/dist-packages (from pyppeteer>=0.0.14->requests-html->yahoo_fin) (8.2.2)\n",
            "Requirement already satisfied: importlib-metadata>=1.4 in /usr/local/lib/python3.7/dist-packages (from pyppeteer>=0.0.14->requests-html->yahoo_fin) (4.12.0)\n",
            "Requirement already satisfied: tqdm<5.0.0,>=4.42.1 in /usr/local/lib/python3.7/dist-packages (from pyppeteer>=0.0.14->requests-html->yahoo_fin) (4.64.0)\n",
            "Requirement already satisfied: zipp>=0.5 in /usr/local/lib/python3.7/dist-packages (from importlib-metadata>=1.4->pyppeteer>=0.0.14->requests-html->yahoo_fin) (3.8.1)\n",
            "Requirement already satisfied: typing-extensions>=3.6.4 in /usr/local/lib/python3.7/dist-packages (from importlib-metadata>=1.4->pyppeteer>=0.0.14->requests-html->yahoo_fin) (4.1.1)\n",
            "Requirement already satisfied: beautifulsoup4 in /usr/local/lib/python3.7/dist-packages (from bs4->requests-html->yahoo_fin) (4.6.3)\n",
            "Requirement already satisfied: cssselect>0.7.9 in /usr/local/lib/python3.7/dist-packages (from pyquery->requests-html->yahoo_fin) (1.1.0)\n",
            "Requirement already satisfied: lxml>=2.1 in /usr/local/lib/python3.7/dist-packages (from pyquery->requests-html->yahoo_fin) (4.9.1)\n",
            "Looking in indexes: https://pypi.org/simple, https://us-python.pkg.dev/colab-wheels/public/simple/\n",
            "Requirement already satisfied: matplotlib in /usr/local/lib/python3.7/dist-packages (3.2.2)\n",
            "Requirement already satisfied: cycler>=0.10 in /usr/local/lib/python3.7/dist-packages (from matplotlib) (0.11.0)\n",
            "Requirement already satisfied: python-dateutil>=2.1 in /usr/local/lib/python3.7/dist-packages (from matplotlib) (2.8.2)\n",
            "Requirement already satisfied: kiwisolver>=1.0.1 in /usr/local/lib/python3.7/dist-packages (from matplotlib) (1.4.4)\n",
            "Requirement already satisfied: numpy>=1.11 in /usr/local/lib/python3.7/dist-packages (from matplotlib) (1.21.6)\n",
            "Requirement already satisfied: pyparsing!=2.0.4,!=2.1.2,!=2.1.6,>=2.0.1 in /usr/local/lib/python3.7/dist-packages (from matplotlib) (3.0.9)\n",
            "Requirement already satisfied: typing-extensions in /usr/local/lib/python3.7/dist-packages (from kiwisolver>=1.0.1->matplotlib) (4.1.1)\n",
            "Requirement already satisfied: six>=1.5 in /usr/local/lib/python3.7/dist-packages (from python-dateutil>=2.1->matplotlib) (1.15.0)\n"
          ]
        }
      ]
    },
    {
      "cell_type": "code",
      "execution_count": null,
      "metadata": {
        "id": "108bTPBmBrL1"
      },
      "outputs": [],
      "source": [
        "import tensorflow as tf\n",
        "import pandas as pd\n",
        "from yahoo_fin import stock_info as si\n",
        "import matplotlib.pyplot as plt\n",
        "import numpy as np\n",
        "from statsmodels.graphics.tsaplots import plot_acf\n",
        "import math\n",
        "from statsmodels.tsa.seasonal import seasonal_decompose\n",
        "import jinja2"
      ]
    },
    {
      "cell_type": "markdown",
      "metadata": {
        "id": "eWbWy13GCVAJ"
      },
      "source": [
        "#2. Collect"
      ]
    },
    {
      "cell_type": "code",
      "execution_count": null,
      "metadata": {
        "id": "lfy2O8-eCYRG"
      },
      "outputs": [],
      "source": [
        "df = {}\n",
        "df = si.get_data('NG=F')\n",
        "df = pd.DataFrame(df)\n",
        "df = df [['open', 'close', 'high', 'low']].round(3)\n",
        "resampled_df = df.resample('1D').mean()\n",
        "resampled_df.interpolate(method='linear', axis = 0, inplace= True, limit_direction='forward')\n",
        "plt.show()"
      ]
    },
    {
      "cell_type": "markdown",
      "metadata": {
        "id": "pPH79Y7sDGxk"
      },
      "source": [
        "#3. Preliminary Analysis"
      ]
    },
    {
      "cell_type": "code",
      "execution_count": null,
      "metadata": {
        "colab": {
          "base_uri": "https://localhost:8080/",
          "height": 175
        },
        "id": "wK1Cy8WvDLNp",
        "outputId": "c37fc9d2-dfbd-46b7-ab51-cefbf12616b6"
      },
      "outputs": [
        {
          "output_type": "execute_result",
          "data": {
            "text/plain": [
              "           open     close      high       low\n",
              "open   1.000000  0.997654  0.998694  0.998890\n",
              "close  0.997654  1.000000  0.998851  0.998907\n",
              "high   0.998694  0.998851  1.000000  0.998251\n",
              "low    0.998890  0.998907  0.998251  1.000000"
            ],
            "text/html": [
              "\n",
              "  <div id=\"df-463a1f99-82d3-4f88-b472-9bb8550fe279\">\n",
              "    <div class=\"colab-df-container\">\n",
              "      <div>\n",
              "<style scoped>\n",
              "    .dataframe tbody tr th:only-of-type {\n",
              "        vertical-align: middle;\n",
              "    }\n",
              "\n",
              "    .dataframe tbody tr th {\n",
              "        vertical-align: top;\n",
              "    }\n",
              "\n",
              "    .dataframe thead th {\n",
              "        text-align: right;\n",
              "    }\n",
              "</style>\n",
              "<table border=\"1\" class=\"dataframe\">\n",
              "  <thead>\n",
              "    <tr style=\"text-align: right;\">\n",
              "      <th></th>\n",
              "      <th>open</th>\n",
              "      <th>close</th>\n",
              "      <th>high</th>\n",
              "      <th>low</th>\n",
              "    </tr>\n",
              "  </thead>\n",
              "  <tbody>\n",
              "    <tr>\n",
              "      <th>open</th>\n",
              "      <td>1.000000</td>\n",
              "      <td>0.997654</td>\n",
              "      <td>0.998694</td>\n",
              "      <td>0.998890</td>\n",
              "    </tr>\n",
              "    <tr>\n",
              "      <th>close</th>\n",
              "      <td>0.997654</td>\n",
              "      <td>1.000000</td>\n",
              "      <td>0.998851</td>\n",
              "      <td>0.998907</td>\n",
              "    </tr>\n",
              "    <tr>\n",
              "      <th>high</th>\n",
              "      <td>0.998694</td>\n",
              "      <td>0.998851</td>\n",
              "      <td>1.000000</td>\n",
              "      <td>0.998251</td>\n",
              "    </tr>\n",
              "    <tr>\n",
              "      <th>low</th>\n",
              "      <td>0.998890</td>\n",
              "      <td>0.998907</td>\n",
              "      <td>0.998251</td>\n",
              "      <td>1.000000</td>\n",
              "    </tr>\n",
              "  </tbody>\n",
              "</table>\n",
              "</div>\n",
              "      <button class=\"colab-df-convert\" onclick=\"convertToInteractive('df-463a1f99-82d3-4f88-b472-9bb8550fe279')\"\n",
              "              title=\"Convert this dataframe to an interactive table.\"\n",
              "              style=\"display:none;\">\n",
              "        \n",
              "  <svg xmlns=\"http://www.w3.org/2000/svg\" height=\"24px\"viewBox=\"0 0 24 24\"\n",
              "       width=\"24px\">\n",
              "    <path d=\"M0 0h24v24H0V0z\" fill=\"none\"/>\n",
              "    <path d=\"M18.56 5.44l.94 2.06.94-2.06 2.06-.94-2.06-.94-.94-2.06-.94 2.06-2.06.94zm-11 1L8.5 8.5l.94-2.06 2.06-.94-2.06-.94L8.5 2.5l-.94 2.06-2.06.94zm10 10l.94 2.06.94-2.06 2.06-.94-2.06-.94-.94-2.06-.94 2.06-2.06.94z\"/><path d=\"M17.41 7.96l-1.37-1.37c-.4-.4-.92-.59-1.43-.59-.52 0-1.04.2-1.43.59L10.3 9.45l-7.72 7.72c-.78.78-.78 2.05 0 2.83L4 21.41c.39.39.9.59 1.41.59.51 0 1.02-.2 1.41-.59l7.78-7.78 2.81-2.81c.8-.78.8-2.07 0-2.86zM5.41 20L4 18.59l7.72-7.72 1.47 1.35L5.41 20z\"/>\n",
              "  </svg>\n",
              "      </button>\n",
              "      \n",
              "  <style>\n",
              "    .colab-df-container {\n",
              "      display:flex;\n",
              "      flex-wrap:wrap;\n",
              "      gap: 12px;\n",
              "    }\n",
              "\n",
              "    .colab-df-convert {\n",
              "      background-color: #E8F0FE;\n",
              "      border: none;\n",
              "      border-radius: 50%;\n",
              "      cursor: pointer;\n",
              "      display: none;\n",
              "      fill: #1967D2;\n",
              "      height: 32px;\n",
              "      padding: 0 0 0 0;\n",
              "      width: 32px;\n",
              "    }\n",
              "\n",
              "    .colab-df-convert:hover {\n",
              "      background-color: #E2EBFA;\n",
              "      box-shadow: 0px 1px 2px rgba(60, 64, 67, 0.3), 0px 1px 3px 1px rgba(60, 64, 67, 0.15);\n",
              "      fill: #174EA6;\n",
              "    }\n",
              "\n",
              "    [theme=dark] .colab-df-convert {\n",
              "      background-color: #3B4455;\n",
              "      fill: #D2E3FC;\n",
              "    }\n",
              "\n",
              "    [theme=dark] .colab-df-convert:hover {\n",
              "      background-color: #434B5C;\n",
              "      box-shadow: 0px 1px 3px 1px rgba(0, 0, 0, 0.15);\n",
              "      filter: drop-shadow(0px 1px 2px rgba(0, 0, 0, 0.3));\n",
              "      fill: #FFFFFF;\n",
              "    }\n",
              "  </style>\n",
              "\n",
              "      <script>\n",
              "        const buttonEl =\n",
              "          document.querySelector('#df-463a1f99-82d3-4f88-b472-9bb8550fe279 button.colab-df-convert');\n",
              "        buttonEl.style.display =\n",
              "          google.colab.kernel.accessAllowed ? 'block' : 'none';\n",
              "\n",
              "        async function convertToInteractive(key) {\n",
              "          const element = document.querySelector('#df-463a1f99-82d3-4f88-b472-9bb8550fe279');\n",
              "          const dataTable =\n",
              "            await google.colab.kernel.invokeFunction('convertToInteractive',\n",
              "                                                     [key], {});\n",
              "          if (!dataTable) return;\n",
              "\n",
              "          const docLinkHtml = 'Like what you see? Visit the ' +\n",
              "            '<a target=\"_blank\" href=https://colab.research.google.com/notebooks/data_table.ipynb>data table notebook</a>'\n",
              "            + ' to learn more about interactive tables.';\n",
              "          element.innerHTML = '';\n",
              "          dataTable['output_type'] = 'display_data';\n",
              "          await google.colab.output.renderOutput(dataTable, element);\n",
              "          const docLink = document.createElement('div');\n",
              "          docLink.innerHTML = docLinkHtml;\n",
              "          element.appendChild(docLink);\n",
              "        }\n",
              "      </script>\n",
              "    </div>\n",
              "  </div>\n",
              "  "
            ]
          },
          "metadata": {},
          "execution_count": 24
        }
      ],
      "source": [
        "resampled_df.corr()"
      ]
    },
    {
      "cell_type": "code",
      "execution_count": null,
      "metadata": {
        "colab": {
          "base_uri": "https://localhost:8080/",
          "height": 281
        },
        "id": "vbe2cbF7DQ0B",
        "outputId": "22d2dc24-f1b5-43cb-c1fc-3d42c2897740"
      },
      "outputs": [
        {
          "output_type": "display_data",
          "data": {
            "text/plain": [
              "<Figure size 432x288 with 1 Axes>"
            ],
            "image/png": "[encoded data removed]"
          },
          "metadata": {
            "needs_background": "light"
          }
        }
      ],
      "source": [
        "stripped_resampled_df = resampled_df['close']\n",
        "plot_acf(stripped_resampled_df)\n",
        "plt.show()"
      ]
    },
    {
      "cell_type": "code",
      "execution_count": null,
      "metadata": {
        "colab": {
          "base_uri": "https://localhost:8080/",
          "height": 423
        },
        "id": "qNDphlInG9v3",
        "outputId": "1c57908c-0340-4a25-bf20-61d9c5464c83"
      },
      "outputs": [
        {
          "output_type": "execute_result",
          "data": {
            "text/plain": [
              "               close     ma180      ma60      ma30   std_min   std_max\n",
              "2001-08-24  2.706000  4.160425  3.130125  3.106800  0.996005  4.415995\n",
              "2001-08-25  2.652000  4.147047  3.117708  3.090933  0.936564  4.367436\n",
              "2001-08-26  2.598000  4.132092  3.107508  3.071967  0.876949  4.319051\n",
              "2001-08-27  2.544000  4.117086  3.095325  3.049133  0.817098  4.270902\n",
              "2001-08-28  2.420000  4.101725  3.084058  3.020100  0.686716  4.153284\n",
              "...              ...       ...       ...       ...       ...       ...\n",
              "2022-08-05  8.064000  6.626961  7.276575  7.597000  6.526080  9.601920\n",
              "2022-08-06  7.905667  6.647370  7.253453  7.650622  6.365469  9.445864\n",
              "2022-08-07  7.747333  6.666811  7.237592  7.707733  6.205934  9.288732\n",
              "2022-08-08  7.589000  6.686700  7.214692  7.755211  6.047273  9.130727\n",
              "2022-08-09  7.823000  6.708167  7.197575  7.806133  6.280072  9.365928\n",
              "\n",
              "[7656 rows x 6 columns]"
            ],
            "text/html": [
              "\n",
              "  <div id=\"df-56056591-5d5b-427c-9e08-9900c2a12a31\">\n",
              "    <div class=\"colab-df-container\">\n",
              "      <div>\n",
              "<style scoped>\n",
              "    .dataframe tbody tr th:only-of-type {\n",
              "        vertical-align: middle;\n",
              "    }\n",
              "\n",
              "    .dataframe tbody tr th {\n",
              "        vertical-align: top;\n",
              "    }\n",
              "\n",
              "    .dataframe thead th {\n",
              "        text-align: right;\n",
              "    }\n",
              "</style>\n",
              "<table border=\"1\" class=\"dataframe\">\n",
              "  <thead>\n",
              "    <tr style=\"text-align: right;\">\n",
              "      <th></th>\n",
              "      <th>close</th>\n",
              "      <th>ma180</th>\n",
              "      <th>ma60</th>\n",
              "      <th>ma30</th>\n",
              "      <th>std_min</th>\n",
              "      <th>std_max</th>\n",
              "    </tr>\n",
              "  </thead>\n",
              "  <tbody>\n",
              "    <tr>\n",
              "      <th>2001-08-24</th>\n",
              "      <td>2.706000</td>\n",
              "      <td>4.160425</td>\n",
              "      <td>3.130125</td>\n",
              "      <td>3.106800</td>\n",
              "      <td>0.996005</td>\n",
              "      <td>4.415995</td>\n",
              "    </tr>\n",
              "    <tr>\n",
              "      <th>2001-08-25</th>\n",
              "      <td>2.652000</td>\n",
              "      <td>4.147047</td>\n",
              "      <td>3.117708</td>\n",
              "      <td>3.090933</td>\n",
              "      <td>0.936564</td>\n",
              "      <td>4.367436</td>\n",
              "    </tr>\n",
              "    <tr>\n",
              "      <th>2001-08-26</th>\n",
              "      <td>2.598000</td>\n",
              "      <td>4.132092</td>\n",
              "      <td>3.107508</td>\n",
              "      <td>3.071967</td>\n",
              "      <td>0.876949</td>\n",
              "      <td>4.319051</td>\n",
              "    </tr>\n",
              "    <tr>\n",
              "      <th>2001-08-27</th>\n",
              "      <td>2.544000</td>\n",
              "      <td>4.117086</td>\n",
              "      <td>3.095325</td>\n",
              "      <td>3.049133</td>\n",
              "      <td>0.817098</td>\n",
              "      <td>4.270902</td>\n",
              "    </tr>\n",
              "    <tr>\n",
              "      <th>2001-08-28</th>\n",
              "      <td>2.420000</td>\n",
              "      <td>4.101725</td>\n",
              "      <td>3.084058</td>\n",
              "      <td>3.020100</td>\n",
              "      <td>0.686716</td>\n",
              "      <td>4.153284</td>\n",
              "    </tr>\n",
              "    <tr>\n",
              "      <th>...</th>\n",
              "      <td>...</td>\n",
              "      <td>...</td>\n",
              "      <td>...</td>\n",
              "      <td>...</td>\n",
              "      <td>...</td>\n",
              "      <td>...</td>\n",
              "    </tr>\n",
              "    <tr>\n",
              "      <th>2022-08-05</th>\n",
              "      <td>8.064000</td>\n",
              "      <td>6.626961</td>\n",
              "      <td>7.276575</td>\n",
              "      <td>7.597000</td>\n",
              "      <td>6.526080</td>\n",
              "      <td>9.601920</td>\n",
              "    </tr>\n",
              "    <tr>\n",
              "      <th>2022-08-06</th>\n",
              "      <td>7.905667</td>\n",
              "      <td>6.647370</td>\n",
              "      <td>7.253453</td>\n",
              "      <td>7.650622</td>\n",
              "      <td>6.365469</td>\n",
              "      <td>9.445864</td>\n",
              "    </tr>\n",
              "    <tr>\n",
              "      <th>2022-08-07</th>\n",
              "      <td>7.747333</td>\n",
              "      <td>6.666811</td>\n",
              "      <td>7.237592</td>\n",
              "      <td>7.707733</td>\n",
              "      <td>6.205934</td>\n",
              "      <td>9.288732</td>\n",
              "    </tr>\n",
              "    <tr>\n",
              "      <th>2022-08-08</th>\n",
              "      <td>7.589000</td>\n",
              "      <td>6.686700</td>\n",
              "      <td>7.214692</td>\n",
              "      <td>7.755211</td>\n",
              "      <td>6.047273</td>\n",
              "      <td>9.130727</td>\n",
              "    </tr>\n",
              "    <tr>\n",
              "      <th>2022-08-09</th>\n",
              "      <td>7.823000</td>\n",
              "      <td>6.708167</td>\n",
              "      <td>7.197575</td>\n",
              "      <td>7.806133</td>\n",
              "      <td>6.280072</td>\n",
              "      <td>9.365928</td>\n",
              "    </tr>\n",
              "  </tbody>\n",
              "</table>\n",
              "<p>7656 rows × 6 columns</p>\n",
              "</div>\n",
              "      <button class=\"colab-df-convert\" onclick=\"convertToInteractive('df-56056591-5d5b-427c-9e08-9900c2a12a31')\"\n",
              "              title=\"Convert this dataframe to an interactive table.\"\n",
              "              style=\"display:none;\">\n",
              "        \n",
              "  <svg xmlns=\"http://www.w3.org/2000/svg\" height=\"24px\"viewBox=\"0 0 24 24\"\n",
              "       width=\"24px\">\n",
              "    <path d=\"M0 0h24v24H0V0z\" fill=\"none\"/>\n",
              "    <path d=\"M18.56 5.44l.94 2.06.94-2.06 2.06-.94-2.06-.94-.94-2.06-.94 2.06-2.06.94zm-11 1L8.5 8.5l.94-2.06 2.06-.94-2.06-.94L8.5 2.5l-.94 2.06-2.06.94zm10 10l.94 2.06.94-2.06 2.06-.94-2.06-.94-.94-2.06-.94 2.06-2.06.94z\"/><path d=\"M17.41 7.96l-1.37-1.37c-.4-.4-.92-.59-1.43-.59-.52 0-1.04.2-1.43.59L10.3 9.45l-7.72 7.72c-.78.78-.78 2.05 0 2.83L4 21.41c.39.39.9.59 1.41.59.51 0 1.02-.2 1.41-.59l7.78-7.78 2.81-2.81c.8-.78.8-2.07 0-2.86zM5.41 20L4 18.59l7.72-7.72 1.47 1.35L5.41 20z\"/>\n",
              "  </svg>\n",
              "      </button>\n",
              "      \n",
              "  <style>\n",
              "    .colab-df-container {\n",
              "      display:flex;\n",
              "      flex-wrap:wrap;\n",
              "      gap: 12px;\n",
              "    }\n",
              "\n",
              "    .colab-df-convert {\n",
              "      background-color: #E8F0FE;\n",
              "      border: none;\n",
              "      border-radius: 50%;\n",
              "      cursor: pointer;\n",
              "      display: none;\n",
              "      fill: #1967D2;\n",
              "      height: 32px;\n",
              "      padding: 0 0 0 0;\n",
              "      width: 32px;\n",
              "    }\n",
              "\n",
              "    .colab-df-convert:hover {\n",
              "      background-color: #E2EBFA;\n",
              "      box-shadow: 0px 1px 2px rgba(60, 64, 67, 0.3), 0px 1px 3px 1px rgba(60, 64, 67, 0.15);\n",
              "      fill: #174EA6;\n",
              "    }\n",
              "\n",
              "    [theme=dark] .colab-df-convert {\n",
              "      background-color: #3B4455;\n",
              "      fill: #D2E3FC;\n",
              "    }\n",
              "\n",
              "    [theme=dark] .colab-df-convert:hover {\n",
              "      background-color: #434B5C;\n",
              "      box-shadow: 0px 1px 3px 1px rgba(0, 0, 0, 0.15);\n",
              "      filter: drop-shadow(0px 1px 2px rgba(0, 0, 0, 0.3));\n",
              "      fill: #FFFFFF;\n",
              "    }\n",
              "  </style>\n",
              "\n",
              "      <script>\n",
              "        const buttonEl =\n",
              "          document.querySelector('#df-56056591-5d5b-427c-9e08-9900c2a12a31 button.colab-df-convert');\n",
              "        buttonEl.style.display =\n",
              "          google.colab.kernel.accessAllowed ? 'block' : 'none';\n",
              "\n",
              "        async function convertToInteractive(key) {\n",
              "          const element = document.querySelector('#df-56056591-5d5b-427c-9e08-9900c2a12a31');\n",
              "          const dataTable =\n",
              "            await google.colab.kernel.invokeFunction('convertToInteractive',\n",
              "                                                     [key], {});\n",
              "          if (!dataTable) return;\n",
              "\n",
              "          const docLinkHtml = 'Like what you see? Visit the ' +\n",
              "            '<a target=\"_blank\" href=https://colab.research.google.com/notebooks/data_table.ipynb>data table notebook</a>'\n",
              "            + ' to learn more about interactive tables.';\n",
              "          element.innerHTML = '';\n",
              "          dataTable['output_type'] = 'display_data';\n",
              "          await google.colab.output.renderOutput(dataTable, element);\n",
              "          const docLink = document.createElement('div');\n",
              "          docLink.innerHTML = docLinkHtml;\n",
              "          element.appendChild(docLink);\n",
              "        }\n",
              "      </script>\n",
              "    </div>\n",
              "  </div>\n",
              "  "
            ]
          },
          "metadata": {},
          "execution_count": 26
        }
      ],
      "source": [
        "ma_resampled_df = pd.DataFrame(resampled_df['close'])\n",
        "ma_resampled_df['ma180'] = resampled_df['close'].rolling(180).mean()\n",
        "ma_resampled_df['ma60'] = resampled_df['close'].rolling(60).mean()\n",
        "ma_resampled_df['ma30'] = resampled_df['close'].rolling(30).mean()\n",
        "ma_resampled_df['std_min'] = resampled_df['close'] - resampled_df['close'].rolling(360).std()\n",
        "ma_resampled_df['std_max'] = resampled_df['close'] + resampled_df['close'].rolling(360).std()\n",
        "\n",
        "\n",
        "\n",
        "ma_resampled_df = ma_resampled_df[359:]\n",
        "ma_resampled_df"
      ]
    },
    {
      "cell_type": "code",
      "source": [
        "import seaborn as sns\n",
        "\n",
        "sns.heatmap(ma_resampled_df.corr(), cmap='jet')"
      ],
      "metadata": {
        "colab": {
          "base_uri": "https://localhost:8080/",
          "height": 288
        },
        "id": "F3kBe_tEzWyZ",
        "outputId": "c87ea4fc-f582-4c56-ead3-6bbbd98590d8"
      },
      "execution_count": null,
      "outputs": [
        {
          "output_type": "execute_result",
          "data": {
            "text/plain": [
              "<matplotlib.axes._subplots.AxesSubplot at 0x7f579a9c7b50>"
            ]
          },
          "metadata": {},
          "execution_count": 27
        },
        {
          "output_type": "display_data",
          "data": {
            "text/plain": [
              "<Figure size 432x288 with 2 Axes>"
            ],
            "image/png": "[encoded data removed]"
          },
          "metadata": {
            "needs_background": "light"
          }
        }
      ]
    },
    {
      "cell_type": "code",
      "source": [
        "sns.heatmap(ma_resampled_df.cov(), cmap='jet')"
      ],
      "metadata": {
        "colab": {
          "base_uri": "https://localhost:8080/",
          "height": 284
        },
        "id": "KGwWByKgz20O",
        "outputId": "f0cc0a20-3253-41f2-c7cb-c5872e28061a"
      },
      "execution_count": null,
      "outputs": [
        {
          "output_type": "execute_result",
          "data": {
            "text/plain": [
              "<matplotlib.axes._subplots.AxesSubplot at 0x7f579a9c1190>"
            ]
          },
          "metadata": {},
          "execution_count": 28
        },
        {
          "output_type": "display_data",
          "data": {
            "text/plain": [
              "<Figure size 432x288 with 2 Axes>"
            ],
            "image/png": "[encoded data removed]"
          },
          "metadata": {
            "needs_background": "light"
          }
        }
      ]
    },
    {
      "cell_type": "code",
      "source": [
        "ma_monthly_resampled_df = ma_resampled_df.resample('1M').mean()"
      ],
      "metadata": {
        "id": "0t8RKjSZ072y"
      },
      "execution_count": null,
      "outputs": []
    },
    {
      "cell_type": "code",
      "source": [
        "ma_monthly_resampled_df['close']"
      ],
      "metadata": {
        "colab": {
          "base_uri": "https://localhost:8080/"
        },
        "id": "OJWTlKBSmUyR",
        "outputId": "c82a41e3-c988-4527-f305-193a0b4a7765"
      },
      "execution_count": null,
      "outputs": [
        {
          "output_type": "execute_result",
          "data": {
            "text/plain": [
              "2001-08-31    2.504375\n",
              "2001-09-30    2.285450\n",
              "2001-10-31    2.621000\n",
              "2001-11-30    2.803333\n",
              "2001-12-31    2.715484\n",
              "                ...   \n",
              "2022-04-30    6.721633\n",
              "2022-05-31    8.117871\n",
              "2022-06-30    7.597100\n",
              "2022-07-31    7.132629\n",
              "2022-08-31    7.945111\n",
              "Freq: M, Name: close, Length: 253, dtype: float64"
            ]
          },
          "metadata": {},
          "execution_count": 30
        }
      ]
    },
    {
      "cell_type": "markdown",
      "metadata": {
        "id": "A3OR1FFcEpvG"
      },
      "source": [
        "#4. Sentiment Analyser"
      ]
    },
    {
      "cell_type": "code",
      "execution_count": null,
      "metadata": {
        "colab": {
          "base_uri": "https://localhost:8080/"
        },
        "id": "goWpZHYrFvtF",
        "outputId": "ebee04e7-6940-41bb-fe5f-1f104a41f1e1"
      },
      "outputs": [
        {
          "output_type": "stream",
          "name": "stdout",
          "text": [
            "Looking in indexes: https://pypi.org/simple, https://us-python.pkg.dev/colab-wheels/public/simple/\n",
            "Requirement already satisfied: textblob in /usr/local/lib/python3.7/dist-packages (0.15.3)\n",
            "Requirement already satisfied: nltk>=3.1 in /usr/local/lib/python3.7/dist-packages (from textblob) (3.7)\n",
            "Requirement already satisfied: regex>=2021.8.3 in /usr/local/lib/python3.7/dist-packages (from nltk>=3.1->textblob) (2022.6.2)\n",
            "Requirement already satisfied: click in /usr/local/lib/python3.7/dist-packages (from nltk>=3.1->textblob) (7.1.2)\n",
            "Requirement already satisfied: tqdm in /usr/local/lib/python3.7/dist-packages (from nltk>=3.1->textblob) (4.64.0)\n",
            "Requirement already satisfied: joblib in /usr/local/lib/python3.7/dist-packages (from nltk>=3.1->textblob) (1.1.0)\n"
          ]
        }
      ],
      "source": [
        "!pip install textblob"
      ]
    },
    {
      "cell_type": "code",
      "execution_count": null,
      "metadata": {
        "id": "FHPhDu_dMANB"
      },
      "outputs": [],
      "source": [
        "import pandas as pd\n",
        "import numpy as np\n",
        "import matplotlib.pyplot as plt\n",
        "from matplotlib.pyplot import figure\n",
        "from textblob import TextBlob\n",
        "plt.style.use('fivethirtyeight')"
      ]
    },
    {
      "cell_type": "markdown",
      "metadata": {
        "id": "LUGV0TUcNUn5"
      },
      "source": [
        "## a. KEYWORD"
      ]
    },
    {
      "cell_type": "code",
      "execution_count": null,
      "metadata": {
        "id": "Hc-pbL_nNWyd"
      },
      "outputs": [],
      "source": [
        "keyword = {\"keyw\": \"Natural Gas\",\"asset\": 'commodity'}\n",
        "\n",
        "if keyword['asset'] == 'stocks':\n",
        "  keyword['scrape_search'] = keyword['keyw'] + ' shares'\n",
        "else:\n",
        "  keyword['scrape_search'] = keyword['keyw'] + ' prices'"
      ]
    },
    {
      "cell_type": "markdown",
      "metadata": {
        "id": "_Pdx8YpaMCzG"
      },
      "source": [
        "## b. Scrapper"
      ]
    },
    {
      "cell_type": "code",
      "execution_count": null,
      "metadata": {
        "colab": {
          "base_uri": "https://localhost:8080/"
        },
        "id": "ljDvyWYZMsQd",
        "outputId": "d43dc7b8-680b-4c54-b1e9-bc2c3c3ffcce"
      },
      "outputs": [
        {
          "output_type": "stream",
          "name": "stdout",
          "text": [
            "                                             Headline  \\\n",
            "0   Amazon Adds Another Popular Smart Home Brand t...   \n",
            "1   Impress With These Amazon Furniture and Decor ...   \n",
            "2   Amazon Warehouse Walkouts Over Pay Seen Spread...   \n",
            "3   Amazon Fire 7 Tablet (2022) Review: Weak but C...   \n",
            "4   'A very strong accelerant': Amwell CEO shares ...   \n",
            "..                                                ...   \n",
            "95  It’s now easier for sellers to manage their mo...   \n",
            "96  Amazon, 3M file lawsuit alleging counterfeit r...   \n",
            "97  Amazon offers to limit use of merchant data in...   \n",
            "98  Amazon faces probe by federal prosecutors and ...   \n",
            "99  Amazon gave Ring videos to police without owne...   \n",
            "\n",
            "                  Date_time                                                URL  \n",
            "0   Tue,2022-08-09 19:06:39  https://www.kiplinger.com/personal-finance/sho...  \n",
            "1   Tue,2022-08-09 23:15:00  https://theinventory.com/impress-with-these-am...  \n",
            "2   Tue,2022-08-09 22:27:00  https://www.bloomberg.com/news/articles/2022-0...  \n",
            "3   Tue,2022-08-09 15:30:13  https://www.howtogeek.com/822008/amazon-fire-7...  \n",
            "4   Tue,2022-08-09 21:29:58  https://www.statnews.com/2022/08/09/amazon-hea...  \n",
            "..                      ...                                                ...  \n",
            "95  Mon,2022-07-25 12:30:00  https://www.aboutamazon.com/news/small-busines...  \n",
            "96  Wed,2022-07-27 12:30:00  https://www.axios.com/local/seattle/2022/07/27...  \n",
            "97  Thu,2022-07-14 12:30:00  https://techcrunch.com/2022/07/14/amazon-eu-an...  \n",
            "98  Mon,2022-07-18 12:30:00  https://www.cnbc.com/2022/07/18/amazon-faces-p...  \n",
            "99  Wed,2022-07-13 12:30:00  https://www.politico.com/news/2022/07/13/amazo...  \n",
            "\n",
            "[100 rows x 3 columns]\n"
          ]
        }
      ],
      "source": [
        "from bs4 import BeautifulSoup as soup\n",
        "from urllib.request import urlopen\n",
        "import datetime\n",
        "import pandas as pd\n",
        "\n",
        "def webCrawl (search):\n",
        "    news_df = pd.DataFrame(columns={\"Headline\", \"Date_time\", \"URL\"})\n",
        "    date = datetime.datetime.now()\n",
        "    date = date.date() - datetime.timedelta(days=1500)\n",
        "    date = str(date)\n",
        "    date = date.replace(\"-\", \"\")\n",
        "    date = int(date)\n",
        "    search = search.replace(\" \", \"%20\")\n",
        "    search = search.replace(\"Limited\", \"\")\n",
        "    search = search.replace(\"ltd\", \"\")\n",
        "    search = search.replace(\"INC\", \"\")\n",
        "    search = search.replace(\"inc\", \"\")\n",
        "    search = search.replace(\"LLC\", \"\")\n",
        "    newsUrl = \"https://news.google.com/rss/?q=\" + str(search)\n",
        "    website = urlopen(newsUrl)\n",
        "    xml_page = website.read()\n",
        "    website.close()\n",
        "    ret_n = pd.DataFrame(columns=[\"\"])\n",
        "    soup_page = soup(xml_page, \"xml\")\n",
        "    news_list = soup_page.findAll(\"item\")\n",
        "    # Print news title, url and publish date\n",
        "    for news in news_list:\n",
        "        day = (news.pubDate.text[5:7])\n",
        "        wkday = str(news.pubDate.text[0:4])\n",
        "        pub_time = str(news.pubDate.text[17:25])\n",
        "        d = {\"Jan\" : \"01\", \"Feb\" : \"02\", \"Mar\" : \"03\", \"Apr\" : \"04\", \"May\" : \"05\", \"Jun\" : \"06\", \"Jul\" : \"07\", \"Aug\" : \"08\", \"Sep\" : \"09\", \"Oct\" : \"10\", \"Nov\" : \"11\", \"Dec\" : \"12\"}\n",
        "        month = (d.get(news.pubDate.text[8:11]))\n",
        "        year = (news.pubDate.text[12:16])\n",
        "        date_t = str(year + \"-\" + month + \"-\" + day + \" \" +pub_time)\n",
        "        format = \"%Y-%m-%d %H:%M:%S\"\n",
        "        date_time = datetime.datetime.strptime(date_t, format) + datetime.timedelta(minutes = 330)\n",
        "        date_time = wkday + str(date_time)\n",
        "        date_a = int(str(year + month + day))\n",
        "\n",
        "        if (date_a >= date):\n",
        "            headl = news.title.text\n",
        "            newslink = news.link.text\n",
        "            news_df = news_df.append({\"Headline\": headl, \"Date_time\" : date_time, \"URL\": newslink}, ignore_index=True)\n",
        "    return news_df \n",
        "\n",
        "print(webCrawl ('Amazon'))\n"
      ]
    },
    {
      "cell_type": "markdown",
      "metadata": {
        "id": "jFINaQmLQ6mi"
      },
      "source": [
        "#5. Data Augment"
      ]
    },
    {
      "cell_type": "code",
      "execution_count": null,
      "metadata": {
        "id": "yxiwUjn-fsez"
      },
      "outputs": [],
      "source": [
        "from sklearn.preprocessing import StandardScaler\n",
        "scaler = StandardScaler()"
      ]
    },
    {
      "cell_type": "code",
      "execution_count": null,
      "metadata": {
        "id": "1dyLIPPDm5nl"
      },
      "outputs": [],
      "source": [
        "# monthly_resampled_df = ma_resampled_df.resample('1M').mean()\n",
        "# plt.plot(monthly_resampled_df['close'] ,label = 'close')\n",
        "# plt.legend(loc=\"upper left\")\n",
        "# plt.show()"
      ]
    },
    {
      "cell_type": "code",
      "execution_count": null,
      "metadata": {
        "id": "NuyLQNJMXHZl"
      },
      "outputs": [],
      "source": [
        "def root(x):\n",
        "  return math.sqrt(x)"
      ]
    },
    {
      "cell_type": "code",
      "execution_count": null,
      "metadata": {
        "colab": {
          "base_uri": "https://localhost:8080/"
        },
        "id": "NrC9qVKJseuw",
        "outputId": "106b690f-4e03-40fa-cde9-de631ddd93c2"
      },
      "outputs": [
        {
          "output_type": "stream",
          "name": "stdout",
          "text": [
            "[4.5216045, 4.4793324, 4.5048733, 4.5122437, 3.6909397, 5.3522696]\n",
            "[2.2626767, 2.1018696, 2.208127, 2.2344203, 1.9983234, 2.6669602]\n",
            "(6216, 6) (1440, 6)\n"
          ]
        }
      ],
      "source": [
        "rows, attributes = ma_resampled_df.shape\n",
        "\n",
        "months = 48 * 30\n",
        "\n",
        "scaler_mod = scaler.fit(ma_resampled_df)\n",
        "scaler_mean = list(map(np.float32, scaler.mean_))\n",
        "scaler_var = list(map(np.float32,scaler.scale_))\n",
        "print(list(map(np.float32, scaler_mean)))\n",
        "print(list(map(np.float32, scaler_var)))\n",
        "monthly_resampled_df_scaled = scaler.transform (ma_resampled_df)\n",
        "train_monthly_resampled_df = monthly_resampled_df_scaled[0:(rows-months)]\n",
        "test_monthly_resampled_df = monthly_resampled_df_scaled[(rows-months):]\n",
        "\n",
        "print(train_monthly_resampled_df.shape, test_monthly_resampled_df.shape) \n"
      ]
    },
    {
      "cell_type": "code",
      "execution_count": null,
      "metadata": {
        "colab": {
          "base_uri": "https://localhost:8080/"
        },
        "id": "crwwWot8-YVq",
        "outputId": "51083f1f-2241-4561-93fa-5746cded71f6"
      },
      "outputs": [
        {
          "output_type": "stream",
          "name": "stdout",
          "text": [
            "close\n"
          ]
        }
      ],
      "source": [
        "for rowIndex, row in enumerate(monthly_resampled_df):\n",
        "  print(row)\n",
        "  break"
      ]
    },
    {
      "cell_type": "code",
      "execution_count": null,
      "metadata": {
        "colab": {
          "base_uri": "https://localhost:8080/"
        },
        "id": "EBoIo9lm78ni",
        "outputId": "0ac24264-98ff-4bf3-9758-7d6ace38da29"
      },
      "outputs": [
        {
          "output_type": "stream",
          "name": "stdout",
          "text": [
            "Shape of Training Data: (5976, 180, 6)\n",
            "Shape of Testing Data: (5976, 60)\n"
          ]
        }
      ],
      "source": [
        "def batch_gen(df):\n",
        "  batch_size = 180\n",
        "  validation_size = 60\n",
        "  X = []\n",
        "  Y = []\n",
        "  for i in range(180, df.shape[0]-60):\n",
        "    X.append(df[i-180:i])\n",
        "    Y.append([x[0] for x in df[i:i+60]])\n",
        "\n",
        "  Y = np.array(Y)\n",
        "  X = np.array(X)\n",
        "  return X ,Y\n",
        "\n",
        "\n",
        "batch_X_monthly_df_train, batch_Y_monthly_df_train = batch_gen(train_monthly_resampled_df)\n",
        "\n",
        "\n",
        "print(f'Shape of Training Data: {batch_X_monthly_df_train.shape}')\n",
        "print(f'Shape of Testing Data: {batch_Y_monthly_df_train.shape}')"
      ]
    },
    {
      "cell_type": "code",
      "source": [
        "batch_X_monthly_df_train[:45]"
      ],
      "metadata": {
        "colab": {
          "base_uri": "https://localhost:8080/"
        },
        "id": "ufMNzE04CouD",
        "outputId": "2231a7c2-8874-40c0-ed6f-2e44a6b72535"
      },
      "execution_count": null,
      "outputs": [
        {
          "output_type": "execute_result",
          "data": {
            "text/plain": [
              "array([[[-0.80241455, -0.15172558, -0.6225857 , -0.62899705,\n",
              "         -1.34859776, -0.35106449],\n",
              "        [-0.82628009, -0.15809029, -0.62820887, -0.63609807,\n",
              "         -1.37834323, -0.36927208],\n",
              "        [-0.85014563, -0.16520564, -0.63282817, -0.64458647,\n",
              "         -1.40817577, -0.38741443],\n",
              "        ...,\n",
              "        [-0.98162707, -0.94335481, -0.99146356, -1.05771002,\n",
              "         -1.23422468, -0.74085446],\n",
              "        [-0.96074472, -0.94466912, -0.99401663, -1.05562894,\n",
              "         -1.20910806, -0.72424047],\n",
              "        [-0.93986237, -0.94576867, -0.99779057, -1.05242901,\n",
              "         -1.18397026, -0.70764234]],\n",
              "\n",
              "       [[-0.82628009, -0.15809029, -0.62820887, -0.63609807,\n",
              "         -1.37834323, -0.36927208],\n",
              "        [-0.85014563, -0.16520564, -0.63282817, -0.64458647,\n",
              "         -1.40817577, -0.38741443],\n",
              "        [-0.87401116, -0.17234479, -0.63834566, -0.65480538,\n",
              "         -1.43812643, -0.40546828],\n",
              "        ...,\n",
              "        [-0.96074472, -0.94466912, -0.99401663, -1.05562894,\n",
              "         -1.20910806, -0.72424047],\n",
              "        [-0.93986237, -0.94576867, -0.99779057, -1.05242901,\n",
              "         -1.18397026, -0.70764234],\n",
              "        [-0.94428192, -0.94661712, -1.00166414, -1.04896428,\n",
              "         -1.18753232, -0.7124725 ]],\n",
              "\n",
              "       [[-0.85014563, -0.16520564, -0.63282817, -0.64458647,\n",
              "         -1.40817577, -0.38741443],\n",
              "        [-0.87401116, -0.17234479, -0.63834566, -0.65480538,\n",
              "         -1.43812643, -0.40546828],\n",
              "        [-0.92881351, -0.1796531 , -0.64344803, -0.66779906,\n",
              "         -1.50337225, -0.44957008],\n",
              "        ...,\n",
              "        [-0.93986237, -0.94576867, -0.99779057, -1.05242901,\n",
              "         -1.18397026, -0.70764234],\n",
              "        [-0.94428192, -0.94661712, -1.00166414, -1.04896428,\n",
              "         -1.18753232, -0.7124725 ],\n",
              "        [-0.92660374, -0.94721711, -1.00525995, -1.04448884,\n",
              "         -1.16606413, -0.69856168]],\n",
              "\n",
              "       ...,\n",
              "\n",
              "       [[-1.01411072, -0.47275856, -0.88681416, -1.0033074 ,\n",
              "         -1.71383964, -0.43660329],\n",
              "        [-1.00777604, -0.48131091, -0.8923216 , -1.00627113,\n",
              "         -1.70913668, -0.42937835],\n",
              "        [-1.00144136, -0.49004211, -0.89821145, -1.00991612,\n",
              "         -1.70435946, -0.42220905],\n",
              "        ...,\n",
              "        [-0.47304802, -0.88624758, -0.834013  , -0.6511579 ,\n",
              "         -0.54817577, -0.39193573],\n",
              "        [-0.44266365, -0.8830758 , -0.82367241, -0.63468831,\n",
              "         -0.50955306, -0.36931847],\n",
              "        [-0.39404866, -0.87986173, -0.81242608, -0.61711477,\n",
              "         -0.45020729, -0.33129467]],\n",
              "\n",
              "       [[-1.00777604, -0.48131091, -0.8923216 , -1.00627113,\n",
              "         -1.70913668, -0.42937835],\n",
              "        [-1.00144136, -0.49004211, -0.89821145, -1.00991612,\n",
              "         -1.70435946, -0.42220905],\n",
              "        [-0.99510668, -0.49826231, -0.9033893 , -1.01281023,\n",
              "         -1.69956846, -0.41505008],\n",
              "        ...,\n",
              "        [-0.44266365, -0.8830758 , -0.82367241, -0.63468831,\n",
              "         -0.50955306, -0.36931847],\n",
              "        [-0.39404866, -0.87986173, -0.81242608, -0.61711477,\n",
              "         -0.45020729, -0.33129467],\n",
              "        [-0.45592228, -0.87652344, -0.80219871, -0.60216682,\n",
              "         -0.5156716 , -0.38723144]],\n",
              "\n",
              "       [[-1.00144136, -0.49004211, -0.89821145, -1.00991612,\n",
              "         -1.70435946, -0.42220905],\n",
              "        [-0.99510668, -0.49826231, -0.9033893 , -1.01281023,\n",
              "         -1.69956846, -0.41505008],\n",
              "        [-0.94295605, -0.50617325, -0.90831051, -1.01340696,\n",
              "         -1.64268332, -0.36918322],\n",
              "        ...,\n",
              "        [-0.39404866, -0.87986173, -0.81242608, -0.61711477,\n",
              "         -0.45020729, -0.33129467],\n",
              "        [-0.45592228, -0.87652344, -0.80219871, -0.60216682,\n",
              "         -0.5156716 , -0.38723144],\n",
              "        [-0.52000567, -0.87360628, -0.79302804, -0.58911347,\n",
              "         -0.58335795, -0.44525285]]])"
            ]
          },
          "metadata": {},
          "execution_count": 85
        }
      ]
    },
    {
      "cell_type": "markdown",
      "metadata": {
        "id": "FEhmivdv8izT"
      },
      "source": [
        "#6. LSTM\n"
      ]
    },
    {
      "cell_type": "code",
      "execution_count": null,
      "metadata": {
        "id": "IpCFgXpI84TZ"
      },
      "outputs": [],
      "source": [
        "import numpy as np\n",
        "from tensorflow.keras.models import Sequential\n",
        "from tensorflow.keras.layers import LSTM\n",
        "from tensorflow.keras.layers import Dense, Dropout\n",
        "from keras.layers import LeakyReLU\n",
        "from tensorflow import keras\n",
        "import os"
      ]
    },
    {
      "cell_type": "code",
      "source": [
        "models_folder = '/content/drive/MyDrive/Models'\n",
        "model_version = len(os.listdir(models_folder)) + 1\n",
        "model_version"
      ],
      "metadata": {
        "id": "yasQ7FaOYjga",
        "colab": {
          "base_uri": "https://localhost:8080/"
        },
        "outputId": "50022427-31b9-4c42-e3b9-d4658604665a"
      },
      "execution_count": null,
      "outputs": [
        {
          "output_type": "execute_result",
          "data": {
            "text/plain": [
              "4"
            ]
          },
          "metadata": {},
          "execution_count": 73
        }
      ]
    },
    {
      "cell_type": "markdown",
      "metadata": {
        "id": "12EJlB-Lg9OE"
      },
      "source": [
        "## a. Model Compilation"
      ]
    },
    {
      "cell_type": "code",
      "execution_count": null,
      "metadata": {
        "id": "W9vvYkEK8xVL",
        "colab": {
          "base_uri": "https://localhost:8080/"
        },
        "outputId": "bd37c192-c938-452a-dcf3-bac5078802c1"
      },
      "outputs": [
        {
          "output_type": "stream",
          "name": "stdout",
          "text": [
            "Model: \"sequential_13\"\n",
            "_________________________________________________________________\n",
            " Layer (type)                Output Shape              Param #   \n",
            "=================================================================\n",
            " lstm_39 (LSTM)              (None, 180, 50)           11400     \n",
            "                                                                 \n",
            " lstm_40 (LSTM)              (None, 180, 50)           20200     \n",
            "                                                                 \n",
            " lstm_41 (LSTM)              (None, 50)                20200     \n",
            "                                                                 \n",
            " dropout_18 (Dropout)        (None, 50)                0         \n",
            "                                                                 \n",
            " dense_13 (Dense)            (None, 60)                3060      \n",
            "                                                                 \n",
            "=================================================================\n",
            "Total params: 54,860\n",
            "Trainable params: 54,860\n",
            "Non-trainable params: 0\n",
            "_________________________________________________________________\n"
          ]
        }
      ],
      "source": [
        "model = Sequential()\n",
        "\n",
        "model.add(LSTM(50, activation=LeakyReLU(alpha=0.001), input_shape=(batch_X_monthly_df_train.shape[1], batch_X_monthly_df_train.shape[2]), return_sequences=True))\n",
        "\n",
        "model.add(LSTM(50, activation=LeakyReLU(alpha=0.001), return_sequences=True))\n",
        "\n",
        "model.add(LSTM(50, activation=LeakyReLU(alpha=0.001), return_sequences=False))\n",
        "model.add(Dropout(0.20))\n",
        "\n",
        "model.add(Dense(batch_Y_monthly_df_train.shape[1]))\n",
        "model.compile(loss='mse', optimizer= keras.optimizers.Adam(learning_rate=0.001))\n",
        "early_stopping = tf.keras.callbacks.EarlyStopping(monitor='loss', patience=10)\n",
        "\n",
        "model.summary()"
      ]
    },
    {
      "cell_type": "markdown",
      "metadata": {
        "id": "N8N9nc08aeBd"
      },
      "source": [
        "## b. Model Fitting"
      ]
    },
    {
      "cell_type": "code",
      "execution_count": null,
      "metadata": {
        "id": "mwUqdcYbhC9h",
        "colab": {
          "base_uri": "https://localhost:8080/",
          "height": 451
        },
        "outputId": "6031d09e-75f2-4208-beae-37cb169e14f9"
      },
      "outputs": [
        {
          "output_type": "stream",
          "name": "stdout",
          "text": [
            "Epoch 1/100\n",
            "150/150 [==============================] - 44s 265ms/step - loss: 90.4688 - val_loss: 0.7128\n",
            "Epoch 2/100\n",
            "150/150 [==============================] - 39s 260ms/step - loss: nan - val_loss: nan\n",
            "Epoch 3/100\n",
            " 13/150 [=>............................] - ETA: 35s - loss: nan"
          ]
        },
        {
          "output_type": "error",
          "ename": "KeyboardInterrupt",
          "evalue": "ignored",
          "traceback": [
            "\u001b[0;31m---------------------------------------------------------------------------\u001b[0m",
            "\u001b[0;31mKeyboardInterrupt\u001b[0m                         Traceback (most recent call last)",
            "\u001b[0;32m<ipython-input-99-502f42d74164>\u001b[0m in \u001b[0;36m<module>\u001b[0;34m()\u001b[0m\n\u001b[0;32m----> 1\u001b[0;31m \u001b[0mhistory\u001b[0m \u001b[0;34m=\u001b[0m \u001b[0mmodel\u001b[0m\u001b[0;34m.\u001b[0m\u001b[0mfit\u001b[0m\u001b[0;34m(\u001b[0m\u001b[0mbatch_X_monthly_df_train\u001b[0m\u001b[0;34m,\u001b[0m \u001b[0mbatch_Y_monthly_df_train\u001b[0m\u001b[0;34m,\u001b[0m \u001b[0mepochs\u001b[0m\u001b[0;34m=\u001b[0m\u001b[0;36m100\u001b[0m\u001b[0;34m,\u001b[0m \u001b[0mbatch_size\u001b[0m \u001b[0;34m=\u001b[0m \u001b[0;36m32\u001b[0m\u001b[0;34m,\u001b[0m \u001b[0mvalidation_split\u001b[0m\u001b[0;34m=\u001b[0m\u001b[0;36m0.2\u001b[0m \u001b[0;34m,\u001b[0m \u001b[0mverbose\u001b[0m \u001b[0;34m=\u001b[0m \u001b[0;36m1\u001b[0m\u001b[0;34m,\u001b[0m \u001b[0mcallbacks\u001b[0m\u001b[0;34m=\u001b[0m\u001b[0;34m[\u001b[0m\u001b[0mearly_stopping\u001b[0m\u001b[0;34m]\u001b[0m\u001b[0;34m)\u001b[0m\u001b[0;34m\u001b[0m\u001b[0;34m\u001b[0m\u001b[0m\n\u001b[0m",
            "\u001b[0;32m/usr/local/lib/python3.7/dist-packages/keras/utils/traceback_utils.py\u001b[0m in \u001b[0;36merror_handler\u001b[0;34m(*args, **kwargs)\u001b[0m\n\u001b[1;32m     62\u001b[0m     \u001b[0mfiltered_tb\u001b[0m \u001b[0;34m=\u001b[0m \u001b[0;32mNone\u001b[0m\u001b[0;34m\u001b[0m\u001b[0;34m\u001b[0m\u001b[0m\n\u001b[1;32m     63\u001b[0m     \u001b[0;32mtry\u001b[0m\u001b[0;34m:\u001b[0m\u001b[0;34m\u001b[0m\u001b[0;34m\u001b[0m\u001b[0m\n\u001b[0;32m---> 64\u001b[0;31m       \u001b[0;32mreturn\u001b[0m \u001b[0mfn\u001b[0m\u001b[0;34m(\u001b[0m\u001b[0;34m*\u001b[0m\u001b[0margs\u001b[0m\u001b[0;34m,\u001b[0m \u001b[0;34m**\u001b[0m\u001b[0mkwargs\u001b[0m\u001b[0;34m)\u001b[0m\u001b[0;34m\u001b[0m\u001b[0;34m\u001b[0m\u001b[0m\n\u001b[0m\u001b[1;32m     65\u001b[0m     \u001b[0;32mexcept\u001b[0m \u001b[0mException\u001b[0m \u001b[0;32mas\u001b[0m \u001b[0me\u001b[0m\u001b[0;34m:\u001b[0m  \u001b[0;31m# pylint: disable=broad-except\u001b[0m\u001b[0;34m\u001b[0m\u001b[0;34m\u001b[0m\u001b[0m\n\u001b[1;32m     66\u001b[0m       \u001b[0mfiltered_tb\u001b[0m \u001b[0;34m=\u001b[0m \u001b[0m_process_traceback_frames\u001b[0m\u001b[0;34m(\u001b[0m\u001b[0me\u001b[0m\u001b[0;34m.\u001b[0m\u001b[0m__traceback__\u001b[0m\u001b[0;34m)\u001b[0m\u001b[0;34m\u001b[0m\u001b[0;34m\u001b[0m\u001b[0m\n",
            "\u001b[0;32m/usr/local/lib/python3.7/dist-packages/keras/engine/training.py\u001b[0m in \u001b[0;36mfit\u001b[0;34m(self, x, y, batch_size, epochs, verbose, callbacks, validation_split, validation_data, shuffle, class_weight, sample_weight, initial_epoch, steps_per_epoch, validation_steps, validation_batch_size, validation_freq, max_queue_size, workers, use_multiprocessing)\u001b[0m\n\u001b[1;32m   1382\u001b[0m                 _r=1):\n\u001b[1;32m   1383\u001b[0m               \u001b[0mcallbacks\u001b[0m\u001b[0;34m.\u001b[0m\u001b[0mon_train_batch_begin\u001b[0m\u001b[0;34m(\u001b[0m\u001b[0mstep\u001b[0m\u001b[0;34m)\u001b[0m\u001b[0;34m\u001b[0m\u001b[0;34m\u001b[0m\u001b[0m\n\u001b[0;32m-> 1384\u001b[0;31m               \u001b[0mtmp_logs\u001b[0m \u001b[0;34m=\u001b[0m \u001b[0mself\u001b[0m\u001b[0;34m.\u001b[0m\u001b[0mtrain_function\u001b[0m\u001b[0;34m(\u001b[0m\u001b[0miterator\u001b[0m\u001b[0;34m)\u001b[0m\u001b[0;34m\u001b[0m\u001b[0;34m\u001b[0m\u001b[0m\n\u001b[0m\u001b[1;32m   1385\u001b[0m               \u001b[0;32mif\u001b[0m \u001b[0mdata_handler\u001b[0m\u001b[0;34m.\u001b[0m\u001b[0mshould_sync\u001b[0m\u001b[0;34m:\u001b[0m\u001b[0;34m\u001b[0m\u001b[0;34m\u001b[0m\u001b[0m\n\u001b[1;32m   1386\u001b[0m                 \u001b[0mcontext\u001b[0m\u001b[0;34m.\u001b[0m\u001b[0masync_wait\u001b[0m\u001b[0;34m(\u001b[0m\u001b[0;34m)\u001b[0m\u001b[0;34m\u001b[0m\u001b[0;34m\u001b[0m\u001b[0m\n",
            "\u001b[0;32m/usr/local/lib/python3.7/dist-packages/tensorflow/python/util/traceback_utils.py\u001b[0m in \u001b[0;36merror_handler\u001b[0;34m(*args, **kwargs)\u001b[0m\n\u001b[1;32m    148\u001b[0m     \u001b[0mfiltered_tb\u001b[0m \u001b[0;34m=\u001b[0m \u001b[0;32mNone\u001b[0m\u001b[0;34m\u001b[0m\u001b[0;34m\u001b[0m\u001b[0m\n\u001b[1;32m    149\u001b[0m     \u001b[0;32mtry\u001b[0m\u001b[0;34m:\u001b[0m\u001b[0;34m\u001b[0m\u001b[0;34m\u001b[0m\u001b[0m\n\u001b[0;32m--> 150\u001b[0;31m       \u001b[0;32mreturn\u001b[0m \u001b[0mfn\u001b[0m\u001b[0;34m(\u001b[0m\u001b[0;34m*\u001b[0m\u001b[0margs\u001b[0m\u001b[0;34m,\u001b[0m \u001b[0;34m**\u001b[0m\u001b[0mkwargs\u001b[0m\u001b[0;34m)\u001b[0m\u001b[0;34m\u001b[0m\u001b[0;34m\u001b[0m\u001b[0m\n\u001b[0m\u001b[1;32m    151\u001b[0m     \u001b[0;32mexcept\u001b[0m \u001b[0mException\u001b[0m \u001b[0;32mas\u001b[0m \u001b[0me\u001b[0m\u001b[0;34m:\u001b[0m\u001b[0;34m\u001b[0m\u001b[0;34m\u001b[0m\u001b[0m\n\u001b[1;32m    152\u001b[0m       \u001b[0mfiltered_tb\u001b[0m \u001b[0;34m=\u001b[0m \u001b[0m_process_traceback_frames\u001b[0m\u001b[0;34m(\u001b[0m\u001b[0me\u001b[0m\u001b[0;34m.\u001b[0m\u001b[0m__traceback__\u001b[0m\u001b[0;34m)\u001b[0m\u001b[0;34m\u001b[0m\u001b[0;34m\u001b[0m\u001b[0m\n",
            "\u001b[0;32m/usr/local/lib/python3.7/dist-packages/tensorflow/python/eager/def_function.py\u001b[0m in \u001b[0;36m__call__\u001b[0;34m(self, *args, **kwds)\u001b[0m\n\u001b[1;32m    913\u001b[0m \u001b[0;34m\u001b[0m\u001b[0m\n\u001b[1;32m    914\u001b[0m       \u001b[0;32mwith\u001b[0m \u001b[0mOptionalXlaContext\u001b[0m\u001b[0;34m(\u001b[0m\u001b[0mself\u001b[0m\u001b[0;34m.\u001b[0m\u001b[0m_jit_compile\u001b[0m\u001b[0;34m)\u001b[0m\u001b[0;34m:\u001b[0m\u001b[0;34m\u001b[0m\u001b[0;34m\u001b[0m\u001b[0m\n\u001b[0;32m--> 915\u001b[0;31m         \u001b[0mresult\u001b[0m \u001b[0;34m=\u001b[0m \u001b[0mself\u001b[0m\u001b[0;34m.\u001b[0m\u001b[0m_call\u001b[0m\u001b[0;34m(\u001b[0m\u001b[0;34m*\u001b[0m\u001b[0margs\u001b[0m\u001b[0;34m,\u001b[0m \u001b[0;34m**\u001b[0m\u001b[0mkwds\u001b[0m\u001b[0;34m)\u001b[0m\u001b[0;34m\u001b[0m\u001b[0;34m\u001b[0m\u001b[0m\n\u001b[0m\u001b[1;32m    916\u001b[0m \u001b[0;34m\u001b[0m\u001b[0m\n\u001b[1;32m    917\u001b[0m       \u001b[0mnew_tracing_count\u001b[0m \u001b[0;34m=\u001b[0m \u001b[0mself\u001b[0m\u001b[0;34m.\u001b[0m\u001b[0mexperimental_get_tracing_count\u001b[0m\u001b[0;34m(\u001b[0m\u001b[0;34m)\u001b[0m\u001b[0;34m\u001b[0m\u001b[0;34m\u001b[0m\u001b[0m\n",
            "\u001b[0;32m/usr/local/lib/python3.7/dist-packages/tensorflow/python/eager/def_function.py\u001b[0m in \u001b[0;36m_call\u001b[0;34m(self, *args, **kwds)\u001b[0m\n\u001b[1;32m    945\u001b[0m       \u001b[0;31m# In this case we have created variables on the first call, so we run the\u001b[0m\u001b[0;34m\u001b[0m\u001b[0;34m\u001b[0m\u001b[0;34m\u001b[0m\u001b[0m\n\u001b[1;32m    946\u001b[0m       \u001b[0;31m# defunned version which is guaranteed to never create variables.\u001b[0m\u001b[0;34m\u001b[0m\u001b[0;34m\u001b[0m\u001b[0;34m\u001b[0m\u001b[0m\n\u001b[0;32m--> 947\u001b[0;31m       \u001b[0;32mreturn\u001b[0m \u001b[0mself\u001b[0m\u001b[0;34m.\u001b[0m\u001b[0m_stateless_fn\u001b[0m\u001b[0;34m(\u001b[0m\u001b[0;34m*\u001b[0m\u001b[0margs\u001b[0m\u001b[0;34m,\u001b[0m \u001b[0;34m**\u001b[0m\u001b[0mkwds\u001b[0m\u001b[0;34m)\u001b[0m  \u001b[0;31m# pylint: disable=not-callable\u001b[0m\u001b[0;34m\u001b[0m\u001b[0;34m\u001b[0m\u001b[0m\n\u001b[0m\u001b[1;32m    948\u001b[0m     \u001b[0;32melif\u001b[0m \u001b[0mself\u001b[0m\u001b[0;34m.\u001b[0m\u001b[0m_stateful_fn\u001b[0m \u001b[0;32mis\u001b[0m \u001b[0;32mnot\u001b[0m \u001b[0;32mNone\u001b[0m\u001b[0;34m:\u001b[0m\u001b[0;34m\u001b[0m\u001b[0;34m\u001b[0m\u001b[0m\n\u001b[1;32m    949\u001b[0m       \u001b[0;31m# Release the lock early so that multiple threads can perform the call\u001b[0m\u001b[0;34m\u001b[0m\u001b[0;34m\u001b[0m\u001b[0;34m\u001b[0m\u001b[0m\n",
            "\u001b[0;32m/usr/local/lib/python3.7/dist-packages/tensorflow/python/eager/function.py\u001b[0m in \u001b[0;36m__call__\u001b[0;34m(self, *args, **kwargs)\u001b[0m\n\u001b[1;32m   2955\u001b[0m        filtered_flat_args) = self._maybe_define_function(args, kwargs)\n\u001b[1;32m   2956\u001b[0m     return graph_function._call_flat(\n\u001b[0;32m-> 2957\u001b[0;31m         filtered_flat_args, captured_inputs=graph_function.captured_inputs)  # pylint: disable=protected-access\n\u001b[0m\u001b[1;32m   2958\u001b[0m \u001b[0;34m\u001b[0m\u001b[0m\n\u001b[1;32m   2959\u001b[0m   \u001b[0;34m@\u001b[0m\u001b[0mproperty\u001b[0m\u001b[0;34m\u001b[0m\u001b[0;34m\u001b[0m\u001b[0m\n",
            "\u001b[0;32m/usr/local/lib/python3.7/dist-packages/tensorflow/python/eager/function.py\u001b[0m in \u001b[0;36m_call_flat\u001b[0;34m(self, args, captured_inputs, cancellation_manager)\u001b[0m\n\u001b[1;32m   1852\u001b[0m       \u001b[0;31m# No tape is watching; skip to running the function.\u001b[0m\u001b[0;34m\u001b[0m\u001b[0;34m\u001b[0m\u001b[0;34m\u001b[0m\u001b[0m\n\u001b[1;32m   1853\u001b[0m       return self._build_call_outputs(self._inference_function.call(\n\u001b[0;32m-> 1854\u001b[0;31m           ctx, args, cancellation_manager=cancellation_manager))\n\u001b[0m\u001b[1;32m   1855\u001b[0m     forward_backward = self._select_forward_and_backward_functions(\n\u001b[1;32m   1856\u001b[0m         \u001b[0margs\u001b[0m\u001b[0;34m,\u001b[0m\u001b[0;34m\u001b[0m\u001b[0;34m\u001b[0m\u001b[0m\n",
            "\u001b[0;32m/usr/local/lib/python3.7/dist-packages/tensorflow/python/eager/function.py\u001b[0m in \u001b[0;36mcall\u001b[0;34m(self, ctx, args, cancellation_manager)\u001b[0m\n\u001b[1;32m    502\u001b[0m               \u001b[0minputs\u001b[0m\u001b[0;34m=\u001b[0m\u001b[0margs\u001b[0m\u001b[0;34m,\u001b[0m\u001b[0;34m\u001b[0m\u001b[0;34m\u001b[0m\u001b[0m\n\u001b[1;32m    503\u001b[0m               \u001b[0mattrs\u001b[0m\u001b[0;34m=\u001b[0m\u001b[0mattrs\u001b[0m\u001b[0;34m,\u001b[0m\u001b[0;34m\u001b[0m\u001b[0;34m\u001b[0m\u001b[0m\n\u001b[0;32m--> 504\u001b[0;31m               ctx=ctx)\n\u001b[0m\u001b[1;32m    505\u001b[0m         \u001b[0;32melse\u001b[0m\u001b[0;34m:\u001b[0m\u001b[0;34m\u001b[0m\u001b[0;34m\u001b[0m\u001b[0m\n\u001b[1;32m    506\u001b[0m           outputs = execute.execute_with_cancellation(\n",
            "\u001b[0;32m/usr/local/lib/python3.7/dist-packages/tensorflow/python/eager/execute.py\u001b[0m in \u001b[0;36mquick_execute\u001b[0;34m(op_name, num_outputs, inputs, attrs, ctx, name)\u001b[0m\n\u001b[1;32m     53\u001b[0m     \u001b[0mctx\u001b[0m\u001b[0;34m.\u001b[0m\u001b[0mensure_initialized\u001b[0m\u001b[0;34m(\u001b[0m\u001b[0;34m)\u001b[0m\u001b[0;34m\u001b[0m\u001b[0;34m\u001b[0m\u001b[0m\n\u001b[1;32m     54\u001b[0m     tensors = pywrap_tfe.TFE_Py_Execute(ctx._handle, device_name, op_name,\n\u001b[0;32m---> 55\u001b[0;31m                                         inputs, attrs, num_outputs)\n\u001b[0m\u001b[1;32m     56\u001b[0m   \u001b[0;32mexcept\u001b[0m \u001b[0mcore\u001b[0m\u001b[0;34m.\u001b[0m\u001b[0m_NotOkStatusException\u001b[0m \u001b[0;32mas\u001b[0m \u001b[0me\u001b[0m\u001b[0;34m:\u001b[0m\u001b[0;34m\u001b[0m\u001b[0;34m\u001b[0m\u001b[0m\n\u001b[1;32m     57\u001b[0m     \u001b[0;32mif\u001b[0m \u001b[0mname\u001b[0m \u001b[0;32mis\u001b[0m \u001b[0;32mnot\u001b[0m \u001b[0;32mNone\u001b[0m\u001b[0;34m:\u001b[0m\u001b[0;34m\u001b[0m\u001b[0;34m\u001b[0m\u001b[0m\n",
            "\u001b[0;31mKeyboardInterrupt\u001b[0m: "
          ]
        }
      ],
      "source": [
        "history = model.fit(batch_X_monthly_df_train, batch_Y_monthly_df_train, epochs=100, batch_size = 32, validation_split=0.2 , verbose = 1, callbacks=[early_stopping])"
      ]
    },
    {
      "cell_type": "code",
      "execution_count": null,
      "metadata": {
        "id": "vcVr397ukTXY"
      },
      "outputs": [],
      "source": [
        "fig, (ax1, ax2) = plt.subplots(1,2, figsize=[15,5])\n",
        "ax1.plot(history.history['loss'][20:], label='Training loss', c='orange')\n",
        "ax2.plot(history.history['val_loss'][20:], label='Validation loss' , c = 'green')\n",
        "fig.legend()\n",
        "fig.show()"
      ]
    },
    {
      "cell_type": "code",
      "execution_count": null,
      "metadata": {
        "id": "cjkxQZo8p3fC"
      },
      "outputs": [],
      "source": [
        "batch_Y_monthly_df_test , batch_X_monthly_df_test = batch_gen(test_monthly_resampled_df)\n",
        "print(f'Shape of Testing Data: {batch_X_monthly_df_test.shape}')\n",
        "print(f'Shape of Validating Data: {batch_Y_monthly_df_test.shape}')\n",
        "\n"
      ]
    },
    {
      "cell_type": "code",
      "execution_count": null,
      "metadata": {
        "id": "7Wzq1_BKrWMX"
      },
      "outputs": [],
      "source": [
        "pred_data = batch_X_monthly_df_test[0]\n",
        "\n",
        "result = []\n",
        "\n",
        "for i in range(0, 36):\n",
        "  res = model.predict(np.array([pred_data]))[0,0]\n",
        "  res = (res * scaler_var[0]) + scaler_mean[0]\n",
        "  result.append(res)\n",
        "  pred_data = scaler.inverse_transform(pred_data)\n",
        "  res_30 = res\n",
        "  res_60 = sum([*pred_data[-2:,2] , res])/4\n",
        "  res_180 = sum([*pred_data[-5:,2] , res])/8\n",
        "  pred_data = list(pred_data)\n",
        "  pred_data.append(np.array([res, res_30, res_60, res_180]))\n",
        "  pred_data.pop(0)\n",
        "  pred_data = np.array(pred_data)\n",
        "  pred_data = scaler.transform(pred_data)\n",
        "\n",
        "# print(result)"
      ]
    },
    {
      "cell_type": "code",
      "execution_count": null,
      "metadata": {
        "id": "ecHWr-bLTiWb"
      },
      "outputs": [],
      "source": [
        "test_monthly_resampled_df_unscaled = scaler.inverse_transform(test_monthly_resampled_df)\n",
        "print(result[:])\n",
        "plt.plot(result[:], label='Predictions', c='green')\n",
        "plt.plot(test_monthly_resampled_df_unscaled[12:, 0], label='Observed' , c = 'orange')\n",
        "plt.legend()\n",
        "plt.show()"
      ]
    },
    {
      "cell_type": "markdown",
      "source": [
        "## c. Model Save"
      ],
      "metadata": {
        "id": "-Iy43Q3FXZpG"
      }
    },
    {
      "cell_type": "code",
      "source": [
        "save_model = str(input('Do you want to save model[y/n]: '))\n",
        "if save_model.lower() != 'n':\n",
        "  model.save(f'/content/drive/MyDrive/Models/Model_V{model_version}')\n",
        "\n"
      ],
      "metadata": {
        "id": "XJl0WiD4Xo_a"
      },
      "execution_count": null,
      "outputs": []
    },
    {
      "cell_type": "markdown",
      "source": [
        ""
      ],
      "metadata": {
        "id": "Q71fWqmqj2Jq"
      }
    }
  ],
  "metadata": {
    "colab": {
      "collapsed_sections": [
        "1tVqv6xQCRBe",
        "eWbWy13GCVAJ",
        "A3OR1FFcEpvG",
        "LUGV0TUcNUn5"
      ],
      "name": "LSTM_V4[Boole].ipynb",
      "provenance": []
    },
    "kernelspec": {
      "display_name": "Python 3",
      "name": "python3"
    },
    "language_info": {
      "name": "python"
    }
  },
  "nbformat": 4,
  "nbformat_minor": 0
}