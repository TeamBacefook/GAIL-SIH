{
  "nbformat": 4,
  "nbformat_minor": 0,
  "metadata": {
    "colab": {
      "name": "Utility_File_V1[Antigua].ipynb",
      "provenance": [],
      "collapsed_sections": []
    },
    "kernelspec": {
      "name": "python3",
      "display_name": "Python 3"
    },
    "language_info": {
      "name": "python"
    }
  },
  "cells": [
    {
      "cell_type": "markdown",
      "source": [
        "#1. Custom RMSE Loss Function"
      ],
      "metadata": {
        "id": "B3waIwbTsOTR"
      }
    },
    {
      "cell_type": "code",
      "source": [
        "def rmse_loss(y_true, y_pred):\n",
        "  return tf.keras.backend.sqrt(tf.keras.backend.mean(tf.keras.backend.square(y_pred - y_true)))"
      ],
      "metadata": {
        "id": "iEaF5eXUxhzs"
      },
      "execution_count": null,
      "outputs": []
    },
    {
      "cell_type": "code",
      "source": [
        "from google.colab import drive\n",
        "from keras.models import load_model\n",
        "import tensorflow as tf\n",
        "from tensorflow import keras as k\n",
        "drive.mount('/content/drive/')\n"
      ],
      "metadata": {
        "colab": {
          "base_uri": "https://localhost:8080/"
        },
        "id": "Rz01R_lpfkPH",
        "outputId": "700e2c46-58f3-4d0c-b6e0-6627c30120fd"
      },
      "execution_count": 38,
      "outputs": [
        {
          "output_type": "stream",
          "name": "stdout",
          "text": [
            "Drive already mounted at /content/drive/; to attempt to forcibly remount, call drive.mount(\"/content/drive/\", force_remount=True).\n"
          ]
        }
      ]
    },
    {
      "cell_type": "code",
      "source": [
        "def rmse(y_true, y_pred):\n",
        "  return tf.keras.backend.sqrt(tf.keras.backend.mean(tf.keras.backend.square(y_pred - y_true)))"
      ],
      "metadata": {
        "id": "7sa2ShUQfnLG"
      },
      "execution_count": 31,
      "outputs": []
    },
    {
      "cell_type": "markdown",
      "source": [
        "#2. Fit Loss function in keras\n",
        "Set auto_compile as false then compile manually"
      ],
      "metadata": {
        "id": "TUbfANxYy0XU"
      }
    },
    {
      "cell_type": "code",
      "source": [
        "model = load_model(\"/content/drive/MyDrive/Models/Model_V11.h5\", custom_objects={'loss': rmse }, compile=False)"
      ],
      "metadata": {
        "id": "hF2R-gSXcI0B"
      },
      "execution_count": 36,
      "outputs": []
    },
    {
      "cell_type": "code",
      "source": [
        "model.compile(loss = rmse, optimizer= k.optimizers.Adam(learning_rate=0.01))\n",
        "early_stopping = k.callbacks.EarlyStopping(monitor='loss', patience=10)\n",
        "model.summary()"
      ],
      "metadata": {
        "colab": {
          "base_uri": "https://localhost:8080/"
        },
        "id": "L5L-XL-Azpcw",
        "outputId": "5ab5c350-ed91-42ee-aea7-b52d3e6c5073"
      },
      "execution_count": 40,
      "outputs": [
        {
          "output_type": "stream",
          "name": "stdout",
          "text": [
            "Model: \"sequential_6\"\n",
            "_________________________________________________________________\n",
            " Layer (type)                Output Shape              Param #   \n",
            "=================================================================\n",
            " lstm_21 (LSTM)              (None, 24, 50)            11200     \n",
            "                                                                 \n",
            " lstm_22 (LSTM)              (None, 24, 50)            20200     \n",
            "                                                                 \n",
            " lstm_23 (LSTM)              (None, 50)                20200     \n",
            "                                                                 \n",
            " dropout_6 (Dropout)         (None, 50)                0         \n",
            "                                                                 \n",
            " dense_6 (Dense)             (None, 24)                1224      \n",
            "                                                                 \n",
            "=================================================================\n",
            "Total params: 52,824\n",
            "Trainable params: 52,824\n",
            "Non-trainable params: 0\n",
            "_________________________________________________________________\n"
          ]
        }
      ]
    },
    {
      "cell_type": "code",
      "source": [
        ""
      ],
      "metadata": {
        "id": "z53cS0PyzzJ_"
      },
      "execution_count": null,
      "outputs": []
    }
  ]
}