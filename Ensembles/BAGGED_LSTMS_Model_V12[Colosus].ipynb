{
  "nbformat": 4,
  "nbformat_minor": 0,
  "metadata": {
    "colab": {
      "name": "BAGGED_LSTMS_Model_V12[Colosus].ipynb",
      "provenance": [],
      "collapsed_sections": [],
      "toc_visible": true
    },
    "kernelspec": {
      "name": "python3",
      "display_name": "Python 3"
    },
    "language_info": {
      "name": "python"
    }
  },
  "cells": [
    {
      "cell_type": "markdown",
      "source": [
        "#00. Imports"
      ],
      "metadata": {
        "id": "FxhNgvE6vaLA"
      }
    },
    {
      "cell_type": "code",
      "source": [
        "!pip install yahoo_fin"
      ],
      "metadata": {
        "colab": {
          "base_uri": "https://localhost:8080/"
        },
        "id": "kUXk4z3MwE4f",
        "outputId": "68c7dbf9-da4a-46ac-91c5-9f23a1523256"
      },
      "execution_count": 101,
      "outputs": [
        {
          "output_type": "stream",
          "name": "stdout",
          "text": [
            "Looking in indexes: https://pypi.org/simple, https://us-python.pkg.dev/colab-wheels/public/simple/\n",
            "Requirement already satisfied: yahoo_fin in /usr/local/lib/python3.7/dist-packages (0.8.9.1)\n",
            "Requirement already satisfied: requests in /usr/local/lib/python3.7/dist-packages (from yahoo_fin) (2.23.0)\n",
            "Requirement already satisfied: pandas in /usr/local/lib/python3.7/dist-packages (from yahoo_fin) (1.3.5)\n",
            "Requirement already satisfied: feedparser in /usr/local/lib/python3.7/dist-packages (from yahoo_fin) (6.0.10)\n",
            "Requirement already satisfied: requests-html in /usr/local/lib/python3.7/dist-packages (from yahoo_fin) (0.10.0)\n",
            "Requirement already satisfied: sgmllib3k in /usr/local/lib/python3.7/dist-packages (from feedparser->yahoo_fin) (1.0.0)\n",
            "Requirement already satisfied: pytz>=2017.3 in /usr/local/lib/python3.7/dist-packages (from pandas->yahoo_fin) (2022.1)\n",
            "Requirement already satisfied: numpy>=1.17.3 in /usr/local/lib/python3.7/dist-packages (from pandas->yahoo_fin) (1.21.6)\n",
            "Requirement already satisfied: python-dateutil>=2.7.3 in /usr/local/lib/python3.7/dist-packages (from pandas->yahoo_fin) (2.8.2)\n",
            "Requirement already satisfied: six>=1.5 in /usr/local/lib/python3.7/dist-packages (from python-dateutil>=2.7.3->pandas->yahoo_fin) (1.15.0)\n",
            "Requirement already satisfied: urllib3!=1.25.0,!=1.25.1,<1.26,>=1.21.1 in /usr/local/lib/python3.7/dist-packages (from requests->yahoo_fin) (1.25.11)\n",
            "Requirement already satisfied: chardet<4,>=3.0.2 in /usr/local/lib/python3.7/dist-packages (from requests->yahoo_fin) (3.0.4)\n",
            "Requirement already satisfied: idna<3,>=2.5 in /usr/local/lib/python3.7/dist-packages (from requests->yahoo_fin) (2.10)\n",
            "Requirement already satisfied: certifi>=2017.4.17 in /usr/local/lib/python3.7/dist-packages (from requests->yahoo_fin) (2022.6.15)\n",
            "Requirement already satisfied: parse in /usr/local/lib/python3.7/dist-packages (from requests-html->yahoo_fin) (1.19.0)\n",
            "Requirement already satisfied: pyppeteer>=0.0.14 in /usr/local/lib/python3.7/dist-packages (from requests-html->yahoo_fin) (1.0.2)\n",
            "Requirement already satisfied: w3lib in /usr/local/lib/python3.7/dist-packages (from requests-html->yahoo_fin) (2.0.1)\n",
            "Requirement already satisfied: pyquery in /usr/local/lib/python3.7/dist-packages (from requests-html->yahoo_fin) (1.4.3)\n",
            "Requirement already satisfied: bs4 in /usr/local/lib/python3.7/dist-packages (from requests-html->yahoo_fin) (0.0.1)\n",
            "Requirement already satisfied: fake-useragent in /usr/local/lib/python3.7/dist-packages (from requests-html->yahoo_fin) (0.1.11)\n",
            "Requirement already satisfied: tqdm<5.0.0,>=4.42.1 in /usr/local/lib/python3.7/dist-packages (from pyppeteer>=0.0.14->requests-html->yahoo_fin) (4.64.0)\n",
            "Requirement already satisfied: pyee<9.0.0,>=8.1.0 in /usr/local/lib/python3.7/dist-packages (from pyppeteer>=0.0.14->requests-html->yahoo_fin) (8.2.2)\n",
            "Requirement already satisfied: appdirs<2.0.0,>=1.4.3 in /usr/local/lib/python3.7/dist-packages (from pyppeteer>=0.0.14->requests-html->yahoo_fin) (1.4.4)\n",
            "Requirement already satisfied: websockets<11.0,>=10.0 in /usr/local/lib/python3.7/dist-packages (from pyppeteer>=0.0.14->requests-html->yahoo_fin) (10.3)\n",
            "Requirement already satisfied: importlib-metadata>=1.4 in /usr/local/lib/python3.7/dist-packages (from pyppeteer>=0.0.14->requests-html->yahoo_fin) (4.12.0)\n",
            "Requirement already satisfied: typing-extensions>=3.6.4 in /usr/local/lib/python3.7/dist-packages (from importlib-metadata>=1.4->pyppeteer>=0.0.14->requests-html->yahoo_fin) (4.1.1)\n",
            "Requirement already satisfied: zipp>=0.5 in /usr/local/lib/python3.7/dist-packages (from importlib-metadata>=1.4->pyppeteer>=0.0.14->requests-html->yahoo_fin) (3.8.1)\n",
            "Requirement already satisfied: beautifulsoup4 in /usr/local/lib/python3.7/dist-packages (from bs4->requests-html->yahoo_fin) (4.6.3)\n",
            "Requirement already satisfied: cssselect>0.7.9 in /usr/local/lib/python3.7/dist-packages (from pyquery->requests-html->yahoo_fin) (1.1.0)\n",
            "Requirement already satisfied: lxml>=2.1 in /usr/local/lib/python3.7/dist-packages (from pyquery->requests-html->yahoo_fin) (4.9.1)\n"
          ]
        }
      ]
    },
    {
      "cell_type": "code",
      "execution_count": 102,
      "metadata": {
        "id": "J4ZUJ-6a3g9c",
        "colab": {
          "base_uri": "https://localhost:8080/"
        },
        "outputId": "afff8305-7fb8-4651-acbf-59b549486ef5"
      },
      "outputs": [
        {
          "output_type": "stream",
          "name": "stdout",
          "text": [
            "Drive already mounted at /content/drive/; to attempt to forcibly remount, call drive.mount(\"/content/drive/\", force_remount=True).\n"
          ]
        }
      ],
      "source": [
        "from google.colab import drive\n",
        "from keras.models import load_model\n",
        "import tensorflow as tf\n",
        "import pandas as pd\n",
        "from tensorflow import keras as k\n",
        "from yahoo_fin import stock_info as si\n",
        "drive.mount('/content/drive/')"
      ]
    },
    {
      "cell_type": "code",
      "source": [
        "import pandas as pd"
      ],
      "metadata": {
        "id": "GdvFjrd_zg9i"
      },
      "execution_count": 103,
      "outputs": []
    },
    {
      "cell_type": "code",
      "source": [
        "import numpy as np"
      ],
      "metadata": {
        "id": "muD2IGrF26Xj"
      },
      "execution_count": 104,
      "outputs": []
    },
    {
      "cell_type": "code",
      "source": [
        "from sklearn.preprocessing import StandardScaler"
      ],
      "metadata": {
        "id": "G5eY1x273PA7"
      },
      "execution_count": 105,
      "outputs": []
    },
    {
      "cell_type": "markdown",
      "source": [
        "#A. Load Models\n",
        "\n",
        "Contains models of LSTM of variants Boole and Albert"
      ],
      "metadata": {
        "id": "BTBaEIozvV0Q"
      }
    },
    {
      "cell_type": "markdown",
      "source": [
        "##1. Load Model v11[Albert]"
      ],
      "metadata": {
        "id": "W7qHV2WykjAk"
      }
    },
    {
      "cell_type": "code",
      "source": [
        "def rmse(y_true, y_pred):\n",
        "  return tf.keras.backend.sqrt(tf.keras.backend.mean(tf.keras.backend.square(y_pred - y_true)))"
      ],
      "metadata": {
        "id": "VOYCh-yIloBs"
      },
      "execution_count": 106,
      "outputs": []
    },
    {
      "cell_type": "code",
      "source": [
        "model_albert = load_model(\"/content/drive/MyDrive/Models/Model_V11.h5\", custom_objects={'loss': rmse }, compile=False)"
      ],
      "metadata": {
        "id": "c4tabA8HluVc"
      },
      "execution_count": 107,
      "outputs": []
    },
    {
      "cell_type": "code",
      "source": [
        "model_albert.compile(loss = rmse, optimizer= k.optimizers.Adam(learning_rate=0.01))\n",
        "early_stopping = k.callbacks.EarlyStopping(monitor='loss', patience=10)\n",
        "model_albert.summary()"
      ],
      "metadata": {
        "colab": {
          "base_uri": "https://localhost:8080/"
        },
        "id": "rIIEzqsDlzaD",
        "outputId": "e79b80c9-3380-4329-92a5-5aec57c8e2c2"
      },
      "execution_count": 108,
      "outputs": [
        {
          "output_type": "stream",
          "name": "stdout",
          "text": [
            "Model: \"sequential_6\"\n",
            "_________________________________________________________________\n",
            " Layer (type)                Output Shape              Param #   \n",
            "=================================================================\n",
            " lstm_21 (LSTM)              (None, 24, 50)            11200     \n",
            "                                                                 \n",
            " lstm_22 (LSTM)              (None, 24, 50)            20200     \n",
            "                                                                 \n",
            " lstm_23 (LSTM)              (None, 50)                20200     \n",
            "                                                                 \n",
            " dropout_6 (Dropout)         (None, 50)                0         \n",
            "                                                                 \n",
            " dense_6 (Dense)             (None, 24)                1224      \n",
            "                                                                 \n",
            "=================================================================\n",
            "Total params: 52,824\n",
            "Trainable params: 52,824\n",
            "Non-trainable params: 0\n",
            "_________________________________________________________________\n"
          ]
        }
      ]
    },
    {
      "cell_type": "code",
      "source": [
        "str(type(model_albert)) == \"<class 'keras.engine.sequential.Sequential'>\""
      ],
      "metadata": {
        "colab": {
          "base_uri": "https://localhost:8080/"
        },
        "id": "Ygs-ZaSLnVxP",
        "outputId": "f705c0c0-85d0-41c8-e88c-e48d60aa6a20"
      },
      "execution_count": 109,
      "outputs": [
        {
          "output_type": "execute_result",
          "data": {
            "text/plain": [
              "True"
            ]
          },
          "metadata": {},
          "execution_count": 109
        }
      ]
    },
    {
      "cell_type": "markdown",
      "source": [
        "##2. Load Model v2[Boole]"
      ],
      "metadata": {
        "id": "gqym8__6mghs"
      }
    },
    {
      "cell_type": "code",
      "source": [
        "model_boole = load_model(\"/content/drive/MyDrive/Models/Model_V2\", custom_objects={'loss': rmse }, compile=False)"
      ],
      "metadata": {
        "id": "KC3O1uzOmkLa"
      },
      "execution_count": 110,
      "outputs": []
    },
    {
      "cell_type": "code",
      "source": [
        "model_boole.summary()"
      ],
      "metadata": {
        "colab": {
          "base_uri": "https://localhost:8080/"
        },
        "id": "mtc_6SokoUkG",
        "outputId": "ef42277f-27e6-4caa-96bd-ab7181012351"
      },
      "execution_count": 111,
      "outputs": [
        {
          "output_type": "stream",
          "name": "stdout",
          "text": [
            "Model: \"sequential_6\"\n",
            "_________________________________________________________________\n",
            " Layer (type)                Output Shape              Param #   \n",
            "=================================================================\n",
            " lstm_18 (LSTM)              (None, 24, 240)           235200    \n",
            "                                                                 \n",
            " lstm_19 (LSTM)              (None, 24, 120)           173280    \n",
            "                                                                 \n",
            " lstm_20 (LSTM)              (None, 60)                43440     \n",
            "                                                                 \n",
            " dropout_6 (Dropout)         (None, 60)                0         \n",
            "                                                                 \n",
            " dense_6 (Dense)             (None, 1)                 61        \n",
            "                                                                 \n",
            "=================================================================\n",
            "Total params: 451,981\n",
            "Trainable params: 451,981\n",
            "Non-trainable params: 0\n",
            "_________________________________________________________________\n"
          ]
        }
      ]
    },
    {
      "cell_type": "markdown",
      "source": [
        "#B. Prepare and load Data\n",
        "\n",
        "Contains methods to gather and preprocess data"
      ],
      "metadata": {
        "id": "QITHXbjFvwsq"
      }
    },
    {
      "cell_type": "code",
      "source": [
        "df = si.get_data('NG=F')['close']"
      ],
      "metadata": {
        "id": "C52bhOUkv0Qe"
      },
      "execution_count": 112,
      "outputs": []
    },
    {
      "cell_type": "code",
      "source": [
        "df = df.round(3)\n",
        "df = df.resample('1D').mean()\n",
        "df.interpolate(method='linear', axis = 0, inplace= True, limit_direction='forward')"
      ],
      "metadata": {
        "id": "RbbYMyI-yE8f"
      },
      "execution_count": 113,
      "outputs": []
    },
    {
      "cell_type": "code",
      "source": [
        "df.head(5)"
      ],
      "metadata": {
        "colab": {
          "base_uri": "https://localhost:8080/"
        },
        "id": "3Zu67_1QyPxA",
        "outputId": "1d36deb9-a379-493a-f867-e5726daff013"
      },
      "execution_count": 114,
      "outputs": [
        {
          "output_type": "execute_result",
          "data": {
            "text/plain": [
              "2000-08-30    4.80500\n",
              "2000-08-31    4.78000\n",
              "2000-09-01    4.83500\n",
              "2000-09-02    4.86625\n",
              "2000-09-03    4.89750\n",
              "Freq: D, Name: close, dtype: float64"
            ]
          },
          "metadata": {},
          "execution_count": 114
        }
      ]
    },
    {
      "cell_type": "markdown",
      "source": [
        "##1. Data Prep v11[Albert]"
      ],
      "metadata": {
        "id": "ewttbkoIwD1g"
      }
    },
    {
      "cell_type": "code",
      "source": [
        "df_m_albert = pd.DataFrame(df.resample('1M').mean())"
      ],
      "metadata": {
        "id": "QBtAWWcIyArf"
      },
      "execution_count": 115,
      "outputs": []
    },
    {
      "cell_type": "code",
      "source": [
        "type(df_m_albert)"
      ],
      "metadata": {
        "colab": {
          "base_uri": "https://localhost:8080/"
        },
        "id": "u0zkn5OXy-vA",
        "outputId": "0f1a7d26-24cc-44c7-8081-df6ccef4d7cc"
      },
      "execution_count": 116,
      "outputs": [
        {
          "output_type": "execute_result",
          "data": {
            "text/plain": [
              "pandas.core.frame.DataFrame"
            ]
          },
          "metadata": {},
          "execution_count": 116
        }
      ]
    },
    {
      "cell_type": "code",
      "source": [
        "df_m_albert['std'] = df_m_albert['close'].rolling(10).std()"
      ],
      "metadata": {
        "id": "EgfLmVv_1yHt"
      },
      "execution_count": 117,
      "outputs": []
    },
    {
      "cell_type": "code",
      "source": [
        "df_m_albert.head(15)"
      ],
      "metadata": {
        "colab": {
          "base_uri": "https://localhost:8080/",
          "height": 520
        },
        "id": "S0dmFOSV2MKk",
        "outputId": "5ad75cae-418a-47f7-d757-e4b394319cb5"
      },
      "execution_count": 118,
      "outputs": [
        {
          "output_type": "execute_result",
          "data": {
            "text/plain": [
              "               close       std\n",
              "2000-08-31  4.792500       NaN\n",
              "2000-09-30  5.122239       NaN\n",
              "2000-10-31  5.069688       NaN\n",
              "2000-11-30  5.800333       NaN\n",
              "2000-12-31  8.706976       NaN\n",
              "2001-01-31  7.939685       NaN\n",
              "2001-02-28  5.678107       NaN\n",
              "2001-03-31  5.194559       NaN\n",
              "2001-04-30  5.196172       NaN\n",
              "2001-05-31  4.217532  1.425124\n",
              "2001-06-30  3.796500  1.531968\n",
              "2001-07-31  3.160855  1.723754\n",
              "2001-08-31  2.937710  1.902204\n",
              "2001-09-30  2.285450  2.105705\n",
              "2001-10-31  2.621000  1.733366"
            ],
            "text/html": [
              "\n",
              "  <div id=\"df-5f502b8c-28e9-4771-914b-578895a1bd35\">\n",
              "    <div class=\"colab-df-container\">\n",
              "      <div>\n",
              "<style scoped>\n",
              "    .dataframe tbody tr th:only-of-type {\n",
              "        vertical-align: middle;\n",
              "    }\n",
              "\n",
              "    .dataframe tbody tr th {\n",
              "        vertical-align: top;\n",
              "    }\n",
              "\n",
              "    .dataframe thead th {\n",
              "        text-align: right;\n",
              "    }\n",
              "</style>\n",
              "<table border=\"1\" class=\"dataframe\">\n",
              "  <thead>\n",
              "    <tr style=\"text-align: right;\">\n",
              "      <th></th>\n",
              "      <th>close</th>\n",
              "      <th>std</th>\n",
              "    </tr>\n",
              "  </thead>\n",
              "  <tbody>\n",
              "    <tr>\n",
              "      <th>2000-08-31</th>\n",
              "      <td>4.792500</td>\n",
              "      <td>NaN</td>\n",
              "    </tr>\n",
              "    <tr>\n",
              "      <th>2000-09-30</th>\n",
              "      <td>5.122239</td>\n",
              "      <td>NaN</td>\n",
              "    </tr>\n",
              "    <tr>\n",
              "      <th>2000-10-31</th>\n",
              "      <td>5.069688</td>\n",
              "      <td>NaN</td>\n",
              "    </tr>\n",
              "    <tr>\n",
              "      <th>2000-11-30</th>\n",
              "      <td>5.800333</td>\n",
              "      <td>NaN</td>\n",
              "    </tr>\n",
              "    <tr>\n",
              "      <th>2000-12-31</th>\n",
              "      <td>8.706976</td>\n",
              "      <td>NaN</td>\n",
              "    </tr>\n",
              "    <tr>\n",
              "      <th>2001-01-31</th>\n",
              "      <td>7.939685</td>\n",
              "      <td>NaN</td>\n",
              "    </tr>\n",
              "    <tr>\n",
              "      <th>2001-02-28</th>\n",
              "      <td>5.678107</td>\n",
              "      <td>NaN</td>\n",
              "    </tr>\n",
              "    <tr>\n",
              "      <th>2001-03-31</th>\n",
              "      <td>5.194559</td>\n",
              "      <td>NaN</td>\n",
              "    </tr>\n",
              "    <tr>\n",
              "      <th>2001-04-30</th>\n",
              "      <td>5.196172</td>\n",
              "      <td>NaN</td>\n",
              "    </tr>\n",
              "    <tr>\n",
              "      <th>2001-05-31</th>\n",
              "      <td>4.217532</td>\n",
              "      <td>1.425124</td>\n",
              "    </tr>\n",
              "    <tr>\n",
              "      <th>2001-06-30</th>\n",
              "      <td>3.796500</td>\n",
              "      <td>1.531968</td>\n",
              "    </tr>\n",
              "    <tr>\n",
              "      <th>2001-07-31</th>\n",
              "      <td>3.160855</td>\n",
              "      <td>1.723754</td>\n",
              "    </tr>\n",
              "    <tr>\n",
              "      <th>2001-08-31</th>\n",
              "      <td>2.937710</td>\n",
              "      <td>1.902204</td>\n",
              "    </tr>\n",
              "    <tr>\n",
              "      <th>2001-09-30</th>\n",
              "      <td>2.285450</td>\n",
              "      <td>2.105705</td>\n",
              "    </tr>\n",
              "    <tr>\n",
              "      <th>2001-10-31</th>\n",
              "      <td>2.621000</td>\n",
              "      <td>1.733366</td>\n",
              "    </tr>\n",
              "  </tbody>\n",
              "</table>\n",
              "</div>\n",
              "      <button class=\"colab-df-convert\" onclick=\"convertToInteractive('df-5f502b8c-28e9-4771-914b-578895a1bd35')\"\n",
              "              title=\"Convert this dataframe to an interactive table.\"\n",
              "              style=\"display:none;\">\n",
              "        \n",
              "  <svg xmlns=\"http://www.w3.org/2000/svg\" height=\"24px\"viewBox=\"0 0 24 24\"\n",
              "       width=\"24px\">\n",
              "    <path d=\"M0 0h24v24H0V0z\" fill=\"none\"/>\n",
              "    <path d=\"M18.56 5.44l.94 2.06.94-2.06 2.06-.94-2.06-.94-.94-2.06-.94 2.06-2.06.94zm-11 1L8.5 8.5l.94-2.06 2.06-.94-2.06-.94L8.5 2.5l-.94 2.06-2.06.94zm10 10l.94 2.06.94-2.06 2.06-.94-2.06-.94-.94-2.06-.94 2.06-2.06.94z\"/><path d=\"M17.41 7.96l-1.37-1.37c-.4-.4-.92-.59-1.43-.59-.52 0-1.04.2-1.43.59L10.3 9.45l-7.72 7.72c-.78.78-.78 2.05 0 2.83L4 21.41c.39.39.9.59 1.41.59.51 0 1.02-.2 1.41-.59l7.78-7.78 2.81-2.81c.8-.78.8-2.07 0-2.86zM5.41 20L4 18.59l7.72-7.72 1.47 1.35L5.41 20z\"/>\n",
              "  </svg>\n",
              "      </button>\n",
              "      \n",
              "  <style>\n",
              "    .colab-df-container {\n",
              "      display:flex;\n",
              "      flex-wrap:wrap;\n",
              "      gap: 12px;\n",
              "    }\n",
              "\n",
              "    .colab-df-convert {\n",
              "      background-color: #E8F0FE;\n",
              "      border: none;\n",
              "      border-radius: 50%;\n",
              "      cursor: pointer;\n",
              "      display: none;\n",
              "      fill: #1967D2;\n",
              "      height: 32px;\n",
              "      padding: 0 0 0 0;\n",
              "      width: 32px;\n",
              "    }\n",
              "\n",
              "    .colab-df-convert:hover {\n",
              "      background-color: #E2EBFA;\n",
              "      box-shadow: 0px 1px 2px rgba(60, 64, 67, 0.3), 0px 1px 3px 1px rgba(60, 64, 67, 0.15);\n",
              "      fill: #174EA6;\n",
              "    }\n",
              "\n",
              "    [theme=dark] .colab-df-convert {\n",
              "      background-color: #3B4455;\n",
              "      fill: #D2E3FC;\n",
              "    }\n",
              "\n",
              "    [theme=dark] .colab-df-convert:hover {\n",
              "      background-color: #434B5C;\n",
              "      box-shadow: 0px 1px 3px 1px rgba(0, 0, 0, 0.15);\n",
              "      filter: drop-shadow(0px 1px 2px rgba(0, 0, 0, 0.3));\n",
              "      fill: #FFFFFF;\n",
              "    }\n",
              "  </style>\n",
              "\n",
              "      <script>\n",
              "        const buttonEl =\n",
              "          document.querySelector('#df-5f502b8c-28e9-4771-914b-578895a1bd35 button.colab-df-convert');\n",
              "        buttonEl.style.display =\n",
              "          google.colab.kernel.accessAllowed ? 'block' : 'none';\n",
              "\n",
              "        async function convertToInteractive(key) {\n",
              "          const element = document.querySelector('#df-5f502b8c-28e9-4771-914b-578895a1bd35');\n",
              "          const dataTable =\n",
              "            await google.colab.kernel.invokeFunction('convertToInteractive',\n",
              "                                                     [key], {});\n",
              "          if (!dataTable) return;\n",
              "\n",
              "          const docLinkHtml = 'Like what you see? Visit the ' +\n",
              "            '<a target=\"_blank\" href=https://colab.research.google.com/notebooks/data_table.ipynb>data table notebook</a>'\n",
              "            + ' to learn more about interactive tables.';\n",
              "          element.innerHTML = '';\n",
              "          dataTable['output_type'] = 'display_data';\n",
              "          await google.colab.output.renderOutput(dataTable, element);\n",
              "          const docLink = document.createElement('div');\n",
              "          docLink.innerHTML = docLinkHtml;\n",
              "          element.appendChild(docLink);\n",
              "        }\n",
              "      </script>\n",
              "    </div>\n",
              "  </div>\n",
              "  "
            ]
          },
          "metadata": {},
          "execution_count": 118
        }
      ]
    },
    {
      "cell_type": "code",
      "source": [
        "df_m_albert = df_m_albert[9:]"
      ],
      "metadata": {
        "id": "7zp9ncyl2TH8"
      },
      "execution_count": 119,
      "outputs": []
    },
    {
      "cell_type": "code",
      "source": [
        "df_m_albert['std'].isna().sum()"
      ],
      "metadata": {
        "colab": {
          "base_uri": "https://localhost:8080/"
        },
        "id": "LaxIcx7Y2aj1",
        "outputId": "27795620-f276-4104-e101-586188b05047"
      },
      "execution_count": 120,
      "outputs": [
        {
          "output_type": "execute_result",
          "data": {
            "text/plain": [
              "0"
            ]
          },
          "metadata": {},
          "execution_count": 120
        }
      ]
    },
    {
      "cell_type": "code",
      "source": [
        "str(type(df_m_albert))"
      ],
      "metadata": {
        "colab": {
          "base_uri": "https://localhost:8080/",
          "height": 35
        },
        "id": "wPxSFOLc3-Eo",
        "outputId": "abc08f11-7103-4c06-9efe-b57f740069e8"
      },
      "execution_count": 121,
      "outputs": [
        {
          "output_type": "execute_result",
          "data": {
            "text/plain": [
              "\"<class 'pandas.core.frame.DataFrame'>\""
            ],
            "application/vnd.google.colaboratory.intrinsic+json": {
              "type": "string"
            }
          },
          "metadata": {},
          "execution_count": 121
        }
      ]
    },
    {
      "cell_type": "code",
      "source": [
        "df_m_albert['close_max'] = df_m_albert['close'] + df_m_albert['std']\n",
        "df_m_albert['close_mim'] = df_m_albert['close'] - df_m_albert['std']"
      ],
      "metadata": {
        "id": "3r18FcVX2th8"
      },
      "execution_count": 122,
      "outputs": []
    },
    {
      "cell_type": "code",
      "source": [
        "df_m_albert['gradient'] = np.gradient(df_m_albert['close'])\n",
        "df_m_albert['d_gradient'] = np.gradient(df_m_albert['gradient'])\n",
        "df_m_albert.drop(columns=['std'], inplace=True)"
      ],
      "metadata": {
        "id": "rOBdQwzk20Dc"
      },
      "execution_count": 123,
      "outputs": []
    },
    {
      "cell_type": "code",
      "source": [
        "df_m_albert.head(5)"
      ],
      "metadata": {
        "colab": {
          "base_uri": "https://localhost:8080/",
          "height": 206
        },
        "id": "UJoCdafg2_Rz",
        "outputId": "b921f12a-9c7d-4059-848d-b0d16b3b50e9"
      },
      "execution_count": 124,
      "outputs": [
        {
          "output_type": "execute_result",
          "data": {
            "text/plain": [
              "               close  close_max  close_mim  gradient  d_gradient\n",
              "2001-05-31  4.217532   5.642656   2.792409 -0.421032   -0.107306\n",
              "2001-06-30  3.796500   5.328468   2.264532 -0.528339   -0.004181\n",
              "2001-07-31  3.160855   4.884609   1.437101 -0.429395    0.045318\n",
              "2001-08-31  2.937710   4.839914   1.035506 -0.437702    0.135520\n",
              "2001-09-30  2.285450   4.391155   0.179745 -0.158355    0.348322"
            ],
            "text/html": [
              "\n",
              "  <div id=\"df-770254e3-29ac-48d6-abcc-5cfb2df9c528\">\n",
              "    <div class=\"colab-df-container\">\n",
              "      <div>\n",
              "<style scoped>\n",
              "    .dataframe tbody tr th:only-of-type {\n",
              "        vertical-align: middle;\n",
              "    }\n",
              "\n",
              "    .dataframe tbody tr th {\n",
              "        vertical-align: top;\n",
              "    }\n",
              "\n",
              "    .dataframe thead th {\n",
              "        text-align: right;\n",
              "    }\n",
              "</style>\n",
              "<table border=\"1\" class=\"dataframe\">\n",
              "  <thead>\n",
              "    <tr style=\"text-align: right;\">\n",
              "      <th></th>\n",
              "      <th>close</th>\n",
              "      <th>close_max</th>\n",
              "      <th>close_mim</th>\n",
              "      <th>gradient</th>\n",
              "      <th>d_gradient</th>\n",
              "    </tr>\n",
              "  </thead>\n",
              "  <tbody>\n",
              "    <tr>\n",
              "      <th>2001-05-31</th>\n",
              "      <td>4.217532</td>\n",
              "      <td>5.642656</td>\n",
              "      <td>2.792409</td>\n",
              "      <td>-0.421032</td>\n",
              "      <td>-0.107306</td>\n",
              "    </tr>\n",
              "    <tr>\n",
              "      <th>2001-06-30</th>\n",
              "      <td>3.796500</td>\n",
              "      <td>5.328468</td>\n",
              "      <td>2.264532</td>\n",
              "      <td>-0.528339</td>\n",
              "      <td>-0.004181</td>\n",
              "    </tr>\n",
              "    <tr>\n",
              "      <th>2001-07-31</th>\n",
              "      <td>3.160855</td>\n",
              "      <td>4.884609</td>\n",
              "      <td>1.437101</td>\n",
              "      <td>-0.429395</td>\n",
              "      <td>0.045318</td>\n",
              "    </tr>\n",
              "    <tr>\n",
              "      <th>2001-08-31</th>\n",
              "      <td>2.937710</td>\n",
              "      <td>4.839914</td>\n",
              "      <td>1.035506</td>\n",
              "      <td>-0.437702</td>\n",
              "      <td>0.135520</td>\n",
              "    </tr>\n",
              "    <tr>\n",
              "      <th>2001-09-30</th>\n",
              "      <td>2.285450</td>\n",
              "      <td>4.391155</td>\n",
              "      <td>0.179745</td>\n",
              "      <td>-0.158355</td>\n",
              "      <td>0.348322</td>\n",
              "    </tr>\n",
              "  </tbody>\n",
              "</table>\n",
              "</div>\n",
              "      <button class=\"colab-df-convert\" onclick=\"convertToInteractive('df-770254e3-29ac-48d6-abcc-5cfb2df9c528')\"\n",
              "              title=\"Convert this dataframe to an interactive table.\"\n",
              "              style=\"display:none;\">\n",
              "        \n",
              "  <svg xmlns=\"http://www.w3.org/2000/svg\" height=\"24px\"viewBox=\"0 0 24 24\"\n",
              "       width=\"24px\">\n",
              "    <path d=\"M0 0h24v24H0V0z\" fill=\"none\"/>\n",
              "    <path d=\"M18.56 5.44l.94 2.06.94-2.06 2.06-.94-2.06-.94-.94-2.06-.94 2.06-2.06.94zm-11 1L8.5 8.5l.94-2.06 2.06-.94-2.06-.94L8.5 2.5l-.94 2.06-2.06.94zm10 10l.94 2.06.94-2.06 2.06-.94-2.06-.94-.94-2.06-.94 2.06-2.06.94z\"/><path d=\"M17.41 7.96l-1.37-1.37c-.4-.4-.92-.59-1.43-.59-.52 0-1.04.2-1.43.59L10.3 9.45l-7.72 7.72c-.78.78-.78 2.05 0 2.83L4 21.41c.39.39.9.59 1.41.59.51 0 1.02-.2 1.41-.59l7.78-7.78 2.81-2.81c.8-.78.8-2.07 0-2.86zM5.41 20L4 18.59l7.72-7.72 1.47 1.35L5.41 20z\"/>\n",
              "  </svg>\n",
              "      </button>\n",
              "      \n",
              "  <style>\n",
              "    .colab-df-container {\n",
              "      display:flex;\n",
              "      flex-wrap:wrap;\n",
              "      gap: 12px;\n",
              "    }\n",
              "\n",
              "    .colab-df-convert {\n",
              "      background-color: #E8F0FE;\n",
              "      border: none;\n",
              "      border-radius: 50%;\n",
              "      cursor: pointer;\n",
              "      display: none;\n",
              "      fill: #1967D2;\n",
              "      height: 32px;\n",
              "      padding: 0 0 0 0;\n",
              "      width: 32px;\n",
              "    }\n",
              "\n",
              "    .colab-df-convert:hover {\n",
              "      background-color: #E2EBFA;\n",
              "      box-shadow: 0px 1px 2px rgba(60, 64, 67, 0.3), 0px 1px 3px 1px rgba(60, 64, 67, 0.15);\n",
              "      fill: #174EA6;\n",
              "    }\n",
              "\n",
              "    [theme=dark] .colab-df-convert {\n",
              "      background-color: #3B4455;\n",
              "      fill: #D2E3FC;\n",
              "    }\n",
              "\n",
              "    [theme=dark] .colab-df-convert:hover {\n",
              "      background-color: #434B5C;\n",
              "      box-shadow: 0px 1px 3px 1px rgba(0, 0, 0, 0.15);\n",
              "      filter: drop-shadow(0px 1px 2px rgba(0, 0, 0, 0.3));\n",
              "      fill: #FFFFFF;\n",
              "    }\n",
              "  </style>\n",
              "\n",
              "      <script>\n",
              "        const buttonEl =\n",
              "          document.querySelector('#df-770254e3-29ac-48d6-abcc-5cfb2df9c528 button.colab-df-convert');\n",
              "        buttonEl.style.display =\n",
              "          google.colab.kernel.accessAllowed ? 'block' : 'none';\n",
              "\n",
              "        async function convertToInteractive(key) {\n",
              "          const element = document.querySelector('#df-770254e3-29ac-48d6-abcc-5cfb2df9c528');\n",
              "          const dataTable =\n",
              "            await google.colab.kernel.invokeFunction('convertToInteractive',\n",
              "                                                     [key], {});\n",
              "          if (!dataTable) return;\n",
              "\n",
              "          const docLinkHtml = 'Like what you see? Visit the ' +\n",
              "            '<a target=\"_blank\" href=https://colab.research.google.com/notebooks/data_table.ipynb>data table notebook</a>'\n",
              "            + ' to learn more about interactive tables.';\n",
              "          element.innerHTML = '';\n",
              "          dataTable['output_type'] = 'display_data';\n",
              "          await google.colab.output.renderOutput(dataTable, element);\n",
              "          const docLink = document.createElement('div');\n",
              "          docLink.innerHTML = docLinkHtml;\n",
              "          element.appendChild(docLink);\n",
              "        }\n",
              "      </script>\n",
              "    </div>\n",
              "  </div>\n",
              "  "
            ]
          },
          "metadata": {},
          "execution_count": 124
        }
      ]
    },
    {
      "cell_type": "code",
      "source": [
        "scaler_albert = StandardScaler()\n",
        "scaler_albert_obj = scaler_albert.fit(df_m_albert)\n",
        "scaler_albert_mean = list(map(np.float32, scaler_albert.mean_))\n",
        "scaler_albert_var = list(map(np.float32, scaler_albert.scale_))"
      ],
      "metadata": {
        "id": "hL9nPYsN3KzN"
      },
      "execution_count": 125,
      "outputs": []
    },
    {
      "cell_type": "code",
      "source": [
        "df_albert = scaler_albert.transform(df_m_albert)"
      ],
      "metadata": {
        "id": "XvLxDUze3p_Y"
      },
      "execution_count": 126,
      "outputs": []
    },
    {
      "cell_type": "code",
      "source": [
        "type(df_albert)"
      ],
      "metadata": {
        "colab": {
          "base_uri": "https://localhost:8080/"
        },
        "id": "uuD6_SyL4VIL",
        "outputId": "e39bf19e-7db4-4fe6-cb34-da8a35227e56"
      },
      "execution_count": 127,
      "outputs": [
        {
          "output_type": "execute_result",
          "data": {
            "text/plain": [
              "numpy.ndarray"
            ]
          },
          "metadata": {},
          "execution_count": 127
        }
      ]
    },
    {
      "cell_type": "markdown",
      "source": [
        "##2. Data Prep v2[Boole]"
      ],
      "metadata": {
        "id": "5zHFWOs-4aaD"
      }
    },
    {
      "cell_type": "code",
      "source": [
        "df_d_boole = pd.DataFrame(df.resample('1D').mean())"
      ],
      "metadata": {
        "id": "SgtZtqGY4f_7"
      },
      "execution_count": 128,
      "outputs": []
    },
    {
      "cell_type": "code",
      "source": [
        "df_d_boole.interpolate(method='linear', axis = 0, inplace= True, limit_direction='forward')"
      ],
      "metadata": {
        "id": "hG7bes9H5Zx-"
      },
      "execution_count": 129,
      "outputs": []
    },
    {
      "cell_type": "code",
      "source": [
        "df_d_boole['ma180'] = df_d_boole['close'].rolling(180).mean()\n",
        "df_d_boole['ma60'] = df_d_boole['close'].rolling(60).mean()\n",
        "df_d_boole['ma30'] = df_d_boole['close'].rolling(30).mean()"
      ],
      "metadata": {
        "id": "97rrrLWd5lDK"
      },
      "execution_count": 130,
      "outputs": []
    },
    {
      "cell_type": "code",
      "source": [
        "df_d_boole = df_d_boole[270:]"
      ],
      "metadata": {
        "id": "mmsReSDZ_DL8"
      },
      "execution_count": 131,
      "outputs": []
    },
    {
      "cell_type": "code",
      "source": [
        "df_m_boole = df_d_boole.resample('1M').mean()"
      ],
      "metadata": {
        "id": "gG_qU553_LIR"
      },
      "execution_count": 132,
      "outputs": []
    },
    {
      "cell_type": "code",
      "source": [
        "scaler_boole = StandardScaler()\n",
        "scaler_boole_obj = scaler_boole.fit(df_m_boole)"
      ],
      "metadata": {
        "id": "Pwz49Li6_Qdy"
      },
      "execution_count": 133,
      "outputs": []
    },
    {
      "cell_type": "code",
      "source": [
        "df_m_boole = scaler_boole.transform(df_m_boole)"
      ],
      "metadata": {
        "id": "bJAtgURLAkXT"
      },
      "execution_count": 134,
      "outputs": []
    },
    {
      "cell_type": "code",
      "source": [
        "df_boole = df_m_boole"
      ],
      "metadata": {
        "id": "g2Z1Q4X5_tWP"
      },
      "execution_count": 135,
      "outputs": []
    },
    {
      "cell_type": "code",
      "source": [
        "type(df_m_boole)"
      ],
      "metadata": {
        "colab": {
          "base_uri": "https://localhost:8080/"
        },
        "id": "-Udyt929Cf9h",
        "outputId": "004a0e3f-ae1e-41f1-f5d5-261613705fdf"
      },
      "execution_count": 136,
      "outputs": [
        {
          "output_type": "execute_result",
          "data": {
            "text/plain": [
              "numpy.ndarray"
            ]
          },
          "metadata": {},
          "execution_count": 136
        }
      ]
    },
    {
      "cell_type": "markdown",
      "source": [
        "#C. Batch Generator\n",
        "\n",
        "Contains methods to transform and batch segment data for models"
      ],
      "metadata": {
        "id": "kQi53qkqAGix"
      }
    },
    {
      "cell_type": "code",
      "source": [
        "def batch_gen(df, size_x = 24, size_y = 12):\n",
        "  X = []\n",
        "  Y = []\n",
        "  for i in range(size_x, len(df) - size_y):\n",
        "    X.append(df[i-size_x:i])\n",
        "    Y.append([item[0] for item in df[i:i+size_y]])\n",
        "\n",
        "  X = np.array(X)\n",
        "  Y = np.array(Y)\n",
        "  return  X, Y"
      ],
      "metadata": {
        "id": "P1fuinR8AJeg"
      },
      "execution_count": 137,
      "outputs": []
    },
    {
      "cell_type": "code",
      "source": [
        "df_boole_X , df_boole_Y = batch_gen(df_boole , 24, 24)\n",
        "df_albert_X , df_albert_Y = batch_gen(df_albert , 24, 24)"
      ],
      "metadata": {
        "id": "YZzAUqznCxWo"
      },
      "execution_count": 138,
      "outputs": []
    },
    {
      "cell_type": "code",
      "source": [
        "print(type(df_boole_X) ,type(df_boole_Y))"
      ],
      "metadata": {
        "colab": {
          "base_uri": "https://localhost:8080/"
        },
        "id": "3IHNiypcLyBN",
        "outputId": "e028bb31-8e5f-4b74-c93d-09d086f01be5"
      },
      "execution_count": 139,
      "outputs": [
        {
          "output_type": "stream",
          "name": "stdout",
          "text": [
            "<class 'numpy.ndarray'> <class 'numpy.ndarray'>\n"
          ]
        }
      ]
    },
    {
      "cell_type": "code",
      "source": [
        "print(type(df_albert_X),type(df_albert_Y))"
      ],
      "metadata": {
        "colab": {
          "base_uri": "https://localhost:8080/"
        },
        "id": "KDzvR72bL3jt",
        "outputId": "e0f4e458-bae3-4d46-bd55-e70ec44021e2"
      },
      "execution_count": 140,
      "outputs": [
        {
          "output_type": "stream",
          "name": "stdout",
          "text": [
            "<class 'numpy.ndarray'> <class 'numpy.ndarray'>\n"
          ]
        }
      ]
    },
    {
      "cell_type": "code",
      "source": [
        "df_boole_X.shape"
      ],
      "metadata": {
        "colab": {
          "base_uri": "https://localhost:8080/"
        },
        "id": "QwIcI7WnDGGY",
        "outputId": "151f59b3-778e-4544-a7b7-0d63d81bf2d9"
      },
      "execution_count": 141,
      "outputs": [
        {
          "output_type": "execute_result",
          "data": {
            "text/plain": [
              "(208, 24, 4)"
            ]
          },
          "metadata": {},
          "execution_count": 141
        }
      ]
    },
    {
      "cell_type": "code",
      "source": [
        "df_albert_X.shape"
      ],
      "metadata": {
        "colab": {
          "base_uri": "https://localhost:8080/"
        },
        "id": "ubjVXedWDHF3",
        "outputId": "de8f3b07-6ee9-4f94-a536-b13f659d0d25"
      },
      "execution_count": 142,
      "outputs": [
        {
          "output_type": "execute_result",
          "data": {
            "text/plain": [
              "(208, 24, 5)"
            ]
          },
          "metadata": {},
          "execution_count": 142
        }
      ]
    },
    {
      "cell_type": "markdown",
      "source": [
        "#D. Boosting"
      ],
      "metadata": {
        "id": "83BtlrOtDXMQ"
      }
    },
    {
      "cell_type": "code",
      "source": [
        "class ModelError(Exception):\n",
        "  def __init__(self, model, message='Error In Model: '):\n",
        "    self.model = model\n",
        "    self.message = message + str(df)+ \". Please pass a <class 'keras.engine.sequential.Sequential'>\"\n",
        "    super().__init__(self.message)\n",
        "  \n",
        "\n",
        "class ShapeError(Exception):\n",
        "  def __init__(self, df, message='Shape Mismatch in DataFrame: '):\n",
        "    self.df = df\n",
        "    self.message = message+ str(df) + \". Please Load Tensor of Shape(n, 24,6)\"\n",
        "    super().__init__(self.message)\n",
        "\n",
        "class DatatypeError(Exception):\n",
        "  def __init__(self, arg, message='Please Upload a numpy array in arg '):\n",
        "    self.arg = arg\n",
        "    self.message = message+ str(arg) + \" of Shape(n, 24,6)\"\n",
        "    super().__init__(self.message)\n",
        "\n",
        "_types = {'model': [\"<class 'keras.engine.sequential.Sequential'>\"], \n",
        "          'data': [\"<class 'numpy.ndarray'>\", \"<class 'pandas.core.frame.DataFrame'>\"]\n",
        "        }"
      ],
      "metadata": {
        "id": "aO18xuobpNk0"
      },
      "execution_count": 143,
      "outputs": []
    },
    {
      "cell_type": "code",
      "source": [
        "def model_1_fn(model_1, data_model_1, scaler_1):\n",
        "  x0 = np.reshape(data_model_1[-2] , (1,24,5))\n",
        "  x = np.reshape(data_model_1[-1] , (1,24,5))\n",
        "  p=[]\n",
        "  y_fin=[]\n",
        "  x_bar = list(map(np.float32, scaler_1.mean_))\n",
        "  x_std = list(map(np.float32, scaler_1.scale_))\n",
        "  for index in range(0,3):\n",
        "    pred_new = model_1.predict(x)\n",
        "    x0 = [item[0] for item in np.squeeze(x0, axis=0)]\n",
        "    x = [item[0] for item in np.squeeze(x, axis=0)]\n",
        "    p = list(np.squeeze(pred_new, axis=0))\n",
        "    x = x0+x+p\n",
        "    x = np.array(x)\n",
        "    x = (x_std[0]* np.array(x)) + x_bar[0]\n",
        "    y_fin = y_fin + list(x[48:])\n",
        "    x = pd.DataFrame({'close': x})\n",
        "    x['std'] = x['close'].rolling(10).std()\n",
        "    x['close_max'] = x['close'] + x['std']\n",
        "    x['close_mim'] = x['close'] - x['std']\n",
        "    x['gradient'] = np.gradient(x['close'])\n",
        "    x['d_gradient'] = np.gradient(x['gradient'])\n",
        "    x.drop(columns=['std'], inplace=True)\n",
        "    x0 = np.reshape(np.array(x[24:48]), (1,24,5))\n",
        "    x = np.reshape(np.array(x[48:]), (1,24,5))\n",
        "  return y_fin"
      ],
      "metadata": {
        "colab": {
          "base_uri": "https://localhost:8080/"
        },
        "id": "mq9Xik5BKINj",
        "outputId": "933b21fb-d652-45b9-87e6-81f0839ff530"
      },
      "execution_count": 170,
      "outputs": [
        {
          "output_type": "stream",
          "name": "stdout",
          "text": [
            "72\n"
          ]
        }
      ]
    },
    {
      "cell_type": "code",
      "source": [
        "def model_2_fn(model_2, data_model_2, scaler_2):\n",
        "  "
      ],
      "metadata": {
        "id": "wEUwdOECYSFv"
      },
      "execution_count": null,
      "outputs": []
    },
    {
      "cell_type": "code",
      "source": [
        "def predict(model_1={}, model_2={},data_model_1=np.array([]), data_model_2=np.array([]),scaler_1 = None, scaler_2=None, ratio_albert = 0.50, ratio_boole = 0.50):\n",
        "  if (str(type(model_1['model'])) not in _types['model']):\n",
        "    raise ModelError(model_1['name'])\n",
        "\n",
        "  elif (str(type(model_2['model'])) not in _types['model']):\n",
        "    raise ModelError(model_2['name'])\n",
        "\n",
        "  elif (str(type(data_model_1)) not in _types['data']):\n",
        "    raise DatatypeError('data_model_1')\n",
        "\n",
        "  elif (str(type(data_model_2)) not in _types['data']):\n",
        "    raise DatatypeError('data_model_2')\n",
        "\n",
        "  elif (model_1['input'] == data_model_1.shape[1:]):\n",
        "    raise ShapeError('data_model_1')\n",
        "\n",
        "  elif (model_2['input'] == data_model_2.shape[1:]):\n",
        "    raise ShapeError('data_model_2')\n",
        "\n",
        "  model_1_pred = model_1_fn(model_1, data_model_1, scaler_1)\n",
        "  model_2_pred = model_2_fn(model_2, data_model_2, scaler_2)\n"
      ],
      "metadata": {
        "id": "XYsXJt3dESZf",
        "colab": {
          "base_uri": "https://localhost:8080/",
          "height": 130
        },
        "outputId": "8a8482cc-ca7e-4723-d587-cd7c2fbd4ab7"
      },
      "execution_count": 144,
      "outputs": [
        {
          "output_type": "error",
          "ename": "SyntaxError",
          "evalue": "ignored",
          "traceback": [
            "\u001b[0;36m  File \u001b[0;32m\"<ipython-input-144-886fa4a72886>\"\u001b[0;36m, line \u001b[0;32m20\u001b[0m\n\u001b[0;31m    for\u001b[0m\n\u001b[0m        ^\u001b[0m\n\u001b[0;31mSyntaxError\u001b[0m\u001b[0;31m:\u001b[0m invalid syntax\n"
          ]
        }
      ]
    },
    {
      "cell_type": "code",
      "source": [
        "model_albert.predict(np.reshape(df_albert_X[0], (1,24,5)))"
      ],
      "metadata": {
        "id": "i2x4flTIEOb3",
        "colab": {
          "base_uri": "https://localhost:8080/"
        },
        "outputId": "e8685684-f235-4389-a277-400a5e515dd0"
      },
      "execution_count": 146,
      "outputs": [
        {
          "output_type": "execute_result",
          "data": {
            "text/plain": [
              "array([[0.05400372, 0.06501745, 0.05483598, 0.15447123, 0.19188452,\n",
              "        0.224985  , 0.27947745, 0.30192184, 0.34102198, 0.35938162,\n",
              "        0.2980546 , 0.43100786, 0.41511   , 0.4737789 , 0.37954348,\n",
              "        0.3038459 , 0.2703538 , 0.16170886, 0.13929369, 0.23180136,\n",
              "        0.33111882, 0.46208397, 0.62037617, 0.740891  ]], dtype=float32)"
            ]
          },
          "metadata": {},
          "execution_count": 146
        }
      ]
    },
    {
      "cell_type": "code",
      "source": [
        ""
      ],
      "metadata": {
        "id": "cFfzDBomHGYJ"
      },
      "execution_count": null,
      "outputs": []
    }
  ]
}