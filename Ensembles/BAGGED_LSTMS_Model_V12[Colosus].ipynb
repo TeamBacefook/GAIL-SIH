{
  "nbformat": 4,
  "nbformat_minor": 0,
  "metadata": {
    "colab": {
      "name": "BAGGED_LSTMS_Model_V12[Colosus].ipynb",
      "provenance": [],
      "collapsed_sections": [
        "BTBaEIozvV0Q",
        "gqym8__6mghs"
      ],
      "toc_visible": true
    },
    "kernelspec": {
      "name": "python3",
      "display_name": "Python 3"
    },
    "language_info": {
      "name": "python"
    }
  },
  "cells": [
    {
      "cell_type": "markdown",
      "source": [
        "#00. Imports"
      ],
      "metadata": {
        "id": "FxhNgvE6vaLA"
      }
    },
    {
      "cell_type": "code",
      "source": [
        "!pip install yahoo_fin"
      ],
      "metadata": {
        "colab": {
          "base_uri": "https://localhost:8080/",
          "height": 1000
        },
        "id": "kUXk4z3MwE4f",
        "outputId": "a2d82694-a682-4b88-d92e-57f82d15e267"
      },
      "execution_count": null,
      "outputs": [
        {
          "output_type": "stream",
          "name": "stdout",
          "text": [
            "Looking in indexes: https://pypi.org/simple, https://us-python.pkg.dev/colab-wheels/public/simple/\n",
            "Collecting yahoo_fin\n",
            "  Downloading yahoo_fin-0.8.9.1-py3-none-any.whl (10 kB)\n",
            "Requirement already satisfied: requests in /usr/local/lib/python3.7/dist-packages (from yahoo_fin) (2.23.0)\n",
            "Requirement already satisfied: pandas in /usr/local/lib/python3.7/dist-packages (from yahoo_fin) (1.3.5)\n",
            "Collecting requests-html\n",
            "  Downloading requests_html-0.10.0-py3-none-any.whl (13 kB)\n",
            "Collecting feedparser\n",
            "  Downloading feedparser-6.0.10-py3-none-any.whl (81 kB)\n",
            "\u001b[K     |████████████████████████████████| 81 kB 8.9 MB/s \n",
            "\u001b[?25hCollecting sgmllib3k\n",
            "  Downloading sgmllib3k-1.0.0.tar.gz (5.8 kB)\n",
            "Requirement already satisfied: pytz>=2017.3 in /usr/local/lib/python3.7/dist-packages (from pandas->yahoo_fin) (2022.1)\n",
            "Requirement already satisfied: numpy>=1.17.3 in /usr/local/lib/python3.7/dist-packages (from pandas->yahoo_fin) (1.21.6)\n",
            "Requirement already satisfied: python-dateutil>=2.7.3 in /usr/local/lib/python3.7/dist-packages (from pandas->yahoo_fin) (2.8.2)\n",
            "Requirement already satisfied: six>=1.5 in /usr/local/lib/python3.7/dist-packages (from python-dateutil>=2.7.3->pandas->yahoo_fin) (1.15.0)\n",
            "Requirement already satisfied: certifi>=2017.4.17 in /usr/local/lib/python3.7/dist-packages (from requests->yahoo_fin) (2022.6.15)\n",
            "Requirement already satisfied: idna<3,>=2.5 in /usr/local/lib/python3.7/dist-packages (from requests->yahoo_fin) (2.10)\n",
            "Requirement already satisfied: urllib3!=1.25.0,!=1.25.1,<1.26,>=1.21.1 in /usr/local/lib/python3.7/dist-packages (from requests->yahoo_fin) (1.24.3)\n",
            "Requirement already satisfied: chardet<4,>=3.0.2 in /usr/local/lib/python3.7/dist-packages (from requests->yahoo_fin) (3.0.4)\n",
            "Requirement already satisfied: bs4 in /usr/local/lib/python3.7/dist-packages (from requests-html->yahoo_fin) (0.0.1)\n",
            "Collecting w3lib\n",
            "  Downloading w3lib-2.0.1-py3-none-any.whl (20 kB)\n",
            "Collecting fake-useragent\n",
            "  Downloading fake-useragent-0.1.11.tar.gz (13 kB)\n",
            "Collecting pyppeteer>=0.0.14\n",
            "  Downloading pyppeteer-1.0.2-py3-none-any.whl (83 kB)\n",
            "\u001b[K     |████████████████████████████████| 83 kB 2.1 MB/s \n",
            "\u001b[?25hCollecting pyquery\n",
            "  Downloading pyquery-1.4.3-py3-none-any.whl (22 kB)\n",
            "Collecting parse\n",
            "  Downloading parse-1.19.0.tar.gz (30 kB)\n",
            "Collecting urllib3!=1.25.0,!=1.25.1,<1.26,>=1.21.1\n",
            "  Downloading urllib3-1.25.11-py2.py3-none-any.whl (127 kB)\n",
            "\u001b[K     |████████████████████████████████| 127 kB 40.3 MB/s \n",
            "\u001b[?25hRequirement already satisfied: tqdm<5.0.0,>=4.42.1 in /usr/local/lib/python3.7/dist-packages (from pyppeteer>=0.0.14->requests-html->yahoo_fin) (4.64.0)\n",
            "Requirement already satisfied: appdirs<2.0.0,>=1.4.3 in /usr/local/lib/python3.7/dist-packages (from pyppeteer>=0.0.14->requests-html->yahoo_fin) (1.4.4)\n",
            "Collecting websockets<11.0,>=10.0\n",
            "  Downloading websockets-10.3-cp37-cp37m-manylinux_2_5_x86_64.manylinux1_x86_64.manylinux_2_12_x86_64.manylinux2010_x86_64.whl (112 kB)\n",
            "\u001b[K     |████████████████████████████████| 112 kB 63.1 MB/s \n",
            "\u001b[?25hCollecting pyee<9.0.0,>=8.1.0\n",
            "  Downloading pyee-8.2.2-py2.py3-none-any.whl (12 kB)\n",
            "Requirement already satisfied: importlib-metadata>=1.4 in /usr/local/lib/python3.7/dist-packages (from pyppeteer>=0.0.14->requests-html->yahoo_fin) (4.12.0)\n",
            "Requirement already satisfied: typing-extensions>=3.6.4 in /usr/local/lib/python3.7/dist-packages (from importlib-metadata>=1.4->pyppeteer>=0.0.14->requests-html->yahoo_fin) (4.1.1)\n",
            "Requirement already satisfied: zipp>=0.5 in /usr/local/lib/python3.7/dist-packages (from importlib-metadata>=1.4->pyppeteer>=0.0.14->requests-html->yahoo_fin) (3.8.1)\n",
            "Requirement already satisfied: beautifulsoup4 in /usr/local/lib/python3.7/dist-packages (from bs4->requests-html->yahoo_fin) (4.6.3)\n",
            "Requirement already satisfied: lxml>=2.1 in /usr/local/lib/python3.7/dist-packages (from pyquery->requests-html->yahoo_fin) (4.9.1)\n",
            "Collecting cssselect>0.7.9\n",
            "  Downloading cssselect-1.1.0-py2.py3-none-any.whl (16 kB)\n",
            "Building wheels for collected packages: fake-useragent, parse, sgmllib3k\n",
            "  Building wheel for fake-useragent (setup.py) ... \u001b[?25l\u001b[?25hdone\n",
            "  Created wheel for fake-useragent: filename=fake_useragent-0.1.11-py3-none-any.whl size=13502 sha256=7a8315f0eed1adc0ef0b2d81ff8ace99157667b9f80c6706d9e089080b8ede55\n",
            "  Stored in directory: /root/.cache/pip/wheels/ed/f7/62/50ab6c9a0b5567267ab76a9daa9d06315704209b2c5d032031\n",
            "  Building wheel for parse (setup.py) ... \u001b[?25l\u001b[?25hdone\n",
            "  Created wheel for parse: filename=parse-1.19.0-py3-none-any.whl size=24591 sha256=11734e4a74c3e53fcd5ec4fb6c5479cc7856c6c9df0153bc051c63d59ef76ebe\n",
            "  Stored in directory: /root/.cache/pip/wheels/9c/aa/cc/f2228050ccb40f22144b073f15a2c84f11204f29fc0dce028e\n",
            "  Building wheel for sgmllib3k (setup.py) ... \u001b[?25l\u001b[?25hdone\n",
            "  Created wheel for sgmllib3k: filename=sgmllib3k-1.0.0-py3-none-any.whl size=6066 sha256=ecbcf0845a359e6c098b2adcde5b794621813d9de0bc2ae04f1708400c96bf16\n",
            "  Stored in directory: /root/.cache/pip/wheels/73/ad/a4/0dff4a6ef231fc0dfa12ffbac2a36cebfdddfe059f50e019aa\n",
            "Successfully built fake-useragent parse sgmllib3k\n",
            "Installing collected packages: websockets, urllib3, pyee, cssselect, w3lib, sgmllib3k, pyquery, pyppeteer, parse, fake-useragent, requests-html, feedparser, yahoo-fin\n",
            "  Attempting uninstall: urllib3\n",
            "    Found existing installation: urllib3 1.24.3\n",
            "    Uninstalling urllib3-1.24.3:\n",
            "      Successfully uninstalled urllib3-1.24.3\n",
            "Successfully installed cssselect-1.1.0 fake-useragent-0.1.11 feedparser-6.0.10 parse-1.19.0 pyee-8.2.2 pyppeteer-1.0.2 pyquery-1.4.3 requests-html-0.10.0 sgmllib3k-1.0.0 urllib3-1.25.11 w3lib-2.0.1 websockets-10.3 yahoo-fin-0.8.9.1\n"
          ]
        },
        {
          "output_type": "display_data",
          "data": {
            "application/vnd.colab-display-data+json": {
              "pip_warning": {
                "packages": [
                  "urllib3"
                ]
              }
            }
          },
          "metadata": {}
        }
      ]
    },
    {
      "cell_type": "code",
      "execution_count": 216,
      "metadata": {
        "id": "J4ZUJ-6a3g9c",
        "colab": {
          "base_uri": "https://localhost:8080/"
        },
        "outputId": "f36113b9-d303-4b8c-f644-1ae3e24f4b64"
      },
      "outputs": [
        {
          "output_type": "stream",
          "name": "stdout",
          "text": [
            "Drive already mounted at /content/drive/; to attempt to forcibly remount, call drive.mount(\"/content/drive/\", force_remount=True).\n"
          ]
        }
      ],
      "source": [
        "from google.colab import drive\n",
        "from keras.models import load_model\n",
        "import tensorflow as tf\n",
        "import pandas as pd\n",
        "from tensorflow import keras as k\n",
        "from yahoo_fin import stock_info as si\n",
        "drive.mount('/content/drive/')"
      ]
    },
    {
      "cell_type": "code",
      "source": [
        "import pandas as pd"
      ],
      "metadata": {
        "id": "GdvFjrd_zg9i"
      },
      "execution_count": 217,
      "outputs": []
    },
    {
      "cell_type": "code",
      "source": [
        "import numpy as np"
      ],
      "metadata": {
        "id": "muD2IGrF26Xj"
      },
      "execution_count": 218,
      "outputs": []
    },
    {
      "cell_type": "code",
      "source": [
        "from sklearn.preprocessing import StandardScaler"
      ],
      "metadata": {
        "id": "G5eY1x273PA7"
      },
      "execution_count": 219,
      "outputs": []
    },
    {
      "cell_type": "markdown",
      "source": [
        "#A. Load Models\n",
        "\n",
        "Contains models of LSTM of variants Boole and Albert"
      ],
      "metadata": {
        "id": "BTBaEIozvV0Q"
      }
    },
    {
      "cell_type": "markdown",
      "source": [
        "##1. Load Model v11[Albert]"
      ],
      "metadata": {
        "id": "W7qHV2WykjAk"
      }
    },
    {
      "cell_type": "code",
      "source": [
        "def rmse(y_true, y_pred):\n",
        "  return tf.keras.backend.sqrt(tf.keras.backend.mean(tf.keras.backend.square(y_pred - y_true)))"
      ],
      "metadata": {
        "id": "VOYCh-yIloBs"
      },
      "execution_count": 220,
      "outputs": []
    },
    {
      "cell_type": "code",
      "source": [
        "model_albert = load_model(\"/content/drive/MyDrive/Models/Model_V11.h5\", custom_objects={'loss': rmse }, compile=False)"
      ],
      "metadata": {
        "id": "c4tabA8HluVc"
      },
      "execution_count": 221,
      "outputs": []
    },
    {
      "cell_type": "code",
      "source": [
        "model_albert.compile(loss = rmse, optimizer= k.optimizers.Adam(learning_rate=0.01))\n",
        "early_stopping = k.callbacks.EarlyStopping(monitor='loss', patience=10)\n",
        "model_albert.summary()"
      ],
      "metadata": {
        "colab": {
          "base_uri": "https://localhost:8080/"
        },
        "id": "rIIEzqsDlzaD",
        "outputId": "5831561c-8bb3-43cf-a8a4-63fe039fe74c"
      },
      "execution_count": 222,
      "outputs": [
        {
          "output_type": "stream",
          "name": "stdout",
          "text": [
            "Model: \"sequential_6\"\n",
            "_________________________________________________________________\n",
            " Layer (type)                Output Shape              Param #   \n",
            "=================================================================\n",
            " lstm_21 (LSTM)              (None, 24, 50)            11200     \n",
            "                                                                 \n",
            " lstm_22 (LSTM)              (None, 24, 50)            20200     \n",
            "                                                                 \n",
            " lstm_23 (LSTM)              (None, 50)                20200     \n",
            "                                                                 \n",
            " dropout_6 (Dropout)         (None, 50)                0         \n",
            "                                                                 \n",
            " dense_6 (Dense)             (None, 24)                1224      \n",
            "                                                                 \n",
            "=================================================================\n",
            "Total params: 52,824\n",
            "Trainable params: 52,824\n",
            "Non-trainable params: 0\n",
            "_________________________________________________________________\n"
          ]
        }
      ]
    },
    {
      "cell_type": "markdown",
      "source": [
        "##2. Load Model v2[Boole]"
      ],
      "metadata": {
        "id": "gqym8__6mghs"
      }
    },
    {
      "cell_type": "code",
      "source": [
        "model_boole = load_model(\"/content/drive/MyDrive/Models/Model_V2\", custom_objects={'loss': rmse }, compile=False)"
      ],
      "metadata": {
        "id": "KC3O1uzOmkLa"
      },
      "execution_count": 223,
      "outputs": []
    },
    {
      "cell_type": "code",
      "source": [
        "model_boole.summary()"
      ],
      "metadata": {
        "colab": {
          "base_uri": "https://localhost:8080/"
        },
        "id": "mtc_6SokoUkG",
        "outputId": "e1d4ac92-cd89-484b-f74f-2d5d5b11eba4"
      },
      "execution_count": 224,
      "outputs": [
        {
          "output_type": "stream",
          "name": "stdout",
          "text": [
            "Model: \"sequential_6\"\n",
            "_________________________________________________________________\n",
            " Layer (type)                Output Shape              Param #   \n",
            "=================================================================\n",
            " lstm_18 (LSTM)              (None, 24, 240)           235200    \n",
            "                                                                 \n",
            " lstm_19 (LSTM)              (None, 24, 120)           173280    \n",
            "                                                                 \n",
            " lstm_20 (LSTM)              (None, 60)                43440     \n",
            "                                                                 \n",
            " dropout_6 (Dropout)         (None, 60)                0         \n",
            "                                                                 \n",
            " dense_6 (Dense)             (None, 1)                 61        \n",
            "                                                                 \n",
            "=================================================================\n",
            "Total params: 451,981\n",
            "Trainable params: 451,981\n",
            "Non-trainable params: 0\n",
            "_________________________________________________________________\n"
          ]
        }
      ]
    },
    {
      "cell_type": "markdown",
      "source": [
        "#B. Prepare and load Data\n",
        "\n",
        "Contains methods to gather and preprocess data"
      ],
      "metadata": {
        "id": "QITHXbjFvwsq"
      }
    },
    {
      "cell_type": "code",
      "source": [
        "df = si.get_data('NG=F')['close']"
      ],
      "metadata": {
        "id": "C52bhOUkv0Qe"
      },
      "execution_count": 225,
      "outputs": []
    },
    {
      "cell_type": "code",
      "source": [
        "df = df.round(3)\n",
        "df = df.resample('1D').mean()\n",
        "df.interpolate(method='linear', axis = 0, inplace= True, limit_direction='forward')"
      ],
      "metadata": {
        "id": "RbbYMyI-yE8f"
      },
      "execution_count": 226,
      "outputs": []
    },
    {
      "cell_type": "code",
      "source": [
        "df.head(5)"
      ],
      "metadata": {
        "colab": {
          "base_uri": "https://localhost:8080/"
        },
        "id": "3Zu67_1QyPxA",
        "outputId": "aac6b9c9-fff2-47e4-89a2-74ab53dfc878"
      },
      "execution_count": 227,
      "outputs": [
        {
          "output_type": "execute_result",
          "data": {
            "text/plain": [
              "2000-08-30    4.80500\n",
              "2000-08-31    4.78000\n",
              "2000-09-01    4.83500\n",
              "2000-09-02    4.86625\n",
              "2000-09-03    4.89750\n",
              "Freq: D, Name: close, dtype: float64"
            ]
          },
          "metadata": {},
          "execution_count": 227
        }
      ]
    },
    {
      "cell_type": "markdown",
      "source": [
        "##1. Data Prep v11[Albert]"
      ],
      "metadata": {
        "id": "ewttbkoIwD1g"
      }
    },
    {
      "cell_type": "code",
      "source": [
        "df_m_albert = pd.DataFrame(df.resample('1M').mean())"
      ],
      "metadata": {
        "id": "QBtAWWcIyArf"
      },
      "execution_count": 228,
      "outputs": []
    },
    {
      "cell_type": "code",
      "source": [
        "type(df_m_albert)"
      ],
      "metadata": {
        "colab": {
          "base_uri": "https://localhost:8080/"
        },
        "id": "u0zkn5OXy-vA",
        "outputId": "714c9aa3-8728-4a7b-f998-80cac0610c70"
      },
      "execution_count": 229,
      "outputs": [
        {
          "output_type": "execute_result",
          "data": {
            "text/plain": [
              "pandas.core.frame.DataFrame"
            ]
          },
          "metadata": {},
          "execution_count": 229
        }
      ]
    },
    {
      "cell_type": "code",
      "source": [
        "df_m_albert['std'] = df_m_albert['close'].rolling(10).std()"
      ],
      "metadata": {
        "id": "EgfLmVv_1yHt"
      },
      "execution_count": 230,
      "outputs": []
    },
    {
      "cell_type": "code",
      "source": [
        "df_m_albert.head(15)"
      ],
      "metadata": {
        "colab": {
          "base_uri": "https://localhost:8080/",
          "height": 0
        },
        "id": "S0dmFOSV2MKk",
        "outputId": "ec46084b-2b8e-47b2-ba4c-0aa9fb8a559b"
      },
      "execution_count": 231,
      "outputs": [
        {
          "output_type": "execute_result",
          "data": {
            "text/plain": [
              "               close       std\n",
              "2000-08-31  4.792500       NaN\n",
              "2000-09-30  5.122239       NaN\n",
              "2000-10-31  5.069688       NaN\n",
              "2000-11-30  5.800333       NaN\n",
              "2000-12-31  8.706976       NaN\n",
              "2001-01-31  7.939685       NaN\n",
              "2001-02-28  5.678107       NaN\n",
              "2001-03-31  5.194559       NaN\n",
              "2001-04-30  5.196172       NaN\n",
              "2001-05-31  4.217532  1.425124\n",
              "2001-06-30  3.796500  1.531968\n",
              "2001-07-31  3.160855  1.723754\n",
              "2001-08-31  2.937710  1.902204\n",
              "2001-09-30  2.285450  2.105705\n",
              "2001-10-31  2.621000  1.733366"
            ],
            "text/html": [
              "\n",
              "  <div id=\"df-e76c1493-ad4d-408f-8130-9362d5ebb7ea\">\n",
              "    <div class=\"colab-df-container\">\n",
              "      <div>\n",
              "<style scoped>\n",
              "    .dataframe tbody tr th:only-of-type {\n",
              "        vertical-align: middle;\n",
              "    }\n",
              "\n",
              "    .dataframe tbody tr th {\n",
              "        vertical-align: top;\n",
              "    }\n",
              "\n",
              "    .dataframe thead th {\n",
              "        text-align: right;\n",
              "    }\n",
              "</style>\n",
              "<table border=\"1\" class=\"dataframe\">\n",
              "  <thead>\n",
              "    <tr style=\"text-align: right;\">\n",
              "      <th></th>\n",
              "      <th>close</th>\n",
              "      <th>std</th>\n",
              "    </tr>\n",
              "  </thead>\n",
              "  <tbody>\n",
              "    <tr>\n",
              "      <th>2000-08-31</th>\n",
              "      <td>4.792500</td>\n",
              "      <td>NaN</td>\n",
              "    </tr>\n",
              "    <tr>\n",
              "      <th>2000-09-30</th>\n",
              "      <td>5.122239</td>\n",
              "      <td>NaN</td>\n",
              "    </tr>\n",
              "    <tr>\n",
              "      <th>2000-10-31</th>\n",
              "      <td>5.069688</td>\n",
              "      <td>NaN</td>\n",
              "    </tr>\n",
              "    <tr>\n",
              "      <th>2000-11-30</th>\n",
              "      <td>5.800333</td>\n",
              "      <td>NaN</td>\n",
              "    </tr>\n",
              "    <tr>\n",
              "      <th>2000-12-31</th>\n",
              "      <td>8.706976</td>\n",
              "      <td>NaN</td>\n",
              "    </tr>\n",
              "    <tr>\n",
              "      <th>2001-01-31</th>\n",
              "      <td>7.939685</td>\n",
              "      <td>NaN</td>\n",
              "    </tr>\n",
              "    <tr>\n",
              "      <th>2001-02-28</th>\n",
              "      <td>5.678107</td>\n",
              "      <td>NaN</td>\n",
              "    </tr>\n",
              "    <tr>\n",
              "      <th>2001-03-31</th>\n",
              "      <td>5.194559</td>\n",
              "      <td>NaN</td>\n",
              "    </tr>\n",
              "    <tr>\n",
              "      <th>2001-04-30</th>\n",
              "      <td>5.196172</td>\n",
              "      <td>NaN</td>\n",
              "    </tr>\n",
              "    <tr>\n",
              "      <th>2001-05-31</th>\n",
              "      <td>4.217532</td>\n",
              "      <td>1.425124</td>\n",
              "    </tr>\n",
              "    <tr>\n",
              "      <th>2001-06-30</th>\n",
              "      <td>3.796500</td>\n",
              "      <td>1.531968</td>\n",
              "    </tr>\n",
              "    <tr>\n",
              "      <th>2001-07-31</th>\n",
              "      <td>3.160855</td>\n",
              "      <td>1.723754</td>\n",
              "    </tr>\n",
              "    <tr>\n",
              "      <th>2001-08-31</th>\n",
              "      <td>2.937710</td>\n",
              "      <td>1.902204</td>\n",
              "    </tr>\n",
              "    <tr>\n",
              "      <th>2001-09-30</th>\n",
              "      <td>2.285450</td>\n",
              "      <td>2.105705</td>\n",
              "    </tr>\n",
              "    <tr>\n",
              "      <th>2001-10-31</th>\n",
              "      <td>2.621000</td>\n",
              "      <td>1.733366</td>\n",
              "    </tr>\n",
              "  </tbody>\n",
              "</table>\n",
              "</div>\n",
              "      <button class=\"colab-df-convert\" onclick=\"convertToInteractive('df-e76c1493-ad4d-408f-8130-9362d5ebb7ea')\"\n",
              "              title=\"Convert this dataframe to an interactive table.\"\n",
              "              style=\"display:none;\">\n",
              "        \n",
              "  <svg xmlns=\"http://www.w3.org/2000/svg\" height=\"24px\"viewBox=\"0 0 24 24\"\n",
              "       width=\"24px\">\n",
              "    <path d=\"M0 0h24v24H0V0z\" fill=\"none\"/>\n",
              "    <path d=\"M18.56 5.44l.94 2.06.94-2.06 2.06-.94-2.06-.94-.94-2.06-.94 2.06-2.06.94zm-11 1L8.5 8.5l.94-2.06 2.06-.94-2.06-.94L8.5 2.5l-.94 2.06-2.06.94zm10 10l.94 2.06.94-2.06 2.06-.94-2.06-.94-.94-2.06-.94 2.06-2.06.94z\"/><path d=\"M17.41 7.96l-1.37-1.37c-.4-.4-.92-.59-1.43-.59-.52 0-1.04.2-1.43.59L10.3 9.45l-7.72 7.72c-.78.78-.78 2.05 0 2.83L4 21.41c.39.39.9.59 1.41.59.51 0 1.02-.2 1.41-.59l7.78-7.78 2.81-2.81c.8-.78.8-2.07 0-2.86zM5.41 20L4 18.59l7.72-7.72 1.47 1.35L5.41 20z\"/>\n",
              "  </svg>\n",
              "      </button>\n",
              "      \n",
              "  <style>\n",
              "    .colab-df-container {\n",
              "      display:flex;\n",
              "      flex-wrap:wrap;\n",
              "      gap: 12px;\n",
              "    }\n",
              "\n",
              "    .colab-df-convert {\n",
              "      background-color: #E8F0FE;\n",
              "      border: none;\n",
              "      border-radius: 50%;\n",
              "      cursor: pointer;\n",
              "      display: none;\n",
              "      fill: #1967D2;\n",
              "      height: 32px;\n",
              "      padding: 0 0 0 0;\n",
              "      width: 32px;\n",
              "    }\n",
              "\n",
              "    .colab-df-convert:hover {\n",
              "      background-color: #E2EBFA;\n",
              "      box-shadow: 0px 1px 2px rgba(60, 64, 67, 0.3), 0px 1px 3px 1px rgba(60, 64, 67, 0.15);\n",
              "      fill: #174EA6;\n",
              "    }\n",
              "\n",
              "    [theme=dark] .colab-df-convert {\n",
              "      background-color: #3B4455;\n",
              "      fill: #D2E3FC;\n",
              "    }\n",
              "\n",
              "    [theme=dark] .colab-df-convert:hover {\n",
              "      background-color: #434B5C;\n",
              "      box-shadow: 0px 1px 3px 1px rgba(0, 0, 0, 0.15);\n",
              "      filter: drop-shadow(0px 1px 2px rgba(0, 0, 0, 0.3));\n",
              "      fill: #FFFFFF;\n",
              "    }\n",
              "  </style>\n",
              "\n",
              "      <script>\n",
              "        const buttonEl =\n",
              "          document.querySelector('#df-e76c1493-ad4d-408f-8130-9362d5ebb7ea button.colab-df-convert');\n",
              "        buttonEl.style.display =\n",
              "          google.colab.kernel.accessAllowed ? 'block' : 'none';\n",
              "\n",
              "        async function convertToInteractive(key) {\n",
              "          const element = document.querySelector('#df-e76c1493-ad4d-408f-8130-9362d5ebb7ea');\n",
              "          const dataTable =\n",
              "            await google.colab.kernel.invokeFunction('convertToInteractive',\n",
              "                                                     [key], {});\n",
              "          if (!dataTable) return;\n",
              "\n",
              "          const docLinkHtml = 'Like what you see? Visit the ' +\n",
              "            '<a target=\"_blank\" href=https://colab.research.google.com/notebooks/data_table.ipynb>data table notebook</a>'\n",
              "            + ' to learn more about interactive tables.';\n",
              "          element.innerHTML = '';\n",
              "          dataTable['output_type'] = 'display_data';\n",
              "          await google.colab.output.renderOutput(dataTable, element);\n",
              "          const docLink = document.createElement('div');\n",
              "          docLink.innerHTML = docLinkHtml;\n",
              "          element.appendChild(docLink);\n",
              "        }\n",
              "      </script>\n",
              "    </div>\n",
              "  </div>\n",
              "  "
            ]
          },
          "metadata": {},
          "execution_count": 231
        }
      ]
    },
    {
      "cell_type": "code",
      "source": [
        "df_m_albert = df_m_albert[9:]"
      ],
      "metadata": {
        "id": "7zp9ncyl2TH8"
      },
      "execution_count": 232,
      "outputs": []
    },
    {
      "cell_type": "code",
      "source": [
        "df_m_albert['std'].isna().sum()"
      ],
      "metadata": {
        "colab": {
          "base_uri": "https://localhost:8080/"
        },
        "id": "LaxIcx7Y2aj1",
        "outputId": "cd0eeee9-8586-4b05-cf31-87f8ffe8669d"
      },
      "execution_count": 233,
      "outputs": [
        {
          "output_type": "execute_result",
          "data": {
            "text/plain": [
              "0"
            ]
          },
          "metadata": {},
          "execution_count": 233
        }
      ]
    },
    {
      "cell_type": "code",
      "source": [
        "df_m_albert['close_max'] = df_m_albert['close'] + df_m_albert['std']\n",
        "df_m_albert['close_mim'] = df_m_albert['close'] - df_m_albert['std']"
      ],
      "metadata": {
        "id": "3r18FcVX2th8"
      },
      "execution_count": 234,
      "outputs": []
    },
    {
      "cell_type": "code",
      "source": [
        "df_m_albert['gradient'] = np.gradient(df_m_albert['close'])\n",
        "df_m_albert['d_gradient'] = np.gradient(df_m_albert['gradient'])"
      ],
      "metadata": {
        "id": "rOBdQwzk20Dc"
      },
      "execution_count": 235,
      "outputs": []
    },
    {
      "cell_type": "code",
      "source": [
        "df_m_albert.head(5)"
      ],
      "metadata": {
        "colab": {
          "base_uri": "https://localhost:8080/",
          "height": 0
        },
        "id": "UJoCdafg2_Rz",
        "outputId": "548ecf90-2b74-4630-d75d-024be8be83ae"
      },
      "execution_count": 236,
      "outputs": [
        {
          "output_type": "execute_result",
          "data": {
            "text/plain": [
              "               close       std  close_max  close_mim  gradient  d_gradient\n",
              "2001-05-31  4.217532  1.425124   5.642656   2.792409 -0.421032   -0.107306\n",
              "2001-06-30  3.796500  1.531968   5.328468   2.264532 -0.528339   -0.004181\n",
              "2001-07-31  3.160855  1.723754   4.884609   1.437101 -0.429395    0.045318\n",
              "2001-08-31  2.937710  1.902204   4.839914   1.035506 -0.437702    0.135520\n",
              "2001-09-30  2.285450  2.105705   4.391155   0.179745 -0.158355    0.348322"
            ],
            "text/html": [
              "\n",
              "  <div id=\"df-7d1ca5f7-8210-42e3-84b4-a8efbf433bb3\">\n",
              "    <div class=\"colab-df-container\">\n",
              "      <div>\n",
              "<style scoped>\n",
              "    .dataframe tbody tr th:only-of-type {\n",
              "        vertical-align: middle;\n",
              "    }\n",
              "\n",
              "    .dataframe tbody tr th {\n",
              "        vertical-align: top;\n",
              "    }\n",
              "\n",
              "    .dataframe thead th {\n",
              "        text-align: right;\n",
              "    }\n",
              "</style>\n",
              "<table border=\"1\" class=\"dataframe\">\n",
              "  <thead>\n",
              "    <tr style=\"text-align: right;\">\n",
              "      <th></th>\n",
              "      <th>close</th>\n",
              "      <th>std</th>\n",
              "      <th>close_max</th>\n",
              "      <th>close_mim</th>\n",
              "      <th>gradient</th>\n",
              "      <th>d_gradient</th>\n",
              "    </tr>\n",
              "  </thead>\n",
              "  <tbody>\n",
              "    <tr>\n",
              "      <th>2001-05-31</th>\n",
              "      <td>4.217532</td>\n",
              "      <td>1.425124</td>\n",
              "      <td>5.642656</td>\n",
              "      <td>2.792409</td>\n",
              "      <td>-0.421032</td>\n",
              "      <td>-0.107306</td>\n",
              "    </tr>\n",
              "    <tr>\n",
              "      <th>2001-06-30</th>\n",
              "      <td>3.796500</td>\n",
              "      <td>1.531968</td>\n",
              "      <td>5.328468</td>\n",
              "      <td>2.264532</td>\n",
              "      <td>-0.528339</td>\n",
              "      <td>-0.004181</td>\n",
              "    </tr>\n",
              "    <tr>\n",
              "      <th>2001-07-31</th>\n",
              "      <td>3.160855</td>\n",
              "      <td>1.723754</td>\n",
              "      <td>4.884609</td>\n",
              "      <td>1.437101</td>\n",
              "      <td>-0.429395</td>\n",
              "      <td>0.045318</td>\n",
              "    </tr>\n",
              "    <tr>\n",
              "      <th>2001-08-31</th>\n",
              "      <td>2.937710</td>\n",
              "      <td>1.902204</td>\n",
              "      <td>4.839914</td>\n",
              "      <td>1.035506</td>\n",
              "      <td>-0.437702</td>\n",
              "      <td>0.135520</td>\n",
              "    </tr>\n",
              "    <tr>\n",
              "      <th>2001-09-30</th>\n",
              "      <td>2.285450</td>\n",
              "      <td>2.105705</td>\n",
              "      <td>4.391155</td>\n",
              "      <td>0.179745</td>\n",
              "      <td>-0.158355</td>\n",
              "      <td>0.348322</td>\n",
              "    </tr>\n",
              "  </tbody>\n",
              "</table>\n",
              "</div>\n",
              "      <button class=\"colab-df-convert\" onclick=\"convertToInteractive('df-7d1ca5f7-8210-42e3-84b4-a8efbf433bb3')\"\n",
              "              title=\"Convert this dataframe to an interactive table.\"\n",
              "              style=\"display:none;\">\n",
              "        \n",
              "  <svg xmlns=\"http://www.w3.org/2000/svg\" height=\"24px\"viewBox=\"0 0 24 24\"\n",
              "       width=\"24px\">\n",
              "    <path d=\"M0 0h24v24H0V0z\" fill=\"none\"/>\n",
              "    <path d=\"M18.56 5.44l.94 2.06.94-2.06 2.06-.94-2.06-.94-.94-2.06-.94 2.06-2.06.94zm-11 1L8.5 8.5l.94-2.06 2.06-.94-2.06-.94L8.5 2.5l-.94 2.06-2.06.94zm10 10l.94 2.06.94-2.06 2.06-.94-2.06-.94-.94-2.06-.94 2.06-2.06.94z\"/><path d=\"M17.41 7.96l-1.37-1.37c-.4-.4-.92-.59-1.43-.59-.52 0-1.04.2-1.43.59L10.3 9.45l-7.72 7.72c-.78.78-.78 2.05 0 2.83L4 21.41c.39.39.9.59 1.41.59.51 0 1.02-.2 1.41-.59l7.78-7.78 2.81-2.81c.8-.78.8-2.07 0-2.86zM5.41 20L4 18.59l7.72-7.72 1.47 1.35L5.41 20z\"/>\n",
              "  </svg>\n",
              "      </button>\n",
              "      \n",
              "  <style>\n",
              "    .colab-df-container {\n",
              "      display:flex;\n",
              "      flex-wrap:wrap;\n",
              "      gap: 12px;\n",
              "    }\n",
              "\n",
              "    .colab-df-convert {\n",
              "      background-color: #E8F0FE;\n",
              "      border: none;\n",
              "      border-radius: 50%;\n",
              "      cursor: pointer;\n",
              "      display: none;\n",
              "      fill: #1967D2;\n",
              "      height: 32px;\n",
              "      padding: 0 0 0 0;\n",
              "      width: 32px;\n",
              "    }\n",
              "\n",
              "    .colab-df-convert:hover {\n",
              "      background-color: #E2EBFA;\n",
              "      box-shadow: 0px 1px 2px rgba(60, 64, 67, 0.3), 0px 1px 3px 1px rgba(60, 64, 67, 0.15);\n",
              "      fill: #174EA6;\n",
              "    }\n",
              "\n",
              "    [theme=dark] .colab-df-convert {\n",
              "      background-color: #3B4455;\n",
              "      fill: #D2E3FC;\n",
              "    }\n",
              "\n",
              "    [theme=dark] .colab-df-convert:hover {\n",
              "      background-color: #434B5C;\n",
              "      box-shadow: 0px 1px 3px 1px rgba(0, 0, 0, 0.15);\n",
              "      filter: drop-shadow(0px 1px 2px rgba(0, 0, 0, 0.3));\n",
              "      fill: #FFFFFF;\n",
              "    }\n",
              "  </style>\n",
              "\n",
              "      <script>\n",
              "        const buttonEl =\n",
              "          document.querySelector('#df-7d1ca5f7-8210-42e3-84b4-a8efbf433bb3 button.colab-df-convert');\n",
              "        buttonEl.style.display =\n",
              "          google.colab.kernel.accessAllowed ? 'block' : 'none';\n",
              "\n",
              "        async function convertToInteractive(key) {\n",
              "          const element = document.querySelector('#df-7d1ca5f7-8210-42e3-84b4-a8efbf433bb3');\n",
              "          const dataTable =\n",
              "            await google.colab.kernel.invokeFunction('convertToInteractive',\n",
              "                                                     [key], {});\n",
              "          if (!dataTable) return;\n",
              "\n",
              "          const docLinkHtml = 'Like what you see? Visit the ' +\n",
              "            '<a target=\"_blank\" href=https://colab.research.google.com/notebooks/data_table.ipynb>data table notebook</a>'\n",
              "            + ' to learn more about interactive tables.';\n",
              "          element.innerHTML = '';\n",
              "          dataTable['output_type'] = 'display_data';\n",
              "          await google.colab.output.renderOutput(dataTable, element);\n",
              "          const docLink = document.createElement('div');\n",
              "          docLink.innerHTML = docLinkHtml;\n",
              "          element.appendChild(docLink);\n",
              "        }\n",
              "      </script>\n",
              "    </div>\n",
              "  </div>\n",
              "  "
            ]
          },
          "metadata": {},
          "execution_count": 236
        }
      ]
    },
    {
      "cell_type": "code",
      "source": [
        "scaler_albert = StandardScaler()\n",
        "scaler_albert_obj = scaler_albert.fit(df_m_albert)\n",
        "scaler_albert_mean = list(map(np.float32, scaler_albert.mean_))\n",
        "scaler_albert_var = scaler_albert.scale_"
      ],
      "metadata": {
        "id": "hL9nPYsN3KzN"
      },
      "execution_count": 237,
      "outputs": []
    },
    {
      "cell_type": "code",
      "source": [
        "df_albert = scaler_albert.transform(df_m_albert)"
      ],
      "metadata": {
        "id": "XvLxDUze3p_Y"
      },
      "execution_count": 238,
      "outputs": []
    },
    {
      "cell_type": "code",
      "source": [
        "type(df_albert)"
      ],
      "metadata": {
        "colab": {
          "base_uri": "https://localhost:8080/"
        },
        "id": "uuD6_SyL4VIL",
        "outputId": "57464b4d-2d89-4de4-b20c-e09a11ea7111"
      },
      "execution_count": 239,
      "outputs": [
        {
          "output_type": "execute_result",
          "data": {
            "text/plain": [
              "numpy.ndarray"
            ]
          },
          "metadata": {},
          "execution_count": 239
        }
      ]
    },
    {
      "cell_type": "markdown",
      "source": [
        "##2. Data Prep v2[Boole]"
      ],
      "metadata": {
        "id": "5zHFWOs-4aaD"
      }
    },
    {
      "cell_type": "code",
      "source": [
        "df_d_boole = pd.DataFrame(df.resample('1D').mean())"
      ],
      "metadata": {
        "id": "SgtZtqGY4f_7"
      },
      "execution_count": 240,
      "outputs": []
    },
    {
      "cell_type": "code",
      "source": [
        "df_d_boole.interpolate(method='linear', axis = 0, inplace= True, limit_direction='forward')"
      ],
      "metadata": {
        "id": "hG7bes9H5Zx-"
      },
      "execution_count": 241,
      "outputs": []
    },
    {
      "cell_type": "code",
      "source": [
        "df_d_boole['ma180'] = df_d_boole['close'].rolling(180).mean()\n",
        "df_d_boole['ma60'] = df_d_boole['close'].rolling(60).mean()\n",
        "df_d_boole['ma30'] = df_d_boole['close'].rolling(30).mean()"
      ],
      "metadata": {
        "id": "97rrrLWd5lDK"
      },
      "execution_count": 242,
      "outputs": []
    },
    {
      "cell_type": "code",
      "source": [
        "df_d_boole = df_d_boole[270:]"
      ],
      "metadata": {
        "id": "mmsReSDZ_DL8"
      },
      "execution_count": 243,
      "outputs": []
    },
    {
      "cell_type": "code",
      "source": [
        "df_m_boole = df_d_boole.resample('1M').mean()"
      ],
      "metadata": {
        "id": "gG_qU553_LIR"
      },
      "execution_count": 244,
      "outputs": []
    },
    {
      "cell_type": "code",
      "source": [
        "scaler_boole = StandardScaler()\n",
        "scaler_boole_obj = scaler_boole.fit(df_m_boole)"
      ],
      "metadata": {
        "id": "Pwz49Li6_Qdy"
      },
      "execution_count": 245,
      "outputs": []
    },
    {
      "cell_type": "code",
      "source": [
        "df_m_boole = scaler_boole.transform(df_m_boole)"
      ],
      "metadata": {
        "id": "bJAtgURLAkXT"
      },
      "execution_count": 246,
      "outputs": []
    },
    {
      "cell_type": "code",
      "source": [
        "df_boole = df_m_boole"
      ],
      "metadata": {
        "id": "g2Z1Q4X5_tWP"
      },
      "execution_count": 247,
      "outputs": []
    },
    {
      "cell_type": "code",
      "source": [
        "type(df_m_boole)"
      ],
      "metadata": {
        "colab": {
          "base_uri": "https://localhost:8080/"
        },
        "id": "-Udyt929Cf9h",
        "outputId": "cfd607ab-30b1-48b0-e60c-25ee496d183e"
      },
      "execution_count": 248,
      "outputs": [
        {
          "output_type": "execute_result",
          "data": {
            "text/plain": [
              "numpy.ndarray"
            ]
          },
          "metadata": {},
          "execution_count": 248
        }
      ]
    },
    {
      "cell_type": "markdown",
      "source": [
        "#C. Batch Generator\n",
        "\n",
        "Contains methods to transform and batch segment data for models"
      ],
      "metadata": {
        "id": "kQi53qkqAGix"
      }
    },
    {
      "cell_type": "code",
      "source": [
        "def batch_gen(df, size_x = 24, size_y = 12):\n",
        "  X = []\n",
        "  Y = []\n",
        "  for i in range(size_x, len(df) - size_y):\n",
        "    X.append(df[i-size_x:i])\n",
        "    Y.append([item[0] for item in df[i:i+size_y]])\n",
        "\n",
        "  X = np.array(X)\n",
        "  Y = np.array(Y)\n",
        "  return  X, Y"
      ],
      "metadata": {
        "id": "P1fuinR8AJeg"
      },
      "execution_count": 249,
      "outputs": []
    },
    {
      "cell_type": "code",
      "source": [
        "df_boole_X , df_boole_Y = batch_gen(df_boole , 24, 24)\n",
        "df_albert_X , df_albert_Y = batch_gen(df_albert , 24, 24)"
      ],
      "metadata": {
        "id": "YZzAUqznCxWo"
      },
      "execution_count": 250,
      "outputs": []
    },
    {
      "cell_type": "code",
      "source": [
        "print(type(df_boole_X) ,type(df_boole_Y))"
      ],
      "metadata": {
        "colab": {
          "base_uri": "https://localhost:8080/"
        },
        "id": "3IHNiypcLyBN",
        "outputId": "ec941998-daaf-4e3a-9db1-41c680fc9bbb"
      },
      "execution_count": 256,
      "outputs": [
        {
          "output_type": "stream",
          "name": "stdout",
          "text": [
            "<class 'numpy.ndarray'> <class 'numpy.ndarray'>\n"
          ]
        }
      ]
    },
    {
      "cell_type": "code",
      "source": [
        "print(type(df_albert_X),type(df_albert_Y))"
      ],
      "metadata": {
        "colab": {
          "base_uri": "https://localhost:8080/"
        },
        "id": "KDzvR72bL3jt",
        "outputId": "e77434c2-3f8b-4ce3-ae41-84f87c09c097"
      },
      "execution_count": 257,
      "outputs": [
        {
          "output_type": "stream",
          "name": "stdout",
          "text": [
            "<class 'numpy.ndarray'> <class 'numpy.ndarray'>\n"
          ]
        }
      ]
    },
    {
      "cell_type": "code",
      "source": [
        "df_boole_X.shape"
      ],
      "metadata": {
        "colab": {
          "base_uri": "https://localhost:8080/"
        },
        "id": "QwIcI7WnDGGY",
        "outputId": "db7f743d-6d7c-4797-ecd2-0a68b81d6422"
      },
      "execution_count": 251,
      "outputs": [
        {
          "output_type": "execute_result",
          "data": {
            "text/plain": [
              "(208, 24, 4)"
            ]
          },
          "metadata": {},
          "execution_count": 251
        }
      ]
    },
    {
      "cell_type": "code",
      "source": [
        "df_albert_X.shape"
      ],
      "metadata": {
        "colab": {
          "base_uri": "https://localhost:8080/"
        },
        "id": "ubjVXedWDHF3",
        "outputId": "6a5ba9b1-1421-4a1e-a394-759213644e5b"
      },
      "execution_count": 252,
      "outputs": [
        {
          "output_type": "execute_result",
          "data": {
            "text/plain": [
              "(208, 24, 6)"
            ]
          },
          "metadata": {},
          "execution_count": 252
        }
      ]
    },
    {
      "cell_type": "markdown",
      "source": [
        "#D. Boosting"
      ],
      "metadata": {
        "id": "83BtlrOtDXMQ"
      }
    },
    {
      "cell_type": "code",
      "source": [
        "ratio_albert = 0.50\n",
        "ratio_boole = 0.50"
      ],
      "metadata": {
        "id": "Zk3e4bDLEIW-"
      },
      "execution_count": 253,
      "outputs": []
    },
    {
      "cell_type": "code",
      "source": [
        "# def predict(df_albert, df_boole, ratio_albert = 0.50, ratio_boole = 0.50):\n",
        "#   if type(df_albert) != "
      ],
      "metadata": {
        "id": "XYsXJt3dESZf"
      },
      "execution_count": 254,
      "outputs": []
    },
    {
      "cell_type": "code",
      "source": [
        ""
      ],
      "metadata": {
        "id": "i2x4flTIEOb3"
      },
      "execution_count": 254,
      "outputs": []
    }
  ]
}